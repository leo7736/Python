{
 "cells": [
  {
   "cell_type": "code",
   "execution_count": 1,
   "id": "25439795",
   "metadata": {},
   "outputs": [
    {
     "name": "stdout",
     "output_type": "stream",
     "text": [
      "hello world!\n"
     ]
    }
   ],
   "source": [
    "print('hello world!')"
   ]
  },
  {
   "cell_type": "markdown",
   "id": "b4f9982e",
   "metadata": {},
   "source": [
    "# First notebook"
   ]
  },
  {
   "cell_type": "code",
   "execution_count": 2,
   "id": "0f3d31b6",
   "metadata": {},
   "outputs": [],
   "source": [
    "ice_cream=['chocolate','vanilla','rocky read']"
   ]
  },
  {
   "cell_type": "code",
   "execution_count": 3,
   "id": "5c4d2fed",
   "metadata": {},
   "outputs": [
    {
     "name": "stdout",
     "output_type": "stream",
     "text": [
      "['chocolate', 'vanilla', 'rocky read']\n"
     ]
    }
   ],
   "source": [
    "print(ice_cream)"
   ]
  },
  {
   "cell_type": "code",
   "execution_count": 11,
   "id": "f5fc15bb",
   "metadata": {},
   "outputs": [
    {
     "name": "stdout",
     "output_type": "stream",
     "text": [
      "['chocolate', 'vanilla', 'rocky read']\n"
     ]
    }
   ],
   "source": [
    "print(ice_cream[0:3])"
   ]
  },
  {
   "cell_type": "code",
   "execution_count": 61,
   "id": "544c38fb",
   "metadata": {},
   "outputs": [],
   "source": [
    "ice_cream.append('butter scotch')"
   ]
  },
  {
   "cell_type": "code",
   "execution_count": 62,
   "id": "97b5a645",
   "metadata": {},
   "outputs": [
    {
     "name": "stdout",
     "output_type": "stream",
     "text": [
      "['chocolate', 'vanilla', 'rocky read', 'butter scotch']\n"
     ]
    }
   ],
   "source": [
    "print(ice_cream)"
   ]
  },
  {
   "cell_type": "code",
   "execution_count": 63,
   "id": "b3965357",
   "metadata": {},
   "outputs": [
    {
     "data": {
      "text/plain": [
       "'butter scotch'"
      ]
     },
     "execution_count": 63,
     "metadata": {},
     "output_type": "execute_result"
    }
   ],
   "source": [
    "ice_cream[3]"
   ]
  },
  {
   "cell_type": "code",
   "execution_count": 71,
   "id": "e526fb5d",
   "metadata": {},
   "outputs": [],
   "source": [
    "del ice_cream[3]"
   ]
  },
  {
   "cell_type": "code",
   "execution_count": 72,
   "id": "2be391b3",
   "metadata": {},
   "outputs": [
    {
     "name": "stdout",
     "output_type": "stream",
     "text": [
      "['chocolate', 'vanilla', 'rocky read']\n"
     ]
    }
   ],
   "source": [
    "print(ice_cream)"
   ]
  },
  {
   "cell_type": "code",
   "execution_count": 12,
   "id": "d68e4762",
   "metadata": {},
   "outputs": [],
   "source": [
    "x,y,z=ice_cream"
   ]
  },
  {
   "cell_type": "code",
   "execution_count": 13,
   "id": "ed63b2c2",
   "metadata": {},
   "outputs": [
    {
     "name": "stdout",
     "output_type": "stream",
     "text": [
      "chocolate\n"
     ]
    }
   ],
   "source": [
    "print(x)"
   ]
  },
  {
   "cell_type": "code",
   "execution_count": 16,
   "id": "b28138c0",
   "metadata": {},
   "outputs": [],
   "source": [
    "x= 'ice cream is my favorite'+'.'"
   ]
  },
  {
   "cell_type": "code",
   "execution_count": 17,
   "id": "649231ca",
   "metadata": {},
   "outputs": [
    {
     "name": "stdout",
     "output_type": "stream",
     "text": [
      "ice cream is my favorite.\n"
     ]
    }
   ],
   "source": [
    "print(x)"
   ]
  },
  {
   "cell_type": "code",
   "execution_count": 19,
   "id": "a7c5226a",
   "metadata": {},
   "outputs": [],
   "source": [
    "multiline =\"\"\"there is big well in the forest\n",
    "it is filled with water\n",
    "there is a frog living inside the well\"\"\""
   ]
  },
  {
   "cell_type": "code",
   "execution_count": 20,
   "id": "9602be3c",
   "metadata": {},
   "outputs": [
    {
     "name": "stdout",
     "output_type": "stream",
     "text": [
      "there is big well in the forest\n",
      "it is filled with water\n",
      "there is a frog living inside the well\n"
     ]
    }
   ],
   "source": [
    "print(multiline)"
   ]
  },
  {
   "cell_type": "code",
   "execution_count": 21,
   "id": "0256fafe",
   "metadata": {},
   "outputs": [],
   "source": [
    "x='good morning all!'"
   ]
  },
  {
   "cell_type": "code",
   "execution_count": 26,
   "id": "df870faa",
   "metadata": {},
   "outputs": [
    {
     "name": "stdout",
     "output_type": "stream",
     "text": [
      " \n"
     ]
    }
   ],
   "source": [
    "print(x[4])"
   ]
  },
  {
   "cell_type": "code",
   "execution_count": 30,
   "id": "92ef0871",
   "metadata": {},
   "outputs": [
    {
     "name": "stdout",
     "output_type": "stream",
     "text": [
      "good morning all!good morning all!\n"
     ]
    }
   ],
   "source": [
    "print(x+x)"
   ]
  },
  {
   "cell_type": "code",
   "execution_count": 32,
   "id": "cb64cfd2",
   "metadata": {},
   "outputs": [],
   "source": [
    "nest_list=['vanilla',3,['scoop','spoon'],True]"
   ]
  },
  {
   "cell_type": "code",
   "execution_count": 39,
   "id": "013683cb",
   "metadata": {},
   "outputs": [
    {
     "name": "stdout",
     "output_type": "stream",
     "text": [
      "scoop\n"
     ]
    }
   ],
   "source": [
    "print(nest_list[2][0])"
   ]
  },
  {
   "cell_type": "code",
   "execution_count": 51,
   "id": "3e395866",
   "metadata": {},
   "outputs": [],
   "source": [
    "tuple_scoop=(1,2,5,1,5,4)"
   ]
  },
  {
   "cell_type": "code",
   "execution_count": 42,
   "id": "c0b39922",
   "metadata": {},
   "outputs": [
    {
     "data": {
      "text/plain": [
       "tuple"
      ]
     },
     "execution_count": 42,
     "metadata": {},
     "output_type": "execute_result"
    }
   ],
   "source": [
    "type(tuple_scoop)"
   ]
  },
  {
   "cell_type": "markdown",
   "id": "94e88ab9",
   "metadata": {},
   "source": [
    "# tuple cannot be change or add\n",
    "tuple used when data is never going to change"
   ]
  },
  {
   "cell_type": "code",
   "execution_count": 43,
   "id": "71c2a077",
   "metadata": {},
   "outputs": [],
   "source": [
    "tuple_list=('jpn','usa','ind')"
   ]
  },
  {
   "cell_type": "code",
   "execution_count": 47,
   "id": "22aff7ae",
   "metadata": {},
   "outputs": [
    {
     "name": "stdout",
     "output_type": "stream",
     "text": [
      "('jpn', 'usa')\n"
     ]
    }
   ],
   "source": [
    "print(tuple_list[0:2])"
   ]
  },
  {
   "cell_type": "code",
   "execution_count": 53,
   "id": "aaa8b016",
   "metadata": {},
   "outputs": [],
   "source": [
    "daily_pints={1,3,4,7,4,16,5,3}"
   ]
  },
  {
   "cell_type": "code",
   "execution_count": 49,
   "id": "0bc78573",
   "metadata": {},
   "outputs": [
    {
     "data": {
      "text/plain": [
       "set"
      ]
     },
     "execution_count": 49,
     "metadata": {},
     "output_type": "execute_result"
    }
   ],
   "source": [
    "type(daily_pints)"
   ]
  },
  {
   "cell_type": "markdown",
   "id": "df57ab99",
   "metadata": {},
   "source": [
    "# sets\n",
    "similar like list,tuple.\n",
    "no duplicate elements.\n",
    "cannot be accessed by index."
   ]
  },
  {
   "cell_type": "code",
   "execution_count": 54,
   "id": "6f8411b9",
   "metadata": {},
   "outputs": [
    {
     "name": "stdout",
     "output_type": "stream",
     "text": [
      "{16, 1, 3, 4, 5, 7}\n"
     ]
    }
   ],
   "source": [
    "print(daily_pints)"
   ]
  },
  {
   "cell_type": "code",
   "execution_count": 55,
   "id": "3bd084ff",
   "metadata": {},
   "outputs": [],
   "source": [
    "wifes_daily_pints={2,8,6,7,6,22,11,8}"
   ]
  },
  {
   "cell_type": "code",
   "execution_count": 56,
   "id": "a3149c45",
   "metadata": {},
   "outputs": [
    {
     "name": "stdout",
     "output_type": "stream",
     "text": [
      "{1, 3, 4, 5, 16}\n"
     ]
    }
   ],
   "source": [
    "print(daily_pints-wifes_daily_pints)"
   ]
  },
  {
   "cell_type": "code",
   "execution_count": 57,
   "id": "01de98d7",
   "metadata": {},
   "outputs": [
    {
     "name": "stdout",
     "output_type": "stream",
     "text": [
      "{2, 6, 8, 11, 22}\n"
     ]
    }
   ],
   "source": [
    "print(wifes_daily_pints-daily_pints)"
   ]
  },
  {
   "cell_type": "code",
   "execution_count": 58,
   "id": "9ca2b647",
   "metadata": {},
   "outputs": [
    {
     "name": "stdout",
     "output_type": "stream",
     "text": [
      "{1, 2, 3, 4, 5, 6, 7, 8, 11, 16, 22}\n"
     ]
    }
   ],
   "source": [
    "print(daily_pints|wifes_daily_pints)"
   ]
  },
  {
   "cell_type": "code",
   "execution_count": 59,
   "id": "3f9c9dd8",
   "metadata": {},
   "outputs": [
    {
     "name": "stdout",
     "output_type": "stream",
     "text": [
      "{7}\n"
     ]
    }
   ],
   "source": [
    "print(daily_pints&wifes_daily_pints)"
   ]
  },
  {
   "cell_type": "code",
   "execution_count": 60,
   "id": "fb336d0c",
   "metadata": {},
   "outputs": [
    {
     "name": "stdout",
     "output_type": "stream",
     "text": [
      "{1, 2, 3, 4, 5, 6, 8, 11, 16, 22}\n"
     ]
    }
   ],
   "source": [
    "print(daily_pints^wifes_daily_pints)"
   ]
  },
  {
   "cell_type": "markdown",
   "id": "bb10f39a",
   "metadata": {},
   "source": [
    "# dictionaries\n",
    "# key/value pair"
   ]
  },
  {
   "cell_type": "code",
   "execution_count": 17,
   "id": "2a848af9",
   "metadata": {},
   "outputs": [
    {
     "data": {
      "text/plain": [
       "dict"
      ]
     },
     "execution_count": 17,
     "metadata": {},
     "output_type": "execute_result"
    }
   ],
   "source": [
    "dict_cream={'name':'leo rajan','weekly intake':'5','favourite ice cream':['mcc','chocolate']}\n",
    "\n",
    "type(dict_cream)"
   ]
  },
  {
   "cell_type": "code",
   "execution_count": 18,
   "id": "c8242759",
   "metadata": {},
   "outputs": [
    {
     "data": {
      "text/plain": [
       "dict_keys(['name', 'weekly intake', 'favourite ice cream'])"
      ]
     },
     "execution_count": 18,
     "metadata": {},
     "output_type": "execute_result"
    }
   ],
   "source": [
    "dict_cream.keys()"
   ]
  },
  {
   "cell_type": "code",
   "execution_count": 19,
   "id": "ca4b570a",
   "metadata": {},
   "outputs": [
    {
     "data": {
      "text/plain": [
       "dict_values(['leo rajan', '5', ['mcc', 'chocolate']])"
      ]
     },
     "execution_count": 19,
     "metadata": {},
     "output_type": "execute_result"
    }
   ],
   "source": [
    "dict_cream.values()"
   ]
  },
  {
   "cell_type": "code",
   "execution_count": 20,
   "id": "76fe684c",
   "metadata": {},
   "outputs": [
    {
     "data": {
      "text/plain": [
       "dict_items([('name', 'leo rajan'), ('weekly intake', '5'), ('favourite ice cream', ['mcc', 'chocolate'])])"
      ]
     },
     "execution_count": 20,
     "metadata": {},
     "output_type": "execute_result"
    }
   ],
   "source": [
    "dict_cream.items()"
   ]
  },
  {
   "cell_type": "code",
   "execution_count": 80,
   "id": "dfa3c9bc",
   "metadata": {},
   "outputs": [
    {
     "data": {
      "text/plain": [
       "'leo rajan'"
      ]
     },
     "execution_count": 80,
     "metadata": {},
     "output_type": "execute_result"
    }
   ],
   "source": [
    "dict_cream['name']"
   ]
  },
  {
   "cell_type": "code",
   "execution_count": 82,
   "id": "a2ef61f0",
   "metadata": {},
   "outputs": [
    {
     "name": "stdout",
     "output_type": "stream",
     "text": [
      "alex\n"
     ]
    }
   ],
   "source": [
    "dict_cream['name']='alex'\n",
    "print(dict_cream['name'])"
   ]
  },
  {
   "cell_type": "code",
   "execution_count": 84,
   "id": "1eabe263",
   "metadata": {},
   "outputs": [],
   "source": [
    "dict_cream.update({'weight':'500'})"
   ]
  },
  {
   "cell_type": "code",
   "execution_count": 85,
   "id": "6dcdbd04",
   "metadata": {},
   "outputs": [
    {
     "name": "stdout",
     "output_type": "stream",
     "text": [
      "{'name': 'leo rajan', 'weekly intake': '5', 'favourite ice cream': ['mcc', 'chocolate'], 'weight': '500'}\n"
     ]
    }
   ],
   "source": [
    "print(dict_cream)"
   ]
  },
  {
   "cell_type": "code",
   "execution_count": 86,
   "id": "10480980",
   "metadata": {},
   "outputs": [],
   "source": [
    "del dict_cream['weight']"
   ]
  },
  {
   "cell_type": "code",
   "execution_count": 87,
   "id": "530741f1",
   "metadata": {},
   "outputs": [
    {
     "name": "stdout",
     "output_type": "stream",
     "text": [
      "{'name': 'leo rajan', 'weekly intake': '5', 'favourite ice cream': ['mcc', 'chocolate']}\n"
     ]
    }
   ],
   "source": [
    "print(dict_cream)"
   ]
  },
  {
   "cell_type": "markdown",
   "id": "b9baf9d4",
   "metadata": {},
   "source": [
    "# nested if else\n"
   ]
  },
  {
   "cell_type": "code",
   "execution_count": 6,
   "id": "416b8034",
   "metadata": {},
   "outputs": [
    {
     "name": "stdout",
     "output_type": "stream",
     "text": [
      "else statement worked\n"
     ]
    }
   ],
   "source": [
    "if (25<10) and (1<3):\n",
    "    print('it worked 1')\n",
    "    if 10>5:\n",
    "        print('the nested if statement worked')\n",
    "elif 25>30:\n",
    "    print('the elif worked')\n",
    "else:\n",
    "    print('else statement worked')\n"
   ]
  },
  {
   "cell_type": "code",
   "execution_count": 7,
   "id": "2fb87141",
   "metadata": {},
   "outputs": [
    {
     "name": "stdout",
     "output_type": "stream",
     "text": [
      "it worked 1\n",
      "the nested if statement worked\n"
     ]
    }
   ],
   "source": [
    "if (25>10) and (1<3):\n",
    "    print('it worked 1')\n",
    "    if 10>5:\n",
    "        print('the nested if statement worked')\n",
    "elif 25>30:\n",
    "    print('the elif worked')\n",
    "else:\n",
    "    print('else statement worked')\n"
   ]
  },
  {
   "cell_type": "code",
   "execution_count": 10,
   "id": "eff6453e",
   "metadata": {},
   "outputs": [
    {
     "name": "stdout",
     "output_type": "stream",
     "text": [
      "the elif worked\n"
     ]
    }
   ],
   "source": [
    "if (25<10) and (1>3):\n",
    "    print('it worked 1')\n",
    "    if 10>5:\n",
    "        print('the nested if statement worked')\n",
    "elif 25<30:\n",
    "    print('the elif worked')\n",
    "else:\n",
    "    print('else statement worked')\n"
   ]
  },
  {
   "cell_type": "markdown",
   "id": "c418bae7",
   "metadata": {},
   "source": [
    "# nested for\n"
   ]
  },
  {
   "cell_type": "code",
   "execution_count": 15,
   "id": "f195dd9b",
   "metadata": {},
   "outputs": [
    {
     "name": "stdout",
     "output_type": "stream",
     "text": [
      "1\n",
      "2\n",
      "3\n",
      "4\n",
      "5\n"
     ]
    }
   ],
   "source": [
    "number =[1,2,3,4,5]\n",
    "for integer in number:\n",
    "    print (integer)"
   ]
  },
  {
   "cell_type": "code",
   "execution_count": 1,
   "id": "1439013f",
   "metadata": {},
   "outputs": [
    {
     "name": "stdout",
     "output_type": "stream",
     "text": [
      "leo rajan\n",
      "5\n",
      "['mcc', 'chocolate']\n"
     ]
    }
   ],
   "source": [
    "ice_cream={'name':'leo rajan','weekly intake':'5','favourite ice cream':['mcc','chocolate']}\n",
    "for cream in ice_cream.values() :\n",
    "    print(cream)"
   ]
  },
  {
   "cell_type": "code",
   "execution_count": 2,
   "id": "67f72d86",
   "metadata": {},
   "outputs": [
    {
     "name": "stdout",
     "output_type": "stream",
     "text": [
      "name\n",
      "weekly intake\n",
      "favourite ice cream\n"
     ]
    }
   ],
   "source": [
    "ice_cream={'name':'leo rajan','weekly intake':'5','favourite ice cream':['mcc','chocolate']}\n",
    "for cream in ice_cream.keys() :\n",
    "    print(cream)"
   ]
  },
  {
   "cell_type": "code",
   "execution_count": 3,
   "id": "79425f94",
   "metadata": {},
   "outputs": [
    {
     "name": "stdout",
     "output_type": "stream",
     "text": [
      "name -> leo rajan\n",
      "weekly intake -> 5\n",
      "favourite ice cream -> ['mcc', 'chocolate']\n"
     ]
    }
   ],
   "source": [
    "ice_cream={'name':'leo rajan','weekly intake':'5','favourite ice cream':['mcc','chocolate']}\n",
    "for key,value in ice_cream.items() :\n",
    "    print(key,'->',value)"
   ]
  },
  {
   "cell_type": "code",
   "execution_count": 1,
   "id": "8bdc3285",
   "metadata": {},
   "outputs": [
    {
     "name": "stdout",
     "output_type": "stream",
     "text": [
      "vanilla topped with hot fudge\n",
      "vanilla topped with oreos\n",
      "vanilla topped with marshmallow\n",
      "chocolate topped with hot fudge\n",
      "chocolate topped with oreos\n",
      "chocolate topped with marshmallow\n",
      "cookie dough topped with hot fudge\n",
      "cookie dough topped with oreos\n",
      "cookie dough topped with marshmallow\n"
     ]
    }
   ],
   "source": [
    "flavours=['vanilla','chocolate','cookie dough']\n",
    "toppings=['hot fudge','oreos','marshmallow']\n",
    "for one in flavours:\n",
    "    for two in toppings:\n",
    "        print(one ,'topped with', two)"
   ]
  },
  {
   "cell_type": "markdown",
   "id": "198bfdc5",
   "metadata": {},
   "source": [
    "# while loops"
   ]
  },
  {
   "cell_type": "code",
   "execution_count": 1,
   "id": "bb138e0b",
   "metadata": {},
   "outputs": [
    {
     "name": "stdout",
     "output_type": "stream",
     "text": [
      "0\n",
      "1\n",
      "2\n",
      "3\n",
      "4\n"
     ]
    }
   ],
   "source": [
    "number =0\n",
    "while number <5:\n",
    "    print (number)\n",
    "    number=number+1"
   ]
  },
  {
   "cell_type": "code",
   "execution_count": 2,
   "id": "30932e8f",
   "metadata": {},
   "outputs": [
    {
     "name": "stdout",
     "output_type": "stream",
     "text": [
      "0\n",
      "1\n",
      "2\n",
      "3\n"
     ]
    }
   ],
   "source": [
    "number =0\n",
    "while number <5:\n",
    "    print (number)\n",
    "    if number == 3:\n",
    "        break\n",
    "    number=number+1"
   ]
  },
  {
   "cell_type": "code",
   "execution_count": 4,
   "id": "11984d5b",
   "metadata": {},
   "outputs": [
    {
     "name": "stdout",
     "output_type": "stream",
     "text": [
      "0\n",
      "1\n",
      "2\n",
      "3\n",
      "4\n",
      "no longer <5\n"
     ]
    }
   ],
   "source": [
    "number =0\n",
    "while number <5:\n",
    "    print (number)\n",
    "    if number == 6:\n",
    "        break\n",
    "    number=number+1\n",
    "else:\n",
    "        print('no longer <5')"
   ]
  },
  {
   "cell_type": "code",
   "execution_count": 5,
   "id": "f12a2551",
   "metadata": {},
   "outputs": [
    {
     "name": "stdout",
     "output_type": "stream",
     "text": [
      "0\n",
      "1\n",
      "2\n",
      "3\n"
     ]
    }
   ],
   "source": [
    "number =0\n",
    "while number <5:\n",
    "    print (number)\n",
    "    if number == 3:\n",
    "        break\n",
    "    number=number+1\n",
    "else:\n",
    "        print('no longer <5')"
   ]
  },
  {
   "cell_type": "code",
   "execution_count": 4,
   "id": "1ca28120",
   "metadata": {},
   "outputs": [
    {
     "name": "stdout",
     "output_type": "stream",
     "text": [
      "1\n",
      "2\n",
      "4\n",
      "5\n",
      "no longer <5\n"
     ]
    }
   ],
   "source": [
    "number =0\n",
    "while number <5:\n",
    "    number=number+1\n",
    "    if number == 3:\n",
    "        continue\n",
    "    print (number)\n",
    "else:\n",
    "        print('no longer <5')"
   ]
  },
  {
   "cell_type": "markdown",
   "id": "d4de5a27",
   "metadata": {},
   "source": [
    "# functions\n"
   ]
  },
  {
   "cell_type": "code",
   "execution_count": 1,
   "id": "6eddb272",
   "metadata": {},
   "outputs": [],
   "source": [
    "def function():\n",
    "    print('my first function')"
   ]
  },
  {
   "cell_type": "code",
   "execution_count": 2,
   "id": "750ed617",
   "metadata": {},
   "outputs": [
    {
     "name": "stdout",
     "output_type": "stream",
     "text": [
      "my first function\n"
     ]
    }
   ],
   "source": [
    "function()"
   ]
  },
  {
   "cell_type": "code",
   "execution_count": 3,
   "id": "52e64a12",
   "metadata": {},
   "outputs": [],
   "source": [
    "def numbr_sqr(number,power):\n",
    "    print(number**power)"
   ]
  },
  {
   "cell_type": "code",
   "execution_count": 4,
   "id": "fa43ed67",
   "metadata": {},
   "outputs": [
    {
     "name": "stdout",
     "output_type": "stream",
     "text": [
      "125\n"
     ]
    }
   ],
   "source": [
    "numbr_sqr(5,3)"
   ]
  },
  {
   "cell_type": "markdown",
   "id": "9ce725ad",
   "metadata": {},
   "source": [
    "for multiple arguments pasing\n"
   ]
  },
  {
   "cell_type": "code",
   "execution_count": 7,
   "id": "2d5c1570",
   "metadata": {},
   "outputs": [],
   "source": [
    "args_tuple=(5,6,1,2,8)\n",
    "def number_numbr_args(*number):\n",
    "    print(number[0]*number[1])"
   ]
  },
  {
   "cell_type": "code",
   "execution_count": 8,
   "id": "004f78eb",
   "metadata": {},
   "outputs": [
    {
     "name": "stdout",
     "output_type": "stream",
     "text": [
      "30\n"
     ]
    }
   ],
   "source": [
    "number_numbr_args(*args_tuple)"
   ]
  },
  {
   "cell_type": "code",
   "execution_count": 14,
   "id": "e686c512",
   "metadata": {},
   "outputs": [],
   "source": [
    "def number_args(**number):\n",
    "    print('my number is :'+number['integer'])+'my other number is :'+number['integer2']"
   ]
  },
  {
   "cell_type": "code",
   "execution_count": 15,
   "id": "8555e7e6",
   "metadata": {},
   "outputs": [
    {
     "name": "stdout",
     "output_type": "stream",
     "text": [
      "my number is :2300 my other number is :349\n"
     ]
    }
   ],
   "source": [
    "number_args(integer='2300',integer2='349')"
   ]
  },
  {
   "cell_type": "code",
   "execution_count": 21,
   "id": "c075771a",
   "metadata": {},
   "outputs": [],
   "source": [
    "dict_cream={'name':'leo rajan','weekly intake':'5','favourite ice cream':['mcc','chocolate']}"
   ]
  },
  {
   "cell_type": "code",
   "execution_count": 25,
   "id": "d3ca814c",
   "metadata": {},
   "outputs": [],
   "source": [
    "key_list=list(dict_cream.keys())\n"
   ]
  },
  {
   "cell_type": "code",
   "execution_count": 28,
   "id": "b0e2e0d9",
   "metadata": {},
   "outputs": [
    {
     "name": "stdout",
     "output_type": "stream",
     "text": [
      "['name', 'weekly intake', 'favourite ice cream']\n"
     ]
    }
   ],
   "source": [
    "print(key_list)\n"
   ]
  },
  {
   "cell_type": "markdown",
   "id": "0e05e979",
   "metadata": {},
   "source": [
    "# BMI Calculator"
   ]
  },
  {
   "cell_type": "code",
   "execution_count": 1,
   "id": "f5672a4d",
   "metadata": {},
   "outputs": [
    {
     "name": "stdout",
     "output_type": "stream",
     "text": [
      "Enter you name: leo\n",
      "Enter your weight in pounds: 125\n",
      "Enter your height in inches: 63\n",
      "your BMI is: 22.140337616528093\n",
      "leo, you are normal weight.\n"
     ]
    }
   ],
   "source": [
    "name = input(\"Enter you name: \")\n",
    "\n",
    "weight = int(input(\"Enter your weight in pounds: \"))\n",
    "\n",
    "height = int(input(\"Enter your height in inches: \"))\n",
    "\n",
    "BMI = (weight * 703) / (height * height)\n",
    "\n",
    "print('your BMI is:',BMI)\n",
    "\n",
    "if BMI>0:\n",
    "    if(BMI<18.5):\n",
    "        print(name +\", you are underwight.\")\n",
    "    elif (BMI<=24.9):\n",
    "        print(name +\", you are normal weight.\")\n",
    "    elif (BMI<29.9):\n",
    "        print(name +\", you are overweight. You need to exercise more.\")\n",
    "    elif (BMI<34.9):\n",
    "        print(name +\", you are obese.\")\n",
    "    elif (BMI<39.9):\n",
    "        print(name +\", you are severely obese.\")\n",
    "    else:\n",
    "        print(name +\", you are morbidly obese.\")\n",
    "else:\n",
    "    print(\"Enter valid input\")"
   ]
  },
  {
   "cell_type": "code",
   "execution_count": null,
   "id": "43f2596e",
   "metadata": {},
   "outputs": [],
   "source": []
  },
  {
   "cell_type": "code",
   "execution_count": null,
   "id": "a5e456b4",
   "metadata": {},
   "outputs": [],
   "source": []
  },
  {
   "cell_type": "code",
   "execution_count": null,
   "id": "7f267e28",
   "metadata": {},
   "outputs": [],
   "source": []
  },
  {
   "cell_type": "code",
   "execution_count": null,
   "id": "9ef0a8cb",
   "metadata": {},
   "outputs": [],
   "source": []
  },
  {
   "cell_type": "code",
   "execution_count": null,
   "id": "91eb12a3",
   "metadata": {},
   "outputs": [],
   "source": []
  }
 ],
 "metadata": {
  "kernelspec": {
   "display_name": "Python 3 (ipykernel)",
   "language": "python",
   "name": "python3"
  },
  "language_info": {
   "codemirror_mode": {
    "name": "ipython",
    "version": 3
   },
   "file_extension": ".py",
   "mimetype": "text/x-python",
   "name": "python",
   "nbconvert_exporter": "python",
   "pygments_lexer": "ipython3",
   "version": "3.9.13"
  }
 },
 "nbformat": 4,
 "nbformat_minor": 5
}
