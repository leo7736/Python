{
  "cells": [
    {
      "cell_type": "markdown",
      "metadata": {
        "id": "ddIRGYKFXNBe"
      },
      "source": [
        "# US Accidents Exploratory Data Analysis"
      ]
    },
    {
      "cell_type": "markdown",
      "metadata": {
        "id": "tkpfTpptXNBh"
      },
      "source": [
        "### About Dataset\n",
        "- Source: kaggle (https://www.kaggle.com/sobhanmoosavi/us-accidents)\n",
        "- It contains information about accidents in US\n",
        "- This analysis may be useful to prevent accidents"
      ]
    },
    {
      "cell_type": "code",
      "execution_count": null,
      "metadata": {
        "id": "-WG6OoCIXNBi"
      },
      "outputs": [],
      "source": [
        "import pandas as pd"
      ]
    },
    {
      "cell_type": "markdown",
      "metadata": {
        "id": "T9rlfWAqXNBi"
      },
      "source": [
        "### Data Preparation and Cleaning\n",
        "- Load the dataset\n",
        "- Look at some information about the data & the columns\n",
        "- Fix any missing or incorrect values"
      ]
    },
    {
      "cell_type": "markdown",
      "metadata": {
        "id": "KUdFdCFnXNBr"
      },
      "source": [
        "#### Loading the Dataset"
      ]
    },
    {
      "cell_type": "code",
      "execution_count": null,
      "metadata": {
        "scrolled": true,
        "id": "46SGHyetXNBr",
        "outputId": "173e8d86-c0a7-418e-dfaa-40290e8ed2f8"
      },
      "outputs": [
        {
          "data": {
            "text/html": [
              "<div>\n",
              "<style scoped>\n",
              "    .dataframe tbody tr th:only-of-type {\n",
              "        vertical-align: middle;\n",
              "    }\n",
              "\n",
              "    .dataframe tbody tr th {\n",
              "        vertical-align: top;\n",
              "    }\n",
              "\n",
              "    .dataframe thead th {\n",
              "        text-align: right;\n",
              "    }\n",
              "</style>\n",
              "<table border=\"1\" class=\"dataframe\">\n",
              "  <thead>\n",
              "    <tr style=\"text-align: right;\">\n",
              "      <th></th>\n",
              "      <th>ID</th>\n",
              "      <th>Source</th>\n",
              "      <th>TMC</th>\n",
              "      <th>Severity</th>\n",
              "      <th>Start_Time</th>\n",
              "      <th>End_Time</th>\n",
              "      <th>Start_Lat</th>\n",
              "      <th>Start_Lng</th>\n",
              "      <th>End_Lat</th>\n",
              "      <th>End_Lng</th>\n",
              "      <th>...</th>\n",
              "      <th>Roundabout</th>\n",
              "      <th>Station</th>\n",
              "      <th>Stop</th>\n",
              "      <th>Traffic_Calming</th>\n",
              "      <th>Traffic_Signal</th>\n",
              "      <th>Turning_Loop</th>\n",
              "      <th>Sunrise_Sunset</th>\n",
              "      <th>Civil_Twilight</th>\n",
              "      <th>Nautical_Twilight</th>\n",
              "      <th>Astronomical_Twilight</th>\n",
              "    </tr>\n",
              "  </thead>\n",
              "  <tbody>\n",
              "    <tr>\n",
              "      <th>0</th>\n",
              "      <td>A-1</td>\n",
              "      <td>MapQuest</td>\n",
              "      <td>201.0</td>\n",
              "      <td>3</td>\n",
              "      <td>2016-02-08 05:46:00</td>\n",
              "      <td>2016-02-08 11:00:00</td>\n",
              "      <td>39.865147</td>\n",
              "      <td>-84.058723</td>\n",
              "      <td>NaN</td>\n",
              "      <td>NaN</td>\n",
              "      <td>...</td>\n",
              "      <td>False</td>\n",
              "      <td>False</td>\n",
              "      <td>False</td>\n",
              "      <td>False</td>\n",
              "      <td>False</td>\n",
              "      <td>False</td>\n",
              "      <td>Night</td>\n",
              "      <td>Night</td>\n",
              "      <td>Night</td>\n",
              "      <td>Night</td>\n",
              "    </tr>\n",
              "    <tr>\n",
              "      <th>1</th>\n",
              "      <td>A-2</td>\n",
              "      <td>MapQuest</td>\n",
              "      <td>201.0</td>\n",
              "      <td>2</td>\n",
              "      <td>2016-02-08 06:07:59</td>\n",
              "      <td>2016-02-08 06:37:59</td>\n",
              "      <td>39.928059</td>\n",
              "      <td>-82.831184</td>\n",
              "      <td>NaN</td>\n",
              "      <td>NaN</td>\n",
              "      <td>...</td>\n",
              "      <td>False</td>\n",
              "      <td>False</td>\n",
              "      <td>False</td>\n",
              "      <td>False</td>\n",
              "      <td>False</td>\n",
              "      <td>False</td>\n",
              "      <td>Night</td>\n",
              "      <td>Night</td>\n",
              "      <td>Night</td>\n",
              "      <td>Day</td>\n",
              "    </tr>\n",
              "    <tr>\n",
              "      <th>2</th>\n",
              "      <td>A-3</td>\n",
              "      <td>MapQuest</td>\n",
              "      <td>201.0</td>\n",
              "      <td>2</td>\n",
              "      <td>2016-02-08 06:49:27</td>\n",
              "      <td>2016-02-08 07:19:27</td>\n",
              "      <td>39.063148</td>\n",
              "      <td>-84.032608</td>\n",
              "      <td>NaN</td>\n",
              "      <td>NaN</td>\n",
              "      <td>...</td>\n",
              "      <td>False</td>\n",
              "      <td>False</td>\n",
              "      <td>False</td>\n",
              "      <td>False</td>\n",
              "      <td>True</td>\n",
              "      <td>False</td>\n",
              "      <td>Night</td>\n",
              "      <td>Night</td>\n",
              "      <td>Day</td>\n",
              "      <td>Day</td>\n",
              "    </tr>\n",
              "    <tr>\n",
              "      <th>3</th>\n",
              "      <td>A-4</td>\n",
              "      <td>MapQuest</td>\n",
              "      <td>201.0</td>\n",
              "      <td>3</td>\n",
              "      <td>2016-02-08 07:23:34</td>\n",
              "      <td>2016-02-08 07:53:34</td>\n",
              "      <td>39.747753</td>\n",
              "      <td>-84.205582</td>\n",
              "      <td>NaN</td>\n",
              "      <td>NaN</td>\n",
              "      <td>...</td>\n",
              "      <td>False</td>\n",
              "      <td>False</td>\n",
              "      <td>False</td>\n",
              "      <td>False</td>\n",
              "      <td>False</td>\n",
              "      <td>False</td>\n",
              "      <td>Night</td>\n",
              "      <td>Day</td>\n",
              "      <td>Day</td>\n",
              "      <td>Day</td>\n",
              "    </tr>\n",
              "    <tr>\n",
              "      <th>4</th>\n",
              "      <td>A-5</td>\n",
              "      <td>MapQuest</td>\n",
              "      <td>201.0</td>\n",
              "      <td>2</td>\n",
              "      <td>2016-02-08 07:39:07</td>\n",
              "      <td>2016-02-08 08:09:07</td>\n",
              "      <td>39.627781</td>\n",
              "      <td>-84.188354</td>\n",
              "      <td>NaN</td>\n",
              "      <td>NaN</td>\n",
              "      <td>...</td>\n",
              "      <td>False</td>\n",
              "      <td>False</td>\n",
              "      <td>False</td>\n",
              "      <td>False</td>\n",
              "      <td>True</td>\n",
              "      <td>False</td>\n",
              "      <td>Day</td>\n",
              "      <td>Day</td>\n",
              "      <td>Day</td>\n",
              "      <td>Day</td>\n",
              "    </tr>\n",
              "  </tbody>\n",
              "</table>\n",
              "<p>5 rows × 49 columns</p>\n",
              "</div>"
            ],
            "text/plain": [
              "    ID    Source    TMC  Severity           Start_Time             End_Time  \\\n",
              "0  A-1  MapQuest  201.0         3  2016-02-08 05:46:00  2016-02-08 11:00:00   \n",
              "1  A-2  MapQuest  201.0         2  2016-02-08 06:07:59  2016-02-08 06:37:59   \n",
              "2  A-3  MapQuest  201.0         2  2016-02-08 06:49:27  2016-02-08 07:19:27   \n",
              "3  A-4  MapQuest  201.0         3  2016-02-08 07:23:34  2016-02-08 07:53:34   \n",
              "4  A-5  MapQuest  201.0         2  2016-02-08 07:39:07  2016-02-08 08:09:07   \n",
              "\n",
              "   Start_Lat  Start_Lng  End_Lat  End_Lng  ...  Roundabout Station   Stop  \\\n",
              "0  39.865147 -84.058723      NaN      NaN  ...       False   False  False   \n",
              "1  39.928059 -82.831184      NaN      NaN  ...       False   False  False   \n",
              "2  39.063148 -84.032608      NaN      NaN  ...       False   False  False   \n",
              "3  39.747753 -84.205582      NaN      NaN  ...       False   False  False   \n",
              "4  39.627781 -84.188354      NaN      NaN  ...       False   False  False   \n",
              "\n",
              "  Traffic_Calming Traffic_Signal Turning_Loop Sunrise_Sunset Civil_Twilight  \\\n",
              "0           False          False        False          Night          Night   \n",
              "1           False          False        False          Night          Night   \n",
              "2           False           True        False          Night          Night   \n",
              "3           False          False        False          Night            Day   \n",
              "4           False           True        False            Day            Day   \n",
              "\n",
              "  Nautical_Twilight Astronomical_Twilight  \n",
              "0             Night                 Night  \n",
              "1             Night                   Day  \n",
              "2               Day                   Day  \n",
              "3               Day                   Day  \n",
              "4               Day                   Day  \n",
              "\n",
              "[5 rows x 49 columns]"
            ]
          },
          "execution_count": 2,
          "metadata": {},
          "output_type": "execute_result"
        }
      ],
      "source": [
        "dataset = pd.read_csv(\"US_Accidents_Dec20.csv\")\n",
        "dataset.head()"
      ]
    },
    {
      "cell_type": "code",
      "execution_count": null,
      "metadata": {
        "id": "naFxs-LLXNBt",
        "outputId": "47cdacb6-0e45-4f6d-fafa-f60e295ce0b4"
      },
      "outputs": [
        {
          "name": "stdout",
          "output_type": "stream",
          "text": [
            "<class 'pandas.core.frame.DataFrame'>\n",
            "RangeIndex: 4232541 entries, 0 to 4232540\n",
            "Data columns (total 49 columns):\n",
            " #   Column                 Dtype  \n",
            "---  ------                 -----  \n",
            " 0   ID                     object \n",
            " 1   Source                 object \n",
            " 2   TMC                    float64\n",
            " 3   Severity               int64  \n",
            " 4   Start_Time             object \n",
            " 5   End_Time               object \n",
            " 6   Start_Lat              float64\n",
            " 7   Start_Lng              float64\n",
            " 8   End_Lat                float64\n",
            " 9   End_Lng                float64\n",
            " 10  Distance(mi)           float64\n",
            " 11  Description            object \n",
            " 12  Number                 float64\n",
            " 13  Street                 object \n",
            " 14  Side                   object \n",
            " 15  City                   object \n",
            " 16  County                 object \n",
            " 17  State                  object \n",
            " 18  Zipcode                object \n",
            " 19  Country                object \n",
            " 20  Timezone               object \n",
            " 21  Airport_Code           object \n",
            " 22  Weather_Timestamp      object \n",
            " 23  Temperature(F)         float64\n",
            " 24  Wind_Chill(F)          float64\n",
            " 25  Humidity(%)            float64\n",
            " 26  Pressure(in)           float64\n",
            " 27  Visibility(mi)         float64\n",
            " 28  Wind_Direction         object \n",
            " 29  Wind_Speed(mph)        float64\n",
            " 30  Precipitation(in)      float64\n",
            " 31  Weather_Condition      object \n",
            " 32  Amenity                bool   \n",
            " 33  Bump                   bool   \n",
            " 34  Crossing               bool   \n",
            " 35  Give_Way               bool   \n",
            " 36  Junction               bool   \n",
            " 37  No_Exit                bool   \n",
            " 38  Railway                bool   \n",
            " 39  Roundabout             bool   \n",
            " 40  Station                bool   \n",
            " 41  Stop                   bool   \n",
            " 42  Traffic_Calming        bool   \n",
            " 43  Traffic_Signal         bool   \n",
            " 44  Turning_Loop           bool   \n",
            " 45  Sunrise_Sunset         object \n",
            " 46  Civil_Twilight         object \n",
            " 47  Nautical_Twilight      object \n",
            " 48  Astronomical_Twilight  object \n",
            "dtypes: bool(13), float64(14), int64(1), object(21)\n",
            "memory usage: 1.2+ GB\n"
          ]
        }
      ],
      "source": [
        "dataset.info()"
      ]
    },
    {
      "cell_type": "markdown",
      "metadata": {
        "id": "0guGOpiVXNBt"
      },
      "source": [
        "- around 42L records\n",
        "- 49 different features in the dataset\n",
        "- 18 features of Bool type\n",
        "- 14 features of float type\n",
        "- 21 types of object type.\n",
        "- 1 feature of int type.\n"
      ]
    },
    {
      "cell_type": "code",
      "execution_count": null,
      "metadata": {
        "id": "QIFDhmSGXNBt",
        "outputId": "1d5d606a-58ef-4afb-9d2d-1ce0db9a8a3f"
      },
      "outputs": [
        {
          "data": {
            "text/html": [
              "<div>\n",
              "<style scoped>\n",
              "    .dataframe tbody tr th:only-of-type {\n",
              "        vertical-align: middle;\n",
              "    }\n",
              "\n",
              "    .dataframe tbody tr th {\n",
              "        vertical-align: top;\n",
              "    }\n",
              "\n",
              "    .dataframe thead th {\n",
              "        text-align: right;\n",
              "    }\n",
              "</style>\n",
              "<table border=\"1\" class=\"dataframe\">\n",
              "  <thead>\n",
              "    <tr style=\"text-align: right;\">\n",
              "      <th></th>\n",
              "      <th>TMC</th>\n",
              "      <th>Severity</th>\n",
              "      <th>Start_Lat</th>\n",
              "      <th>Start_Lng</th>\n",
              "      <th>End_Lat</th>\n",
              "      <th>End_Lng</th>\n",
              "      <th>Distance(mi)</th>\n",
              "      <th>Number</th>\n",
              "      <th>Temperature(F)</th>\n",
              "      <th>Wind_Chill(F)</th>\n",
              "      <th>Humidity(%)</th>\n",
              "      <th>Pressure(in)</th>\n",
              "      <th>Visibility(mi)</th>\n",
              "      <th>Wind_Speed(mph)</th>\n",
              "      <th>Precipitation(in)</th>\n",
              "    </tr>\n",
              "  </thead>\n",
              "  <tbody>\n",
              "    <tr>\n",
              "      <th>count</th>\n",
              "      <td>2.716477e+06</td>\n",
              "      <td>4.232541e+06</td>\n",
              "      <td>4.232541e+06</td>\n",
              "      <td>4.232541e+06</td>\n",
              "      <td>1.516064e+06</td>\n",
              "      <td>1.516064e+06</td>\n",
              "      <td>4.232541e+06</td>\n",
              "      <td>1.544592e+06</td>\n",
              "      <td>4.142641e+06</td>\n",
              "      <td>2.336540e+06</td>\n",
              "      <td>4.137074e+06</td>\n",
              "      <td>4.156157e+06</td>\n",
              "      <td>4.133873e+06</td>\n",
              "      <td>3.753215e+06</td>\n",
              "      <td>2.166952e+06</td>\n",
              "    </tr>\n",
              "    <tr>\n",
              "      <th>mean</th>\n",
              "      <td>2.083517e+02</td>\n",
              "      <td>2.305035e+00</td>\n",
              "      <td>3.639782e+01</td>\n",
              "      <td>-9.546420e+01</td>\n",
              "      <td>3.690061e+01</td>\n",
              "      <td>-9.859901e+01</td>\n",
              "      <td>3.357021e-01</td>\n",
              "      <td>6.141507e+03</td>\n",
              "      <td>6.147799e+01</td>\n",
              "      <td>5.489319e+01</td>\n",
              "      <td>6.567422e+01</td>\n",
              "      <td>2.969371e+01</td>\n",
              "      <td>9.111991e+00</td>\n",
              "      <td>7.903433e+00</td>\n",
              "      <td>1.244719e-02</td>\n",
              "    </tr>\n",
              "    <tr>\n",
              "      <th>std</th>\n",
              "      <td>2.124413e+01</td>\n",
              "      <td>5.332261e-01</td>\n",
              "      <td>4.964404e+00</td>\n",
              "      <td>1.735319e+01</td>\n",
              "      <td>5.165629e+00</td>\n",
              "      <td>1.849590e+01</td>\n",
              "      <td>1.602143e+00</td>\n",
              "      <td>1.492268e+04</td>\n",
              "      <td>1.852586e+01</td>\n",
              "      <td>2.272355e+01</td>\n",
              "      <td>2.272342e+01</td>\n",
              "      <td>8.639260e-01</td>\n",
              "      <td>2.817582e+00</td>\n",
              "      <td>5.330998e+00</td>\n",
              "      <td>1.637154e-01</td>\n",
              "    </tr>\n",
              "    <tr>\n",
              "      <th>min</th>\n",
              "      <td>2.000000e+02</td>\n",
              "      <td>1.000000e+00</td>\n",
              "      <td>2.455527e+01</td>\n",
              "      <td>-1.246238e+02</td>\n",
              "      <td>2.457011e+01</td>\n",
              "      <td>-1.244978e+02</td>\n",
              "      <td>0.000000e+00</td>\n",
              "      <td>0.000000e+00</td>\n",
              "      <td>-8.900000e+01</td>\n",
              "      <td>-8.900000e+01</td>\n",
              "      <td>1.000000e+00</td>\n",
              "      <td>0.000000e+00</td>\n",
              "      <td>0.000000e+00</td>\n",
              "      <td>0.000000e+00</td>\n",
              "      <td>0.000000e+00</td>\n",
              "    </tr>\n",
              "    <tr>\n",
              "      <th>25%</th>\n",
              "      <td>2.010000e+02</td>\n",
              "      <td>2.000000e+00</td>\n",
              "      <td>3.352058e+01</td>\n",
              "      <td>-1.173570e+02</td>\n",
              "      <td>3.385420e+01</td>\n",
              "      <td>-1.182077e+02</td>\n",
              "      <td>0.000000e+00</td>\n",
              "      <td>8.980000e+02</td>\n",
              "      <td>4.900000e+01</td>\n",
              "      <td>3.800000e+01</td>\n",
              "      <td>4.900000e+01</td>\n",
              "      <td>2.964000e+01</td>\n",
              "      <td>1.000000e+01</td>\n",
              "      <td>4.600000e+00</td>\n",
              "      <td>0.000000e+00</td>\n",
              "    </tr>\n",
              "    <tr>\n",
              "      <th>50%</th>\n",
              "      <td>2.010000e+02</td>\n",
              "      <td>2.000000e+00</td>\n",
              "      <td>3.582542e+01</td>\n",
              "      <td>-9.002078e+01</td>\n",
              "      <td>3.735134e+01</td>\n",
              "      <td>-9.437987e+01</td>\n",
              "      <td>0.000000e+00</td>\n",
              "      <td>2.890000e+03</td>\n",
              "      <td>6.300000e+01</td>\n",
              "      <td>5.800000e+01</td>\n",
              "      <td>6.800000e+01</td>\n",
              "      <td>2.993000e+01</td>\n",
              "      <td>1.000000e+01</td>\n",
              "      <td>7.000000e+00</td>\n",
              "      <td>0.000000e+00</td>\n",
              "    </tr>\n",
              "    <tr>\n",
              "      <th>75%</th>\n",
              "      <td>2.010000e+02</td>\n",
              "      <td>3.000000e+00</td>\n",
              "      <td>4.018313e+01</td>\n",
              "      <td>-8.084682e+01</td>\n",
              "      <td>4.072593e+01</td>\n",
              "      <td>-8.087449e+01</td>\n",
              "      <td>8.900000e-02</td>\n",
              "      <td>7.330000e+03</td>\n",
              "      <td>7.520000e+01</td>\n",
              "      <td>7.300000e+01</td>\n",
              "      <td>8.500000e+01</td>\n",
              "      <td>3.008000e+01</td>\n",
              "      <td>1.000000e+01</td>\n",
              "      <td>1.040000e+01</td>\n",
              "      <td>0.000000e+00</td>\n",
              "    </tr>\n",
              "    <tr>\n",
              "      <th>max</th>\n",
              "      <td>4.060000e+02</td>\n",
              "      <td>4.000000e+00</td>\n",
              "      <td>4.900220e+01</td>\n",
              "      <td>-6.711317e+01</td>\n",
              "      <td>4.907500e+01</td>\n",
              "      <td>-6.710924e+01</td>\n",
              "      <td>4.417500e+02</td>\n",
              "      <td>9.999997e+06</td>\n",
              "      <td>2.030000e+02</td>\n",
              "      <td>1.890000e+02</td>\n",
              "      <td>1.000000e+02</td>\n",
              "      <td>5.804000e+01</td>\n",
              "      <td>1.400000e+02</td>\n",
              "      <td>9.840000e+02</td>\n",
              "      <td>2.500000e+01</td>\n",
              "    </tr>\n",
              "  </tbody>\n",
              "</table>\n",
              "</div>"
            ],
            "text/plain": [
              "                TMC      Severity     Start_Lat     Start_Lng       End_Lat  \\\n",
              "count  2.716477e+06  4.232541e+06  4.232541e+06  4.232541e+06  1.516064e+06   \n",
              "mean   2.083517e+02  2.305035e+00  3.639782e+01 -9.546420e+01  3.690061e+01   \n",
              "std    2.124413e+01  5.332261e-01  4.964404e+00  1.735319e+01  5.165629e+00   \n",
              "min    2.000000e+02  1.000000e+00  2.455527e+01 -1.246238e+02  2.457011e+01   \n",
              "25%    2.010000e+02  2.000000e+00  3.352058e+01 -1.173570e+02  3.385420e+01   \n",
              "50%    2.010000e+02  2.000000e+00  3.582542e+01 -9.002078e+01  3.735134e+01   \n",
              "75%    2.010000e+02  3.000000e+00  4.018313e+01 -8.084682e+01  4.072593e+01   \n",
              "max    4.060000e+02  4.000000e+00  4.900220e+01 -6.711317e+01  4.907500e+01   \n",
              "\n",
              "            End_Lng  Distance(mi)        Number  Temperature(F)  \\\n",
              "count  1.516064e+06  4.232541e+06  1.544592e+06    4.142641e+06   \n",
              "mean  -9.859901e+01  3.357021e-01  6.141507e+03    6.147799e+01   \n",
              "std    1.849590e+01  1.602143e+00  1.492268e+04    1.852586e+01   \n",
              "min   -1.244978e+02  0.000000e+00  0.000000e+00   -8.900000e+01   \n",
              "25%   -1.182077e+02  0.000000e+00  8.980000e+02    4.900000e+01   \n",
              "50%   -9.437987e+01  0.000000e+00  2.890000e+03    6.300000e+01   \n",
              "75%   -8.087449e+01  8.900000e-02  7.330000e+03    7.520000e+01   \n",
              "max   -6.710924e+01  4.417500e+02  9.999997e+06    2.030000e+02   \n",
              "\n",
              "       Wind_Chill(F)   Humidity(%)  Pressure(in)  Visibility(mi)  \\\n",
              "count   2.336540e+06  4.137074e+06  4.156157e+06    4.133873e+06   \n",
              "mean    5.489319e+01  6.567422e+01  2.969371e+01    9.111991e+00   \n",
              "std     2.272355e+01  2.272342e+01  8.639260e-01    2.817582e+00   \n",
              "min    -8.900000e+01  1.000000e+00  0.000000e+00    0.000000e+00   \n",
              "25%     3.800000e+01  4.900000e+01  2.964000e+01    1.000000e+01   \n",
              "50%     5.800000e+01  6.800000e+01  2.993000e+01    1.000000e+01   \n",
              "75%     7.300000e+01  8.500000e+01  3.008000e+01    1.000000e+01   \n",
              "max     1.890000e+02  1.000000e+02  5.804000e+01    1.400000e+02   \n",
              "\n",
              "       Wind_Speed(mph)  Precipitation(in)  \n",
              "count     3.753215e+06       2.166952e+06  \n",
              "mean      7.903433e+00       1.244719e-02  \n",
              "std       5.330998e+00       1.637154e-01  \n",
              "min       0.000000e+00       0.000000e+00  \n",
              "25%       4.600000e+00       0.000000e+00  \n",
              "50%       7.000000e+00       0.000000e+00  \n",
              "75%       1.040000e+01       0.000000e+00  \n",
              "max       9.840000e+02       2.500000e+01  "
            ]
          },
          "execution_count": 4,
          "metadata": {},
          "output_type": "execute_result"
        }
      ],
      "source": [
        "dataset.describe()"
      ]
    },
    {
      "cell_type": "markdown",
      "metadata": {
        "id": "-9p19sK3XNBu"
      },
      "source": [
        "- count of the values of features are less than total count( ie data is missing)."
      ]
    },
    {
      "cell_type": "markdown",
      "metadata": {
        "id": "ePrDHbeKXNBu"
      },
      "source": [
        "#### Finding missing values"
      ]
    },
    {
      "cell_type": "code",
      "execution_count": null,
      "metadata": {
        "id": "uqoHbGMFXNBu",
        "outputId": "82726928-697d-4001-c00f-7e57b24d23ac"
      },
      "outputs": [
        {
          "data": {
            "text/plain": [
              "<AxesSubplot:>"
            ]
          },
          "execution_count": 5,
          "metadata": {},
          "output_type": "execute_result"
        },
        {
          "data": {
            "image/png": "[encoded data removed]",
            "text/plain": [
              "<Figure size 432x288 with 1 Axes>"
            ]
          },
          "metadata": {
            "needs_background": "light"
          },
          "output_type": "display_data"
        }
      ],
      "source": [
        "missing_data = dataset.isnull().sum().sort_values(ascending = False)/len(dataset)*100\n",
        "missing_data[missing_data !=0].plot(kind = \"bar\")"
      ]
    },
    {
      "cell_type": "markdown",
      "metadata": {
        "id": "CyUAKZyYXNBv"
      },
      "source": [
        "- End_Lat, End_Lng and Number has more than 60% of missing data\n",
        "- Wind_chill and Precipitation have more than 40% of missing data. <br>\n",
        "So, it's better to drop these features as these features do not contribute much information."
      ]
    },
    {
      "cell_type": "code",
      "execution_count": null,
      "metadata": {
        "id": "ouztLdJBXNBv"
      },
      "outputs": [],
      "source": [
        "dataset.drop([\"Number\"],axis=1,inplace=True)\n",
        "dataset.drop([\"Precipitation(in)\"],axis=1,inplace=True)\n",
        "dataset.drop([\"Wind_Chill(F)\"],axis=1,inplace=True)\n",
        "dataset.drop([\"End_Lat\"],axis=1,inplace=True)\n",
        "dataset.drop([\"End_Lng\"],axis=1,inplace=True)"
      ]
    },
    {
      "cell_type": "markdown",
      "metadata": {
        "id": "aomT5LA0XNBv"
      },
      "source": [
        "ALso there are some columns which are of no use, it is better to remove those columns: <br>\n",
        "like the column country we know we are doing analysis on only one country US. so there is no use of that column:"
      ]
    },
    {
      "cell_type": "code",
      "execution_count": null,
      "metadata": {
        "id": "LO3hyua_XNBv"
      },
      "outputs": [],
      "source": [
        "dataset.drop([\"Airport_Code\",\"Zipcode\",\"Country\",\"Timezone\", \"Pressure(in)\", \"Wind_Direction\", \"Wind_Speed(mph)\", \"Amenity\",\"Give_Way\",\"No_Exit\",\"Roundabout\",\"Stop\",\"Traffic_Calming\",\"Turning_Loop\",\"Astronomical_Twilight\",\"Nautical_Twilight\",\"Civil_Twilight\",\"Sunrise_Sunset\",\"Weather_Timestamp\",\"TMC\"],axis=1,inplace=True)"
      ]
    },
    {
      "cell_type": "code",
      "execution_count": null,
      "metadata": {
        "id": "dYJPzbS9XNBw",
        "outputId": "f1f98af6-8d75-4b64-c15a-41991a1dbd4b"
      },
      "outputs": [
        {
          "data": {
            "text/html": [
              "<div>\n",
              "<style scoped>\n",
              "    .dataframe tbody tr th:only-of-type {\n",
              "        vertical-align: middle;\n",
              "    }\n",
              "\n",
              "    .dataframe tbody tr th {\n",
              "        vertical-align: top;\n",
              "    }\n",
              "\n",
              "    .dataframe thead th {\n",
              "        text-align: right;\n",
              "    }\n",
              "</style>\n",
              "<table border=\"1\" class=\"dataframe\">\n",
              "  <thead>\n",
              "    <tr style=\"text-align: right;\">\n",
              "      <th></th>\n",
              "      <th>ID</th>\n",
              "      <th>Source</th>\n",
              "      <th>Severity</th>\n",
              "      <th>Start_Time</th>\n",
              "      <th>End_Time</th>\n",
              "      <th>Start_Lat</th>\n",
              "      <th>Start_Lng</th>\n",
              "      <th>Distance(mi)</th>\n",
              "      <th>Description</th>\n",
              "      <th>Street</th>\n",
              "      <th>...</th>\n",
              "      <th>Temperature(F)</th>\n",
              "      <th>Humidity(%)</th>\n",
              "      <th>Visibility(mi)</th>\n",
              "      <th>Weather_Condition</th>\n",
              "      <th>Bump</th>\n",
              "      <th>Crossing</th>\n",
              "      <th>Junction</th>\n",
              "      <th>Railway</th>\n",
              "      <th>Station</th>\n",
              "      <th>Traffic_Signal</th>\n",
              "    </tr>\n",
              "  </thead>\n",
              "  <tbody>\n",
              "    <tr>\n",
              "      <th>0</th>\n",
              "      <td>A-1</td>\n",
              "      <td>MapQuest</td>\n",
              "      <td>3</td>\n",
              "      <td>2016-02-08 05:46:00</td>\n",
              "      <td>2016-02-08 11:00:00</td>\n",
              "      <td>39.865147</td>\n",
              "      <td>-84.058723</td>\n",
              "      <td>0.01</td>\n",
              "      <td>Right lane blocked due to accident on I-70 Eas...</td>\n",
              "      <td>I-70 E</td>\n",
              "      <td>...</td>\n",
              "      <td>36.9</td>\n",
              "      <td>91.0</td>\n",
              "      <td>10.0</td>\n",
              "      <td>Light Rain</td>\n",
              "      <td>False</td>\n",
              "      <td>False</td>\n",
              "      <td>False</td>\n",
              "      <td>False</td>\n",
              "      <td>False</td>\n",
              "      <td>False</td>\n",
              "    </tr>\n",
              "    <tr>\n",
              "      <th>1</th>\n",
              "      <td>A-2</td>\n",
              "      <td>MapQuest</td>\n",
              "      <td>2</td>\n",
              "      <td>2016-02-08 06:07:59</td>\n",
              "      <td>2016-02-08 06:37:59</td>\n",
              "      <td>39.928059</td>\n",
              "      <td>-82.831184</td>\n",
              "      <td>0.01</td>\n",
              "      <td>Accident on Brice Rd at Tussing Rd. Expect del...</td>\n",
              "      <td>Brice Rd</td>\n",
              "      <td>...</td>\n",
              "      <td>37.9</td>\n",
              "      <td>100.0</td>\n",
              "      <td>10.0</td>\n",
              "      <td>Light Rain</td>\n",
              "      <td>False</td>\n",
              "      <td>False</td>\n",
              "      <td>False</td>\n",
              "      <td>False</td>\n",
              "      <td>False</td>\n",
              "      <td>False</td>\n",
              "    </tr>\n",
              "    <tr>\n",
              "      <th>2</th>\n",
              "      <td>A-3</td>\n",
              "      <td>MapQuest</td>\n",
              "      <td>2</td>\n",
              "      <td>2016-02-08 06:49:27</td>\n",
              "      <td>2016-02-08 07:19:27</td>\n",
              "      <td>39.063148</td>\n",
              "      <td>-84.032608</td>\n",
              "      <td>0.01</td>\n",
              "      <td>Accident on OH-32 State Route 32 Westbound at ...</td>\n",
              "      <td>State Route 32</td>\n",
              "      <td>...</td>\n",
              "      <td>36.0</td>\n",
              "      <td>100.0</td>\n",
              "      <td>10.0</td>\n",
              "      <td>Overcast</td>\n",
              "      <td>False</td>\n",
              "      <td>False</td>\n",
              "      <td>False</td>\n",
              "      <td>False</td>\n",
              "      <td>False</td>\n",
              "      <td>True</td>\n",
              "    </tr>\n",
              "    <tr>\n",
              "      <th>3</th>\n",
              "      <td>A-4</td>\n",
              "      <td>MapQuest</td>\n",
              "      <td>3</td>\n",
              "      <td>2016-02-08 07:23:34</td>\n",
              "      <td>2016-02-08 07:53:34</td>\n",
              "      <td>39.747753</td>\n",
              "      <td>-84.205582</td>\n",
              "      <td>0.01</td>\n",
              "      <td>Accident on I-75 Southbound at Exits 52 52B US...</td>\n",
              "      <td>I-75 S</td>\n",
              "      <td>...</td>\n",
              "      <td>35.1</td>\n",
              "      <td>96.0</td>\n",
              "      <td>9.0</td>\n",
              "      <td>Mostly Cloudy</td>\n",
              "      <td>False</td>\n",
              "      <td>False</td>\n",
              "      <td>False</td>\n",
              "      <td>False</td>\n",
              "      <td>False</td>\n",
              "      <td>False</td>\n",
              "    </tr>\n",
              "    <tr>\n",
              "      <th>4</th>\n",
              "      <td>A-5</td>\n",
              "      <td>MapQuest</td>\n",
              "      <td>2</td>\n",
              "      <td>2016-02-08 07:39:07</td>\n",
              "      <td>2016-02-08 08:09:07</td>\n",
              "      <td>39.627781</td>\n",
              "      <td>-84.188354</td>\n",
              "      <td>0.01</td>\n",
              "      <td>Accident on McEwen Rd at OH-725 Miamisburg Cen...</td>\n",
              "      <td>Miamisburg Centerville Rd</td>\n",
              "      <td>...</td>\n",
              "      <td>36.0</td>\n",
              "      <td>89.0</td>\n",
              "      <td>6.0</td>\n",
              "      <td>Mostly Cloudy</td>\n",
              "      <td>False</td>\n",
              "      <td>False</td>\n",
              "      <td>False</td>\n",
              "      <td>False</td>\n",
              "      <td>False</td>\n",
              "      <td>True</td>\n",
              "    </tr>\n",
              "  </tbody>\n",
              "</table>\n",
              "<p>5 rows × 24 columns</p>\n",
              "</div>"
            ],
            "text/plain": [
              "    ID    Source  Severity           Start_Time             End_Time  \\\n",
              "0  A-1  MapQuest         3  2016-02-08 05:46:00  2016-02-08 11:00:00   \n",
              "1  A-2  MapQuest         2  2016-02-08 06:07:59  2016-02-08 06:37:59   \n",
              "2  A-3  MapQuest         2  2016-02-08 06:49:27  2016-02-08 07:19:27   \n",
              "3  A-4  MapQuest         3  2016-02-08 07:23:34  2016-02-08 07:53:34   \n",
              "4  A-5  MapQuest         2  2016-02-08 07:39:07  2016-02-08 08:09:07   \n",
              "\n",
              "   Start_Lat  Start_Lng  Distance(mi)  \\\n",
              "0  39.865147 -84.058723          0.01   \n",
              "1  39.928059 -82.831184          0.01   \n",
              "2  39.063148 -84.032608          0.01   \n",
              "3  39.747753 -84.205582          0.01   \n",
              "4  39.627781 -84.188354          0.01   \n",
              "\n",
              "                                         Description  \\\n",
              "0  Right lane blocked due to accident on I-70 Eas...   \n",
              "1  Accident on Brice Rd at Tussing Rd. Expect del...   \n",
              "2  Accident on OH-32 State Route 32 Westbound at ...   \n",
              "3  Accident on I-75 Southbound at Exits 52 52B US...   \n",
              "4  Accident on McEwen Rd at OH-725 Miamisburg Cen...   \n",
              "\n",
              "                      Street  ... Temperature(F) Humidity(%) Visibility(mi)  \\\n",
              "0                     I-70 E  ...           36.9        91.0           10.0   \n",
              "1                   Brice Rd  ...           37.9       100.0           10.0   \n",
              "2             State Route 32  ...           36.0       100.0           10.0   \n",
              "3                     I-75 S  ...           35.1        96.0            9.0   \n",
              "4  Miamisburg Centerville Rd  ...           36.0        89.0            6.0   \n",
              "\n",
              "  Weather_Condition   Bump  Crossing  Junction Railway  Station  \\\n",
              "0        Light Rain  False     False     False   False    False   \n",
              "1        Light Rain  False     False     False   False    False   \n",
              "2          Overcast  False     False     False   False    False   \n",
              "3     Mostly Cloudy  False     False     False   False    False   \n",
              "4     Mostly Cloudy  False     False     False   False    False   \n",
              "\n",
              "   Traffic_Signal  \n",
              "0           False  \n",
              "1           False  \n",
              "2            True  \n",
              "3           False  \n",
              "4            True  \n",
              "\n",
              "[5 rows x 24 columns]"
            ]
          },
          "execution_count": 8,
          "metadata": {},
          "output_type": "execute_result"
        }
      ],
      "source": [
        "dataset.head()"
      ]
    },
    {
      "cell_type": "markdown",
      "metadata": {
        "id": "m50LoP4PXNBw"
      },
      "source": [
        "#### Fixing missing values"
      ]
    },
    {
      "cell_type": "markdown",
      "metadata": {
        "id": "yYFdBKG9XNBw"
      },
      "source": [
        "##### 1. for Numerical columns"
      ]
    },
    {
      "cell_type": "code",
      "execution_count": null,
      "metadata": {
        "id": "SKuror1mXNBw"
      },
      "outputs": [],
      "source": [
        "dataset[\"Temperature(F)\"]=dataset[\"Temperature(F)\"].fillna(dataset[\"Temperature(F)\"].median())\n",
        "dataset[\"Humidity(%)\"]=dataset[\"Humidity(%)\"].fillna(dataset[\"Humidity(%)\"].median())\n",
        "dataset[\"Visibility(mi)\"]=dataset[\"Visibility(mi)\"].fillna(dataset[\"Visibility(mi)\"].median())"
      ]
    },
    {
      "cell_type": "markdown",
      "metadata": {
        "id": "dsSfQdAjXNBx"
      },
      "source": [
        "##### 2. for Categorical columns"
      ]
    },
    {
      "cell_type": "markdown",
      "metadata": {
        "id": "z90oJ7z4XNBx"
      },
      "source": [
        "Since there are very few missing data in city column. So if we drop those record it will not affect our analysis."
      ]
    },
    {
      "cell_type": "code",
      "execution_count": null,
      "metadata": {
        "id": "gAZ66K6iXNBx"
      },
      "outputs": [],
      "source": [
        "#droping city and decription\n",
        "dataset.dropna(subset=[\"City\",\"Description\"],inplace=True)"
      ]
    },
    {
      "cell_type": "code",
      "execution_count": null,
      "metadata": {
        "id": "JJQC1ajQXNBx"
      },
      "outputs": [],
      "source": [
        "#Filling the missing data with mode\n",
        "dataset[\"Weather_Condition\"]=dataset[\"Weather_Condition\"].fillna(dataset[\"Weather_Condition\"].mode()[0])"
      ]
    },
    {
      "cell_type": "code",
      "execution_count": null,
      "metadata": {
        "id": "dP-jyQj3XNBy",
        "outputId": "a11e41e5-5560-4af7-f3dc-4d51de6f0e19"
      },
      "outputs": [
        {
          "data": {
            "text/plain": [
              "ID                   0\n",
              "Source               0\n",
              "Severity             0\n",
              "Start_Time           0\n",
              "End_Time             0\n",
              "Start_Lat            0\n",
              "Start_Lng            0\n",
              "Distance(mi)         0\n",
              "Description          0\n",
              "Street               0\n",
              "Side                 0\n",
              "City                 0\n",
              "County               0\n",
              "State                0\n",
              "Temperature(F)       0\n",
              "Humidity(%)          0\n",
              "Visibility(mi)       0\n",
              "Weather_Condition    0\n",
              "Bump                 0\n",
              "Crossing             0\n",
              "Junction             0\n",
              "Railway              0\n",
              "Station              0\n",
              "Traffic_Signal       0\n",
              "dtype: int64"
            ]
          },
          "execution_count": 12,
          "metadata": {},
          "output_type": "execute_result"
        }
      ],
      "source": [
        "dataset.isna().sum()"
      ]
    },
    {
      "cell_type": "markdown",
      "metadata": {
        "id": "u1yRHCZnXNBy"
      },
      "source": [
        "Now our data is clean"
      ]
    },
    {
      "cell_type": "markdown",
      "metadata": {
        "id": "v_WUC858XNBy"
      },
      "source": [
        "### Data Analysis\n",
        "- Features considered are:\n",
        "    - State\n",
        "    - City\n",
        "    - Start_time (Day, time, month, Year)\n",
        "    - Start_Lat and Start_Lng (Latitude and Longitude)"
      ]
    },
    {
      "cell_type": "markdown",
      "metadata": {
        "id": "ojiOD2VUXNBy"
      },
      "source": [
        "#### Analysis of Accidents with respect to state"
      ]
    },
    {
      "cell_type": "code",
      "execution_count": null,
      "metadata": {
        "id": "HjA3EVcQXNBy"
      },
      "outputs": [],
      "source": [
        "import seaborn as sns\n",
        "import matplotlib.pyplot as plt"
      ]
    },
    {
      "cell_type": "code",
      "execution_count": null,
      "metadata": {
        "id": "szNtU_TrXNBy",
        "outputId": "df30cfb5-fc0c-4f1d-a6af-fa3ae8356feb"
      },
      "outputs": [
        {
          "data": {
            "image/png": "[encoded data removed]",
            "text/plain": [
              "<Figure size 1440x504 with 1 Axes>"
            ]
          },
          "metadata": {
            "needs_background": "light"
          },
          "output_type": "display_data"
        }
      ],
      "source": [
        "plt.figure(figsize=(20,7))\n",
        "sns.countplot(x=\"State\",data=dataset)\n",
        "plt.yscale(\"log\")\n",
        "plt.title(\"STATES WITH NUMBER OF ACCIDENTS\",fontsize=20)\n",
        "plt.show()"
      ]
    },
    {
      "cell_type": "markdown",
      "metadata": {
        "id": "GxljWZlKXNBy"
      },
      "source": [
        "- Highest accidents in California state\n",
        "- Second and Third highest are texas and Florida.<br>\n",
        "One of the possible reason could be population."
      ]
    },
    {
      "cell_type": "markdown",
      "metadata": {
        "id": "Sj2Wf4xSXNBy"
      },
      "source": [
        "Since there is no data on population in this dataset, I found the below data on population from internet."
      ]
    },
    {
      "cell_type": "markdown",
      "metadata": {
        "id": "_TKhNcilXNBz"
      },
      "source": [
        "![image.png](attachment:image.png)\n",
        "Source:\n",
        "https://www.statista.com/statistics/183497/population-in-the-federal-states-of-the-us/"
      ]
    },
    {
      "cell_type": "markdown",
      "metadata": {
        "id": "Dd_RpRYZXNBz"
      },
      "source": [
        "We can see that even population is highest in California then texas and florida. So population can be a factor of accidents."
      ]
    },
    {
      "cell_type": "markdown",
      "metadata": {
        "id": "AKmPLAeHXNBz"
      },
      "source": [
        "#### Analysis of accidents w.r.t cities"
      ]
    },
    {
      "cell_type": "code",
      "execution_count": null,
      "metadata": {
        "id": "p0OlByivXNBz",
        "outputId": "690286f3-2f9b-4304-e906-74b9ca9c3bff"
      },
      "outputs": [
        {
          "data": {
            "text/plain": [
              "12250"
            ]
          },
          "execution_count": 15,
          "metadata": {},
          "output_type": "execute_result"
        }
      ],
      "source": [
        "## The number of Unique cites\n",
        "unique_cities=dataset.City.unique()\n",
        "len(unique_cities)"
      ]
    },
    {
      "cell_type": "code",
      "execution_count": null,
      "metadata": {
        "id": "7O1AQgqiXNBz",
        "outputId": "4699274a-0cfe-4a1a-fb2c-5925ea6bfa4b"
      },
      "outputs": [
        {
          "data": {
            "text/plain": [
              "Houston           114904\n",
              "Los Angeles        92701\n",
              "Charlotte          88887\n",
              "Dallas             77303\n",
              "Austin             70538\n",
              "                   ...  \n",
              "McConnelsville         1\n",
              "Arenas Valley          1\n",
              "Saint Leonard          1\n",
              "Trevor                 1\n",
              "West Dennis            1\n",
              "Name: City, Length: 12250, dtype: int64"
            ]
          },
          "execution_count": 16,
          "metadata": {},
          "output_type": "execute_result"
        }
      ],
      "source": [
        "## No of accidents occured per city\n",
        "accidents_per_cities = dataset.City.value_counts()\n",
        "accidents_per_cities"
      ]
    },
    {
      "cell_type": "code",
      "execution_count": null,
      "metadata": {
        "id": "IW5Uc2nfXNBz"
      },
      "outputs": [],
      "source": [
        "#Top 20 cities with highest accidents\n",
        "top_cities=dataset[\"City\"].value_counts().sort_values()[-20:].reset_index()\n",
        "top_cities.columns=[\"city\",\"number_of_accidents\"]"
      ]
    },
    {
      "cell_type": "code",
      "execution_count": null,
      "metadata": {
        "id": "02-S92hfXNBz",
        "outputId": "5de5443f-1be3-4c59-d353-3bd41fb90da2"
      },
      "outputs": [
        {
          "data": {
            "image/png": "[encoded data removed]",
            "text/plain": [
              "<Figure size 720x504 with 1 Axes>"
            ]
          },
          "metadata": {
            "needs_background": "light"
          },
          "output_type": "display_data"
        }
      ],
      "source": [
        "plt.figure(figsize=(10,7))\n",
        "sns.barplot(x=\"city\",y=\"number_of_accidents\",data=top_cities)\n",
        "plt.title(\"TOP 20 CITIES WITH HIGHEST NUMBER OF ACCIDENTS\",fontsize=20)\n",
        "plt.xticks(rotation=40)\n",
        "plt.show()"
      ]
    },
    {
      "cell_type": "markdown",
      "metadata": {
        "id": "5FlegabBXNB9"
      },
      "source": [
        "- Houston is the city with the highest no of the accidents\n",
        "- Next highest is Los Angeles followed by Charlotte, Dallas and Austin."
      ]
    },
    {
      "cell_type": "markdown",
      "metadata": {
        "id": "VISGAUgAXNB9"
      },
      "source": [
        "Lets see which state these top 10 cities belong to--"
      ]
    },
    {
      "cell_type": "code",
      "execution_count": null,
      "metadata": {
        "scrolled": true,
        "id": "ySdYzGQuXNB9",
        "outputId": "9d94109f-a66b-4a18-9ba7-8125bd5bc7e1"
      },
      "outputs": [
        {
          "data": {
            "text/plain": [
              "State  City       \n",
              "TX     Houston        114814\n",
              "CA     Los Angeles     92701\n",
              "NC     Charlotte       88719\n",
              "TX     Dallas          76997\n",
              "       Austin          70250\n",
              "FL     Miami           63085\n",
              "NC     Raleigh         52871\n",
              "GA     Atlanta         46309\n",
              "LA     Baton Rouge     42814\n",
              "TN     Nashville       41767\n",
              "dtype: int64"
            ]
          },
          "execution_count": 19,
          "metadata": {},
          "output_type": "execute_result"
        }
      ],
      "source": [
        "State_city = dataset.groupby(['State','City']).size().nlargest(10)\n",
        "State_city"
      ]
    },
    {
      "cell_type": "markdown",
      "metadata": {
        "id": "ZTd233LlXNB-"
      },
      "source": [
        "Thats interesting!! CA is the highest accident state but the highest accident city ie Houston belongs to Texas(which is the 2nd highest state in accidents). Infact in the top 5 cities, 3 cities belongs to Texas and only 1 city belongs to California."
      ]
    },
    {
      "cell_type": "code",
      "execution_count": null,
      "metadata": {
        "id": "LGvH3RTBXNB-",
        "outputId": "d4d33828-a0d4-43d0-dc79-cc3a0cc632f4"
      },
      "outputs": [
        {
          "name": "stderr",
          "output_type": "stream",
          "text": [
            "E:\\anaconda3\\lib\\site-packages\\seaborn\\distributions.py:2551: FutureWarning: `distplot` is a deprecated function and will be removed in a future version. Please adapt your code to use either `displot` (a figure-level function with similar flexibility) or `histplot` (an axes-level function for histograms).\n",
            "  warnings.warn(msg, FutureWarning)\n"
          ]
        },
        {
          "data": {
            "text/plain": [
              "<AxesSubplot:xlabel='City', ylabel='Density'>"
            ]
          },
          "execution_count": 20,
          "metadata": {},
          "output_type": "execute_result"
        },
        {
          "data": {
            "image/png": "[encoded data removed]",
            "text/plain": [
              "<Figure size 432x288 with 1 Axes>"
            ]
          },
          "metadata": {
            "needs_background": "light"
          },
          "output_type": "display_data"
        }
      ],
      "source": [
        "sns.distplot(accidents_per_cities)"
      ]
    },
    {
      "cell_type": "markdown",
      "metadata": {
        "id": "Ulphf7wVXNB-"
      },
      "source": [
        "See, majority of the distribution lies around 1-2 accidents. That means most of the cities have around 1-5 accidents."
      ]
    },
    {
      "cell_type": "code",
      "execution_count": null,
      "metadata": {
        "id": "kcaiEln_XNB-",
        "outputId": "07ff2abb-c26e-42ad-fa07-8243fd7fa8cc"
      },
      "outputs": [
        {
          "data": {
            "text/plain": [
              "1267"
            ]
          },
          "execution_count": 21,
          "metadata": {},
          "output_type": "execute_result"
        }
      ],
      "source": [
        "len(accidents_per_cities[accidents_per_cities == 1])"
      ]
    },
    {
      "cell_type": "markdown",
      "metadata": {
        "id": "WOBvkTMbXNB-"
      },
      "source": [
        "1267 cities have only reported only 1 accident. This could be possible because of lack of data or due to outliers."
      ]
    },
    {
      "cell_type": "code",
      "execution_count": null,
      "metadata": {
        "id": "1d1ptbk8XNB-",
        "outputId": "0192e20a-0a91-40db-c5a2-7820c005217b"
      },
      "outputs": [
        {
          "data": {
            "text/plain": [
              "<AxesSubplot:xlabel='City', ylabel='Count'>"
            ]
          },
          "execution_count": 22,
          "metadata": {},
          "output_type": "execute_result"
        },
        {
          "data": {
            "image/png": "[encoded data removed]",
            "text/plain": [
              "<Figure size 432x288 with 1 Axes>"
            ]
          },
          "metadata": {
            "needs_background": "light"
          },
          "output_type": "display_data"
        }
      ],
      "source": [
        "# Hist plot with log scale to get a clear picture of distribution\n",
        "sns.histplot(accidents_per_cities,log_scale=True)"
      ]
    },
    {
      "cell_type": "markdown",
      "metadata": {
        "id": "WCrU__pYXNB-"
      },
      "source": [
        "Majority of the cities lies in the ditribution where no of accidents < 100"
      ]
    },
    {
      "cell_type": "code",
      "execution_count": null,
      "metadata": {
        "id": "Og0WiFidXNB_"
      },
      "outputs": [],
      "source": [
        "# Considering high accident cities are the ones where accidents are greater than 1000 otherwise low accident cities.\n",
        "high_accident_cities = accidents_per_cities[accidents_per_cities>=1000]\n",
        "low_accident_cities = accidents_per_cities[accidents_per_cities<1000]"
      ]
    },
    {
      "cell_type": "code",
      "execution_count": null,
      "metadata": {
        "id": "9MpQ8D1FXNB_",
        "outputId": "e54cb0e2-0869-4301-f2bf-91f6dbe15b6c"
      },
      "outputs": [
        {
          "data": {
            "text/plain": [
              "0.05746938775510204"
            ]
          },
          "execution_count": 24,
          "metadata": {},
          "output_type": "execute_result"
        }
      ],
      "source": [
        "len(high_accident_cities)/len(unique_cities)"
      ]
    },
    {
      "cell_type": "markdown",
      "metadata": {
        "id": "Qqh39OBaXNB_"
      },
      "source": [
        "- Only 5% of the cities come under high accident cities ie where accidents are >=1000\n",
        "- Major chunk belongs to low accident cities <br>\n",
        "Same can be seen in the above log scale hist plot"
      ]
    },
    {
      "cell_type": "code",
      "execution_count": null,
      "metadata": {
        "id": "RtCh3MI6XNB_",
        "outputId": "d806e7f4-0cb2-4a34-b59b-a36da5c8ab12"
      },
      "outputs": [
        {
          "data": {
            "text/plain": [
              "<AxesSubplot:>"
            ]
          },
          "execution_count": 25,
          "metadata": {},
          "output_type": "execute_result"
        },
        {
          "data": {
            "image/png": "[encoded data removed]",
            "text/plain": [
              "<Figure size 432x288 with 1 Axes>"
            ]
          },
          "metadata": {
            "needs_background": "light"
          },
          "output_type": "display_data"
        }
      ],
      "source": [
        "# plot of top 20 high accident cities\n",
        "high_accident_cities[:20].plot(kind=\"barh\")"
      ]
    },
    {
      "cell_type": "markdown",
      "metadata": {
        "id": "ToM-H09ZXNB_"
      },
      "source": [
        "#### Analysis of accidents on the basis of timestamp"
      ]
    },
    {
      "cell_type": "code",
      "execution_count": null,
      "metadata": {
        "id": "yHs6Iy9UXNB_",
        "outputId": "c8bebc83-7d0f-4eef-8994-98a7bb8186aa"
      },
      "outputs": [
        {
          "data": {
            "text/plain": [
              "0          2016-02-08 05:46:00\n",
              "1          2016-02-08 06:07:59\n",
              "2          2016-02-08 06:49:27\n",
              "3          2016-02-08 07:23:34\n",
              "4          2016-02-08 07:39:07\n",
              "                  ...         \n",
              "4232536    2019-08-23 18:03:25\n",
              "4232537    2019-08-23 19:11:30\n",
              "4232538    2019-08-23 19:00:21\n",
              "4232539    2019-08-23 19:00:21\n",
              "4232540    2019-08-23 18:52:06\n",
              "Name: Start_Time, Length: 4232402, dtype: object"
            ]
          },
          "execution_count": 26,
          "metadata": {},
          "output_type": "execute_result"
        }
      ],
      "source": [
        "dataset.Start_Time"
      ]
    },
    {
      "cell_type": "code",
      "execution_count": null,
      "metadata": {
        "id": "74RUVaRCXNB_",
        "outputId": "2a21147b-49f3-48c7-8c76-31d1a62bd976"
      },
      "outputs": [
        {
          "data": {
            "text/plain": [
              "0         2016-02-08 05:46:00\n",
              "1         2016-02-08 06:07:59\n",
              "2         2016-02-08 06:49:27\n",
              "3         2016-02-08 07:23:34\n",
              "4         2016-02-08 07:39:07\n",
              "                  ...        \n",
              "4232536   2019-08-23 18:03:25\n",
              "4232537   2019-08-23 19:11:30\n",
              "4232538   2019-08-23 19:00:21\n",
              "4232539   2019-08-23 19:00:21\n",
              "4232540   2019-08-23 18:52:06\n",
              "Name: Start_Time, Length: 4232402, dtype: datetime64[ns]"
            ]
          },
          "execution_count": 27,
          "metadata": {},
          "output_type": "execute_result"
        }
      ],
      "source": [
        "# conveting the string type to date-time value\n",
        "dataset.Start_Time=pd.to_datetime(dataset.Start_Time)\n",
        "dataset.Start_Time"
      ]
    },
    {
      "cell_type": "code",
      "execution_count": null,
      "metadata": {
        "scrolled": true,
        "id": "-jYjV9evXNCA",
        "outputId": "20a76821-4f92-49b9-9c65-53538f23760f"
      },
      "outputs": [
        {
          "data": {
            "text/plain": [
              "<seaborn.axisgrid.FacetGrid at 0x16c86664fa0>"
            ]
          },
          "execution_count": 28,
          "metadata": {},
          "output_type": "execute_result"
        },
        {
          "data": {
            "image/png": "[encoded data removed]",
            "text/plain": [
              "<Figure size 360x360 with 1 Axes>"
            ]
          },
          "metadata": {
            "needs_background": "light"
          },
          "output_type": "display_data"
        }
      ],
      "source": [
        "# plotting the distribution of accident w.r.t to hours of a day\n",
        "sns.displot(dataset.Start_Time.dt.hour,bins=24, stat=\"density\", kde=False)"
      ]
    },
    {
      "cell_type": "markdown",
      "metadata": {
        "id": "Xq5h7IuYXNCA"
      },
      "source": [
        "- A high percentage of accidents occur between 6 am to 10 am (probably people in a hurry to get to work as well as high traffic due to office time)\n",
        "- Next higest percentage is 3 pm to 6 pm."
      ]
    },
    {
      "cell_type": "markdown",
      "metadata": {
        "id": "8pBWpt5QXNCA"
      },
      "source": [
        "In order to cross check the above possibility, lets analyse the accidents w.r.t days of a week"
      ]
    },
    {
      "cell_type": "code",
      "execution_count": null,
      "metadata": {
        "id": "QO5Z0GD5XNCA",
        "outputId": "bf45eecd-522a-4406-ffb7-b1a664e53e8f"
      },
      "outputs": [
        {
          "data": {
            "text/plain": [
              "<seaborn.axisgrid.FacetGrid at 0x16c86741fd0>"
            ]
          },
          "execution_count": 29,
          "metadata": {},
          "output_type": "execute_result"
        },
        {
          "data": {
            "image/png": "[encoded data removed]",
            "text/plain": [
              "<Figure size 360x360 with 1 Axes>"
            ]
          },
          "metadata": {
            "needs_background": "light"
          },
          "output_type": "display_data"
        }
      ],
      "source": [
        "#plotting the distribution wrt days of the week\n",
        "sns.displot(dataset.Start_Time.dt.dayofweek,bins=7, stat=\"density\", kde=False)"
      ]
    },
    {
      "cell_type": "markdown",
      "metadata": {
        "id": "JTB7fjKcXNCA"
      },
      "source": [
        "- weekdays have high accidents compared to weekends and this supports our assumption that we made above.<br>\n",
        "- evenly distributed across the weekdays."
      ]
    },
    {
      "cell_type": "markdown",
      "metadata": {
        "id": "8Lu0wFC-XNCA"
      },
      "source": [
        "Is the distribution of accidents by hour the same on weekends as on weekdays."
      ]
    },
    {
      "cell_type": "code",
      "execution_count": null,
      "metadata": {
        "id": "U8AssCdQXNCA",
        "outputId": "9f6124da-8e96-4051-c54a-f03bc99439f7"
      },
      "outputs": [
        {
          "data": {
            "text/plain": [
              "<seaborn.axisgrid.FacetGrid at 0x16c86760880>"
            ]
          },
          "execution_count": 30,
          "metadata": {},
          "output_type": "execute_result"
        },
        {
          "data": {
            "image/png": "[encoded data removed]",
            "text/plain": [
              "<Figure size 360x360 with 1 Axes>"
            ]
          },
          "metadata": {
            "needs_background": "light"
          },
          "output_type": "display_data"
        }
      ],
      "source": [
        "# plotting a distribution of accidents on weekends wrt to hours of a day.\n",
        "Weekend_start_time = dataset.Start_Time[dataset.Start_Time.dt.dayofweek>=5]\n",
        "sns.displot(Weekend_start_time.dt.hour,bins=24, stat=\"density\", kde=False)"
      ]
    },
    {
      "cell_type": "code",
      "execution_count": null,
      "metadata": {
        "scrolled": true,
        "id": "KgZGAXbjXNCB",
        "outputId": "60ea2d1c-7f98-402b-e3da-f8e6a433384a"
      },
      "outputs": [
        {
          "data": {
            "text/plain": [
              "<seaborn.axisgrid.FacetGrid at 0x16c868308b0>"
            ]
          },
          "execution_count": 31,
          "metadata": {},
          "output_type": "execute_result"
        },
        {
          "data": {
            "image/png": "[encoded data removed]",
            "text/plain": [
              "<Figure size 360x360 with 1 Axes>"
            ]
          },
          "metadata": {
            "needs_background": "light"
          },
          "output_type": "display_data"
        }
      ],
      "source": [
        "# plotting a distribution of accidents on Monday wrt to hours of a day.\n",
        "Weekday_start_time = dataset.Start_Time[dataset.Start_Time.dt.dayofweek == 0]\n",
        "sns.displot(Weekday_start_time.dt.hour,bins=24, stat=\"density\", kde=False)"
      ]
    },
    {
      "cell_type": "markdown",
      "metadata": {
        "id": "0NGIKAL5XNCB"
      },
      "source": [
        "- On Weekdays, the peak occurs between 10 am and 6 pm, unlike weekdays"
      ]
    },
    {
      "cell_type": "markdown",
      "metadata": {
        "id": "zDv63IGKXNCB"
      },
      "source": [
        "What is the trends of accidents with increase in years??"
      ]
    },
    {
      "cell_type": "code",
      "execution_count": null,
      "metadata": {
        "id": "1RMgYE2kXNCB"
      },
      "outputs": [],
      "source": [
        "yearly_accidents=dataset.Start_Time.dt.year.value_counts().reset_index()\n",
        "yearly_accidents.columns=[\"Year\",\"number_of_accidents\"]"
      ]
    },
    {
      "cell_type": "code",
      "execution_count": null,
      "metadata": {
        "id": "OPO5LP_hXNCB",
        "outputId": "2689770a-103d-43f2-a4f6-91ebb2be2dde"
      },
      "outputs": [
        {
          "data": {
            "image/png": "[encoded data removed]",
            "text/plain": [
              "<Figure size 432x360 with 1 Axes>"
            ]
          },
          "metadata": {
            "needs_background": "light"
          },
          "output_type": "display_data"
        }
      ],
      "source": [
        "plt.figure(figsize=(6,5))\n",
        "sns.barplot(x=\"Year\",y=\"number_of_accidents\",data=yearly_accidents)\n",
        "plt.show()"
      ]
    },
    {
      "cell_type": "markdown",
      "metadata": {
        "id": "d8ZMkZnhXNCB"
      },
      "source": [
        "- Increase trend of accidents with increase in years (quite possible due to less data available in 2016 and 2017 as compared to 2020)\n",
        "- Even Distribution of Accidents in 2018 and 2019\n",
        "- High increase in accidents from 2018-19 to 2020."
      ]
    },
    {
      "cell_type": "code",
      "execution_count": null,
      "metadata": {
        "id": "WXj1xPVIXNCC",
        "outputId": "384ebbd3-4553-4550-b1d1-afe2a0fd76a6"
      },
      "outputs": [
        {
          "data": {
            "text/plain": [
              "<AxesSubplot:xlabel='Month', ylabel='number_of_accidents'>"
            ]
          },
          "execution_count": 34,
          "metadata": {},
          "output_type": "execute_result"
        },
        {
          "data": {
            "image/png": "[encoded data removed]",
            "text/plain": [
              "<Figure size 504x360 with 1 Axes>"
            ]
          },
          "metadata": {
            "needs_background": "light"
          },
          "output_type": "display_data"
        }
      ],
      "source": [
        "monthly_accidents=dataset.Start_Time.dt.month.value_counts().reset_index()\n",
        "monthly_accidents.columns=[\"Month\",\"number_of_accidents\"]\n",
        "plt.figure(figsize=(7,5))\n",
        "sns.barplot(x=\"Month\",y=\"number_of_accidents\",data=monthly_accidents)"
      ]
    },
    {
      "cell_type": "markdown",
      "metadata": {
        "id": "nzd49QyaXNCC"
      },
      "source": [
        "- No of Accidents are almost even till August\n",
        "- There is an increase in accidents from september to  December(could be something related to colder days and warmer days)"
      ]
    },
    {
      "cell_type": "markdown",
      "metadata": {
        "id": "n836oxeBXNCC"
      },
      "source": [
        "Is the pattern same for all the years?"
      ]
    },
    {
      "cell_type": "code",
      "execution_count": null,
      "metadata": {
        "id": "ohqzat5jXNCC"
      },
      "outputs": [],
      "source": [
        "dataset[\"year\"]=pd.DatetimeIndex(dataset[\"Start_Time\"]).year\n",
        "dataset[\"month\"]=pd.DatetimeIndex(dataset[\"Start_Time\"]).month\n",
        "monthly_yearly_accidents=dataset[[\"month\",\"year\"]].value_counts().reset_index()\n",
        "monthly_yearly_accidents.columns=[\"month\",\"year\",\"number_of_accidents\"]"
      ]
    },
    {
      "cell_type": "code",
      "execution_count": null,
      "metadata": {
        "id": "lhrOXQ3yXNCC",
        "outputId": "d5e626ed-0184-4533-b444-5f15efa9a660"
      },
      "outputs": [
        {
          "data": {
            "text/plain": [
              "<AxesSubplot:xlabel='month', ylabel='number_of_accidents'>"
            ]
          },
          "execution_count": 36,
          "metadata": {},
          "output_type": "execute_result"
        },
        {
          "data": {
            "image/png": "[encoded data removed]",
            "text/plain": [
              "<Figure size 1080x576 with 1 Axes>"
            ]
          },
          "metadata": {
            "needs_background": "light"
          },
          "output_type": "display_data"
        }
      ],
      "source": [
        "plt.figure(figsize=(15,8))\n",
        "sns.barplot(x=\"month\",y=\"number_of_accidents\",hue=\"year\",data=monthly_yearly_accidents)"
      ]
    },
    {
      "cell_type": "markdown",
      "metadata": {
        "id": "UcrDXKA8XNCC"
      },
      "source": [
        "- Every year, During the month of Aug to Dec, the no of Accidents are higher than rest of the months.\n",
        "- In 2020, the number increased tremendously during Oct-Dec.\n",
        "- In 2016, Accidents during Jan-May shows very less ( Probably missing data )"
      ]
    },
    {
      "cell_type": "markdown",
      "metadata": {
        "id": "U3DRmqwfXNCC"
      },
      "source": [
        "#### Start Latitude and Longitude Analysis"
      ]
    },
    {
      "cell_type": "code",
      "execution_count": null,
      "metadata": {
        "id": "eAqOiftZXNCD"
      },
      "outputs": [],
      "source": [
        "# considering 10% of data points\n",
        "sample_df=dataset.sample(int(0.1*len(dataset)))"
      ]
    },
    {
      "cell_type": "code",
      "execution_count": null,
      "metadata": {
        "id": "s1OLbKicXNCD",
        "outputId": "0f0c9a53-14c1-4c2a-dd31-13ced4e8eed7"
      },
      "outputs": [
        {
          "data": {
            "text/plain": [
              "<AxesSubplot:xlabel='Start_Lng', ylabel='Start_Lat'>"
            ]
          },
          "execution_count": 38,
          "metadata": {},
          "output_type": "execute_result"
        },
        {
          "data": {
            "image/png": "[encoded data removed]",
            "text/plain": [
              "<Figure size 432x288 with 1 Axes>"
            ]
          },
          "metadata": {
            "needs_background": "light"
          },
          "output_type": "display_data"
        }
      ],
      "source": [
        "#ploting the start latitude and longitude\n",
        "sns.scatterplot(x=sample_df.Start_Lng, y=sample_df.Start_Lat)"
      ]
    },
    {
      "cell_type": "markdown",
      "metadata": {
        "id": "AFXuZsrAXNCE"
      },
      "source": [
        "- Coastal areas have high number of Accidents(probably high population in those areas than land-locked areas"
      ]
    },
    {
      "cell_type": "markdown",
      "metadata": {
        "id": "VwPebbiVXNCE"
      },
      "source": [
        "### Summary and Conclusion"
      ]
    },
    {
      "cell_type": "markdown",
      "metadata": {
        "id": "5nJp-oeQXNCE"
      },
      "source": [
        "Insights:\n",
        "- Population is a factor of accidents\n",
        "- The number of accidents per city decreases exponentially\n",
        "- Around 5% of cities have more than 1000 yearly accidents.\n",
        "- Over 1200 cities have reported just one accident (need to investigate)\n",
        "- High number of accidents occur in weekdays than in weekends\n",
        "- High percentage of accidents occur between 6am to 10 am in Weekdays unlike Weekends ie 10am - 6pm\n",
        "- Increasing tread of accidents year over year.\n",
        "- Year 2020 has the highest number of accidents\n",
        "- Sep-Dec have highest accidents\n",
        "- Accidents in coastal regions are higher than land bounded regions"
      ]
    },
    {
      "cell_type": "code",
      "execution_count": null,
      "metadata": {
        "id": "jonX2DPLXNCE"
      },
      "outputs": [],
      "source": []
    }
  ],
  "metadata": {
    "kernelspec": {
      "display_name": "Python 3",
      "language": "python",
      "name": "python3"
    },
    "language_info": {
      "codemirror_mode": {
        "name": "ipython",
        "version": 3
      },
      "file_extension": ".py",
      "mimetype": "text/x-python",
      "name": "python",
      "nbconvert_exporter": "python",
      "pygments_lexer": "ipython3",
      "version": "3.8.5"
    },
    "colab": {
      "provenance": []
    }
  },
  "nbformat": 4,
  "nbformat_minor": 0
}