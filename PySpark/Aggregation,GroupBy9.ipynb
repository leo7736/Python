{
  "nbformat": 4,
  "nbformat_minor": 0,
  "metadata": {
    "colab": {
      "provenance": []
    },
    "kernelspec": {
      "name": "python3",
      "display_name": "Python 3"
    },
    "language_info": {
      "name": "python"
    }
  },
  "cells": [
    {
      "cell_type": "code",
      "execution_count": 8,
      "metadata": {
        "colab": {
          "base_uri": "https://localhost:8080/"
        },
        "id": "6BNM4o-nyA9Z",
        "outputId": "b141bf7f-9cae-4ab7-d5b1-0c6c92baf8f2"
      },
      "outputs": [
        {
          "output_type": "stream",
          "name": "stdout",
          "text": [
            "Requirement already satisfied: pyspark in /usr/local/lib/python3.10/dist-packages (3.5.0)\n",
            "Requirement already satisfied: py4j==0.10.9.7 in /usr/local/lib/python3.10/dist-packages (from pyspark) (0.10.9.7)\n"
          ]
        }
      ],
      "source": [
        "!pip install pyspark"
      ]
    },
    {
      "cell_type": "code",
      "source": [
        "from pyspark.sql import *\n",
        "from pyspark.sql.functions import *"
      ],
      "metadata": {
        "id": "d7cAy_FdyD7b"
      },
      "execution_count": 9,
      "outputs": []
    },
    {
      "cell_type": "code",
      "source": [
        "spark=SparkSession.builder.appName(\"Test\").getOrCreate()"
      ],
      "metadata": {
        "id": "DdIDFWxOyYiB"
      },
      "execution_count": 10,
      "outputs": []
    },
    {
      "cell_type": "code",
      "source": [
        "df= spark.read.csv(\"/content/EmpStatus.csv\",header=True,inferSchema=True)\n",
        "df.show()"
      ],
      "metadata": {
        "colab": {
          "base_uri": "https://localhost:8080/"
        },
        "id": "_Ep-HjrJyZcb",
        "outputId": "71aab1e9-dabd-4eb7-85e1-ea49f61b6eff"
      },
      "execution_count": 11,
      "outputs": [
        {
          "output_type": "stream",
          "name": "stdout",
          "text": [
            "+---+---------+-----------------+---------+--------------------+----------------+---------+--------------+-------------+--------------+-----------------------+------+----------+--------------+--------+--------------------+---------------+-------------+-------------+-----------+------------------+------+--------+-----------------+-----------------+------------------------+-------------+----------------+-----------------+---------------------+---------------+--------------+------------------+-----------------------+--------------------+\n",
            "|Age|Attrition|   BusinessTravel|DailyRate|          Department|DistanceFromHome|Education|EducationField|EmployeeCount|EmployeeNumber|EnvironmentSatisfaction|Gender|HourlyRate|JobInvolvement|JobLevel|             JobRole|JobSatisfaction|MaritalStatus|MonthlyIncome|MonthlyRate|NumCompaniesWorked|Over18|OverTime|PercentSalaryHike|PerformanceRating|RelationshipSatisfaction|StandardHours|StockOptionLevel|TotalWorkingYears|TrainingTimesLastYear|WorkLifeBalance|YearsAtCompany|YearsInCurrentRole|YearsSinceLastPromotion|YearsWithCurrManager|\n",
            "+---+---------+-----------------+---------+--------------------+----------------+---------+--------------+-------------+--------------+-----------------------+------+----------+--------------+--------+--------------------+---------------+-------------+-------------+-----------+------------------+------+--------+-----------------+-----------------+------------------------+-------------+----------------+-----------------+---------------------+---------------+--------------+------------------+-----------------------+--------------------+\n",
            "| 41|      Yes|    Travel_Rarely|     1102|               Sales|               1|        2| Life Sciences|            1|             1|                      2|Female|        94|             3|       2|     Sales Executive|              4|       Single|         5993|      19479|                 8|     Y|     Yes|               11|                3|                       1|           80|               0|                8|                    0|              1|             6|                 4|                      0|                   5|\n",
            "| 49|       No|Travel_Frequently|      279|Research & Develo...|               8|        1| Life Sciences|            1|             2|                      3|  Male|        61|             2|       2|  Research Scientist|              2|      Married|         5130|      24907|                 1|     Y|      No|               23|                4|                       4|           80|               1|               10|                    3|              3|            10|                 7|                      1|                   7|\n",
            "| 37|      Yes|    Travel_Rarely|     1373|Research & Develo...|               2|        2|         Other|            1|             4|                      4|  Male|        92|             2|       1|Laboratory Techni...|              3|       Single|         2090|       2396|                 6|     Y|     Yes|               15|                3|                       2|           80|               0|                7|                    3|              3|             0|                 0|                      0|                   0|\n",
            "| 33|       No|Travel_Frequently|     1392|Research & Develo...|               3|        4| Life Sciences|            1|             5|                      4|Female|        56|             3|       1|  Research Scientist|              3|      Married|         2909|      23159|                 1|     Y|     Yes|               11|                3|                       3|           80|               0|                8|                    3|              3|             8|                 7|                      3|                   0|\n",
            "| 27|       No|    Travel_Rarely|      591|Research & Develo...|               2|        1|       Medical|            1|             7|                      1|  Male|        40|             3|       1|Laboratory Techni...|              2|      Married|         3468|      16632|                 9|     Y|      No|               12|                3|                       4|           80|               1|                6|                    3|              3|             2|                 2|                      2|                   2|\n",
            "| 32|       No|Travel_Frequently|     1005|Research & Develo...|               2|        2| Life Sciences|            1|             8|                      4|  Male|        79|             3|       1|Laboratory Techni...|              4|       Single|         3068|      11864|                 0|     Y|      No|               13|                3|                       3|           80|               0|                8|                    2|              2|             7|                 7|                      3|                   6|\n",
            "| 59|       No|    Travel_Rarely|     1324|Research & Develo...|               3|        3|       Medical|            1|            10|                      3|Female|        81|             4|       1|Laboratory Techni...|              1|      Married|         2670|       9964|                 4|     Y|     Yes|               20|                4|                       1|           80|               3|               12|                    3|              2|             1|                 0|                      0|                   0|\n",
            "| 30|       No|    Travel_Rarely|     1358|Research & Develo...|              24|        1| Life Sciences|            1|            11|                      4|  Male|        67|             3|       1|Laboratory Techni...|              3|     Divorced|         2693|      13335|                 1|     Y|      No|               22|                4|                       2|           80|               1|                1|                    2|              3|             1|                 0|                      0|                   0|\n",
            "| 38|       No|Travel_Frequently|      216|Research & Develo...|              23|        3| Life Sciences|            1|            12|                      4|  Male|        44|             2|       3|Manufacturing Dir...|              3|       Single|         9526|       8787|                 0|     Y|      No|               21|                4|                       2|           80|               0|               10|                    2|              3|             9|                 7|                      1|                   8|\n",
            "| 36|       No|    Travel_Rarely|     1299|Research & Develo...|              27|        3|       Medical|            1|            13|                      3|  Male|        94|             3|       2|Healthcare Repres...|              3|      Married|         5237|      16577|                 6|     Y|      No|               13|                3|                       2|           80|               2|               17|                    3|              2|             7|                 7|                      7|                   7|\n",
            "| 35|       No|    Travel_Rarely|      809|Research & Develo...|              16|        3|       Medical|            1|            14|                      1|  Male|        84|             4|       1|Laboratory Techni...|              2|      Married|         2426|      16479|                 0|     Y|      No|               13|                3|                       3|           80|               1|                6|                    5|              3|             5|                 4|                      0|                   3|\n",
            "| 29|       No|    Travel_Rarely|      153|Research & Develo...|              15|        2| Life Sciences|            1|            15|                      4|Female|        49|             2|       2|Laboratory Techni...|              3|       Single|         4193|      12682|                 0|     Y|     Yes|               12|                3|                       4|           80|               0|               10|                    3|              3|             9|                 5|                      0|                   8|\n",
            "| 31|       No|    Travel_Rarely|      670|Research & Develo...|              26|        1| Life Sciences|            1|            16|                      1|  Male|        31|             3|       1|  Research Scientist|              3|     Divorced|         2911|      15170|                 1|     Y|      No|               17|                3|                       4|           80|               1|                5|                    1|              2|             5|                 2|                      4|                   3|\n",
            "| 34|       No|    Travel_Rarely|     1346|Research & Develo...|              19|        2|       Medical|            1|            18|                      2|  Male|        93|             3|       1|Laboratory Techni...|              4|     Divorced|         2661|       8758|                 0|     Y|      No|               11|                3|                       3|           80|               1|                3|                    2|              3|             2|                 2|                      1|                   2|\n",
            "| 28|      Yes|    Travel_Rarely|      103|Research & Develo...|              24|        3| Life Sciences|            1|            19|                      3|  Male|        50|             2|       1|Laboratory Techni...|              3|       Single|         2028|      12947|                 5|     Y|     Yes|               14|                3|                       2|           80|               0|                6|                    4|              3|             4|                 2|                      0|                   3|\n",
            "| 29|       No|    Travel_Rarely|     1389|Research & Develo...|              21|        4| Life Sciences|            1|            20|                      2|Female|        51|             4|       3|Manufacturing Dir...|              1|     Divorced|         9980|      10195|                 1|     Y|      No|               11|                3|                       3|           80|               1|               10|                    1|              3|            10|                 9|                      8|                   8|\n",
            "| 32|       No|    Travel_Rarely|      334|Research & Develo...|               5|        2| Life Sciences|            1|            21|                      1|  Male|        80|             4|       1|  Research Scientist|              2|     Divorced|         3298|      15053|                 0|     Y|     Yes|               12|                3|                       4|           80|               2|                7|                    5|              2|             6|                 2|                      0|                   5|\n",
            "| 22|       No|       Non-Travel|     1123|Research & Develo...|              16|        2|       Medical|            1|            22|                      4|  Male|        96|             4|       1|Laboratory Techni...|              4|     Divorced|         2935|       7324|                 1|     Y|     Yes|               13|                3|                       2|           80|               2|                1|                    2|              2|             1|                 0|                      0|                   0|\n",
            "| 53|       No|    Travel_Rarely|     1219|               Sales|               2|        4| Life Sciences|            1|            23|                      1|Female|        78|             2|       4|             Manager|              4|      Married|        15427|      22021|                 2|     Y|      No|               16|                3|                       3|           80|               0|               31|                    3|              3|            25|                 8|                      3|                   7|\n",
            "| 38|       No|    Travel_Rarely|      371|Research & Develo...|               2|        3| Life Sciences|            1|            24|                      4|  Male|        45|             3|       1|  Research Scientist|              4|       Single|         3944|       4306|                 5|     Y|     Yes|               11|                3|                       3|           80|               0|                6|                    3|              3|             3|                 2|                      1|                   2|\n",
            "+---+---------+-----------------+---------+--------------------+----------------+---------+--------------+-------------+--------------+-----------------------+------+----------+--------------+--------+--------------------+---------------+-------------+-------------+-----------+------------------+------+--------+-----------------+-----------------+------------------------+-------------+----------------+-----------------+---------------------+---------------+--------------+------------------+-----------------------+--------------------+\n",
            "only showing top 20 rows\n",
            "\n"
          ]
        }
      ]
    },
    {
      "cell_type": "code",
      "source": [
        "df.summary().show()"
      ],
      "metadata": {
        "colab": {
          "base_uri": "https://localhost:8080/"
        },
        "id": "Cr9dEoBOyxKE",
        "outputId": "abc1d26c-af14-4a41-d1c6-d17b6001a041"
      },
      "execution_count": 9,
      "outputs": [
        {
          "output_type": "stream",
          "name": "stdout",
          "text": [
            "+-------+------------------+---------+--------------+------------------+---------------+----------------+------------------+----------------+-------------+-----------------+-----------------------+------+------------------+------------------+------------------+--------------------+------------------+-------------+-----------------+------------------+------------------+------+--------+------------------+-------------------+------------------------+-------------+------------------+------------------+---------------------+------------------+------------------+------------------+-----------------------+--------------------+\n",
            "|summary|               Age|Attrition|BusinessTravel|         DailyRate|     Department|DistanceFromHome|         Education|  EducationField|EmployeeCount|   EmployeeNumber|EnvironmentSatisfaction|Gender|        HourlyRate|    JobInvolvement|          JobLevel|             JobRole|   JobSatisfaction|MaritalStatus|    MonthlyIncome|       MonthlyRate|NumCompaniesWorked|Over18|OverTime| PercentSalaryHike|  PerformanceRating|RelationshipSatisfaction|StandardHours|  StockOptionLevel| TotalWorkingYears|TrainingTimesLastYear|   WorkLifeBalance|    YearsAtCompany|YearsInCurrentRole|YearsSinceLastPromotion|YearsWithCurrManager|\n",
            "+-------+------------------+---------+--------------+------------------+---------------+----------------+------------------+----------------+-------------+-----------------+-----------------------+------+------------------+------------------+------------------+--------------------+------------------+-------------+-----------------+------------------+------------------+------+--------+------------------+-------------------+------------------------+-------------+------------------+------------------+---------------------+------------------+------------------+------------------+-----------------------+--------------------+\n",
            "|  count|              1470|     1470|          1470|              1470|           1470|            1470|              1470|            1470|         1470|             1470|                   1470|  1470|              1470|              1470|              1470|                1470|              1470|         1470|             1470|              1470|              1470|  1470|    1470|              1470|               1470|                    1470|         1470|              1470|              1470|                 1470|              1470|              1470|              1470|                   1470|                1470|\n",
            "|   mean|36.923809523809524|     NULL|          NULL| 802.4857142857143|           NULL|9.19251700680272| 2.912925170068027|            NULL|          1.0|1024.865306122449|      2.721768707482993|  NULL| 65.89115646258503|2.7299319727891156|2.0639455782312925|                NULL|2.7285714285714286|         NULL|6502.931292517007|14313.103401360544|2.6931972789115646|  NULL|    NULL|15.209523809523809| 3.1537414965986397|      2.7122448979591836|         80.0|0.7938775510204081|11.279591836734694|   2.7993197278911564|2.7612244897959184|7.0081632653061225| 4.229251700680272|     2.1877551020408164|    4.12312925170068|\n",
            "| stddev| 9.135373489136729|     NULL|          NULL|403.50909994352804|           NULL|8.10686443566608|1.0241649445978718|            NULL|          0.0|602.0243348474752|     1.0930822146350003|  NULL|20.329427593996176|0.7115611429632297|1.1069398989351202|                NULL|1.1028461230547213|         NULL|4707.956783097992| 7117.786044059972|2.4980090060707463|  NULL|    NULL|3.6599377165396385|0.36082352460434397|      1.0812088864403517|          0.0|0.8520766679308381| 7.780781675514995|   1.2892706207958466|0.7064758297141507| 6.126525152403571| 3.623137034670627|     3.2224302791379693|  3.5681361205404363|\n",
            "|    min|                18|       No|    Non-Travel|               102|Human Resources|               1|                 1| Human Resources|            1|                1|                      1|Female|                30|                 1|                 1|Healthcare Repres...|                 1|     Divorced|             1009|              2094|                 0|     Y|      No|                11|                  3|                       1|           80|                 0|                 0|                    0|                 1|                 0|                 0|                      0|                   0|\n",
            "|    25%|                30|     NULL|          NULL|               465|           NULL|               2|                 2|            NULL|            1|              491|                      2|  NULL|                48|                 2|                 1|                NULL|                 2|         NULL|             2911|              8045|                 1|  NULL|    NULL|                12|                  3|                       2|           80|                 0|                 6|                    2|                 2|                 3|                 2|                      0|                   2|\n",
            "|    50%|                36|     NULL|          NULL|               802|           NULL|               7|                 3|            NULL|            1|             1019|                      3|  NULL|                66|                 3|                 2|                NULL|                 3|         NULL|             4908|             14229|                 2|  NULL|    NULL|                14|                  3|                       3|           80|                 1|                10|                    3|                 3|                 5|                 3|                      1|                   3|\n",
            "|    75%|                43|     NULL|          NULL|              1157|           NULL|              14|                 4|            NULL|            1|             1556|                      4|  NULL|                84|                 3|                 3|                NULL|                 4|         NULL|             8380|             20462|                 4|  NULL|    NULL|                18|                  3|                       4|           80|                 1|                15|                    3|                 3|                 9|                 7|                      3|                   7|\n",
            "|    max|                60|      Yes| Travel_Rarely|              1499|          Sales|              29|                 5|Technical Degree|            1|             2068|                      4|  Male|               100|                 4|                 5|Sales Representative|                 4|       Single|            19999|             26999|                 9|     Y|     Yes|                25|                  4|                       4|           80|                 3|                40|                    6|                 4|                40|                18|                     15|                  17|\n",
            "+-------+------------------+---------+--------------+------------------+---------------+----------------+------------------+----------------+-------------+-----------------+-----------------------+------+------------------+------------------+------------------+--------------------+------------------+-------------+-----------------+------------------+------------------+------+--------+------------------+-------------------+------------------------+-------------+------------------+------------------+---------------------+------------------+------------------+------------------+-----------------------+--------------------+\n",
            "\n"
          ]
        }
      ]
    },
    {
      "cell_type": "code",
      "source": [
        "df.select(df.Age,df.DailyRate,df.MonthlyIncome).summary().show()"
      ],
      "metadata": {
        "colab": {
          "base_uri": "https://localhost:8080/"
        },
        "id": "Lpb7_pGDzzUf",
        "outputId": "ef0005e7-75b6-4b1a-ef2c-b3b708b14c8d"
      },
      "execution_count": 11,
      "outputs": [
        {
          "output_type": "stream",
          "name": "stdout",
          "text": [
            "+-------+------------------+------------------+-----------------+\n",
            "|summary|               Age|         DailyRate|    MonthlyIncome|\n",
            "+-------+------------------+------------------+-----------------+\n",
            "|  count|              1470|              1470|             1470|\n",
            "|   mean|36.923809523809524| 802.4857142857143|6502.931292517007|\n",
            "| stddev| 9.135373489136729|403.50909994352804|4707.956783097992|\n",
            "|    min|                18|               102|             1009|\n",
            "|    25%|                30|               465|             2911|\n",
            "|    50%|                36|               802|             4908|\n",
            "|    75%|                43|              1157|             8380|\n",
            "|    max|                60|              1499|            19999|\n",
            "+-------+------------------+------------------+-----------------+\n",
            "\n"
          ]
        }
      ]
    },
    {
      "cell_type": "code",
      "source": [
        "df.select(avg(df.MonthlyIncome)).show()"
      ],
      "metadata": {
        "colab": {
          "base_uri": "https://localhost:8080/"
        },
        "id": "Cbotemlt1QUB",
        "outputId": "fee608bf-cda3-4775-fe9c-7d7560eadc1a"
      },
      "execution_count": 12,
      "outputs": [
        {
          "output_type": "stream",
          "name": "stdout",
          "text": [
            "+------------------+\n",
            "|avg(MonthlyIncome)|\n",
            "+------------------+\n",
            "| 6502.931292517007|\n",
            "+------------------+\n",
            "\n"
          ]
        }
      ]
    },
    {
      "cell_type": "code",
      "source": [
        "df.select(round(avg(df.MonthlyIncome),2).alias(\"AvgMonthlyIncome\")).show()"
      ],
      "metadata": {
        "colab": {
          "base_uri": "https://localhost:8080/"
        },
        "id": "rxRln74Y1-t5",
        "outputId": "fe7c82c3-81b3-4488-ade3-95a13d376711"
      },
      "execution_count": 14,
      "outputs": [
        {
          "output_type": "stream",
          "name": "stdout",
          "text": [
            "+----------------+\n",
            "|AvgMonthlyIncome|\n",
            "+----------------+\n",
            "|         6502.93|\n",
            "+----------------+\n",
            "\n"
          ]
        }
      ]
    },
    {
      "cell_type": "code",
      "source": [
        "df.select(round(avg(df.MonthlyIncome),2).alias(\"AvgMonthlyIncome\"),max(df.MonthlyIncome),min(df.MonthlyIncome)).show()"
      ],
      "metadata": {
        "colab": {
          "base_uri": "https://localhost:8080/"
        },
        "id": "OlzGfjpR2Ggp",
        "outputId": "48647045-ee74-4c5c-8a4b-f8967a5e3627"
      },
      "execution_count": 15,
      "outputs": [
        {
          "output_type": "stream",
          "name": "stdout",
          "text": [
            "+----------------+------------------+------------------+\n",
            "|AvgMonthlyIncome|max(MonthlyIncome)|min(MonthlyIncome)|\n",
            "+----------------+------------------+------------------+\n",
            "|         6502.93|             19999|              1009|\n",
            "+----------------+------------------+------------------+\n",
            "\n"
          ]
        }
      ]
    },
    {
      "cell_type": "code",
      "source": [
        "df.select(sum(df.MonthlyIncome),sumDistinct(df.MonthlyIncome)).show()"
      ],
      "metadata": {
        "colab": {
          "base_uri": "https://localhost:8080/"
        },
        "id": "ExyNF6Ri2hWb",
        "outputId": "c6e46177-35fe-4604-b0df-09854153742e"
      },
      "execution_count": 16,
      "outputs": [
        {
          "output_type": "stream",
          "name": "stderr",
          "text": [
            "/usr/local/lib/python3.10/dist-packages/pyspark/sql/functions.py:988: FutureWarning: Deprecated in 3.2, use sum_distinct instead.\n",
            "  warnings.warn(\"Deprecated in 3.2, use sum_distinct instead.\", FutureWarning)\n"
          ]
        },
        {
          "output_type": "stream",
          "name": "stdout",
          "text": [
            "+------------------+---------------------------+\n",
            "|sum(MonthlyIncome)|sum(DISTINCT MonthlyIncome)|\n",
            "+------------------+---------------------------+\n",
            "|           9559309|                    9057813|\n",
            "+------------------+---------------------------+\n",
            "\n"
          ]
        }
      ]
    },
    {
      "cell_type": "code",
      "source": [
        "df.select(count(df.Age),countDistinct(df.Age)).show()"
      ],
      "metadata": {
        "colab": {
          "base_uri": "https://localhost:8080/"
        },
        "id": "jGOaPEkL4GEu",
        "outputId": "1bf52c9f-f804-4214-b8ea-5fc4d61cbb9e"
      },
      "execution_count": 18,
      "outputs": [
        {
          "output_type": "stream",
          "name": "stdout",
          "text": [
            "+----------+-------------------+\n",
            "|count(Age)|count(DISTINCT Age)|\n",
            "+----------+-------------------+\n",
            "|      1470|                 43|\n",
            "+----------+-------------------+\n",
            "\n"
          ]
        }
      ]
    },
    {
      "cell_type": "code",
      "source": [
        "df.sort(df.MonthlyIncome.asc()).show()"
      ],
      "metadata": {
        "colab": {
          "base_uri": "https://localhost:8080/"
        },
        "id": "Qrroc2AZ4vdV",
        "outputId": "21c6691c-fef8-4fa6-9f3e-23ee66325649"
      },
      "execution_count": 19,
      "outputs": [
        {
          "output_type": "stream",
          "name": "stdout",
          "text": [
            "+---+---------+-----------------+---------+--------------------+----------------+---------+----------------+-------------+--------------+-----------------------+------+----------+--------------+--------+--------------------+---------------+-------------+-------------+-----------+------------------+------+--------+-----------------+-----------------+------------------------+-------------+----------------+-----------------+---------------------+---------------+--------------+------------------+-----------------------+--------------------+\n",
            "|Age|Attrition|   BusinessTravel|DailyRate|          Department|DistanceFromHome|Education|  EducationField|EmployeeCount|EmployeeNumber|EnvironmentSatisfaction|Gender|HourlyRate|JobInvolvement|JobLevel|             JobRole|JobSatisfaction|MaritalStatus|MonthlyIncome|MonthlyRate|NumCompaniesWorked|Over18|OverTime|PercentSalaryHike|PerformanceRating|RelationshipSatisfaction|StandardHours|StockOptionLevel|TotalWorkingYears|TrainingTimesLastYear|WorkLifeBalance|YearsAtCompany|YearsInCurrentRole|YearsSinceLastPromotion|YearsWithCurrManager|\n",
            "+---+---------+-----------------+---------+--------------------+----------------+---------+----------------+-------------+--------------+-----------------------+------+----------+--------------+--------+--------------------+---------------+-------------+-------------+-----------+------------------+------+--------+-----------------+-----------------+------------------------+-------------+----------------+-----------------+---------------------+---------------+--------------+------------------+-----------------------+--------------------+\n",
            "| 20|      Yes|    Travel_Rarely|     1362|Research & Develo...|              10|        1|         Medical|            1|           701|                      4|  Male|        32|             3|       1|  Research Scientist|              3|       Single|         1009|      26999|                 1|     Y|     Yes|               11|                3|                       4|           80|               0|                1|                    5|              3|             1|                 0|                      1|                   1|\n",
            "| 18|       No|       Non-Travel|      287|Research & Develo...|               5|        2|   Life Sciences|            1|          1012|                      2|  Male|        73|             3|       1|  Research Scientist|              4|       Single|         1051|      13493|                 1|     Y|      No|               15|                3|                       4|           80|               0|                0|                    2|              3|             0|                 0|                      0|                   0|\n",
            "| 28|       No|    Travel_Rarely|     1144|               Sales|              10|        1|         Medical|            1|          1056|                      4|  Male|        74|             3|       1|Sales Representative|              2|      Married|         1052|      23384|                 1|     Y|      No|               22|                4|                       2|           80|               0|                1|                    5|              3|             1|                 0|                      0|                   0|\n",
            "| 30|      Yes|    Travel_Rarely|      945|               Sales|               9|        3|         Medical|            1|          1876|                      2|  Male|        89|             3|       1|Sales Representative|              4|       Single|         1081|      16019|                 1|     Y|      No|               13|                3|                       3|           80|               0|                1|                    3|              2|             1|                 0|                      0|                   0|\n",
            "| 29|      Yes|Travel_Frequently|      746|               Sales|              24|        3|Technical Degree|            1|          1928|                      3|  Male|        45|             4|       1|Sales Representative|              1|       Single|         1091|      10642|                 1|     Y|      No|               17|                3|                       4|           80|               0|                1|                    3|              3|             1|                 0|                      0|                   0|\n",
            "| 19|      Yes|    Travel_Rarely|      303|Research & Develo...|               2|        3|   Life Sciences|            1|           243|                      2|  Male|        47|             2|       1|Laboratory Techni...|              4|       Single|         1102|       9241|                 1|     Y|      No|               22|                4|                       3|           80|               0|                1|                    3|              2|             1|                 0|                      1|                   0|\n",
            "| 25|      Yes|Travel_Frequently|      599|               Sales|              24|        1|   Life Sciences|            1|          1273|                      3|  Male|        73|             1|       1|Sales Representative|              4|       Single|         1118|       8040|                 1|     Y|     Yes|               14|                3|                       4|           80|               0|                1|                    4|              3|             1|                 0|                      1|                   0|\n",
            "| 31|       No|    Travel_Rarely|     1276|Research & Develo...|               2|        1|         Medical|            1|          1974|                      4|Female|        59|             1|       1|Laboratory Techni...|              4|     Divorced|         1129|      17536|                 1|     Y|     Yes|               11|                3|                       3|           80|               3|                1|                    4|              3|             1|                 0|                      0|                   0|\n",
            "| 18|       No|    Travel_Rarely|      812|               Sales|              10|        3|         Medical|            1|           411|                      4|Female|        69|             2|       1|Sales Representative|              3|       Single|         1200|       9724|                 1|     Y|      No|               12|                3|                       1|           80|               0|                0|                    2|              3|             0|                 0|                      0|                   0|\n",
            "| 23|       No|    Travel_Rarely|      373|Research & Develo...|               1|        2|   Life Sciences|            1|          1270|                      4|  Male|        47|             3|       1|  Research Scientist|              3|      Married|         1223|      16901|                 1|     Y|      No|               22|                4|                       4|           80|               1|                1|                    2|              3|             1|                 0|                      0|                   1|\n",
            "| 21|       No|    Travel_Rarely|      391|Research & Develo...|              15|        2|   Life Sciences|            1|            30|                      3|  Male|        96|             3|       1|  Research Scientist|              4|       Single|         1232|      19281|                 1|     Y|      No|               14|                3|                       4|           80|               0|                0|                    6|              3|             0|                 0|                      0|                   0|\n",
            "| 31|      Yes|    Travel_Rarely|      202|Research & Develo...|               8|        3|   Life Sciences|            1|          1433|                      1|Female|        34|             2|       1|  Research Scientist|              2|       Single|         1261|      22262|                 1|     Y|      No|               12|                3|                       3|           80|               0|                1|                    3|              4|             1|                 0|                      0|                   0|\n",
            "| 30|       No|       Non-Travel|      990|Research & Develo...|               7|        3|Technical Degree|            1|          1482|                      3|  Male|        64|             3|       1|  Research Scientist|              3|     Divorced|         1274|       7152|                 1|     Y|      No|               13|                3|                       2|           80|               2|                1|                    2|              2|             1|                 0|                      0|                   0|\n",
            "| 35|       No|       Non-Travel|      727|Research & Develo...|               3|        3|   Life Sciences|            1|           704|                      3|  Male|        41|             2|       1|Laboratory Techni...|              3|      Married|         1281|      16900|                 1|     Y|      No|               18|                3|                       3|           80|               2|                1|                    3|              3|             1|                 0|                      0|                   0|\n",
            "| 31|      Yes|Travel_Frequently|      667|               Sales|               1|        4|   Life Sciences|            1|          1427|                      2|Female|        50|             1|       1|Sales Representative|              3|       Single|         1359|      16154|                 1|     Y|      No|               12|                3|                       2|           80|               0|                1|                    3|              3|             1|                 0|                      0|                   0|\n",
            "| 32|      Yes|    Travel_Rarely|     1259|Research & Develo...|               2|        4|   Life Sciences|            1|          1692|                      4|  Male|        95|             3|       1|Laboratory Techni...|              2|       Single|         1393|      24852|                 1|     Y|      No|               12|                3|                       1|           80|               0|                1|                    2|              3|             1|                 0|                      0|                   0|\n",
            "| 21|      Yes|    Travel_Rarely|     1334|Research & Develo...|              10|        3|   Life Sciences|            1|          1079|                      3|Female|        36|             2|       1|Laboratory Techni...|              1|       Single|         1416|      17258|                 1|     Y|      No|               13|                3|                       1|           80|               0|                1|                    6|              2|             1|                 0|                      1|                   0|\n",
            "| 18|      Yes|    Travel_Rarely|      230|Research & Develo...|               3|        3|   Life Sciences|            1|           405|                      3|  Male|        54|             3|       1|Laboratory Techni...|              3|       Single|         1420|      25233|                 1|     Y|      No|               13|                3|                       3|           80|               0|                0|                    2|              3|             0|                 0|                      0|                   0|\n",
            "| 19|       No|    Travel_Rarely|     1181|Research & Develo...|               3|        1|         Medical|            1|           201|                      2|Female|        79|             3|       1|Laboratory Techni...|              2|       Single|         1483|      16102|                 1|     Y|      No|               14|                3|                       4|           80|               0|                1|                    3|              3|             1|                 0|                      0|                   0|\n",
            "| 18|       No|       Non-Travel|     1431|Research & Develo...|              14|        3|         Medical|            1|          1839|                      2|Female|        33|             3|       1|  Research Scientist|              3|       Single|         1514|       8018|                 1|     Y|      No|               16|                3|                       3|           80|               0|                0|                    4|              1|             0|                 0|                      0|                   0|\n",
            "+---+---------+-----------------+---------+--------------------+----------------+---------+----------------+-------------+--------------+-----------------------+------+----------+--------------+--------+--------------------+---------------+-------------+-------------+-----------+------------------+------+--------+-----------------+-----------------+------------------------+-------------+----------------+-----------------+---------------------+---------------+--------------+------------------+-----------------------+--------------------+\n",
            "only showing top 20 rows\n",
            "\n"
          ]
        }
      ]
    },
    {
      "cell_type": "code",
      "source": [
        "#First() function gives the first value in the given column\n",
        "df.sort(df.MonthlyIncome.asc()).select(first(df.MonthlyIncome)).show()"
      ],
      "metadata": {
        "colab": {
          "base_uri": "https://localhost:8080/"
        },
        "id": "-MtgrIUm5-s0",
        "outputId": "8bd18e22-bbea-45b9-ba9a-4597b02dd231"
      },
      "execution_count": 20,
      "outputs": [
        {
          "output_type": "stream",
          "name": "stdout",
          "text": [
            "+--------------------+\n",
            "|first(MonthlyIncome)|\n",
            "+--------------------+\n",
            "|                1009|\n",
            "+--------------------+\n",
            "\n"
          ]
        }
      ]
    },
    {
      "cell_type": "code",
      "source": [
        "#Last() function gives the last value in the given column\n",
        "df.sort(df.MonthlyIncome.asc()).select(last(df.MonthlyIncome)).show(truncate = False)"
      ],
      "metadata": {
        "colab": {
          "base_uri": "https://localhost:8080/"
        },
        "id": "TzE5o8M46Vxl",
        "outputId": "27454a30-dfc2-47ec-fae8-0bd6a02194e5"
      },
      "execution_count": 26,
      "outputs": [
        {
          "output_type": "stream",
          "name": "stdout",
          "text": [
            "+-------------------+\n",
            "|last(MonthlyIncome)|\n",
            "+-------------------+\n",
            "|19999              |\n",
            "+-------------------+\n",
            "\n"
          ]
        }
      ]
    },
    {
      "cell_type": "code",
      "source": [
        "df.select(collect_list(df.MonthlyIncome).alias(\"list\"),collect_set(df.MonthlyIncome).alias(\"set\")).show()"
      ],
      "metadata": {
        "colab": {
          "base_uri": "https://localhost:8080/"
        },
        "id": "-1r7GACx6yAp",
        "outputId": "5a94c2a8-2421-440f-d0ea-07e892d46b39"
      },
      "execution_count": 27,
      "outputs": [
        {
          "output_type": "stream",
          "name": "stdout",
          "text": [
            "+--------------------+--------------------+\n",
            "|                list|                 set|\n",
            "+--------------------+--------------------+\n",
            "|[5993, 5130, 2090...|[2207, 2644, 2157...|\n",
            "+--------------------+--------------------+\n",
            "\n"
          ]
        }
      ]
    },
    {
      "cell_type": "code",
      "source": [
        "df1=df.select(df.Age,df.Gender,df.JobRole,df.MonthlyIncome)\n",
        "df1.show()"
      ],
      "metadata": {
        "colab": {
          "base_uri": "https://localhost:8080/"
        },
        "id": "ReD4u0m-98FA",
        "outputId": "b8beb667-106a-4e16-901f-2cdd3aa8adb8"
      },
      "execution_count": 12,
      "outputs": [
        {
          "output_type": "stream",
          "name": "stdout",
          "text": [
            "+---+------+--------------------+-------------+\n",
            "|Age|Gender|             JobRole|MonthlyIncome|\n",
            "+---+------+--------------------+-------------+\n",
            "| 41|Female|     Sales Executive|         5993|\n",
            "| 49|  Male|  Research Scientist|         5130|\n",
            "| 37|  Male|Laboratory Techni...|         2090|\n",
            "| 33|Female|  Research Scientist|         2909|\n",
            "| 27|  Male|Laboratory Techni...|         3468|\n",
            "| 32|  Male|Laboratory Techni...|         3068|\n",
            "| 59|Female|Laboratory Techni...|         2670|\n",
            "| 30|  Male|Laboratory Techni...|         2693|\n",
            "| 38|  Male|Manufacturing Dir...|         9526|\n",
            "| 36|  Male|Healthcare Repres...|         5237|\n",
            "| 35|  Male|Laboratory Techni...|         2426|\n",
            "| 29|Female|Laboratory Techni...|         4193|\n",
            "| 31|  Male|  Research Scientist|         2911|\n",
            "| 34|  Male|Laboratory Techni...|         2661|\n",
            "| 28|  Male|Laboratory Techni...|         2028|\n",
            "| 29|Female|Manufacturing Dir...|         9980|\n",
            "| 32|  Male|  Research Scientist|         3298|\n",
            "| 22|  Male|Laboratory Techni...|         2935|\n",
            "| 53|Female|             Manager|        15427|\n",
            "| 38|  Male|  Research Scientist|         3944|\n",
            "+---+------+--------------------+-------------+\n",
            "only showing top 20 rows\n",
            "\n"
          ]
        }
      ]
    },
    {
      "cell_type": "code",
      "source": [
        "df1.groupBy(df1.JobRole).avg(\"MonthlyIncome\").show()"
      ],
      "metadata": {
        "colab": {
          "base_uri": "https://localhost:8080/"
        },
        "id": "WI9bL73KX3JG",
        "outputId": "ffa1afeb-d6c7-45bb-c7c0-71efeb79c4c4"
      },
      "execution_count": 19,
      "outputs": [
        {
          "output_type": "stream",
          "name": "stdout",
          "text": [
            "+--------------------+------------------+\n",
            "|             JobRole|avg(MonthlyIncome)|\n",
            "+--------------------+------------------+\n",
            "|     Sales Executive|6924.2791411042945|\n",
            "|Manufacturing Dir...| 7295.137931034483|\n",
            "|Laboratory Techni...| 3237.169884169884|\n",
            "|Sales Representative|            2626.0|\n",
            "|Healthcare Repres...| 7528.763358778626|\n",
            "|  Research Scientist| 3239.972602739726|\n",
            "|             Manager|17181.676470588234|\n",
            "|   Research Director|          16033.55|\n",
            "|     Human Resources|           4235.75|\n",
            "+--------------------+------------------+\n",
            "\n"
          ]
        }
      ]
    },
    {
      "cell_type": "code",
      "source": [
        "df1.groupBy(df1.JobRole).avg(\"MonthlyIncome\").show()"
      ],
      "metadata": {
        "colab": {
          "base_uri": "https://localhost:8080/"
        },
        "id": "Wrhq5saxzBe8",
        "outputId": "5c550363-1b00-4872-c391-9534cd2b0e74"
      },
      "execution_count": 21,
      "outputs": [
        {
          "output_type": "stream",
          "name": "stdout",
          "text": [
            "+--------------------+------------------+\n",
            "|             JobRole|avg(MonthlyIncome)|\n",
            "+--------------------+------------------+\n",
            "|     Sales Executive|6924.2791411042945|\n",
            "|Manufacturing Dir...| 7295.137931034483|\n",
            "|Laboratory Techni...| 3237.169884169884|\n",
            "|Sales Representative|            2626.0|\n",
            "|Healthcare Repres...| 7528.763358778626|\n",
            "|  Research Scientist| 3239.972602739726|\n",
            "|             Manager|17181.676470588234|\n",
            "|   Research Director|          16033.55|\n",
            "|     Human Resources|           4235.75|\n",
            "+--------------------+------------------+\n",
            "\n"
          ]
        }
      ]
    },
    {
      "cell_type": "code",
      "source": [
        "help(avg)"
      ],
      "metadata": {
        "colab": {
          "base_uri": "https://localhost:8080/"
        },
        "id": "lryouFNIzxHQ",
        "outputId": "22284b4a-2118-40f3-8397-71dd0e2f0bec"
      },
      "execution_count": 24,
      "outputs": [
        {
          "output_type": "stream",
          "name": "stdout",
          "text": [
            "Help on function avg in module pyspark.sql.functions:\n",
            "\n",
            "avg(col: 'ColumnOrName') -> pyspark.sql.column.Column\n",
            "    Aggregate function: returns the average of the values in a group.\n",
            "    \n",
            "    .. versionadded:: 1.3.0\n",
            "    \n",
            "    .. versionchanged:: 3.4.0\n",
            "        Supports Spark Connect.\n",
            "    \n",
            "    Parameters\n",
            "    ----------\n",
            "    col : :class:`~pyspark.sql.Column` or str\n",
            "        target column to compute on.\n",
            "    \n",
            "    Returns\n",
            "    -------\n",
            "    :class:`~pyspark.sql.Column`\n",
            "        the column for computed results.\n",
            "    \n",
            "    Examples\n",
            "    --------\n",
            "    >>> df = spark.range(10)\n",
            "    >>> df.select(avg(col(\"id\"))).show()\n",
            "    +-------+\n",
            "    |avg(id)|\n",
            "    +-------+\n",
            "    |    4.5|\n",
            "    +-------+\n",
            "\n"
          ]
        }
      ]
    },
    {
      "cell_type": "code",
      "source": [
        "df1.groupBy(df1.Gender).sum(\"MonthlyIncome\").show()"
      ],
      "metadata": {
        "colab": {
          "base_uri": "https://localhost:8080/"
        },
        "id": "QOA38Jb9z3uo",
        "outputId": "7f19b941-48f2-46f7-9788-9e11e44e3522"
      },
      "execution_count": 26,
      "outputs": [
        {
          "output_type": "stream",
          "name": "stdout",
          "text": [
            "+------+------------------+\n",
            "|Gender|sum(MonthlyIncome)|\n",
            "+------+------------------+\n",
            "|Female|           3931701|\n",
            "|  Male|           5627608|\n",
            "+------+------------------+\n",
            "\n"
          ]
        }
      ]
    },
    {
      "cell_type": "code",
      "source": [
        "df1.groupBy(df1.JobRole,df1.Gender).min(\"MonthlyIncome\",\"Age\").show()"
      ],
      "metadata": {
        "colab": {
          "base_uri": "https://localhost:8080/"
        },
        "id": "RrRKooAl0PJV",
        "outputId": "dc150c0d-be2c-4c54-bd78-e8fc2b7e4df6"
      },
      "execution_count": 27,
      "outputs": [
        {
          "output_type": "stream",
          "name": "stdout",
          "text": [
            "+--------------------+------+------------------+--------+\n",
            "|             JobRole|Gender|min(MonthlyIncome)|min(Age)|\n",
            "+--------------------+------+------------------+--------+\n",
            "|     Sales Executive|  Male|              4001|      25|\n",
            "|Healthcare Repres...|Female|              4014|      27|\n",
            "|Manufacturing Dir...|  Male|              4033|      22|\n",
            "|Healthcare Repres...|  Male|              4000|      24|\n",
            "|   Research Director|Female|             11031|      29|\n",
            "|Sales Representative|Female|              1200|      18|\n",
            "|Laboratory Techni...|  Male|              1102|      18|\n",
            "|   Research Director|  Male|             11510|      27|\n",
            "|  Research Scientist|Female|              1261|      18|\n",
            "|Sales Representative|  Male|              1052|      18|\n",
            "|Manufacturing Dir...|Female|              4011|      22|\n",
            "|     Human Resources|Female|              2109|      25|\n",
            "|Laboratory Techni...|Female|              1129|      18|\n",
            "|             Manager|Female|             11631|      30|\n",
            "|  Research Scientist|  Male|              1009|      18|\n",
            "|             Manager|  Male|             11244|      31|\n",
            "|     Human Resources|  Male|              1555|      19|\n",
            "|     Sales Executive|Female|              4028|      24|\n",
            "+--------------------+------+------------------+--------+\n",
            "\n"
          ]
        }
      ]
    },
    {
      "cell_type": "code",
      "source": [
        "#Using Agg( ) multiple aggregation is possible"
      ],
      "metadata": {
        "id": "faUu6TbE0vIl"
      },
      "execution_count": 28,
      "outputs": []
    },
    {
      "cell_type": "code",
      "source": [
        "df1.groupBy(df1.Gender).agg(min(\"MonthlyIncome\"),max('MonthlyIncome'),avg(\"MonthlyIncome\")).show()"
      ],
      "metadata": {
        "colab": {
          "base_uri": "https://localhost:8080/"
        },
        "id": "CG3jMm5B1ITe",
        "outputId": "e4e135ff-1b10-49a6-926e-41b5e760f1d8"
      },
      "execution_count": 30,
      "outputs": [
        {
          "output_type": "stream",
          "name": "stdout",
          "text": [
            "+------+------------------+------------------+------------------+\n",
            "|Gender|min(MonthlyIncome)|max(MonthlyIncome)|avg(MonthlyIncome)|\n",
            "+------+------------------+------------------+------------------+\n",
            "|Female|              1129|             19973| 6686.566326530612|\n",
            "|  Male|              1009|             19999| 6380.507936507936|\n",
            "+------+------------------+------------------+------------------+\n",
            "\n"
          ]
        }
      ]
    },
    {
      "cell_type": "code",
      "source": [
        "#if we want to apply filter before grouping we use where() condition"
      ],
      "metadata": {
        "id": "e6PFOjrx1wa6"
      },
      "execution_count": 32,
      "outputs": []
    },
    {
      "cell_type": "code",
      "source": [
        "df1.groupBy(df1.Gender).agg(min(\"MonthlyIncome\").alias(\"MinSal\"),max('MonthlyIncome'),avg(\"MonthlyIncome\")).where(col(\"MinSal\") > 0).show()"
      ],
      "metadata": {
        "colab": {
          "base_uri": "https://localhost:8080/"
        },
        "id": "WJ6AeRlH2XBI",
        "outputId": "78cdbdc3-8380-4b45-e0e3-7224147f80a0"
      },
      "execution_count": 38,
      "outputs": [
        {
          "output_type": "stream",
          "name": "stdout",
          "text": [
            "+------+------+------------------+------------------+\n",
            "|Gender|MinSal|max(MonthlyIncome)|avg(MonthlyIncome)|\n",
            "+------+------+------------------+------------------+\n",
            "|Female|  1129|             19973| 6686.566326530612|\n",
            "|  Male|  1009|             19999| 6380.507936507936|\n",
            "+------+------+------------------+------------------+\n",
            "\n"
          ]
        }
      ]
    },
    {
      "cell_type": "code",
      "source": [
        "df1.groupBy(df1.Gender).agg(min(\"MonthlyIncome\").alias(\"MinSal\"),max('MonthlyIncome'),avg(\"MonthlyIncome\")).where(col(\"MinSal\") > 1100).show()"
      ],
      "metadata": {
        "colab": {
          "base_uri": "https://localhost:8080/"
        },
        "id": "l1ZVZvYB6ccn",
        "outputId": "d162d2ec-2972-43b2-a9da-7c215b3aafad"
      },
      "execution_count": 39,
      "outputs": [
        {
          "output_type": "stream",
          "name": "stdout",
          "text": [
            "+------+------+------------------+------------------+\n",
            "|Gender|MinSal|max(MonthlyIncome)|avg(MonthlyIncome)|\n",
            "+------+------+------------------+------------------+\n",
            "|Female|  1129|             19973| 6686.566326530612|\n",
            "+------+------+------------------+------------------+\n",
            "\n"
          ]
        }
      ]
    },
    {
      "cell_type": "code",
      "source": [
        "df1.where((df1.Age < 35) & (df1.JobRole.isin(\"Manager\",\"Research Scientist\"))).groupBy(df1.Gender).agg(min(\"MonthlyIncome\"),max('MonthlyIncome'),avg(\"MonthlyIncome\")).show()"
      ],
      "metadata": {
        "colab": {
          "base_uri": "https://localhost:8080/"
        },
        "id": "MbiYViLc3hRN",
        "outputId": "35f2dcb4-772b-4ed1-d308-ce3a186d98b1"
      },
      "execution_count": 36,
      "outputs": [
        {
          "output_type": "stream",
          "name": "stdout",
          "text": [
            "+------+------------------+------------------+------------------+\n",
            "|Gender|min(MonthlyIncome)|max(MonthlyIncome)|avg(MonthlyIncome)|\n",
            "+------+------------------+------------------+------------------+\n",
            "|Female|              1261|             11916| 3499.173333333333|\n",
            "|  Male|              1009|             17444| 3261.896226415094|\n",
            "+------+------------------+------------------+------------------+\n",
            "\n"
          ]
        }
      ]
    },
    {
      "cell_type": "code",
      "source": [
        "df2 = df1.select(df1.JobRole,df1.Gender,df1.MonthlyIncome)\n",
        "df2.show()"
      ],
      "metadata": {
        "colab": {
          "base_uri": "https://localhost:8080/"
        },
        "id": "wEtythlY5ntc",
        "outputId": "460ba92f-1f9d-4165-fbf6-181cb8c8901c"
      },
      "execution_count": 42,
      "outputs": [
        {
          "output_type": "stream",
          "name": "stdout",
          "text": [
            "+--------------------+------+-------------+\n",
            "|             JobRole|Gender|MonthlyIncome|\n",
            "+--------------------+------+-------------+\n",
            "|     Sales Executive|Female|         5993|\n",
            "|  Research Scientist|  Male|         5130|\n",
            "|Laboratory Techni...|  Male|         2090|\n",
            "|  Research Scientist|Female|         2909|\n",
            "|Laboratory Techni...|  Male|         3468|\n",
            "|Laboratory Techni...|  Male|         3068|\n",
            "|Laboratory Techni...|Female|         2670|\n",
            "|Laboratory Techni...|  Male|         2693|\n",
            "|Manufacturing Dir...|  Male|         9526|\n",
            "|Healthcare Repres...|  Male|         5237|\n",
            "|Laboratory Techni...|  Male|         2426|\n",
            "|Laboratory Techni...|Female|         4193|\n",
            "|  Research Scientist|  Male|         2911|\n",
            "|Laboratory Techni...|  Male|         2661|\n",
            "|Laboratory Techni...|  Male|         2028|\n",
            "|Manufacturing Dir...|Female|         9980|\n",
            "|  Research Scientist|  Male|         3298|\n",
            "|Laboratory Techni...|  Male|         2935|\n",
            "|             Manager|Female|        15427|\n",
            "|  Research Scientist|  Male|         3944|\n",
            "+--------------------+------+-------------+\n",
            "only showing top 20 rows\n",
            "\n"
          ]
        }
      ]
    },
    {
      "cell_type": "code",
      "source": [
        "df2.groupBy(df2.JobRole,df2.Gender).sum(\"MonthlyIncome\").alias(\"Salary\").show()"
      ],
      "metadata": {
        "colab": {
          "base_uri": "https://localhost:8080/"
        },
        "id": "CiTPqq8-7d0h",
        "outputId": "f0334360-d38c-4ec7-a83d-52ee7b95a34b"
      },
      "execution_count": 45,
      "outputs": [
        {
          "output_type": "stream",
          "name": "stdout",
          "text": [
            "+--------------------+------+------------------+\n",
            "|             JobRole|Gender|sum(MonthlyIncome)|\n",
            "+--------------------+------+------------------+\n",
            "|     Sales Executive|  Male|           1364426|\n",
            "|Healthcare Repres...|Female|            379124|\n",
            "|Manufacturing Dir...|  Male|            524335|\n",
            "|Healthcare Repres...|  Male|            607144|\n",
            "|   Research Director|Female|            499768|\n",
            "|Sales Representative|Female|            101534|\n",
            "|Laboratory Techni...|  Male|            562440|\n",
            "|   Research Director|  Male|            782916|\n",
            "|  Research Scientist|Female|            381270|\n",
            "|Sales Representative|  Male|            116424|\n",
            "|Manufacturing Dir...|Female|            533460|\n",
            "|     Human Resources|Female|             72651|\n",
            "|Laboratory Techni...|Female|            275987|\n",
            "|             Manager|Female|            795018|\n",
            "|  Research Scientist|  Male|            564802|\n",
            "|             Manager|  Male|            957513|\n",
            "|     Human Resources|  Male|            147608|\n",
            "|     Sales Executive|Female|            892889|\n",
            "+--------------------+------+------------------+\n",
            "\n"
          ]
        }
      ]
    },
    {
      "cell_type": "code",
      "source": [
        "#pivoting in pyspark"
      ],
      "metadata": {
        "id": "nlcPe5UL_uA2"
      },
      "execution_count": 53,
      "outputs": []
    },
    {
      "cell_type": "code",
      "source": [
        "df3 = df2.groupBy(df2.JobRole,df2.Gender).sum(\"MonthlyIncome\").alias(\"Salary\")"
      ],
      "metadata": {
        "id": "QoRSlptS73xf"
      },
      "execution_count": 46,
      "outputs": []
    },
    {
      "cell_type": "code",
      "source": [
        "df3.show()"
      ],
      "metadata": {
        "colab": {
          "base_uri": "https://localhost:8080/"
        },
        "id": "rftI1eLI8W1r",
        "outputId": "d7398fd3-ba22-4736-9464-ff8b3c7e4a80"
      },
      "execution_count": 47,
      "outputs": [
        {
          "output_type": "stream",
          "name": "stdout",
          "text": [
            "+--------------------+------+------------------+\n",
            "|             JobRole|Gender|sum(MonthlyIncome)|\n",
            "+--------------------+------+------------------+\n",
            "|     Sales Executive|  Male|           1364426|\n",
            "|Healthcare Repres...|Female|            379124|\n",
            "|Manufacturing Dir...|  Male|            524335|\n",
            "|Healthcare Repres...|  Male|            607144|\n",
            "|   Research Director|Female|            499768|\n",
            "|Sales Representative|Female|            101534|\n",
            "|Laboratory Techni...|  Male|            562440|\n",
            "|   Research Director|  Male|            782916|\n",
            "|  Research Scientist|Female|            381270|\n",
            "|Sales Representative|  Male|            116424|\n",
            "|Manufacturing Dir...|Female|            533460|\n",
            "|     Human Resources|Female|             72651|\n",
            "|Laboratory Techni...|Female|            275987|\n",
            "|             Manager|Female|            795018|\n",
            "|  Research Scientist|  Male|            564802|\n",
            "|             Manager|  Male|            957513|\n",
            "|     Human Resources|  Male|            147608|\n",
            "|     Sales Executive|Female|            892889|\n",
            "+--------------------+------+------------------+\n",
            "\n"
          ]
        }
      ]
    },
    {
      "cell_type": "code",
      "source": [
        "df3.groupBy(df3.JobRole).pivot(\"Gender\").sum(\"sum(MonthlyIncome)\").show()"
      ],
      "metadata": {
        "colab": {
          "base_uri": "https://localhost:8080/"
        },
        "id": "wyHDqLBy8bAL",
        "outputId": "d7084e89-e991-41e2-d9b5-f403c6197e43"
      },
      "execution_count": 51,
      "outputs": [
        {
          "output_type": "stream",
          "name": "stdout",
          "text": [
            "+--------------------+------+-------+\n",
            "|             JobRole|Female|   Male|\n",
            "+--------------------+------+-------+\n",
            "|     Sales Executive|892889|1364426|\n",
            "|Manufacturing Dir...|533460| 524335|\n",
            "|Laboratory Techni...|275987| 562440|\n",
            "|Sales Representative|101534| 116424|\n",
            "|Healthcare Repres...|379124| 607144|\n",
            "|  Research Scientist|381270| 564802|\n",
            "|             Manager|795018| 957513|\n",
            "|   Research Director|499768| 782916|\n",
            "|     Human Resources| 72651| 147608|\n",
            "+--------------------+------+-------+\n",
            "\n"
          ]
        }
      ]
    },
    {
      "cell_type": "code",
      "source": [
        "#Pivoting in pysark"
      ],
      "metadata": {
        "id": "pgIj7-QJ861r"
      },
      "execution_count": 54,
      "outputs": []
    },
    {
      "cell_type": "code",
      "source": [
        "df4= df3.groupBy(df3.JobRole).pivot(\"Gender\").sum(\"sum(MonthlyIncome)\")\n",
        "df4.show()"
      ],
      "metadata": {
        "colab": {
          "base_uri": "https://localhost:8080/"
        },
        "id": "6u_P1VXO_2WI",
        "outputId": "139dfc27-b62b-48f2-fa07-b6aaef51d23f"
      },
      "execution_count": 56,
      "outputs": [
        {
          "output_type": "stream",
          "name": "stdout",
          "text": [
            "+--------------------+------+-------+\n",
            "|             JobRole|Female|   Male|\n",
            "+--------------------+------+-------+\n",
            "|     Sales Executive|892889|1364426|\n",
            "|Manufacturing Dir...|533460| 524335|\n",
            "|Laboratory Techni...|275987| 562440|\n",
            "|Sales Representative|101534| 116424|\n",
            "|Healthcare Repres...|379124| 607144|\n",
            "|  Research Scientist|381270| 564802|\n",
            "|             Manager|795018| 957513|\n",
            "|   Research Director|499768| 782916|\n",
            "|     Human Resources| 72651| 147608|\n",
            "+--------------------+------+-------+\n",
            "\n"
          ]
        }
      ]
    },
    {
      "cell_type": "code",
      "source": [
        "df4.unpivot(df4.JobRole,[\"Female\",\"Male\"],\"Gender\",\"Salary\").show()"
      ],
      "metadata": {
        "colab": {
          "base_uri": "https://localhost:8080/"
        },
        "id": "U3aUPRPJ_7V1",
        "outputId": "febfe875-f3cc-498b-a8a7-e1909ffa5be4"
      },
      "execution_count": 58,
      "outputs": [
        {
          "output_type": "stream",
          "name": "stdout",
          "text": [
            "+--------------------+------+-------+\n",
            "|             JobRole|Gender| Salary|\n",
            "+--------------------+------+-------+\n",
            "|     Sales Executive|Female| 892889|\n",
            "|     Sales Executive|  Male|1364426|\n",
            "|Manufacturing Dir...|Female| 533460|\n",
            "|Manufacturing Dir...|  Male| 524335|\n",
            "|Laboratory Techni...|Female| 275987|\n",
            "|Laboratory Techni...|  Male| 562440|\n",
            "|Sales Representative|Female| 101534|\n",
            "|Sales Representative|  Male| 116424|\n",
            "|Healthcare Repres...|Female| 379124|\n",
            "|Healthcare Repres...|  Male| 607144|\n",
            "|  Research Scientist|Female| 381270|\n",
            "|  Research Scientist|  Male| 564802|\n",
            "|             Manager|Female| 795018|\n",
            "|             Manager|  Male| 957513|\n",
            "|   Research Director|Female| 499768|\n",
            "|   Research Director|  Male| 782916|\n",
            "|     Human Resources|Female|  72651|\n",
            "|     Human Resources|  Male| 147608|\n",
            "+--------------------+------+-------+\n",
            "\n"
          ]
        }
      ]
    },
    {
      "cell_type": "code",
      "source": [],
      "metadata": {
        "id": "6D37adD4AboY"
      },
      "execution_count": null,
      "outputs": []
    }
  ]
}