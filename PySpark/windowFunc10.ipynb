{
  "nbformat": 4,
  "nbformat_minor": 0,
  "metadata": {
    "colab": {
      "provenance": []
    },
    "kernelspec": {
      "name": "python3",
      "display_name": "Python 3"
    },
    "language_info": {
      "name": "python"
    }
  },
  "cells": [
    {
      "cell_type": "code",
      "execution_count": null,
      "metadata": {
        "colab": {
          "base_uri": "https://localhost:8080/"
        },
        "id": "hLWZPpP5iV9v",
        "outputId": "a1b15e08-d1bc-40b9-e5ec-2a07c86ee09a"
      },
      "outputs": [
        {
          "output_type": "stream",
          "name": "stdout",
          "text": [
            "Collecting Pyspark\n",
            "  Downloading pyspark-3.5.0.tar.gz (316.9 MB)\n",
            "\u001b[2K     \u001b[90m━━━━━━━━━━━━━━━━━━━━━━━━━━━━━━━━━━━━━━━━\u001b[0m \u001b[32m316.9/316.9 MB\u001b[0m \u001b[31m4.6 MB/s\u001b[0m eta \u001b[36m0:00:00\u001b[0m\n",
            "\u001b[?25h  Preparing metadata (setup.py) ... \u001b[?25l\u001b[?25hdone\n",
            "Requirement already satisfied: py4j==0.10.9.7 in /usr/local/lib/python3.10/dist-packages (from Pyspark) (0.10.9.7)\n",
            "Building wheels for collected packages: Pyspark\n",
            "  Building wheel for Pyspark (setup.py) ... \u001b[?25l\u001b[?25hdone\n",
            "  Created wheel for Pyspark: filename=pyspark-3.5.0-py2.py3-none-any.whl size=317425344 sha256=431d7d022a43572c644b076ab46cc613151c2ef9224ac61292739729a3194c26\n",
            "  Stored in directory: /root/.cache/pip/wheels/41/4e/10/c2cf2467f71c678cfc8a6b9ac9241e5e44a01940da8fbb17fc\n",
            "Successfully built Pyspark\n",
            "Installing collected packages: Pyspark\n",
            "Successfully installed Pyspark-3.5.0\n"
          ]
        }
      ],
      "source": [
        "!pip install Pyspark"
      ]
    },
    {
      "cell_type": "code",
      "source": [
        "from pyspark.sql import *\n",
        "from pyspark.sql.functions import *"
      ],
      "metadata": {
        "id": "6wGc2qlKlE-T"
      },
      "execution_count": null,
      "outputs": []
    },
    {
      "cell_type": "code",
      "source": [
        "help(window)"
      ],
      "metadata": {
        "colab": {
          "base_uri": "https://localhost:8080/"
        },
        "id": "jfebsUeUlSdT",
        "outputId": "37956165-8d76-40e4-c651-07162469b779"
      },
      "execution_count": null,
      "outputs": [
        {
          "output_type": "stream",
          "name": "stdout",
          "text": [
            "Help on function window in module pyspark.sql.functions:\n",
            "\n",
            "window(timeColumn: 'ColumnOrName', windowDuration: str, slideDuration: Optional[str] = None, startTime: Optional[str] = None) -> pyspark.sql.column.Column\n",
            "    Bucketize rows into one or more time windows given a timestamp specifying column. Window\n",
            "    starts are inclusive but the window ends are exclusive, e.g. 12:05 will be in the window\n",
            "    [12:05,12:10) but not in [12:00,12:05). Windows can support microsecond precision. Windows in\n",
            "    the order of months are not supported.\n",
            "    \n",
            "    The time column must be of :class:`pyspark.sql.types.TimestampType`.\n",
            "    \n",
            "    Durations are provided as strings, e.g. '1 second', '1 day 12 hours', '2 minutes'. Valid\n",
            "    interval strings are 'week', 'day', 'hour', 'minute', 'second', 'millisecond', 'microsecond'.\n",
            "    If the ``slideDuration`` is not provided, the windows will be tumbling windows.\n",
            "    \n",
            "    The startTime is the offset with respect to 1970-01-01 00:00:00 UTC with which to start\n",
            "    window intervals. For example, in order to have hourly tumbling windows that start 15 minutes\n",
            "    past the hour, e.g. 12:15-13:15, 13:15-14:15... provide `startTime` as `15 minutes`.\n",
            "    \n",
            "    The output column will be a struct called 'window' by default with the nested columns 'start'\n",
            "    and 'end', where 'start' and 'end' will be of :class:`pyspark.sql.types.TimestampType`.\n",
            "    \n",
            "    .. versionadded:: 2.0.0\n",
            "    \n",
            "    .. versionchanged:: 3.4.0\n",
            "        Supports Spark Connect.\n",
            "    \n",
            "    Parameters\n",
            "    ----------\n",
            "    timeColumn : :class:`~pyspark.sql.Column`\n",
            "        The column or the expression to use as the timestamp for windowing by time.\n",
            "        The time column must be of TimestampType or TimestampNTZType.\n",
            "    windowDuration : str\n",
            "        A string specifying the width of the window, e.g. `10 minutes`,\n",
            "        `1 second`. Check `org.apache.spark.unsafe.types.CalendarInterval` for\n",
            "        valid duration identifiers. Note that the duration is a fixed length of\n",
            "        time, and does not vary over time according to a calendar. For example,\n",
            "        `1 day` always means 86,400,000 milliseconds, not a calendar day.\n",
            "    slideDuration : str, optional\n",
            "        A new window will be generated every `slideDuration`. Must be less than\n",
            "        or equal to the `windowDuration`. Check\n",
            "        `org.apache.spark.unsafe.types.CalendarInterval` for valid duration\n",
            "        identifiers. This duration is likewise absolute, and does not vary\n",
            "        according to a calendar.\n",
            "    startTime : str, optional\n",
            "        The offset with respect to 1970-01-01 00:00:00 UTC with which to start\n",
            "        window intervals. For example, in order to have hourly tumbling windows that\n",
            "        start 15 minutes past the hour, e.g. 12:15-13:15, 13:15-14:15... provide\n",
            "        `startTime` as `15 minutes`.\n",
            "    \n",
            "    Returns\n",
            "    -------\n",
            "    :class:`~pyspark.sql.Column`\n",
            "        the column for computed results.\n",
            "    \n",
            "    Examples\n",
            "    --------\n",
            "    >>> import datetime\n",
            "    >>> df = spark.createDataFrame(\n",
            "    ...     [(datetime.datetime(2016, 3, 11, 9, 0, 7), 1)],\n",
            "    ... ).toDF(\"date\", \"val\")\n",
            "    >>> w = df.groupBy(window(\"date\", \"5 seconds\")).agg(sum(\"val\").alias(\"sum\"))\n",
            "    >>> w.select(w.window.start.cast(\"string\").alias(\"start\"),\n",
            "    ...          w.window.end.cast(\"string\").alias(\"end\"), \"sum\").collect()\n",
            "    [Row(start='2016-03-11 09:00:05', end='2016-03-11 09:00:10', sum=1)]\n",
            "\n"
          ]
        }
      ]
    },
    {
      "cell_type": "code",
      "source": [
        "spark=SparkSession.builder.appName(\"test\").getOrCreate()"
      ],
      "metadata": {
        "id": "Ta_30lIHlbRG"
      },
      "execution_count": null,
      "outputs": []
    },
    {
      "cell_type": "code",
      "source": [
        "data= [(\"James\",\"Sales\",\"NY\",9000,34),\n",
        "       (\"Alicia\",\"Sales\",\"NY\",8600,56),\n",
        "       (\"Robert\",\"Sales\",\"CA\",8100,30),\n",
        "       (\"John\",\"Sales\",\"AZ\",8600,31),\n",
        "       (\"Ross\",\"Sales\",\"AZ\",8100,33),\n",
        "       (\"Kathy\",\"Sales\",\"az\",1000,39),\n",
        "       (\"Lisa\",\"Finance\",\"CA\",9000,24),\n",
        "       (\"Deja\",\"Finance\",\"CA\",9900,40),\n",
        "       (\"Sugie\",\"Finance\",\"NY\",8300,36),\n",
        "       (\"Ram\",\"Finance\",\"NY\",7900,53),\n",
        "       (\"Sathya\",\"Finance\",\"AZ\",8200,53),\n",
        "       (\"Kyle\",\"Marketing\",\"CA\",8000,25),\n",
        "       (\"Reid\",\"Marketing\",\"NY\",9100,50)]"
      ],
      "metadata": {
        "id": "b6JLIaTPlrvG"
      },
      "execution_count": null,
      "outputs": []
    },
    {
      "cell_type": "code",
      "source": [
        "schema= 'empname string,dept string,state string,salary int,age int'"
      ],
      "metadata": {
        "id": "eKtJoNpVpfjP"
      },
      "execution_count": null,
      "outputs": []
    },
    {
      "cell_type": "code",
      "source": [
        "df=spark.createDataFrame(data=data,schema = schema)\n",
        "df.show()"
      ],
      "metadata": {
        "colab": {
          "base_uri": "https://localhost:8080/"
        },
        "id": "JAvc8G7XqYjK",
        "outputId": "2230ecb6-d4d3-4f4c-edd2-fefb80721be6"
      },
      "execution_count": null,
      "outputs": [
        {
          "output_type": "stream",
          "name": "stdout",
          "text": [
            "+-------+---------+-----+------+---+\n",
            "|empname|     dept|state|salary|age|\n",
            "+-------+---------+-----+------+---+\n",
            "|  James|    Sales|   NY|  9000| 34|\n",
            "| Alicia|    Sales|   NY|  8600| 56|\n",
            "| Robert|    Sales|   CA|  8100| 30|\n",
            "|   John|    Sales|   AZ|  8600| 31|\n",
            "|   Ross|    Sales|   AZ|  8100| 33|\n",
            "|  Kathy|    Sales|   az|  1000| 39|\n",
            "|   Lisa|  Finance|   CA|  9000| 24|\n",
            "|   Deja|  Finance|   CA|  9900| 40|\n",
            "|  Sugie|  Finance|   NY|  8300| 36|\n",
            "|    Ram|  Finance|   NY|  7900| 53|\n",
            "| Sathya|  Finance|   AZ|  8200| 53|\n",
            "|   Kyle|Marketing|   CA|  8000| 25|\n",
            "|   Reid|Marketing|   NY|  9100| 50|\n",
            "+-------+---------+-----+------+---+\n",
            "\n"
          ]
        }
      ]
    },
    {
      "cell_type": "code",
      "source": [
        "df.dtypes"
      ],
      "metadata": {
        "colab": {
          "base_uri": "https://localhost:8080/"
        },
        "id": "Q4BQjCEhqhQ6",
        "outputId": "a9c1542e-7d44-4ba5-e03d-67fbf8bb6883"
      },
      "execution_count": null,
      "outputs": [
        {
          "output_type": "execute_result",
          "data": {
            "text/plain": [
              "[('empname', 'string'),\n",
              " ('dept', 'string'),\n",
              " ('state', 'string'),\n",
              " ('salary', 'int'),\n",
              " ('age', 'int')]"
            ]
          },
          "metadata": {},
          "execution_count": 25
        }
      ]
    },
    {
      "cell_type": "code",
      "source": [
        "#Ranking Functions()"
      ],
      "metadata": {
        "id": "heSfbFhFqoJV"
      },
      "execution_count": null,
      "outputs": []
    },
    {
      "cell_type": "code",
      "source": [
        "spec=Window.partitionBy(df.dept).orderBy(df.salary.desc())"
      ],
      "metadata": {
        "id": "aa3Po0FDq4Xe"
      },
      "execution_count": null,
      "outputs": []
    },
    {
      "cell_type": "code",
      "source": [
        "spec"
      ],
      "metadata": {
        "colab": {
          "base_uri": "https://localhost:8080/"
        },
        "id": "HYsL7_9Csde2",
        "outputId": "bf88b239-088e-4805-9f45-d047ed5782f9"
      },
      "execution_count": null,
      "outputs": [
        {
          "output_type": "execute_result",
          "data": {
            "text/plain": [
              "<pyspark.sql.window.WindowSpec at 0x7d92d331b460>"
            ]
          },
          "metadata": {},
          "execution_count": 14
        }
      ]
    },
    {
      "cell_type": "code",
      "source": [
        "df.select(df.dept,df.salary).show()"
      ],
      "metadata": {
        "colab": {
          "base_uri": "https://localhost:8080/"
        },
        "id": "vHBfQHJEskEO",
        "outputId": "fa40680e-b946-4998-df53-5ef9909d7628"
      },
      "execution_count": null,
      "outputs": [
        {
          "output_type": "stream",
          "name": "stdout",
          "text": [
            "+---------+------+\n",
            "|     dept|salary|\n",
            "+---------+------+\n",
            "|    Sales|  9000|\n",
            "|    Sales|  8600|\n",
            "|    Sales|  8100|\n",
            "|    Sales|  8600|\n",
            "|    Sales|  8100|\n",
            "|    Sales|  1000|\n",
            "|  Finance|  9000|\n",
            "| Finanace|  9900|\n",
            "|  Finance|  8300|\n",
            "|  Finance|  7900|\n",
            "|  Finance|  8200|\n",
            "|Marketing|  8000|\n",
            "|Marketing|  9100|\n",
            "+---------+------+\n",
            "\n"
          ]
        }
      ]
    },
    {
      "cell_type": "code",
      "source": [
        " #Row_number()\n",
        " df.select(df.dept,df.salary).withColumn(\"row_number_rank\",row_number().over(spec)).show()"
      ],
      "metadata": {
        "colab": {
          "base_uri": "https://localhost:8080/"
        },
        "id": "B_QJAo7Ksvmg",
        "outputId": "bed35f45-a41b-4f37-bd13-a046ac9efa2d"
      },
      "execution_count": null,
      "outputs": [
        {
          "output_type": "stream",
          "name": "stdout",
          "text": [
            "+---------+------+---------------+\n",
            "|     dept|salary|row_number_rank|\n",
            "+---------+------+---------------+\n",
            "|  Finance|  7900|              1|\n",
            "|  Finance|  8200|              2|\n",
            "|  Finance|  8300|              3|\n",
            "|  Finance|  9000|              4|\n",
            "|  Finance|  9900|              5|\n",
            "|Marketing|  8000|              1|\n",
            "|Marketing|  9100|              2|\n",
            "|    Sales|  1000|              1|\n",
            "|    Sales|  8100|              2|\n",
            "|    Sales|  8100|              3|\n",
            "|    Sales|  8600|              4|\n",
            "|    Sales|  8600|              5|\n",
            "|    Sales|  9000|              6|\n",
            "+---------+------+---------------+\n",
            "\n"
          ]
        }
      ]
    },
    {
      "cell_type": "code",
      "source": [
        "#Rank()\n",
        "df.select(df.dept,df.salary).withColumn(\"row_number_rank\",row_number().over(spec))\\\n",
        " .withColumn(\"rank\",rank().over(spec)).show()"
      ],
      "metadata": {
        "colab": {
          "base_uri": "https://localhost:8080/"
        },
        "id": "oHZMzPQlu6ly",
        "outputId": "a01fc43f-a2ba-4606-bfec-b9952d5ffdee"
      },
      "execution_count": null,
      "outputs": [
        {
          "output_type": "stream",
          "name": "stdout",
          "text": [
            "+---------+------+---------------+----+\n",
            "|     dept|salary|row_number_rank|rank|\n",
            "+---------+------+---------------+----+\n",
            "|  Finance|  7900|              1|   1|\n",
            "|  Finance|  8200|              2|   2|\n",
            "|  Finance|  8300|              3|   3|\n",
            "|  Finance|  9000|              4|   4|\n",
            "|  Finance|  9900|              5|   5|\n",
            "|Marketing|  8000|              1|   1|\n",
            "|Marketing|  9100|              2|   2|\n",
            "|    Sales|  1000|              1|   1|\n",
            "|    Sales|  8100|              2|   2|\n",
            "|    Sales|  8100|              3|   2|\n",
            "|    Sales|  8600|              4|   4|\n",
            "|    Sales|  8600|              5|   4|\n",
            "|    Sales|  9000|              6|   6|\n",
            "+---------+------+---------------+----+\n",
            "\n"
          ]
        }
      ]
    },
    {
      "cell_type": "code",
      "source": [
        "#Dense_Rank()\n",
        "df.select(df.dept,df.salary).withColumn(\"row_number_rank\",row_number().over(spec))\\\n",
        " .withColumn(\"rank\",rank().over(spec))\\\n",
        " .withColumn(\"dense_rank\",dense_rank().over(spec)).show()"
      ],
      "metadata": {
        "colab": {
          "base_uri": "https://localhost:8080/"
        },
        "id": "xXfddWhJvkpp",
        "outputId": "94534f67-f946-4168-eda5-5c62836eb29c"
      },
      "execution_count": null,
      "outputs": [
        {
          "output_type": "stream",
          "name": "stdout",
          "text": [
            "+---------+------+---------------+----+----------+\n",
            "|     dept|salary|row_number_rank|rank|dense_rank|\n",
            "+---------+------+---------------+----+----------+\n",
            "|  Finance|  7900|              1|   1|         1|\n",
            "|  Finance|  8200|              2|   2|         2|\n",
            "|  Finance|  8300|              3|   3|         3|\n",
            "|  Finance|  9000|              4|   4|         4|\n",
            "|  Finance|  9900|              5|   5|         5|\n",
            "|Marketing|  8000|              1|   1|         1|\n",
            "|Marketing|  9100|              2|   2|         2|\n",
            "|    Sales|  1000|              1|   1|         1|\n",
            "|    Sales|  8100|              2|   2|         2|\n",
            "|    Sales|  8100|              3|   2|         2|\n",
            "|    Sales|  8600|              4|   4|         3|\n",
            "|    Sales|  8600|              5|   4|         3|\n",
            "|    Sales|  9000|              6|   6|         4|\n",
            "+---------+------+---------------+----+----------+\n",
            "\n"
          ]
        }
      ]
    },
    {
      "cell_type": "code",
      "source": [
        "#percentile_rank()\n",
        "\n",
        "df.select(df.dept,df.salary).withColumn(\"row_number_rank\",row_number().over(spec))\\\n",
        " .withColumn(\"rank\",rank().over(spec))\\\n",
        " .withColumn(\"dense_rank\",dense_rank().over(spec))\\\n",
        " .withColumn(\"percent_rank\",percent_rank().over(spec)).show()"
      ],
      "metadata": {
        "colab": {
          "base_uri": "https://localhost:8080/"
        },
        "id": "L70WBhpaw1Cl",
        "outputId": "845244af-d3a6-4803-c7a2-f637d6e2d178"
      },
      "execution_count": null,
      "outputs": [
        {
          "output_type": "stream",
          "name": "stdout",
          "text": [
            "+---------+------+---------------+----+----------+------------+\n",
            "|     dept|salary|row_number_rank|rank|dense_rank|percent_rank|\n",
            "+---------+------+---------------+----+----------+------------+\n",
            "|  Finance|  7900|              1|   1|         1|         0.0|\n",
            "|  Finance|  8200|              2|   2|         2|        0.25|\n",
            "|  Finance|  8300|              3|   3|         3|         0.5|\n",
            "|  Finance|  9000|              4|   4|         4|        0.75|\n",
            "|  Finance|  9900|              5|   5|         5|         1.0|\n",
            "|Marketing|  8000|              1|   1|         1|         0.0|\n",
            "|Marketing|  9100|              2|   2|         2|         1.0|\n",
            "|    Sales|  1000|              1|   1|         1|         0.0|\n",
            "|    Sales|  8100|              2|   2|         2|         0.2|\n",
            "|    Sales|  8100|              3|   2|         2|         0.2|\n",
            "|    Sales|  8600|              4|   4|         3|         0.6|\n",
            "|    Sales|  8600|              5|   4|         3|         0.6|\n",
            "|    Sales|  9000|              6|   6|         4|         1.0|\n",
            "+---------+------+---------------+----+----------+------------+\n",
            "\n"
          ]
        }
      ]
    },
    {
      "cell_type": "code",
      "source": [
        "#ntile()\n",
        "\n",
        "df.select(df.dept,df.salary).withColumn(\"row_number_rank\",row_number().over(spec))\\\n",
        " .withColumn(\"rank\",rank().over(spec))\\\n",
        " .withColumn(\"dense_rank\",dense_rank().over(spec))\\\n",
        " .withColumn(\"percent_rank\",percent_rank().over(spec))\\\n",
        " .withColumn(\"ntile_rank\",ntile(6).over(spec)).show()"
      ],
      "metadata": {
        "colab": {
          "base_uri": "https://localhost:8080/"
        },
        "id": "V2Y9ubhNx1Wp",
        "outputId": "fb2b0233-91f3-4b66-a586-d880016bc635"
      },
      "execution_count": null,
      "outputs": [
        {
          "output_type": "stream",
          "name": "stdout",
          "text": [
            "+---------+------+---------------+----+----------+------------+----------+\n",
            "|     dept|salary|row_number_rank|rank|dense_rank|percent_rank|ntile_rank|\n",
            "+---------+------+---------------+----+----------+------------+----------+\n",
            "|  Finance|  7900|              1|   1|         1|         0.0|         1|\n",
            "|  Finance|  8200|              2|   2|         2|        0.25|         2|\n",
            "|  Finance|  8300|              3|   3|         3|         0.5|         3|\n",
            "|  Finance|  9000|              4|   4|         4|        0.75|         4|\n",
            "|  Finance|  9900|              5|   5|         5|         1.0|         5|\n",
            "|Marketing|  8000|              1|   1|         1|         0.0|         1|\n",
            "|Marketing|  9100|              2|   2|         2|         1.0|         2|\n",
            "|    Sales|  1000|              1|   1|         1|         0.0|         1|\n",
            "|    Sales|  8100|              2|   2|         2|         0.2|         2|\n",
            "|    Sales|  8100|              3|   2|         2|         0.2|         3|\n",
            "|    Sales|  8600|              4|   4|         3|         0.6|         4|\n",
            "|    Sales|  8600|              5|   4|         3|         0.6|         5|\n",
            "|    Sales|  9000|              6|   6|         4|         1.0|         6|\n",
            "+---------+------+---------------+----+----------+------------+----------+\n",
            "\n"
          ]
        }
      ]
    },
    {
      "cell_type": "code",
      "source": [
        "#ntile()\n",
        "\n",
        "df.select(df.dept,df.salary).withColumn(\"row_number_rank\",row_number().over(spec))\\\n",
        " .withColumn(\"rank\",rank().over(spec))\\\n",
        " .withColumn(\"dense_rank\",dense_rank().over(spec))\\\n",
        " .withColumn(\"percent_rank\",percent_rank().over(spec))\\\n",
        " .withColumn(\"ntile_rank\",ntile(3).over(spec)).show()"
      ],
      "metadata": {
        "colab": {
          "base_uri": "https://localhost:8080/"
        },
        "id": "UWXCH9igymuH",
        "outputId": "01bce673-2203-4c68-853e-69f693838671"
      },
      "execution_count": null,
      "outputs": [
        {
          "output_type": "stream",
          "name": "stdout",
          "text": [
            "+---------+------+---------------+----+----------+------------+----------+\n",
            "|     dept|salary|row_number_rank|rank|dense_rank|percent_rank|ntile_rank|\n",
            "+---------+------+---------------+----+----------+------------+----------+\n",
            "|  Finance|  7900|              1|   1|         1|         0.0|         1|\n",
            "|  Finance|  8200|              2|   2|         2|        0.25|         1|\n",
            "|  Finance|  8300|              3|   3|         3|         0.5|         2|\n",
            "|  Finance|  9000|              4|   4|         4|        0.75|         2|\n",
            "|  Finance|  9900|              5|   5|         5|         1.0|         3|\n",
            "|Marketing|  8000|              1|   1|         1|         0.0|         1|\n",
            "|Marketing|  9100|              2|   2|         2|         1.0|         2|\n",
            "|    Sales|  1000|              1|   1|         1|         0.0|         1|\n",
            "|    Sales|  8100|              2|   2|         2|         0.2|         1|\n",
            "|    Sales|  8100|              3|   2|         2|         0.2|         2|\n",
            "|    Sales|  8600|              4|   4|         3|         0.6|         2|\n",
            "|    Sales|  8600|              5|   4|         3|         0.6|         3|\n",
            "|    Sales|  9000|              6|   6|         4|         1.0|         3|\n",
            "+---------+------+---------------+----+----------+------------+----------+\n",
            "\n"
          ]
        }
      ]
    },
    {
      "cell_type": "code",
      "source": [
        "#cummulative_distribution_Rank\n",
        "df.select(df.dept,df.salary).withColumn(\"cum_dist_rank\",cume_dist().over(spec)).show()"
      ],
      "metadata": {
        "colab": {
          "base_uri": "https://localhost:8080/"
        },
        "id": "GQ9EKkruy48J",
        "outputId": "463459b0-bf57-45f7-f09e-16b5e4958acd"
      },
      "execution_count": null,
      "outputs": [
        {
          "output_type": "stream",
          "name": "stdout",
          "text": [
            "+---------+------+-------------------+\n",
            "|     dept|salary|      cum_dist_rank|\n",
            "+---------+------+-------------------+\n",
            "|  Finance|  7900|                0.2|\n",
            "|  Finance|  8200|                0.4|\n",
            "|  Finance|  8300|                0.6|\n",
            "|  Finance|  9000|                0.8|\n",
            "|  Finance|  9900|                1.0|\n",
            "|Marketing|  8000|                0.5|\n",
            "|Marketing|  9100|                1.0|\n",
            "|    Sales|  1000|0.16666666666666666|\n",
            "|    Sales|  8100|                0.5|\n",
            "|    Sales|  8100|                0.5|\n",
            "|    Sales|  8600| 0.8333333333333334|\n",
            "|    Sales|  8600| 0.8333333333333334|\n",
            "|    Sales|  9000|                1.0|\n",
            "+---------+------+-------------------+\n",
            "\n"
          ]
        }
      ]
    },
    {
      "cell_type": "code",
      "source": [
        "#lag()\n",
        "#lag([column],offset_val,[alternate Result])\n",
        "df.select(df.dept,df.salary).withColumn(\"Lag_prev_sal\",lag(\"salary\",1,0).over(spec)).show()"
      ],
      "metadata": {
        "colab": {
          "base_uri": "https://localhost:8080/"
        },
        "id": "tmFsjB-I116s",
        "outputId": "e2bf9763-b131-4a33-fb7a-f05ba352f7f2"
      },
      "execution_count": null,
      "outputs": [
        {
          "output_type": "stream",
          "name": "stdout",
          "text": [
            "+---------+------+------------+\n",
            "|     dept|salary|Lag_prev_sal|\n",
            "+---------+------+------------+\n",
            "|  Finance|  7900|           0|\n",
            "|  Finance|  8200|        7900|\n",
            "|  Finance|  8300|        8200|\n",
            "|  Finance|  9000|        8300|\n",
            "|  Finance|  9900|        9000|\n",
            "|Marketing|  8000|           0|\n",
            "|Marketing|  9100|        8000|\n",
            "|    Sales|  1000|           0|\n",
            "|    Sales|  8100|        1000|\n",
            "|    Sales|  8100|        8100|\n",
            "|    Sales|  8600|        8100|\n",
            "|    Sales|  8600|        8600|\n",
            "|    Sales|  9000|        8600|\n",
            "+---------+------+------------+\n",
            "\n"
          ]
        }
      ]
    },
    {
      "cell_type": "code",
      "source": [
        "#lag()\n",
        "#lag([column],offset_val,[alternate Result])\n",
        "df.select(df.dept,df.salary).withColumn(\"Lag_prev_sal\",lag(\"salary\",1).over(spec)).show()"
      ],
      "metadata": {
        "colab": {
          "base_uri": "https://localhost:8080/"
        },
        "id": "EW8GWJdMBFnB",
        "outputId": "0105b957-b282-4454-9ba6-14be62a182ab"
      },
      "execution_count": null,
      "outputs": [
        {
          "output_type": "stream",
          "name": "stdout",
          "text": [
            "+---------+------+------------+\n",
            "|     dept|salary|Lag_prev_sal|\n",
            "+---------+------+------------+\n",
            "|  Finance|  7900|        NULL|\n",
            "|  Finance|  8200|        7900|\n",
            "|  Finance|  8300|        8200|\n",
            "|  Finance|  9000|        8300|\n",
            "|  Finance|  9900|        9000|\n",
            "|Marketing|  8000|        NULL|\n",
            "|Marketing|  9100|        8000|\n",
            "|    Sales|  1000|        NULL|\n",
            "|    Sales|  8100|        1000|\n",
            "|    Sales|  8100|        8100|\n",
            "|    Sales|  8600|        8100|\n",
            "|    Sales|  8600|        8600|\n",
            "|    Sales|  9000|        8600|\n",
            "+---------+------+------------+\n",
            "\n"
          ]
        }
      ]
    },
    {
      "cell_type": "code",
      "source": [
        "#lead()\n",
        "\n",
        "df.select(df.dept,df.salary).withColumn(\"Lead_sal\",lead(\"salary\",1,0).over(spec)).show()"
      ],
      "metadata": {
        "colab": {
          "base_uri": "https://localhost:8080/"
        },
        "id": "9QHNUAyNBRlA",
        "outputId": "2b2291ed-12a3-4fb6-ff73-86475c4b6b28"
      },
      "execution_count": null,
      "outputs": [
        {
          "output_type": "stream",
          "name": "stdout",
          "text": [
            "+---------+------+--------+\n",
            "|     dept|salary|Lead_sal|\n",
            "+---------+------+--------+\n",
            "|  Finance|  7900|    8200|\n",
            "|  Finance|  8200|    8300|\n",
            "|  Finance|  8300|    9000|\n",
            "|  Finance|  9000|    9900|\n",
            "|  Finance|  9900|       0|\n",
            "|Marketing|  8000|    9100|\n",
            "|Marketing|  9100|       0|\n",
            "|    Sales|  1000|    8100|\n",
            "|    Sales|  8100|    8100|\n",
            "|    Sales|  8100|    8600|\n",
            "|    Sales|  8600|    8600|\n",
            "|    Sales|  8600|    9000|\n",
            "|    Sales|  9000|       0|\n",
            "+---------+------+--------+\n",
            "\n"
          ]
        }
      ]
    },
    {
      "cell_type": "code",
      "source": [
        "\n",
        "df.select(df.dept,df.salary).withColumn(\"Lag_prev_sal\",lag(\"salary\",1,0).over(spec))\\\n",
        ".withColumn(\"Lead_sal\",lead(\"salary\",1,0).over(spec)).show()"
      ],
      "metadata": {
        "colab": {
          "base_uri": "https://localhost:8080/"
        },
        "id": "wA2Rzaz_BblU",
        "outputId": "1ab98e71-7d4b-46bc-c616-e32657ebbe23"
      },
      "execution_count": null,
      "outputs": [
        {
          "output_type": "stream",
          "name": "stdout",
          "text": [
            "+---------+------+------------+--------+\n",
            "|     dept|salary|Lag_prev_sal|Lead_sal|\n",
            "+---------+------+------------+--------+\n",
            "|  Finance|  7900|           0|    8200|\n",
            "|  Finance|  8200|        7900|    8300|\n",
            "|  Finance|  8300|        8200|    9000|\n",
            "|  Finance|  9000|        8300|    9900|\n",
            "|  Finance|  9900|        9000|       0|\n",
            "|Marketing|  8000|           0|    9100|\n",
            "|Marketing|  9100|        8000|       0|\n",
            "|    Sales|  1000|           0|    8100|\n",
            "|    Sales|  8100|        1000|    8100|\n",
            "|    Sales|  8100|        8100|    8600|\n",
            "|    Sales|  8600|        8100|    8600|\n",
            "|    Sales|  8600|        8600|    9000|\n",
            "|    Sales|  9000|        8600|       0|\n",
            "+---------+------+------------+--------+\n",
            "\n"
          ]
        }
      ]
    },
    {
      "cell_type": "code",
      "source": [
        "#aggregate window function\n",
        "df.select(df.dept,df.salary).withColumn(\"Sum_sal_dept\",sum(\"salary\").over(spec)).show()"
      ],
      "metadata": {
        "colab": {
          "base_uri": "https://localhost:8080/"
        },
        "id": "09SObOS2BuK6",
        "outputId": "529ef618-4737-48e2-ed66-240be76cb69e"
      },
      "execution_count": null,
      "outputs": [
        {
          "output_type": "stream",
          "name": "stdout",
          "text": [
            "+---------+------+------------+\n",
            "|     dept|salary|Sum_sal_dept|\n",
            "+---------+------+------------+\n",
            "|  Finance|  9900|        9900|\n",
            "|  Finance|  9000|       18900|\n",
            "|  Finance|  8300|       27200|\n",
            "|  Finance|  8200|       35400|\n",
            "|  Finance|  7900|       43300|\n",
            "|Marketing|  9100|        9100|\n",
            "|Marketing|  8000|       17100|\n",
            "|    Sales|  9000|        9000|\n",
            "|    Sales|  8600|       26200|\n",
            "|    Sales|  8600|       26200|\n",
            "|    Sales|  8100|       42400|\n",
            "|    Sales|  8100|       42400|\n",
            "|    Sales|  1000|       43400|\n",
            "+---------+------+------------+\n",
            "\n"
          ]
        }
      ]
    },
    {
      "cell_type": "code",
      "source": [
        "spec=Window.partitionBy(df.dept)"
      ],
      "metadata": {
        "id": "0sDL9x66DHEt"
      },
      "execution_count": null,
      "outputs": []
    },
    {
      "cell_type": "code",
      "source": [
        "\n",
        "df.select(df.dept,df.salary).withColumn(\"Sum_sal_dept\",sum(\"salary\").over(spec)).show()"
      ],
      "metadata": {
        "colab": {
          "base_uri": "https://localhost:8080/"
        },
        "id": "kPI-TqkTFGh3",
        "outputId": "a1f5f78b-d4cc-488a-ac5a-d94237c84cfa"
      },
      "execution_count": null,
      "outputs": [
        {
          "output_type": "stream",
          "name": "stdout",
          "text": [
            "+---------+------+------------+\n",
            "|     dept|salary|Sum_sal_dept|\n",
            "+---------+------+------------+\n",
            "|  Finance|  9000|       43300|\n",
            "|  Finance|  9900|       43300|\n",
            "|  Finance|  8300|       43300|\n",
            "|  Finance|  7900|       43300|\n",
            "|  Finance|  8200|       43300|\n",
            "|Marketing|  8000|       17100|\n",
            "|Marketing|  9100|       17100|\n",
            "|    Sales|  9000|       43400|\n",
            "|    Sales|  8600|       43400|\n",
            "|    Sales|  8100|       43400|\n",
            "|    Sales|  8600|       43400|\n",
            "|    Sales|  8100|       43400|\n",
            "|    Sales|  1000|       43400|\n",
            "+---------+------+------------+\n",
            "\n"
          ]
        }
      ]
    },
    {
      "cell_type": "code",
      "source": [
        "#first ()\n",
        "spec=Window.partitionBy(df.dept).orderBy(df.salary.desc())\n",
        "\n",
        "df.select(df.dept,df.salary).withColumn(\"Highest_Sal\",first(\"salary\").over(spec)).show()"
      ],
      "metadata": {
        "colab": {
          "base_uri": "https://localhost:8080/"
        },
        "id": "Ic6V7jrxFUgF",
        "outputId": "8ca29015-4d46-4ddf-b2b4-a424056a8a38"
      },
      "execution_count": null,
      "outputs": [
        {
          "output_type": "stream",
          "name": "stdout",
          "text": [
            "+---------+------+-----------+\n",
            "|     dept|salary|Highest_Sal|\n",
            "+---------+------+-----------+\n",
            "|  Finance|  9900|       9900|\n",
            "|  Finance|  9000|       9900|\n",
            "|  Finance|  8300|       9900|\n",
            "|  Finance|  8200|       9900|\n",
            "|  Finance|  7900|       9900|\n",
            "|Marketing|  9100|       9100|\n",
            "|Marketing|  8000|       9100|\n",
            "|    Sales|  9000|       9000|\n",
            "|    Sales|  8600|       9000|\n",
            "|    Sales|  8600|       9000|\n",
            "|    Sales|  8100|       9000|\n",
            "|    Sales|  8100|       9000|\n",
            "|    Sales|  1000|       9000|\n",
            "+---------+------+-----------+\n",
            "\n"
          ]
        }
      ]
    },
    {
      "cell_type": "code",
      "source": [
        "#last ()\n",
        "spec=Window.partitionBy(df.dept)\n",
        "\n",
        "df.select(df.dept,df.salary).withColumn(\"Lowest_Sal\",last(\"salary\").over(spec)).show()"
      ],
      "metadata": {
        "colab": {
          "base_uri": "https://localhost:8080/"
        },
        "id": "UZMmLpk3HBDD",
        "outputId": "1d9ee3bf-ec38-43b3-fc13-b7a95522b492"
      },
      "execution_count": null,
      "outputs": [
        {
          "output_type": "stream",
          "name": "stdout",
          "text": [
            "+---------+------+----------+\n",
            "|     dept|salary|Lowest_Sal|\n",
            "+---------+------+----------+\n",
            "|  Finance|  9000|      8200|\n",
            "|  Finance|  9900|      8200|\n",
            "|  Finance|  8300|      8200|\n",
            "|  Finance|  7900|      8200|\n",
            "|  Finance|  8200|      8200|\n",
            "|Marketing|  8000|      9100|\n",
            "|Marketing|  9100|      9100|\n",
            "|    Sales|  9000|      1000|\n",
            "|    Sales|  8600|      1000|\n",
            "|    Sales|  8100|      1000|\n",
            "|    Sales|  8600|      1000|\n",
            "|    Sales|  8100|      1000|\n",
            "|    Sales|  1000|      1000|\n",
            "+---------+------+----------+\n",
            "\n"
          ]
        }
      ]
    },
    {
      "cell_type": "code",
      "source": [],
      "metadata": {
        "id": "r2E9OokWHY8s"
      },
      "execution_count": null,
      "outputs": []
    }
  ]
}