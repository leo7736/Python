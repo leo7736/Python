{
  "nbformat": 4,
  "nbformat_minor": 0,
  "metadata": {
    "colab": {
      "provenance": []
    },
    "kernelspec": {
      "name": "python3",
      "display_name": "Python 3"
    },
    "language_info": {
      "name": "python"
    }
  },
  "cells": [
    {
      "cell_type": "code",
      "execution_count": 1,
      "metadata": {
        "colab": {
          "base_uri": "https://localhost:8080/"
        },
        "id": "MHd6FGFLc8Vj",
        "outputId": "6bec651c-ff80-4352-90bd-a1f2885ae9c6"
      },
      "outputs": [
        {
          "output_type": "stream",
          "name": "stdout",
          "text": [
            "Collecting pyspark\n",
            "  Downloading pyspark-3.5.0.tar.gz (316.9 MB)\n",
            "\u001b[2K     \u001b[90m━━━━━━━━━━━━━━━━━━━━━━━━━━━━━━━━━━━━━━━━\u001b[0m \u001b[32m316.9/316.9 MB\u001b[0m \u001b[31m4.4 MB/s\u001b[0m eta \u001b[36m0:00:00\u001b[0m\n",
            "\u001b[?25h  Preparing metadata (setup.py) ... \u001b[?25l\u001b[?25hdone\n",
            "Requirement already satisfied: py4j==0.10.9.7 in /usr/local/lib/python3.10/dist-packages (from pyspark) (0.10.9.7)\n",
            "Building wheels for collected packages: pyspark\n",
            "  Building wheel for pyspark (setup.py) ... \u001b[?25l\u001b[?25hdone\n",
            "  Created wheel for pyspark: filename=pyspark-3.5.0-py2.py3-none-any.whl size=317425344 sha256=80f93a64efd4705c052921d381919be9a21110edf0c54a87f4fbb4e2c18d2abc\n",
            "  Stored in directory: /root/.cache/pip/wheels/41/4e/10/c2cf2467f71c678cfc8a6b9ac9241e5e44a01940da8fbb17fc\n",
            "Successfully built pyspark\n",
            "Installing collected packages: pyspark\n",
            "Successfully installed pyspark-3.5.0\n"
          ]
        }
      ],
      "source": [
        "!pip install pyspark"
      ]
    },
    {
      "cell_type": "code",
      "source": [
        "from pyspark.sql import *\n",
        "from pyspark.sql.functions import *"
      ],
      "metadata": {
        "id": "TpDKzvZ-dQN4"
      },
      "execution_count": 6,
      "outputs": []
    },
    {
      "cell_type": "code",
      "source": [
        "spark = SparkSession.builder.appName('test').getOrCreate()"
      ],
      "metadata": {
        "id": "8lTLZlxTddV6"
      },
      "execution_count": 7,
      "outputs": []
    },
    {
      "cell_type": "code",
      "source": [
        "df= spark.read.csv('/content/EmpStatus.csv',header= True, inferSchema= True)\n",
        "df.show()"
      ],
      "metadata": {
        "colab": {
          "base_uri": "https://localhost:8080/"
        },
        "id": "UrZjawg4eF1s",
        "outputId": "1d23a457-1156-41a8-86f0-25f62e32f994"
      },
      "execution_count": 10,
      "outputs": [
        {
          "output_type": "stream",
          "name": "stdout",
          "text": [
            "+---+---------+-----------------+---------+--------------------+----------------+---------+--------------+-------------+--------------+-----------------------+------+----------+--------------+--------+--------------------+---------------+-------------+-------------+-----------+------------------+------+--------+-----------------+-----------------+------------------------+-------------+----------------+-----------------+---------------------+---------------+--------------+------------------+-----------------------+--------------------+\n",
            "|Age|Attrition|   BusinessTravel|DailyRate|          Department|DistanceFromHome|Education|EducationField|EmployeeCount|EmployeeNumber|EnvironmentSatisfaction|Gender|HourlyRate|JobInvolvement|JobLevel|             JobRole|JobSatisfaction|MaritalStatus|MonthlyIncome|MonthlyRate|NumCompaniesWorked|Over18|OverTime|PercentSalaryHike|PerformanceRating|RelationshipSatisfaction|StandardHours|StockOptionLevel|TotalWorkingYears|TrainingTimesLastYear|WorkLifeBalance|YearsAtCompany|YearsInCurrentRole|YearsSinceLastPromotion|YearsWithCurrManager|\n",
            "+---+---------+-----------------+---------+--------------------+----------------+---------+--------------+-------------+--------------+-----------------------+------+----------+--------------+--------+--------------------+---------------+-------------+-------------+-----------+------------------+------+--------+-----------------+-----------------+------------------------+-------------+----------------+-----------------+---------------------+---------------+--------------+------------------+-----------------------+--------------------+\n",
            "| 41|      Yes|    Travel_Rarely|     1102|               Sales|               1|        2| Life Sciences|            1|             1|                      2|Female|        94|             3|       2|     Sales Executive|              4|       Single|         5993|      19479|                 8|     Y|     Yes|               11|                3|                       1|           80|               0|                8|                    0|              1|             6|                 4|                      0|                   5|\n",
            "| 49|       No|Travel_Frequently|      279|Research & Develo...|               8|        1| Life Sciences|            1|             2|                      3|  Male|        61|             2|       2|  Research Scientist|              2|      Married|         5130|      24907|                 1|     Y|      No|               23|                4|                       4|           80|               1|               10|                    3|              3|            10|                 7|                      1|                   7|\n",
            "| 37|      Yes|    Travel_Rarely|     1373|Research & Develo...|               2|        2|         Other|            1|             4|                      4|  Male|        92|             2|       1|Laboratory Techni...|              3|       Single|         2090|       2396|                 6|     Y|     Yes|               15|                3|                       2|           80|               0|                7|                    3|              3|             0|                 0|                      0|                   0|\n",
            "| 33|       No|Travel_Frequently|     1392|Research & Develo...|               3|        4| Life Sciences|            1|             5|                      4|Female|        56|             3|       1|  Research Scientist|              3|      Married|         2909|      23159|                 1|     Y|     Yes|               11|                3|                       3|           80|               0|                8|                    3|              3|             8|                 7|                      3|                   0|\n",
            "| 27|       No|    Travel_Rarely|      591|Research & Develo...|               2|        1|       Medical|            1|             7|                      1|  Male|        40|             3|       1|Laboratory Techni...|              2|      Married|         3468|      16632|                 9|     Y|      No|               12|                3|                       4|           80|               1|                6|                    3|              3|             2|                 2|                      2|                   2|\n",
            "| 32|       No|Travel_Frequently|     1005|Research & Develo...|               2|        2| Life Sciences|            1|             8|                      4|  Male|        79|             3|       1|Laboratory Techni...|              4|       Single|         3068|      11864|                 0|     Y|      No|               13|                3|                       3|           80|               0|                8|                    2|              2|             7|                 7|                      3|                   6|\n",
            "| 59|       No|    Travel_Rarely|     1324|Research & Develo...|               3|        3|       Medical|            1|            10|                      3|Female|        81|             4|       1|Laboratory Techni...|              1|      Married|         2670|       9964|                 4|     Y|     Yes|               20|                4|                       1|           80|               3|               12|                    3|              2|             1|                 0|                      0|                   0|\n",
            "| 30|       No|    Travel_Rarely|     1358|Research & Develo...|              24|        1| Life Sciences|            1|            11|                      4|  Male|        67|             3|       1|Laboratory Techni...|              3|     Divorced|         2693|      13335|                 1|     Y|      No|               22|                4|                       2|           80|               1|                1|                    2|              3|             1|                 0|                      0|                   0|\n",
            "| 38|       No|Travel_Frequently|      216|Research & Develo...|              23|        3| Life Sciences|            1|            12|                      4|  Male|        44|             2|       3|Manufacturing Dir...|              3|       Single|         9526|       8787|                 0|     Y|      No|               21|                4|                       2|           80|               0|               10|                    2|              3|             9|                 7|                      1|                   8|\n",
            "| 36|       No|    Travel_Rarely|     1299|Research & Develo...|              27|        3|       Medical|            1|            13|                      3|  Male|        94|             3|       2|Healthcare Repres...|              3|      Married|         5237|      16577|                 6|     Y|      No|               13|                3|                       2|           80|               2|               17|                    3|              2|             7|                 7|                      7|                   7|\n",
            "| 35|       No|    Travel_Rarely|      809|Research & Develo...|              16|        3|       Medical|            1|            14|                      1|  Male|        84|             4|       1|Laboratory Techni...|              2|      Married|         2426|      16479|                 0|     Y|      No|               13|                3|                       3|           80|               1|                6|                    5|              3|             5|                 4|                      0|                   3|\n",
            "| 29|       No|    Travel_Rarely|      153|Research & Develo...|              15|        2| Life Sciences|            1|            15|                      4|Female|        49|             2|       2|Laboratory Techni...|              3|       Single|         4193|      12682|                 0|     Y|     Yes|               12|                3|                       4|           80|               0|               10|                    3|              3|             9|                 5|                      0|                   8|\n",
            "| 31|       No|    Travel_Rarely|      670|Research & Develo...|              26|        1| Life Sciences|            1|            16|                      1|  Male|        31|             3|       1|  Research Scientist|              3|     Divorced|         2911|      15170|                 1|     Y|      No|               17|                3|                       4|           80|               1|                5|                    1|              2|             5|                 2|                      4|                   3|\n",
            "| 34|       No|    Travel_Rarely|     1346|Research & Develo...|              19|        2|       Medical|            1|            18|                      2|  Male|        93|             3|       1|Laboratory Techni...|              4|     Divorced|         2661|       8758|                 0|     Y|      No|               11|                3|                       3|           80|               1|                3|                    2|              3|             2|                 2|                      1|                   2|\n",
            "| 28|      Yes|    Travel_Rarely|      103|Research & Develo...|              24|        3| Life Sciences|            1|            19|                      3|  Male|        50|             2|       1|Laboratory Techni...|              3|       Single|         2028|      12947|                 5|     Y|     Yes|               14|                3|                       2|           80|               0|                6|                    4|              3|             4|                 2|                      0|                   3|\n",
            "| 29|       No|    Travel_Rarely|     1389|Research & Develo...|              21|        4| Life Sciences|            1|            20|                      2|Female|        51|             4|       3|Manufacturing Dir...|              1|     Divorced|         9980|      10195|                 1|     Y|      No|               11|                3|                       3|           80|               1|               10|                    1|              3|            10|                 9|                      8|                   8|\n",
            "| 32|       No|    Travel_Rarely|      334|Research & Develo...|               5|        2| Life Sciences|            1|            21|                      1|  Male|        80|             4|       1|  Research Scientist|              2|     Divorced|         3298|      15053|                 0|     Y|     Yes|               12|                3|                       4|           80|               2|                7|                    5|              2|             6|                 2|                      0|                   5|\n",
            "| 22|       No|       Non-Travel|     1123|Research & Develo...|              16|        2|       Medical|            1|            22|                      4|  Male|        96|             4|       1|Laboratory Techni...|              4|     Divorced|         2935|       7324|                 1|     Y|     Yes|               13|                3|                       2|           80|               2|                1|                    2|              2|             1|                 0|                      0|                   0|\n",
            "| 53|       No|    Travel_Rarely|     1219|               Sales|               2|        4| Life Sciences|            1|            23|                      1|Female|        78|             2|       4|             Manager|              4|      Married|        15427|      22021|                 2|     Y|      No|               16|                3|                       3|           80|               0|               31|                    3|              3|            25|                 8|                      3|                   7|\n",
            "| 38|       No|    Travel_Rarely|      371|Research & Develo...|               2|        3| Life Sciences|            1|            24|                      4|  Male|        45|             3|       1|  Research Scientist|              4|       Single|         3944|       4306|                 5|     Y|     Yes|               11|                3|                       3|           80|               0|                6|                    3|              3|             3|                 2|                      1|                   2|\n",
            "+---+---------+-----------------+---------+--------------------+----------------+---------+--------------+-------------+--------------+-----------------------+------+----------+--------------+--------+--------------------+---------------+-------------+-------------+-----------+------------------+------+--------+-----------------+-----------------+------------------------+-------------+----------------+-----------------+---------------------+---------------+--------------+------------------+-----------------------+--------------------+\n",
            "only showing top 20 rows\n",
            "\n"
          ]
        }
      ]
    },
    {
      "cell_type": "code",
      "source": [
        "df.printSchema()"
      ],
      "metadata": {
        "colab": {
          "base_uri": "https://localhost:8080/"
        },
        "id": "vNBRBsmpebGP",
        "outputId": "cab049f6-b099-44f2-ae40-f8363cd901ed"
      },
      "execution_count": 12,
      "outputs": [
        {
          "output_type": "stream",
          "name": "stdout",
          "text": [
            "root\n",
            " |-- Age: integer (nullable = true)\n",
            " |-- Attrition: string (nullable = true)\n",
            " |-- BusinessTravel: string (nullable = true)\n",
            " |-- DailyRate: integer (nullable = true)\n",
            " |-- Department: string (nullable = true)\n",
            " |-- DistanceFromHome: integer (nullable = true)\n",
            " |-- Education: integer (nullable = true)\n",
            " |-- EducationField: string (nullable = true)\n",
            " |-- EmployeeCount: integer (nullable = true)\n",
            " |-- EmployeeNumber: integer (nullable = true)\n",
            " |-- EnvironmentSatisfaction: integer (nullable = true)\n",
            " |-- Gender: string (nullable = true)\n",
            " |-- HourlyRate: integer (nullable = true)\n",
            " |-- JobInvolvement: integer (nullable = true)\n",
            " |-- JobLevel: integer (nullable = true)\n",
            " |-- JobRole: string (nullable = true)\n",
            " |-- JobSatisfaction: integer (nullable = true)\n",
            " |-- MaritalStatus: string (nullable = true)\n",
            " |-- MonthlyIncome: integer (nullable = true)\n",
            " |-- MonthlyRate: integer (nullable = true)\n",
            " |-- NumCompaniesWorked: integer (nullable = true)\n",
            " |-- Over18: string (nullable = true)\n",
            " |-- OverTime: string (nullable = true)\n",
            " |-- PercentSalaryHike: integer (nullable = true)\n",
            " |-- PerformanceRating: integer (nullable = true)\n",
            " |-- RelationshipSatisfaction: integer (nullable = true)\n",
            " |-- StandardHours: integer (nullable = true)\n",
            " |-- StockOptionLevel: integer (nullable = true)\n",
            " |-- TotalWorkingYears: integer (nullable = true)\n",
            " |-- TrainingTimesLastYear: integer (nullable = true)\n",
            " |-- WorkLifeBalance: integer (nullable = true)\n",
            " |-- YearsAtCompany: integer (nullable = true)\n",
            " |-- YearsInCurrentRole: integer (nullable = true)\n",
            " |-- YearsSinceLastPromotion: integer (nullable = true)\n",
            " |-- YearsWithCurrManager: integer (nullable = true)\n",
            "\n"
          ]
        }
      ]
    },
    {
      "cell_type": "code",
      "source": [
        "df.select(df.EmployeeNumber).show()"
      ],
      "metadata": {
        "colab": {
          "base_uri": "https://localhost:8080/"
        },
        "id": "Lp4w5E4YfG4N",
        "outputId": "46b414a9-22dd-4166-b918-82c61b193309"
      },
      "execution_count": 15,
      "outputs": [
        {
          "output_type": "stream",
          "name": "stdout",
          "text": [
            "+--------------+\n",
            "|EmployeeNumber|\n",
            "+--------------+\n",
            "|             1|\n",
            "|             2|\n",
            "|             4|\n",
            "|             5|\n",
            "|             7|\n",
            "|             8|\n",
            "|            10|\n",
            "|            11|\n",
            "|            12|\n",
            "|            13|\n",
            "|            14|\n",
            "|            15|\n",
            "|            16|\n",
            "|            18|\n",
            "|            19|\n",
            "|            20|\n",
            "|            21|\n",
            "|            22|\n",
            "|            23|\n",
            "|            24|\n",
            "+--------------+\n",
            "only showing top 20 rows\n",
            "\n"
          ]
        }
      ]
    },
    {
      "cell_type": "code",
      "source": [
        "df.select(col('*')).show()"
      ],
      "metadata": {
        "colab": {
          "base_uri": "https://localhost:8080/"
        },
        "id": "qDDZxbrrfQVZ",
        "outputId": "4e214089-33ac-4042-83cb-ef430f615681"
      },
      "execution_count": 16,
      "outputs": [
        {
          "output_type": "stream",
          "name": "stdout",
          "text": [
            "+---+---------+-----------------+---------+--------------------+----------------+---------+--------------+-------------+--------------+-----------------------+------+----------+--------------+--------+--------------------+---------------+-------------+-------------+-----------+------------------+------+--------+-----------------+-----------------+------------------------+-------------+----------------+-----------------+---------------------+---------------+--------------+------------------+-----------------------+--------------------+\n",
            "|Age|Attrition|   BusinessTravel|DailyRate|          Department|DistanceFromHome|Education|EducationField|EmployeeCount|EmployeeNumber|EnvironmentSatisfaction|Gender|HourlyRate|JobInvolvement|JobLevel|             JobRole|JobSatisfaction|MaritalStatus|MonthlyIncome|MonthlyRate|NumCompaniesWorked|Over18|OverTime|PercentSalaryHike|PerformanceRating|RelationshipSatisfaction|StandardHours|StockOptionLevel|TotalWorkingYears|TrainingTimesLastYear|WorkLifeBalance|YearsAtCompany|YearsInCurrentRole|YearsSinceLastPromotion|YearsWithCurrManager|\n",
            "+---+---------+-----------------+---------+--------------------+----------------+---------+--------------+-------------+--------------+-----------------------+------+----------+--------------+--------+--------------------+---------------+-------------+-------------+-----------+------------------+------+--------+-----------------+-----------------+------------------------+-------------+----------------+-----------------+---------------------+---------------+--------------+------------------+-----------------------+--------------------+\n",
            "| 41|      Yes|    Travel_Rarely|     1102|               Sales|               1|        2| Life Sciences|            1|             1|                      2|Female|        94|             3|       2|     Sales Executive|              4|       Single|         5993|      19479|                 8|     Y|     Yes|               11|                3|                       1|           80|               0|                8|                    0|              1|             6|                 4|                      0|                   5|\n",
            "| 49|       No|Travel_Frequently|      279|Research & Develo...|               8|        1| Life Sciences|            1|             2|                      3|  Male|        61|             2|       2|  Research Scientist|              2|      Married|         5130|      24907|                 1|     Y|      No|               23|                4|                       4|           80|               1|               10|                    3|              3|            10|                 7|                      1|                   7|\n",
            "| 37|      Yes|    Travel_Rarely|     1373|Research & Develo...|               2|        2|         Other|            1|             4|                      4|  Male|        92|             2|       1|Laboratory Techni...|              3|       Single|         2090|       2396|                 6|     Y|     Yes|               15|                3|                       2|           80|               0|                7|                    3|              3|             0|                 0|                      0|                   0|\n",
            "| 33|       No|Travel_Frequently|     1392|Research & Develo...|               3|        4| Life Sciences|            1|             5|                      4|Female|        56|             3|       1|  Research Scientist|              3|      Married|         2909|      23159|                 1|     Y|     Yes|               11|                3|                       3|           80|               0|                8|                    3|              3|             8|                 7|                      3|                   0|\n",
            "| 27|       No|    Travel_Rarely|      591|Research & Develo...|               2|        1|       Medical|            1|             7|                      1|  Male|        40|             3|       1|Laboratory Techni...|              2|      Married|         3468|      16632|                 9|     Y|      No|               12|                3|                       4|           80|               1|                6|                    3|              3|             2|                 2|                      2|                   2|\n",
            "| 32|       No|Travel_Frequently|     1005|Research & Develo...|               2|        2| Life Sciences|            1|             8|                      4|  Male|        79|             3|       1|Laboratory Techni...|              4|       Single|         3068|      11864|                 0|     Y|      No|               13|                3|                       3|           80|               0|                8|                    2|              2|             7|                 7|                      3|                   6|\n",
            "| 59|       No|    Travel_Rarely|     1324|Research & Develo...|               3|        3|       Medical|            1|            10|                      3|Female|        81|             4|       1|Laboratory Techni...|              1|      Married|         2670|       9964|                 4|     Y|     Yes|               20|                4|                       1|           80|               3|               12|                    3|              2|             1|                 0|                      0|                   0|\n",
            "| 30|       No|    Travel_Rarely|     1358|Research & Develo...|              24|        1| Life Sciences|            1|            11|                      4|  Male|        67|             3|       1|Laboratory Techni...|              3|     Divorced|         2693|      13335|                 1|     Y|      No|               22|                4|                       2|           80|               1|                1|                    2|              3|             1|                 0|                      0|                   0|\n",
            "| 38|       No|Travel_Frequently|      216|Research & Develo...|              23|        3| Life Sciences|            1|            12|                      4|  Male|        44|             2|       3|Manufacturing Dir...|              3|       Single|         9526|       8787|                 0|     Y|      No|               21|                4|                       2|           80|               0|               10|                    2|              3|             9|                 7|                      1|                   8|\n",
            "| 36|       No|    Travel_Rarely|     1299|Research & Develo...|              27|        3|       Medical|            1|            13|                      3|  Male|        94|             3|       2|Healthcare Repres...|              3|      Married|         5237|      16577|                 6|     Y|      No|               13|                3|                       2|           80|               2|               17|                    3|              2|             7|                 7|                      7|                   7|\n",
            "| 35|       No|    Travel_Rarely|      809|Research & Develo...|              16|        3|       Medical|            1|            14|                      1|  Male|        84|             4|       1|Laboratory Techni...|              2|      Married|         2426|      16479|                 0|     Y|      No|               13|                3|                       3|           80|               1|                6|                    5|              3|             5|                 4|                      0|                   3|\n",
            "| 29|       No|    Travel_Rarely|      153|Research & Develo...|              15|        2| Life Sciences|            1|            15|                      4|Female|        49|             2|       2|Laboratory Techni...|              3|       Single|         4193|      12682|                 0|     Y|     Yes|               12|                3|                       4|           80|               0|               10|                    3|              3|             9|                 5|                      0|                   8|\n",
            "| 31|       No|    Travel_Rarely|      670|Research & Develo...|              26|        1| Life Sciences|            1|            16|                      1|  Male|        31|             3|       1|  Research Scientist|              3|     Divorced|         2911|      15170|                 1|     Y|      No|               17|                3|                       4|           80|               1|                5|                    1|              2|             5|                 2|                      4|                   3|\n",
            "| 34|       No|    Travel_Rarely|     1346|Research & Develo...|              19|        2|       Medical|            1|            18|                      2|  Male|        93|             3|       1|Laboratory Techni...|              4|     Divorced|         2661|       8758|                 0|     Y|      No|               11|                3|                       3|           80|               1|                3|                    2|              3|             2|                 2|                      1|                   2|\n",
            "| 28|      Yes|    Travel_Rarely|      103|Research & Develo...|              24|        3| Life Sciences|            1|            19|                      3|  Male|        50|             2|       1|Laboratory Techni...|              3|       Single|         2028|      12947|                 5|     Y|     Yes|               14|                3|                       2|           80|               0|                6|                    4|              3|             4|                 2|                      0|                   3|\n",
            "| 29|       No|    Travel_Rarely|     1389|Research & Develo...|              21|        4| Life Sciences|            1|            20|                      2|Female|        51|             4|       3|Manufacturing Dir...|              1|     Divorced|         9980|      10195|                 1|     Y|      No|               11|                3|                       3|           80|               1|               10|                    1|              3|            10|                 9|                      8|                   8|\n",
            "| 32|       No|    Travel_Rarely|      334|Research & Develo...|               5|        2| Life Sciences|            1|            21|                      1|  Male|        80|             4|       1|  Research Scientist|              2|     Divorced|         3298|      15053|                 0|     Y|     Yes|               12|                3|                       4|           80|               2|                7|                    5|              2|             6|                 2|                      0|                   5|\n",
            "| 22|       No|       Non-Travel|     1123|Research & Develo...|              16|        2|       Medical|            1|            22|                      4|  Male|        96|             4|       1|Laboratory Techni...|              4|     Divorced|         2935|       7324|                 1|     Y|     Yes|               13|                3|                       2|           80|               2|                1|                    2|              2|             1|                 0|                      0|                   0|\n",
            "| 53|       No|    Travel_Rarely|     1219|               Sales|               2|        4| Life Sciences|            1|            23|                      1|Female|        78|             2|       4|             Manager|              4|      Married|        15427|      22021|                 2|     Y|      No|               16|                3|                       3|           80|               0|               31|                    3|              3|            25|                 8|                      3|                   7|\n",
            "| 38|       No|    Travel_Rarely|      371|Research & Develo...|               2|        3| Life Sciences|            1|            24|                      4|  Male|        45|             3|       1|  Research Scientist|              4|       Single|         3944|       4306|                 5|     Y|     Yes|               11|                3|                       3|           80|               0|                6|                    3|              3|             3|                 2|                      1|                   2|\n",
            "+---+---------+-----------------+---------+--------------------+----------------+---------+--------------+-------------+--------------+-----------------------+------+----------+--------------+--------+--------------------+---------------+-------------+-------------+-----------+------------------+------+--------+-----------------+-----------------+------------------------+-------------+----------------+-----------------+---------------------+---------------+--------------+------------------+-----------------------+--------------------+\n",
            "only showing top 20 rows\n",
            "\n"
          ]
        }
      ]
    },
    {
      "cell_type": "code",
      "source": [
        "df.select('Age','JobRole').show()"
      ],
      "metadata": {
        "colab": {
          "base_uri": "https://localhost:8080/"
        },
        "id": "OWr1NHCufz_p",
        "outputId": "08396e28-d3ca-4268-f7e3-309d853eb103"
      },
      "execution_count": 21,
      "outputs": [
        {
          "output_type": "stream",
          "name": "stdout",
          "text": [
            "+---+--------------------+\n",
            "|Age|             JobRole|\n",
            "+---+--------------------+\n",
            "| 41|     Sales Executive|\n",
            "| 49|  Research Scientist|\n",
            "| 37|Laboratory Techni...|\n",
            "| 33|  Research Scientist|\n",
            "| 27|Laboratory Techni...|\n",
            "| 32|Laboratory Techni...|\n",
            "| 59|Laboratory Techni...|\n",
            "| 30|Laboratory Techni...|\n",
            "| 38|Manufacturing Dir...|\n",
            "| 36|Healthcare Repres...|\n",
            "| 35|Laboratory Techni...|\n",
            "| 29|Laboratory Techni...|\n",
            "| 31|  Research Scientist|\n",
            "| 34|Laboratory Techni...|\n",
            "| 28|Laboratory Techni...|\n",
            "| 29|Manufacturing Dir...|\n",
            "| 32|  Research Scientist|\n",
            "| 22|Laboratory Techni...|\n",
            "| 53|             Manager|\n",
            "| 38|  Research Scientist|\n",
            "+---+--------------------+\n",
            "only showing top 20 rows\n",
            "\n"
          ]
        }
      ]
    },
    {
      "cell_type": "code",
      "source": [
        "#aliasing column\n",
        "df.select(df.Age.alias(\"EmpAge\")).show()"
      ],
      "metadata": {
        "colab": {
          "base_uri": "https://localhost:8080/"
        },
        "id": "q0dr_OLYgNgb",
        "outputId": "9f6d5383-e732-438f-b3d7-93c5c3518f2f"
      },
      "execution_count": 22,
      "outputs": [
        {
          "output_type": "stream",
          "name": "stdout",
          "text": [
            "+------+\n",
            "|EmpAge|\n",
            "+------+\n",
            "|    41|\n",
            "|    49|\n",
            "|    37|\n",
            "|    33|\n",
            "|    27|\n",
            "|    32|\n",
            "|    59|\n",
            "|    30|\n",
            "|    38|\n",
            "|    36|\n",
            "|    35|\n",
            "|    29|\n",
            "|    31|\n",
            "|    34|\n",
            "|    28|\n",
            "|    29|\n",
            "|    32|\n",
            "|    22|\n",
            "|    53|\n",
            "|    38|\n",
            "+------+\n",
            "only showing top 20 rows\n",
            "\n"
          ]
        }
      ]
    },
    {
      "cell_type": "code",
      "source": [
        "#order a column\n",
        "df.orderBy(df.JobRole.asc()).show()"
      ],
      "metadata": {
        "colab": {
          "base_uri": "https://localhost:8080/"
        },
        "id": "mhFkBdYZh_sX",
        "outputId": "86c36c64-ed3a-45c4-f4c0-3495eea4c3f5"
      },
      "execution_count": 24,
      "outputs": [
        {
          "output_type": "stream",
          "name": "stdout",
          "text": [
            "+---+---------+-----------------+---------+--------------------+----------------+---------+----------------+-------------+--------------+-----------------------+------+----------+--------------+--------+--------------------+---------------+-------------+-------------+-----------+------------------+------+--------+-----------------+-----------------+------------------------+-------------+----------------+-----------------+---------------------+---------------+--------------+------------------+-----------------------+--------------------+\n",
            "|Age|Attrition|   BusinessTravel|DailyRate|          Department|DistanceFromHome|Education|  EducationField|EmployeeCount|EmployeeNumber|EnvironmentSatisfaction|Gender|HourlyRate|JobInvolvement|JobLevel|             JobRole|JobSatisfaction|MaritalStatus|MonthlyIncome|MonthlyRate|NumCompaniesWorked|Over18|OverTime|PercentSalaryHike|PerformanceRating|RelationshipSatisfaction|StandardHours|StockOptionLevel|TotalWorkingYears|TrainingTimesLastYear|WorkLifeBalance|YearsAtCompany|YearsInCurrentRole|YearsSinceLastPromotion|YearsWithCurrManager|\n",
            "+---+---------+-----------------+---------+--------------------+----------------+---------+----------------+-------------+--------------+-----------------------+------+----------+--------------+--------+--------------------+---------------+-------------+-------------+-----------+------------------+------+--------+-----------------+-----------------+------------------------+-------------+----------------+-----------------+---------------------+---------------+--------------+------------------+-----------------------+--------------------+\n",
            "| 45|       No|    Travel_Rarely|     1385|Research & Develo...|              20|        2|         Medical|            1|           372|                      3|  Male|        79|             3|       4|Healthcare Repres...|              4|      Married|        13496|       7501|                 0|     Y|     Yes|               14|                3|                       2|           80|               0|               21|                    2|              3|            20|                 7|                      4|                  10|\n",
            "| 42|       No|    Travel_Rarely|      622|Research & Develo...|               2|        4|   Life Sciences|            1|           659|                      3|Female|        81|             3|       2|Healthcare Repres...|              4|      Married|         4089|       5718|                 1|     Y|      No|               13|                3|                       2|           80|               2|               10|                    4|              3|            10|                 2|                      2|                   2|\n",
            "| 26|       No|Travel_Frequently|      496|Research & Develo...|              11|        2|         Medical|            1|           390|                      1|  Male|        60|             3|       2|Healthcare Repres...|              1|      Married|         4741|      22722|                 1|     Y|     Yes|               13|                3|                       3|           80|               1|                5|                    3|              3|             5|                 3|                      3|                   3|\n",
            "| 25|       No|       Non-Travel|      675|Research & Develo...|               5|        2|   Life Sciences|            1|           369|                      2|  Male|        85|             4|       2|Healthcare Repres...|              1|     Divorced|         4000|      18384|                 1|     Y|      No|               12|                3|                       4|           80|               2|                6|                    2|              3|             6|                 3|                      1|                   5|\n",
            "| 38|       No|    Travel_Rarely|      688|Research & Develo...|              23|        4|   Life Sciences|            1|           393|                      4|  Male|        82|             3|       2|Healthcare Repres...|              4|     Divorced|         5745|      18899|                 9|     Y|      No|               14|                3|                       2|           80|               1|               10|                    2|              3|             2|                 2|                      1|                   2|\n",
            "| 58|      Yes|    Travel_Rarely|      147|Research & Develo...|              23|        4|         Medical|            1|           165|                      4|Female|        94|             3|       3|Healthcare Repres...|              4|      Married|        10312|       3465|                 1|     Y|      No|               12|                3|                       4|           80|               1|               40|                    3|              2|            40|                10|                     15|                   6|\n",
            "| 28|       No|    Travel_Rarely|     1476|Research & Develo...|              16|        2|         Medical|            1|           412|                      2|  Male|        68|             4|       2|Healthcare Repres...|              1|       Single|         5661|       4824|                 0|     Y|      No|               19|                3|                       3|           80|               0|                9|                    2|              3|             8|                 3|                      0|                   7|\n",
            "| 44|       No|    Travel_Rarely|     1459|Research & Develo...|              10|        4|           Other|            1|            40|                      4|  Male|        41|             3|       2|Healthcare Repres...|              4|      Married|         6465|      19121|                 2|     Y|     Yes|               13|                3|                       4|           80|               0|                9|                    5|              4|             4|                 2|                      1|                   3|\n",
            "| 39|       No|    Travel_Rarely|     1132|Research & Develo...|               1|        3|         Medical|            1|           417|                      3|  Male|        48|             4|       3|Healthcare Repres...|              4|     Divorced|         9613|      10942|                 0|     Y|      No|               17|                3|                       1|           80|               3|               19|                    5|              2|            18|                10|                      3|                   7|\n",
            "| 40|       No|Travel_Frequently|      530|Research & Develo...|               1|        4|   Life Sciences|            1|           119|                      3|  Male|        78|             2|       4|Healthcare Repres...|              2|      Married|        13503|      14115|                 1|     Y|      No|               22|                4|                       4|           80|               1|               22|                    3|              2|            22|                 3|                     11|                  11|\n",
            "| 58|       No|       Non-Travel|      390|Research & Develo...|               1|        4|   Life Sciences|            1|           422|                      4|  Male|        32|             1|       2|Healthcare Repres...|              3|     Divorced|         5660|      17056|                 2|     Y|     Yes|               13|                3|                       4|           80|               1|               12|                    2|              3|             5|                 3|                      1|                   2|\n",
            "| 37|       No|       Non-Travel|     1040|Research & Develo...|               2|        2|   Life Sciences|            1|           139|                      3|  Male|       100|             2|       2|Healthcare Repres...|              4|     Divorced|         5163|      15850|                 5|     Y|      No|               14|                3|                       4|           80|               1|               17|                    2|              4|             1|                 0|                      0|                   0|\n",
            "| 49|       No|    Travel_Rarely|     1091|Research & Develo...|               1|        2|Technical Degree|            1|           431|                      3|Female|        90|             2|       4|Healthcare Repres...|              3|       Single|        13964|      17810|                 7|     Y|     Yes|               12|                3|                       4|           80|               0|               25|                    2|              3|             7|                 1|                      0|                   7|\n",
            "| 31|       No|    Travel_Rarely|     1463|Research & Develo...|              23|        3|         Medical|            1|           367|                      2|  Male|        64|             2|       2|Healthcare Repres...|              4|      Married|         5582|      14408|                 0|     Y|      No|               21|                4|                       2|           80|               1|               10|                    2|              3|             9|                 0|                      7|                   8|\n",
            "| 43|       No|    Travel_Rarely|     1001|Research & Develo...|               7|        3|   Life Sciences|            1|           451|                      3|Female|        43|             3|       3|Healthcare Repres...|              1|      Married|         9985|       9262|                 8|     Y|      No|               16|                3|                       1|           80|               1|               10|                    1|              2|             1|                 0|                      0|                   0|\n",
            "| 57|       No|    Travel_Rarely|      334|Research & Develo...|              24|        2|   Life Sciences|            1|           223|                      3|  Male|        83|             4|       3|Healthcare Repres...|              4|     Divorced|         9439|      23402|                 3|     Y|     Yes|               16|                3|                       2|           80|               1|               12|                    2|              1|             5|                 3|                      1|                   4|\n",
            "| 42|       No|    Travel_Rarely|     1332|Research & Develo...|               2|        4|           Other|            1|           477|                      1|  Male|        98|             2|       2|Healthcare Repres...|              4|       Single|         6781|      17078|                 3|     Y|      No|               23|                4|                       2|           80|               0|               14|                    6|              3|             1|                 0|                      0|                   0|\n",
            "| 38|      Yes|    Travel_Rarely|     1180|Research & Develo...|              29|        1|         Medical|            1|           282|                      2|  Male|        70|             3|       2|Healthcare Repres...|              1|      Married|         6673|      11354|                 7|     Y|     Yes|               19|                3|                       2|           80|               0|               17|                    2|              3|             1|                 0|                      0|                   0|\n",
            "| 57|       No|    Travel_Rarely|      593|Research & Develo...|               1|        4|         Medical|            1|           482|                      4|  Male|        88|             3|       2|Healthcare Repres...|              3|      Married|         6755|       2967|                 2|     Y|      No|               11|                3|                       3|           80|               0|               15|                    2|              3|             3|                 2|                      1|                   2|\n",
            "| 46|       No|    Travel_Rarely|      644|Research & Develo...|               1|        4|         Medical|            1|           288|                      4|  Male|        97|             3|       3|Healthcare Repres...|              1|     Divorced|         9396|      12368|                 7|     Y|      No|               16|                3|                       3|           80|               1|               17|                    3|              3|             4|                 2|                      0|                   3|\n",
            "+---+---------+-----------------+---------+--------------------+----------------+---------+----------------+-------------+--------------+-----------------------+------+----------+--------------+--------+--------------------+---------------+-------------+-------------+-----------+------------------+------+--------+-----------------+-----------------+------------------------+-------------+----------------+-----------------+---------------------+---------------+--------------+------------------+-----------------------+--------------------+\n",
            "only showing top 20 rows\n",
            "\n"
          ]
        }
      ]
    },
    {
      "cell_type": "code",
      "source": [
        "df.select(df.JobRole).orderBy(df.JobRole.asc()).show()"
      ],
      "metadata": {
        "colab": {
          "base_uri": "https://localhost:8080/"
        },
        "id": "is5FlRU8jVcM",
        "outputId": "0d65fd59-49c2-4176-d14e-49161b4d772c"
      },
      "execution_count": 31,
      "outputs": [
        {
          "output_type": "stream",
          "name": "stdout",
          "text": [
            "+--------------------+\n",
            "|             JobRole|\n",
            "+--------------------+\n",
            "|Healthcare Repres...|\n",
            "|Healthcare Repres...|\n",
            "|Healthcare Repres...|\n",
            "|Healthcare Repres...|\n",
            "|Healthcare Repres...|\n",
            "|Healthcare Repres...|\n",
            "|Healthcare Repres...|\n",
            "|Healthcare Repres...|\n",
            "|Healthcare Repres...|\n",
            "|Healthcare Repres...|\n",
            "|Healthcare Repres...|\n",
            "|Healthcare Repres...|\n",
            "|Healthcare Repres...|\n",
            "|Healthcare Repres...|\n",
            "|Healthcare Repres...|\n",
            "|Healthcare Repres...|\n",
            "|Healthcare Repres...|\n",
            "|Healthcare Repres...|\n",
            "|Healthcare Repres...|\n",
            "|Healthcare Repres...|\n",
            "+--------------------+\n",
            "only showing top 20 rows\n",
            "\n"
          ]
        }
      ]
    },
    {
      "cell_type": "code",
      "source": [
        "#distinct in column\n",
        "df.select(df.JobRole).orderBy(df.JobRole.asc()).distinct().show()"
      ],
      "metadata": {
        "colab": {
          "base_uri": "https://localhost:8080/"
        },
        "id": "JmJeVCPLj0f9",
        "outputId": "cf059237-66f3-4434-c9c9-df557696567b"
      },
      "execution_count": 28,
      "outputs": [
        {
          "output_type": "stream",
          "name": "stdout",
          "text": [
            "+--------------------+\n",
            "|             JobRole|\n",
            "+--------------------+\n",
            "|     Sales Executive|\n",
            "|Manufacturing Dir...|\n",
            "|Laboratory Techni...|\n",
            "|Sales Representative|\n",
            "|Healthcare Repres...|\n",
            "|  Research Scientist|\n",
            "|             Manager|\n",
            "|   Research Director|\n",
            "|     Human Resources|\n",
            "+--------------------+\n",
            "\n"
          ]
        }
      ]
    },
    {
      "cell_type": "code",
      "source": [
        "#cast\n",
        "df.dtypes"
      ],
      "metadata": {
        "colab": {
          "base_uri": "https://localhost:8080/"
        },
        "id": "Q7BCEcNWkEO4",
        "outputId": "83c4f0d4-0ae2-42cd-8312-3a8d10c275d8"
      },
      "execution_count": 37,
      "outputs": [
        {
          "output_type": "execute_result",
          "data": {
            "text/plain": [
              "[('Age', 'int'),\n",
              " ('Attrition', 'string'),\n",
              " ('BusinessTravel', 'string'),\n",
              " ('DailyRate', 'int'),\n",
              " ('Department', 'string'),\n",
              " ('DistanceFromHome', 'int'),\n",
              " ('Education', 'int'),\n",
              " ('EducationField', 'string'),\n",
              " ('EmployeeCount', 'int'),\n",
              " ('EmployeeNumber', 'int'),\n",
              " ('EnvironmentSatisfaction', 'int'),\n",
              " ('Gender', 'string'),\n",
              " ('HourlyRate', 'int'),\n",
              " ('JobInvolvement', 'int'),\n",
              " ('JobLevel', 'int'),\n",
              " ('JobRole', 'string'),\n",
              " ('JobSatisfaction', 'int'),\n",
              " ('MaritalStatus', 'string'),\n",
              " ('MonthlyIncome', 'int'),\n",
              " ('MonthlyRate', 'int'),\n",
              " ('NumCompaniesWorked', 'int'),\n",
              " ('Over18', 'string'),\n",
              " ('OverTime', 'string'),\n",
              " ('PercentSalaryHike', 'int'),\n",
              " ('PerformanceRating', 'int'),\n",
              " ('RelationshipSatisfaction', 'int'),\n",
              " ('StandardHours', 'int'),\n",
              " ('StockOptionLevel', 'int'),\n",
              " ('TotalWorkingYears', 'int'),\n",
              " ('TrainingTimesLastYear', 'int'),\n",
              " ('WorkLifeBalance', 'int'),\n",
              " ('YearsAtCompany', 'int'),\n",
              " ('YearsInCurrentRole', 'int'),\n",
              " ('YearsSinceLastPromotion', 'int'),\n",
              " ('YearsWithCurrManager', 'int')]"
            ]
          },
          "metadata": {},
          "execution_count": 37
        }
      ]
    },
    {
      "cell_type": "code",
      "source": [
        "df_new=df.select(df.JobSatisfaction.cast(\"string\"))\n",
        "df_new.show()"
      ],
      "metadata": {
        "colab": {
          "base_uri": "https://localhost:8080/"
        },
        "id": "TejY-opAowJz",
        "outputId": "c07939fb-17e0-4aea-c3c9-2714a7ee1ba1"
      },
      "execution_count": 41,
      "outputs": [
        {
          "output_type": "stream",
          "name": "stdout",
          "text": [
            "+---------------+\n",
            "|JobSatisfaction|\n",
            "+---------------+\n",
            "|              4|\n",
            "|              2|\n",
            "|              3|\n",
            "|              3|\n",
            "|              2|\n",
            "|              4|\n",
            "|              1|\n",
            "|              3|\n",
            "|              3|\n",
            "|              3|\n",
            "|              2|\n",
            "|              3|\n",
            "|              3|\n",
            "|              4|\n",
            "|              3|\n",
            "|              1|\n",
            "|              2|\n",
            "|              4|\n",
            "|              4|\n",
            "|              4|\n",
            "+---------------+\n",
            "only showing top 20 rows\n",
            "\n"
          ]
        }
      ]
    },
    {
      "cell_type": "code",
      "source": [
        "df_new.dtypes"
      ],
      "metadata": {
        "colab": {
          "base_uri": "https://localhost:8080/"
        },
        "id": "7IQxjE3hpUO1",
        "outputId": "4f37696d-77c6-467c-93d9-aa17193e1993"
      },
      "execution_count": 43,
      "outputs": [
        {
          "output_type": "execute_result",
          "data": {
            "text/plain": [
              "[('JobSatisfaction', 'string')]"
            ]
          },
          "metadata": {},
          "execution_count": 43
        }
      ]
    },
    {
      "cell_type": "code",
      "source": [
        "#between\n",
        "df.where(col(\"age\").between(40, 50)).show()"
      ],
      "metadata": {
        "colab": {
          "base_uri": "https://localhost:8080/"
        },
        "id": "5ZfvqY2cpxQs",
        "outputId": "8eb2a84f-52ef-492f-b7fe-b25bf6994002"
      },
      "execution_count": 46,
      "outputs": [
        {
          "output_type": "stream",
          "name": "stdout",
          "text": [
            "+---+---------+-----------------+---------+--------------------+----------------+---------+----------------+-------------+--------------+-----------------------+------+----------+--------------+--------+--------------------+---------------+-------------+-------------+-----------+------------------+------+--------+-----------------+-----------------+------------------------+-------------+----------------+-----------------+---------------------+---------------+--------------+------------------+-----------------------+--------------------+\n",
            "|Age|Attrition|   BusinessTravel|DailyRate|          Department|DistanceFromHome|Education|  EducationField|EmployeeCount|EmployeeNumber|EnvironmentSatisfaction|Gender|HourlyRate|JobInvolvement|JobLevel|             JobRole|JobSatisfaction|MaritalStatus|MonthlyIncome|MonthlyRate|NumCompaniesWorked|Over18|OverTime|PercentSalaryHike|PerformanceRating|RelationshipSatisfaction|StandardHours|StockOptionLevel|TotalWorkingYears|TrainingTimesLastYear|WorkLifeBalance|YearsAtCompany|YearsInCurrentRole|YearsSinceLastPromotion|YearsWithCurrManager|\n",
            "+---+---------+-----------------+---------+--------------------+----------------+---------+----------------+-------------+--------------+-----------------------+------+----------+--------------+--------+--------------------+---------------+-------------+-------------+-----------+------------------+------+--------+-----------------+-----------------+------------------------+-------------+----------------+-----------------+---------------------+---------------+--------------+------------------+-----------------------+--------------------+\n",
            "| 41|      Yes|    Travel_Rarely|     1102|               Sales|               1|        2|   Life Sciences|            1|             1|                      2|Female|        94|             3|       2|     Sales Executive|              4|       Single|         5993|      19479|                 8|     Y|     Yes|               11|                3|                       1|           80|               0|                8|                    0|              1|             6|                 4|                      0|                   5|\n",
            "| 49|       No|Travel_Frequently|      279|Research & Develo...|               8|        1|   Life Sciences|            1|             2|                      3|  Male|        61|             2|       2|  Research Scientist|              2|      Married|         5130|      24907|                 1|     Y|      No|               23|                4|                       4|           80|               1|               10|                    3|              3|            10|                 7|                      1|                   7|\n",
            "| 42|       No|    Travel_Rarely|      691|               Sales|               8|        4|       Marketing|            1|            35|                      3|  Male|        48|             3|       2|     Sales Executive|              2|      Married|         6825|      21173|                 0|     Y|      No|               11|                3|                       4|           80|               1|               10|                    2|              3|             9|                 7|                      4|                   2|\n",
            "| 44|       No|    Travel_Rarely|      477|Research & Develo...|               7|        4|         Medical|            1|            36|                      1|Female|        42|             2|       3|Healthcare Repres...|              4|      Married|        10248|       2094|                 3|     Y|      No|               14|                3|                       4|           80|               1|               24|                    4|              3|            22|                 6|                      5|                  17|\n",
            "| 46|       No|    Travel_Rarely|      705|               Sales|               2|        4|       Marketing|            1|            38|                      2|Female|        83|             3|       5|             Manager|              1|       Single|        18947|      22822|                 3|     Y|      No|               12|                3|                       4|           80|               0|               22|                    2|              2|             2|                 2|                      2|                   1|\n",
            "| 44|       No|    Travel_Rarely|     1459|Research & Develo...|              10|        4|           Other|            1|            40|                      4|  Male|        41|             3|       2|Healthcare Repres...|              4|      Married|         6465|      19121|                 2|     Y|     Yes|               13|                3|                       4|           80|               0|                9|                    5|              4|             4|                 2|                      1|                   3|\n",
            "| 43|       No|    Travel_Rarely|     1273|Research & Develo...|               2|        2|         Medical|            1|            46|                      4|Female|        72|             4|       1|  Research Scientist|              3|     Divorced|         2645|      21923|                 1|     Y|      No|               12|                3|                       4|           80|               2|                6|                    3|              2|             5|                 3|                      1|                   4|\n",
            "| 50|      Yes|    Travel_Rarely|      869|               Sales|               3|        2|       Marketing|            1|            47|                      1|  Male|        86|             2|       1|Sales Representative|              3|      Married|         2683|       3810|                 1|     Y|     Yes|               14|                3|                       3|           80|               0|                3|                    2|              3|             3|                 2|                      0|                   2|\n",
            "| 41|      Yes|    Travel_Rarely|     1360|Research & Develo...|              12|        3|Technical Degree|            1|            58|                      2|Female|        49|             3|       5|   Research Director|              3|      Married|        19545|      16280|                 1|     Y|      No|               12|                3|                       4|           80|               0|               23|                    0|              3|            22|                15|                     15|                   8|\n",
            "| 46|       No|Travel_Frequently|     1211|               Sales|               5|        4|       Marketing|            1|            62|                      1|  Male|        98|             3|       2|     Sales Executive|              4|       Single|         5772|      20445|                 4|     Y|     Yes|               21|                4|                       3|           80|               0|               14|                    4|              3|             9|                 6|                      0|                   8|\n",
            "| 48|      Yes|    Travel_Rarely|      626|Research & Develo...|               1|        2|   Life Sciences|            1|            64|                      1|  Male|        98|             2|       3|Laboratory Techni...|              3|       Single|         5381|      19294|                 9|     Y|     Yes|               13|                3|                       4|           80|               0|               23|                    2|              3|             1|                 0|                      0|                   0|\n",
            "| 44|       No|    Travel_Rarely|     1488|               Sales|               1|        5|       Marketing|            1|            68|                      2|Female|        75|             3|       2|     Sales Executive|              1|     Divorced|         5454|       4009|                 5|     Y|     Yes|               21|                4|                       3|           80|               1|                9|                    2|              2|             4|                 3|                      1|                   3|\n",
            "| 50|       No|    Travel_Rarely|      989|Research & Develo...|               7|        2|         Medical|            1|            80|                      2|Female|        43|             2|       5|   Research Director|              3|     Divorced|        18740|      16701|                 5|     Y|     Yes|               12|                3|                       4|           80|               1|               29|                    2|              2|            27|                 3|                     13|                   8|\n",
            "| 45|       No|    Travel_Rarely|     1339|Research & Develo...|               7|        3|   Life Sciences|            1|            86|                      2|  Male|        59|             3|       3|  Research Scientist|              1|     Divorced|         9724|      18787|                 2|     Y|      No|               17|                3|                       3|           80|               1|               25|                    2|              3|             1|                 0|                      0|                   0|\n",
            "| 45|       No|    Travel_Rarely|      193|Research & Develo...|               6|        4|           Other|            1|           101|                      4|  Male|        52|             3|       3|   Research Director|              1|      Married|        13245|      15067|                 4|     Y|     Yes|               14|                3|                       2|           80|               0|               17|                    3|              4|             0|                 0|                      0|                   0|\n",
            "| 46|       No|    Travel_Rarely|      945|     Human Resources|               5|        2|         Medical|            1|           103|                      2|  Male|        80|             3|       2|     Human Resources|              2|     Divorced|         5021|      10425|                 8|     Y|     Yes|               22|                4|                       4|           80|               1|               16|                    2|              3|             4|                 2|                      0|                   2|\n",
            "| 46|      Yes|    Travel_Rarely|      669|               Sales|               9|        2|         Medical|            1|           118|                      3|  Male|        64|             2|       3|     Sales Executive|              4|       Single|         9619|      13596|                 1|     Y|      No|               16|                3|                       4|           80|               0|                9|                    3|              3|             9|                 8|                      4|                   7|\n",
            "| 40|       No|Travel_Frequently|      530|Research & Develo...|               1|        4|   Life Sciences|            1|           119|                      3|  Male|        78|             2|       4|Healthcare Repres...|              2|      Married|        13503|      14115|                 1|     Y|      No|               22|                4|                       4|           80|               1|               22|                    3|              2|            22|                 3|                     11|                  11|\n",
            "| 46|       No|Travel_Frequently|      638|Research & Develo...|               1|        3|         Medical|            1|           124|                      3|  Male|        40|             2|       3|Healthcare Repres...|              1|      Married|        10673|       3142|                 2|     Y|     Yes|               13|                3|                       3|           80|               1|               21|                    5|              2|            10|                 9|                      9|                   5|\n",
            "| 44|       No|       Non-Travel|      489|Research & Develo...|              23|        3|         Medical|            1|           132|                      2|  Male|        67|             3|       2|Laboratory Techni...|              2|      Married|         2042|      25043|                 4|     Y|      No|               12|                3|                       3|           80|               1|               17|                    3|              4|             3|                 2|                      1|                   2|\n",
            "+---+---------+-----------------+---------+--------------------+----------------+---------+----------------+-------------+--------------+-----------------------+------+----------+--------------+--------+--------------------+---------------+-------------+-------------+-----------+------------------+------+--------+-----------------+-----------------+------------------------+-------------+----------------+-----------------+---------------------+---------------+--------------+------------------+-----------------------+--------------------+\n",
            "only showing top 20 rows\n",
            "\n"
          ]
        }
      ]
    },
    {
      "cell_type": "code",
      "source": [],
      "metadata": {
        "id": "t_rz1Z4KrhAU"
      },
      "execution_count": null,
      "outputs": []
    }
  ]
}