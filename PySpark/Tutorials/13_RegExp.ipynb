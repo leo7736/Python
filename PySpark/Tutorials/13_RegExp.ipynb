{
  "nbformat": 4,
  "nbformat_minor": 0,
  "metadata": {
    "colab": {
      "provenance": []
    },
    "kernelspec": {
      "name": "python3",
      "display_name": "Python 3"
    },
    "language_info": {
      "name": "python"
    }
  },
  "cells": [
    {
      "cell_type": "code",
      "execution_count": 1,
      "metadata": {
        "colab": {
          "base_uri": "https://localhost:8080/"
        },
        "id": "THygdpZKE4EU",
        "outputId": "a4f4f607-aa40-450e-97f8-2fac611ebf44"
      },
      "outputs": [
        {
          "output_type": "stream",
          "name": "stdout",
          "text": [
            "Collecting pyspark\n",
            "  Downloading pyspark-3.5.0.tar.gz (316.9 MB)\n",
            "\u001b[2K     \u001b[90m━━━━━━━━━━━━━━━━━━━━━━━━━━━━━━━━━━━━━━━━\u001b[0m \u001b[32m316.9/316.9 MB\u001b[0m \u001b[31m3.2 MB/s\u001b[0m eta \u001b[36m0:00:00\u001b[0m\n",
            "\u001b[?25h  Preparing metadata (setup.py) ... \u001b[?25l\u001b[?25hdone\n",
            "Requirement already satisfied: py4j==0.10.9.7 in /usr/local/lib/python3.10/dist-packages (from pyspark) (0.10.9.7)\n",
            "Building wheels for collected packages: pyspark\n",
            "  Building wheel for pyspark (setup.py) ... \u001b[?25l\u001b[?25hdone\n",
            "  Created wheel for pyspark: filename=pyspark-3.5.0-py2.py3-none-any.whl size=317425344 sha256=dff3012df6cac470164d133107561b979d61dae16c9f7ffa3d9a8607761bcdde\n",
            "  Stored in directory: /root/.cache/pip/wheels/41/4e/10/c2cf2467f71c678cfc8a6b9ac9241e5e44a01940da8fbb17fc\n",
            "Successfully built pyspark\n",
            "Installing collected packages: pyspark\n",
            "Successfully installed pyspark-3.5.0\n"
          ]
        }
      ],
      "source": [
        "\n",
        "!pip install pyspark"
      ]
    },
    {
      "cell_type": "code",
      "source": [
        "from pyspark.sql import *\n",
        "from pyspark.sql.functions import *"
      ],
      "metadata": {
        "id": "mNe1gU-yFPX6"
      },
      "execution_count": 2,
      "outputs": []
    },
    {
      "cell_type": "code",
      "source": [
        "spark  = SparkSession.builder.appName(\"test\").getOrCreate()"
      ],
      "metadata": {
        "id": "0SukM4IEFgKC"
      },
      "execution_count": 3,
      "outputs": []
    },
    {
      "cell_type": "markdown",
      "source": [
        "regular expression functions that allow you to perform pattern matching on strings in a DataFrame. Regular expressions are powerful tools for matching, searching, and manipulating strings based on specific patterns.\n",
        "\n",
        "Here are some key PySpark regexp functions:\n",
        "\n",
        "regexp_extract:\n",
        "\n",
        "Extracts substrings that match a regular expression pattern.\n",
        "Syntax: regexp_extract(col, pattern, groupIndex).\n",
        "Example: df.select(regexp_extract(\"text\", \"(\\\\w+)\", 1).alias(\"word\")).\n",
        "regexp_replace:\n",
        "\n",
        "Replaces substrings that match a regular expression pattern with a specified string.\n",
        "Syntax: regexp_replace(col, pattern, replacement).\n",
        "Example: df.select(regexp_replace(\"text\", \"\\\\s+\", \"_\").alias(\"modified_text\")).\n",
        "regexp_like:\n",
        "\n",
        "Checks if a column matches a regular expression pattern.\n",
        "Syntax: regexp_like(col, pattern).\n",
        "Example: df.filter(regexp_like(\"text\", \"pattern\")).show().\n",
        "regexp_instr:\n",
        "\n",
        "Returns the position of the first occurrence of a regular expression pattern in a column.\n",
        "Syntax: regexp_instr(col, pattern, start).\n",
        "Example: df.select(regexp_instr(\"text\", \"\\\\d+\", 1).alias(\"position\")).\n",
        "regexp_substr:\n",
        "\n",
        "Returns the substring that matches a regular expression pattern.\n",
        "Syntax: regexp_substr(col, pattern, pos).\n",
        "Example: df.select(regexp_substr(\"text\", \"\\\\w+\", 1).alias(\"substring\"))."
      ],
      "metadata": {
        "id": "w_KrypVAGSAc"
      }
    },
    {
      "cell_type": "code",
      "source": [
        "df= spark.createDataFrame(data=[('10lss1 ab',)],schema = ['str'])\n",
        "df.show()"
      ],
      "metadata": {
        "colab": {
          "base_uri": "https://localhost:8080/"
        },
        "id": "W2qDHoN4Fg20",
        "outputId": "eb684b48-a9d0-48e7-fd19-3c9b3e3232ed"
      },
      "execution_count": 8,
      "outputs": [
        {
          "output_type": "stream",
          "name": "stdout",
          "text": [
            "+---------+\n",
            "|      str|\n",
            "+---------+\n",
            "|10lss1 ab|\n",
            "+---------+\n",
            "\n"
          ]
        }
      ]
    },
    {
      "cell_type": "code",
      "source": [
        "df.select(df.str,regexp_extract(df.str,'(\\d)',1)).show()"
      ],
      "metadata": {
        "colab": {
          "base_uri": "https://localhost:8080/"
        },
        "id": "SSryY1uMJYk1",
        "outputId": "a40cfbf9-ba60-4ad7-b536-8b76695f57ba"
      },
      "execution_count": 9,
      "outputs": [
        {
          "output_type": "stream",
          "name": "stdout",
          "text": [
            "+---------+----------------------------+\n",
            "|      str|regexp_extract(str, (\\d), 1)|\n",
            "+---------+----------------------------+\n",
            "|10lss1 ab|                           1|\n",
            "+---------+----------------------------+\n",
            "\n"
          ]
        }
      ]
    },
    {
      "cell_type": "code",
      "source": [
        "df.select(df.str,regexp_extract(df.str,'(\\d+)',1)).show()"
      ],
      "metadata": {
        "colab": {
          "base_uri": "https://localhost:8080/"
        },
        "id": "BXR8gg6xJ-Il",
        "outputId": "d4294db4-30d3-4e6a-961c-c7c1cff6a64e"
      },
      "execution_count": 10,
      "outputs": [
        {
          "output_type": "stream",
          "name": "stdout",
          "text": [
            "+---------+-----------------------------+\n",
            "|      str|regexp_extract(str, (\\d+), 1)|\n",
            "+---------+-----------------------------+\n",
            "|10lss1 ab|                           10|\n",
            "+---------+-----------------------------+\n",
            "\n"
          ]
        }
      ]
    },
    {
      "cell_type": "code",
      "source": [
        "df.select(df.str,regexp_extract(df.str,'(\\d+)(\\w+)',2)).show()"
      ],
      "metadata": {
        "colab": {
          "base_uri": "https://localhost:8080/"
        },
        "id": "UWJU5jrPKN4m",
        "outputId": "e40910ea-d610-47f8-8a7e-1d651abc3b10"
      },
      "execution_count": 13,
      "outputs": [
        {
          "output_type": "stream",
          "name": "stdout",
          "text": [
            "+---------+----------------------------------+\n",
            "|      str|regexp_extract(str, (\\d+)(\\w+), 2)|\n",
            "+---------+----------------------------------+\n",
            "|10lss1 ab|                              lss1|\n",
            "+---------+----------------------------------+\n",
            "\n"
          ]
        }
      ]
    },
    {
      "cell_type": "code",
      "source": [
        "df.select(df.str,regexp_extract(df.str,'(\\d+)(\\w+)(\\s)([a-z]+)',4)).show()"
      ],
      "metadata": {
        "colab": {
          "base_uri": "https://localhost:8080/"
        },
        "id": "3Xc2BUyYKeoe",
        "outputId": "011c0a8f-5768-482e-80c3-22c90ff35fd5"
      },
      "execution_count": 16,
      "outputs": [
        {
          "output_type": "stream",
          "name": "stdout",
          "text": [
            "+---------+----------------------------------------------+\n",
            "|      str|regexp_extract(str, (\\d+)(\\w+)(\\s)([a-z]+), 4)|\n",
            "+---------+----------------------------------------------+\n",
            "|10lss1 ab|                                            ab|\n",
            "+---------+----------------------------------------------+\n",
            "\n"
          ]
        }
      ]
    },
    {
      "cell_type": "code",
      "source": [
        "#regexp_replace(str,pattern,replacement):"
      ],
      "metadata": {
        "id": "Fz2cvurxLLbV"
      },
      "execution_count": 17,
      "outputs": []
    },
    {
      "cell_type": "code",
      "source": [
        "df.select(df.str,regexp_replace(df.str,'(\\d+)','xx')).show()"
      ],
      "metadata": {
        "colab": {
          "base_uri": "https://localhost:8080/"
        },
        "id": "KyGnyu0HLhsM",
        "outputId": "bd5d8adc-9762-4442-fb0c-9016acbe9db6"
      },
      "execution_count": 19,
      "outputs": [
        {
          "output_type": "stream",
          "name": "stdout",
          "text": [
            "+---------+---------------------------------+\n",
            "|      str|regexp_replace(str, (\\d+), xx, 1)|\n",
            "+---------+---------------------------------+\n",
            "|10lss1 ab|                       xxlssxx ab|\n",
            "+---------+---------------------------------+\n",
            "\n"
          ]
        }
      ]
    },
    {
      "cell_type": "code",
      "source": [
        "addr= [(1,'2625 Indian School Rd','pheonix'),\n",
        "       (2,\"1234 Thomas st\",\"Glendale\")]\n",
        "\n",
        "df=  spark.createDataFrame(addr,[\"id\",\"addr\",\"city\"])\n",
        "df.show(truncate=False)"
      ],
      "metadata": {
        "colab": {
          "base_uri": "https://localhost:8080/"
        },
        "id": "YGKq4vYfL6Wo",
        "outputId": "29d300bc-b899-4c50-d684-c183459a1b4f"
      },
      "execution_count": 23,
      "outputs": [
        {
          "output_type": "stream",
          "name": "stdout",
          "text": [
            "+---+---------------------+--------+\n",
            "|id |addr                 |city    |\n",
            "+---+---------------------+--------+\n",
            "|1  |2625 Indian School Rd|pheonix |\n",
            "|2  |1234 Thomas st       |Glendale|\n",
            "+---+---------------------+--------+\n",
            "\n"
          ]
        }
      ]
    },
    {
      "cell_type": "code",
      "source": [
        "from os import truncate\n",
        "df.withColumn('new_addr',\n",
        "              when(df.addr.endswith('Rd'),regexp_replace(df.addr,'Rd','Road'))\\\n",
        "              .when(df.addr.endswith('st'),regexp_replace(df.addr,'st',\"Street\"))\\\n",
        "              .otherwise(df.addr))\\\n",
        "              .show(truncate= False)"
      ],
      "metadata": {
        "colab": {
          "base_uri": "https://localhost:8080/"
        },
        "id": "n8isY4maNurX",
        "outputId": "73dfeec8-d660-4f5c-e108-ff8f392f9acb"
      },
      "execution_count": 26,
      "outputs": [
        {
          "output_type": "stream",
          "name": "stdout",
          "text": [
            "+---+---------------------+--------+-----------------------+\n",
            "|id |addr                 |city    |new_addr               |\n",
            "+---+---------------------+--------+-----------------------+\n",
            "|1  |2625 Indian School Rd|pheonix |2625 Indian School Road|\n",
            "|2  |1234 Thomas st       |Glendale|1234 Thomas Street     |\n",
            "+---+---------------------+--------+-----------------------+\n",
            "\n"
          ]
        }
      ]
    },
    {
      "cell_type": "code",
      "source": [
        "df= spark.createDataFrame(data=[('10lss1 ab',)],schema = ['str'])\n",
        "df.show()"
      ],
      "metadata": {
        "colab": {
          "base_uri": "https://localhost:8080/"
        },
        "id": "BUii00ewQnog",
        "outputId": "14c96972-0de5-4977-9749-4786ef468edd"
      },
      "execution_count": 27,
      "outputs": [
        {
          "output_type": "stream",
          "name": "stdout",
          "text": [
            "+---------+\n",
            "|      str|\n",
            "+---------+\n",
            "|10lss1 ab|\n",
            "+---------+\n",
            "\n"
          ]
        }
      ]
    },
    {
      "cell_type": "code",
      "source": [
        "df.select (df.str,df.str.rlike('\\d')).show()"
      ],
      "metadata": {
        "colab": {
          "base_uri": "https://localhost:8080/"
        },
        "id": "5GOnsyheaQB2",
        "outputId": "a48f5395-02de-4648-f39a-b46eea3b49b2"
      },
      "execution_count": 29,
      "outputs": [
        {
          "output_type": "stream",
          "name": "stdout",
          "text": [
            "+---------+--------------+\n",
            "|      str|RLIKE(str, \\d)|\n",
            "+---------+--------------+\n",
            "|10lss1 ab|          true|\n",
            "+---------+--------------+\n",
            "\n"
          ]
        }
      ]
    },
    {
      "cell_type": "code",
      "source": [],
      "metadata": {
        "id": "2MQY4BrraiQp"
      },
      "execution_count": null,
      "outputs": []
    }
  ]
}