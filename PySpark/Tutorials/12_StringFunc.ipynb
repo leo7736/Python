{
  "nbformat": 4,
  "nbformat_minor": 0,
  "metadata": {
    "colab": {
      "provenance": []
    },
    "kernelspec": {
      "name": "python3",
      "display_name": "Python 3"
    },
    "language_info": {
      "name": "python"
    }
  },
  "cells": [
    {
      "cell_type": "code",
      "execution_count": 1,
      "metadata": {
        "colab": {
          "base_uri": "https://localhost:8080/"
        },
        "id": "J2gIvSgzGdse",
        "outputId": "8710fac3-7ae9-4aac-b87f-f7d4568660bb"
      },
      "outputs": [
        {
          "output_type": "stream",
          "name": "stdout",
          "text": [
            "Collecting pyspark\n",
            "  Downloading pyspark-3.5.0.tar.gz (316.9 MB)\n",
            "\u001b[2K     \u001b[90m━━━━━━━━━━━━━━━━━━━━━━━━━━━━━━━━━━━━━━━━\u001b[0m \u001b[32m316.9/316.9 MB\u001b[0m \u001b[31m4.6 MB/s\u001b[0m eta \u001b[36m0:00:00\u001b[0m\n",
            "\u001b[?25h  Preparing metadata (setup.py) ... \u001b[?25l\u001b[?25hdone\n",
            "Requirement already satisfied: py4j==0.10.9.7 in /usr/local/lib/python3.10/dist-packages (from pyspark) (0.10.9.7)\n",
            "Building wheels for collected packages: pyspark\n",
            "  Building wheel for pyspark (setup.py) ... \u001b[?25l\u001b[?25hdone\n",
            "  Created wheel for pyspark: filename=pyspark-3.5.0-py2.py3-none-any.whl size=317425344 sha256=bb32b89ac4fd0fd590e6f2a68daeb8a13b24a4b62ffd2a62fac07ae95bdd6422\n",
            "  Stored in directory: /root/.cache/pip/wheels/41/4e/10/c2cf2467f71c678cfc8a6b9ac9241e5e44a01940da8fbb17fc\n",
            "Successfully built pyspark\n",
            "Installing collected packages: pyspark\n",
            "Successfully installed pyspark-3.5.0\n"
          ]
        }
      ],
      "source": [
        "!pip install pyspark"
      ]
    },
    {
      "cell_type": "code",
      "source": [
        "from pyspark.sql import *\n",
        "from pyspark.sql.functions import *"
      ],
      "metadata": {
        "id": "Z6PubK0EHZda"
      },
      "execution_count": 2,
      "outputs": []
    },
    {
      "cell_type": "code",
      "source": [
        "spark  = SparkSession.builder.appName(\"test\").getOrCreate()"
      ],
      "metadata": {
        "id": "V28H3eXQHhNB"
      },
      "execution_count": 3,
      "outputs": []
    },
    {
      "cell_type": "code",
      "source": [
        "data= [(\"James\",\"Sales\",\"NY\",9000,34),\n",
        "       (\"Alicia\",\"Sales\",\"NY\",8600,56),\n",
        "       (\"Robert\",\"Sales\",\"CA\",8100,30),\n",
        "       (\"John\",\"Sales\",\"AZ\",8600,31),\n",
        "       (\"Ross\",\"Sales\",\"AZ\",8100,33),\n",
        "       (\"Kathy\",\"Sales\",\"az\",1000,39),\n",
        "       (\"Lisa\",\"Finance\",\"CA\",9000,24),\n",
        "       (\"Deja\",\"Finance\",\"CA\",9900,40),\n",
        "       (\"Sugie\",\"Finance\",\"NY\",8300,36),\n",
        "       (\"Ram\",\"Finance\",\"NY\",7900,53),\n",
        "       (\"Sathya\",\"Finance\",\"AZ\",8200,53),\n",
        "       (\"Kyle\",\"Marketing\",\"CA\",8000,25),\n",
        "       (\"Reid\",\"Marketing\",\"NY\",9100,50)]\n",
        ""
      ],
      "metadata": {
        "id": "nXJ8mOxEIRef"
      },
      "execution_count": 4,
      "outputs": []
    },
    {
      "cell_type": "code",
      "source": [
        "schema= 'empname string,dept string,state string,salary int,age int'"
      ],
      "metadata": {
        "id": "WPgyS_OGIVqf"
      },
      "execution_count": 5,
      "outputs": []
    },
    {
      "cell_type": "code",
      "source": [
        "df=spark.createDataFrame(data=data,schema = schema)\n",
        "df.show()\n",
        ""
      ],
      "metadata": {
        "colab": {
          "base_uri": "https://localhost:8080/"
        },
        "id": "hjEvOPOwIYbF",
        "outputId": "b1846a92-e269-4d73-d868-44365f2a1e1e"
      },
      "execution_count": 6,
      "outputs": [
        {
          "output_type": "stream",
          "name": "stdout",
          "text": [
            "+-------+---------+-----+------+---+\n",
            "|empname|     dept|state|salary|age|\n",
            "+-------+---------+-----+------+---+\n",
            "|  James|    Sales|   NY|  9000| 34|\n",
            "| Alicia|    Sales|   NY|  8600| 56|\n",
            "| Robert|    Sales|   CA|  8100| 30|\n",
            "|   John|    Sales|   AZ|  8600| 31|\n",
            "|   Ross|    Sales|   AZ|  8100| 33|\n",
            "|  Kathy|    Sales|   az|  1000| 39|\n",
            "|   Lisa|  Finance|   CA|  9000| 24|\n",
            "|   Deja|  Finance|   CA|  9900| 40|\n",
            "|  Sugie|  Finance|   NY|  8300| 36|\n",
            "|    Ram|  Finance|   NY|  7900| 53|\n",
            "| Sathya|  Finance|   AZ|  8200| 53|\n",
            "|   Kyle|Marketing|   CA|  8000| 25|\n",
            "|   Reid|Marketing|   NY|  9100| 50|\n",
            "+-------+---------+-----+------+---+\n",
            "\n"
          ]
        }
      ]
    },
    {
      "cell_type": "code",
      "source": [
        "df=df.withColumn(\"newkey\",concat_ws(\"_\", \"empname\", \"age\"))\n"
      ],
      "metadata": {
        "id": "J85nf4iXIalO"
      },
      "execution_count": 7,
      "outputs": []
    },
    {
      "cell_type": "code",
      "source": [
        "df.show()"
      ],
      "metadata": {
        "colab": {
          "base_uri": "https://localhost:8080/"
        },
        "id": "iEKSmlY6Ig49",
        "outputId": "ab7bf7b1-82bd-4e49-b77c-952f6646683c"
      },
      "execution_count": 8,
      "outputs": [
        {
          "output_type": "stream",
          "name": "stdout",
          "text": [
            "+-------+---------+-----+------+---+---------+\n",
            "|empname|     dept|state|salary|age|   newkey|\n",
            "+-------+---------+-----+------+---+---------+\n",
            "|  James|    Sales|   NY|  9000| 34| James_34|\n",
            "| Alicia|    Sales|   NY|  8600| 56|Alicia_56|\n",
            "| Robert|    Sales|   CA|  8100| 30|Robert_30|\n",
            "|   John|    Sales|   AZ|  8600| 31|  John_31|\n",
            "|   Ross|    Sales|   AZ|  8100| 33|  Ross_33|\n",
            "|  Kathy|    Sales|   az|  1000| 39| Kathy_39|\n",
            "|   Lisa|  Finance|   CA|  9000| 24|  Lisa_24|\n",
            "|   Deja|  Finance|   CA|  9900| 40|  Deja_40|\n",
            "|  Sugie|  Finance|   NY|  8300| 36| Sugie_36|\n",
            "|    Ram|  Finance|   NY|  7900| 53|   Ram_53|\n",
            "| Sathya|  Finance|   AZ|  8200| 53|Sathya_53|\n",
            "|   Kyle|Marketing|   CA|  8000| 25|  Kyle_25|\n",
            "|   Reid|Marketing|   NY|  9100| 50|  Reid_50|\n",
            "+-------+---------+-----+------+---+---------+\n",
            "\n"
          ]
        }
      ]
    },
    {
      "cell_type": "code",
      "source": [
        "help(split)"
      ],
      "metadata": {
        "colab": {
          "base_uri": "https://localhost:8080/"
        },
        "id": "GnW5pwcbMbdD",
        "outputId": "a39e9d37-1d2b-4452-e907-45d9341e9aa7"
      },
      "execution_count": 29,
      "outputs": [
        {
          "output_type": "stream",
          "name": "stdout",
          "text": [
            "Help on function split in module pyspark.sql.functions:\n",
            "\n",
            "split(str: 'ColumnOrName', pattern: str, limit: int = -1) -> pyspark.sql.column.Column\n",
            "    Splits str around matches of the given pattern.\n",
            "    \n",
            "    .. versionadded:: 1.5.0\n",
            "    \n",
            "    .. versionchanged:: 3.4.0\n",
            "        Supports Spark Connect.\n",
            "    \n",
            "    Parameters\n",
            "    ----------\n",
            "    str : :class:`~pyspark.sql.Column` or str\n",
            "        a string expression to split\n",
            "    pattern : str\n",
            "        a string representing a regular expression. The regex string should be\n",
            "        a Java regular expression.\n",
            "    limit : int, optional\n",
            "        an integer which controls the number of times `pattern` is applied.\n",
            "    \n",
            "        * ``limit > 0``: The resulting array's length will not be more than `limit`, and the\n",
            "                         resulting array's last entry will contain all input beyond the last\n",
            "                         matched pattern.\n",
            "        * ``limit <= 0``: `pattern` will be applied as many times as possible, and the resulting\n",
            "                          array can be of any size.\n",
            "    \n",
            "        .. versionchanged:: 3.0\n",
            "           `split` now takes an optional `limit` field. If not provided, default limit value is -1.\n",
            "    \n",
            "    Returns\n",
            "    -------\n",
            "    :class:`~pyspark.sql.Column`\n",
            "        array of separated strings.\n",
            "    \n",
            "    Examples\n",
            "    --------\n",
            "    >>> df = spark.createDataFrame([('oneAtwoBthreeC',)], ['s',])\n",
            "    >>> df.select(split(df.s, '[ABC]', 2).alias('s')).collect()\n",
            "    [Row(s=['one', 'twoBthreeC'])]\n",
            "    >>> df.select(split(df.s, '[ABC]', -1).alias('s')).collect()\n",
            "    [Row(s=['one', 'two', 'three', ''])]\n",
            "\n"
          ]
        }
      ]
    },
    {
      "cell_type": "code",
      "source": [
        "df.select(split(df.newkey,\"_\").alias(\"key_split\")).show()"
      ],
      "metadata": {
        "colab": {
          "base_uri": "https://localhost:8080/"
        },
        "id": "AsQWuPvAIkrt",
        "outputId": "9630b4a8-16b4-40f3-b411-500e503c6668"
      },
      "execution_count": 11,
      "outputs": [
        {
          "output_type": "stream",
          "name": "stdout",
          "text": [
            "+------------+\n",
            "|   key_split|\n",
            "+------------+\n",
            "| [James, 34]|\n",
            "|[Alicia, 56]|\n",
            "|[Robert, 30]|\n",
            "|  [John, 31]|\n",
            "|  [Ross, 33]|\n",
            "| [Kathy, 39]|\n",
            "|  [Lisa, 24]|\n",
            "|  [Deja, 40]|\n",
            "| [Sugie, 36]|\n",
            "|   [Ram, 53]|\n",
            "|[Sathya, 53]|\n",
            "|  [Kyle, 25]|\n",
            "|  [Reid, 50]|\n",
            "+------------+\n",
            "\n"
          ]
        }
      ]
    },
    {
      "cell_type": "code",
      "source": [
        "df.select(split(df.newkey,\"_\")[0].alias(\"name\")).show()"
      ],
      "metadata": {
        "colab": {
          "base_uri": "https://localhost:8080/"
        },
        "id": "RtmbZ-tZI5Aq",
        "outputId": "f5f28da4-5d9d-455d-ad1b-ee484133e6f4"
      },
      "execution_count": 12,
      "outputs": [
        {
          "output_type": "stream",
          "name": "stdout",
          "text": [
            "+------+\n",
            "|  name|\n",
            "+------+\n",
            "| James|\n",
            "|Alicia|\n",
            "|Robert|\n",
            "|  John|\n",
            "|  Ross|\n",
            "| Kathy|\n",
            "|  Lisa|\n",
            "|  Deja|\n",
            "| Sugie|\n",
            "|   Ram|\n",
            "|Sathya|\n",
            "|  Kyle|\n",
            "|  Reid|\n",
            "+------+\n",
            "\n"
          ]
        }
      ]
    },
    {
      "cell_type": "code",
      "source": [
        "df.select(split(df.newkey,\"_\")[1].alias(\"Age\")).show()"
      ],
      "metadata": {
        "colab": {
          "base_uri": "https://localhost:8080/"
        },
        "id": "8sEA0wLdJc1f",
        "outputId": "0f962c1b-c8b1-41e1-e33e-521e3887e7c3"
      },
      "execution_count": 13,
      "outputs": [
        {
          "output_type": "stream",
          "name": "stdout",
          "text": [
            "+---+\n",
            "|Age|\n",
            "+---+\n",
            "| 34|\n",
            "| 56|\n",
            "| 30|\n",
            "| 31|\n",
            "| 33|\n",
            "| 39|\n",
            "| 24|\n",
            "| 40|\n",
            "| 36|\n",
            "| 53|\n",
            "| 53|\n",
            "| 25|\n",
            "| 50|\n",
            "+---+\n",
            "\n"
          ]
        }
      ]
    },
    {
      "cell_type": "code",
      "source": [
        "sp = spark.createDataFrame([('ab12cd23fe27kl',)],['s',])\n",
        "sp.show()"
      ],
      "metadata": {
        "colab": {
          "base_uri": "https://localhost:8080/"
        },
        "id": "eE6ShnVxJilk",
        "outputId": "3b6c06d7-f8fa-46d0-f7c0-9979e7762c38"
      },
      "execution_count": 16,
      "outputs": [
        {
          "output_type": "stream",
          "name": "stdout",
          "text": [
            "+--------------+\n",
            "|             s|\n",
            "+--------------+\n",
            "|ab12cd23fe27kl|\n",
            "+--------------+\n",
            "\n"
          ]
        }
      ]
    },
    {
      "cell_type": "code",
      "source": [
        "from os import truncate\n",
        "sp.select(split(sp.s,'[0-9]+')).show(truncate = True)"
      ],
      "metadata": {
        "colab": {
          "base_uri": "https://localhost:8080/"
        },
        "id": "smBV6bNvLMn4",
        "outputId": "fa35faa1-442e-4aae-d2be-e263d0353162"
      },
      "execution_count": 27,
      "outputs": [
        {
          "output_type": "stream",
          "name": "stdout",
          "text": [
            "+--------------------+\n",
            "|split(s, [0-9]+, -1)|\n",
            "+--------------------+\n",
            "|    [ab, cd, fe, kl]|\n",
            "+--------------------+\n",
            "\n"
          ]
        }
      ]
    },
    {
      "cell_type": "code",
      "source": [
        "#trim()\n",
        "#ltrim()\n",
        "#rtrim()"
      ],
      "metadata": {
        "id": "dKSu9zyULvEL"
      },
      "execution_count": 30,
      "outputs": []
    },
    {
      "cell_type": "code",
      "source": [
        "#lower()\n",
        "#upper()\n",
        "#inticap()"
      ],
      "metadata": {
        "id": "mHZVmD-AQc8d"
      },
      "execution_count": 32,
      "outputs": []
    },
    {
      "cell_type": "code",
      "source": [
        "#lpad()\n",
        "df.withColumn('pading',lpad(df.age,10,\"*\")).show()"
      ],
      "metadata": {
        "colab": {
          "base_uri": "https://localhost:8080/"
        },
        "id": "2r2iqigaQh7-",
        "outputId": "7f67c2b3-e2db-4f2a-c60c-a22d1a40792f"
      },
      "execution_count": 37,
      "outputs": [
        {
          "output_type": "stream",
          "name": "stdout",
          "text": [
            "+-------+---------+-----+------+---+---------+----------+\n",
            "|empname|     dept|state|salary|age|   newkey|    pading|\n",
            "+-------+---------+-----+------+---+---------+----------+\n",
            "|  James|    Sales|   NY|  9000| 34| James_34|********34|\n",
            "| Alicia|    Sales|   NY|  8600| 56|Alicia_56|********56|\n",
            "| Robert|    Sales|   CA|  8100| 30|Robert_30|********30|\n",
            "|   John|    Sales|   AZ|  8600| 31|  John_31|********31|\n",
            "|   Ross|    Sales|   AZ|  8100| 33|  Ross_33|********33|\n",
            "|  Kathy|    Sales|   az|  1000| 39| Kathy_39|********39|\n",
            "|   Lisa|  Finance|   CA|  9000| 24|  Lisa_24|********24|\n",
            "|   Deja|  Finance|   CA|  9900| 40|  Deja_40|********40|\n",
            "|  Sugie|  Finance|   NY|  8300| 36| Sugie_36|********36|\n",
            "|    Ram|  Finance|   NY|  7900| 53|   Ram_53|********53|\n",
            "| Sathya|  Finance|   AZ|  8200| 53|Sathya_53|********53|\n",
            "|   Kyle|Marketing|   CA|  8000| 25|  Kyle_25|********25|\n",
            "|   Reid|Marketing|   NY|  9100| 50|  Reid_50|********50|\n",
            "+-------+---------+-----+------+---+---------+----------+\n",
            "\n"
          ]
        }
      ]
    },
    {
      "cell_type": "code",
      "source": [
        "#rpad()\n",
        "df.withColumn('pading',rpad(df.age,10,\"*\")).show()"
      ],
      "metadata": {
        "colab": {
          "base_uri": "https://localhost:8080/"
        },
        "id": "ExAeKjT7REyh",
        "outputId": "6433677f-4108-4f5d-925b-618391a7e36d"
      },
      "execution_count": 38,
      "outputs": [
        {
          "output_type": "stream",
          "name": "stdout",
          "text": [
            "+-------+---------+-----+------+---+---------+----------+\n",
            "|empname|     dept|state|salary|age|   newkey|    pading|\n",
            "+-------+---------+-----+------+---+---------+----------+\n",
            "|  James|    Sales|   NY|  9000| 34| James_34|34********|\n",
            "| Alicia|    Sales|   NY|  8600| 56|Alicia_56|56********|\n",
            "| Robert|    Sales|   CA|  8100| 30|Robert_30|30********|\n",
            "|   John|    Sales|   AZ|  8600| 31|  John_31|31********|\n",
            "|   Ross|    Sales|   AZ|  8100| 33|  Ross_33|33********|\n",
            "|  Kathy|    Sales|   az|  1000| 39| Kathy_39|39********|\n",
            "|   Lisa|  Finance|   CA|  9000| 24|  Lisa_24|24********|\n",
            "|   Deja|  Finance|   CA|  9900| 40|  Deja_40|40********|\n",
            "|  Sugie|  Finance|   NY|  8300| 36| Sugie_36|36********|\n",
            "|    Ram|  Finance|   NY|  7900| 53|   Ram_53|53********|\n",
            "| Sathya|  Finance|   AZ|  8200| 53|Sathya_53|53********|\n",
            "|   Kyle|Marketing|   CA|  8000| 25|  Kyle_25|25********|\n",
            "|   Reid|Marketing|   NY|  9100| 50|  Reid_50|50********|\n",
            "+-------+---------+-----+------+---+---------+----------+\n",
            "\n"
          ]
        }
      ]
    },
    {
      "cell_type": "code",
      "source": [
        "#reverse()\n",
        "df.withColumn('name_rev',reverse(df.empname)).show()"
      ],
      "metadata": {
        "colab": {
          "base_uri": "https://localhost:8080/"
        },
        "id": "6fIWKUBgRfu7",
        "outputId": "c94fe2dd-95e1-4179-ac96-ab31f9cee36e"
      },
      "execution_count": 39,
      "outputs": [
        {
          "output_type": "stream",
          "name": "stdout",
          "text": [
            "+-------+---------+-----+------+---+---------+--------+\n",
            "|empname|     dept|state|salary|age|   newkey|name_rev|\n",
            "+-------+---------+-----+------+---+---------+--------+\n",
            "|  James|    Sales|   NY|  9000| 34| James_34|   semaJ|\n",
            "| Alicia|    Sales|   NY|  8600| 56|Alicia_56|  aicilA|\n",
            "| Robert|    Sales|   CA|  8100| 30|Robert_30|  treboR|\n",
            "|   John|    Sales|   AZ|  8600| 31|  John_31|    nhoJ|\n",
            "|   Ross|    Sales|   AZ|  8100| 33|  Ross_33|    ssoR|\n",
            "|  Kathy|    Sales|   az|  1000| 39| Kathy_39|   yhtaK|\n",
            "|   Lisa|  Finance|   CA|  9000| 24|  Lisa_24|    asiL|\n",
            "|   Deja|  Finance|   CA|  9900| 40|  Deja_40|    ajeD|\n",
            "|  Sugie|  Finance|   NY|  8300| 36| Sugie_36|   eiguS|\n",
            "|    Ram|  Finance|   NY|  7900| 53|   Ram_53|     maR|\n",
            "| Sathya|  Finance|   AZ|  8200| 53|Sathya_53|  ayhtaS|\n",
            "|   Kyle|Marketing|   CA|  8000| 25|  Kyle_25|    elyK|\n",
            "|   Reid|Marketing|   NY|  9100| 50|  Reid_50|    dieR|\n",
            "+-------+---------+-----+------+---+---------+--------+\n",
            "\n"
          ]
        }
      ]
    },
    {
      "cell_type": "code",
      "source": [
        "#substring\n",
        "df.select(substring(df.empname,1,4)).show()"
      ],
      "metadata": {
        "colab": {
          "base_uri": "https://localhost:8080/"
        },
        "id": "ux32yi6hSVVH",
        "outputId": "95928cb5-f5c2-4a8d-d963-6db5551ced91"
      },
      "execution_count": 47,
      "outputs": [
        {
          "output_type": "stream",
          "name": "stdout",
          "text": [
            "+------------------------+\n",
            "|substring(empname, 1, 4)|\n",
            "+------------------------+\n",
            "|                    Jame|\n",
            "|                    Alic|\n",
            "|                    Robe|\n",
            "|                    John|\n",
            "|                    Ross|\n",
            "|                    Kath|\n",
            "|                    Lisa|\n",
            "|                    Deja|\n",
            "|                    Sugi|\n",
            "|                     Ram|\n",
            "|                    Sath|\n",
            "|                    Kyle|\n",
            "|                    Reid|\n",
            "+------------------------+\n",
            "\n"
          ]
        }
      ]
    },
    {
      "cell_type": "code",
      "source": [
        "#substring_index()\n",
        "df.withColumn('dummy',substring_index(df.newkey,'_',1)).show()"
      ],
      "metadata": {
        "colab": {
          "base_uri": "https://localhost:8080/"
        },
        "id": "qvYVYvDuTZug",
        "outputId": "c7961459-392a-494e-cc2b-81fa614cfcf6"
      },
      "execution_count": 49,
      "outputs": [
        {
          "output_type": "stream",
          "name": "stdout",
          "text": [
            "+-------+---------+-----+------+---+---------+------+\n",
            "|empname|     dept|state|salary|age|   newkey| dummy|\n",
            "+-------+---------+-----+------+---+---------+------+\n",
            "|  James|    Sales|   NY|  9000| 34| James_34| James|\n",
            "| Alicia|    Sales|   NY|  8600| 56|Alicia_56|Alicia|\n",
            "| Robert|    Sales|   CA|  8100| 30|Robert_30|Robert|\n",
            "|   John|    Sales|   AZ|  8600| 31|  John_31|  John|\n",
            "|   Ross|    Sales|   AZ|  8100| 33|  Ross_33|  Ross|\n",
            "|  Kathy|    Sales|   az|  1000| 39| Kathy_39| Kathy|\n",
            "|   Lisa|  Finance|   CA|  9000| 24|  Lisa_24|  Lisa|\n",
            "|   Deja|  Finance|   CA|  9900| 40|  Deja_40|  Deja|\n",
            "|  Sugie|  Finance|   NY|  8300| 36| Sugie_36| Sugie|\n",
            "|    Ram|  Finance|   NY|  7900| 53|   Ram_53|   Ram|\n",
            "| Sathya|  Finance|   AZ|  8200| 53|Sathya_53|Sathya|\n",
            "|   Kyle|Marketing|   CA|  8000| 25|  Kyle_25|  Kyle|\n",
            "|   Reid|Marketing|   NY|  9100| 50|  Reid_50|  Reid|\n",
            "+-------+---------+-----+------+---+---------+------+\n",
            "\n"
          ]
        }
      ]
    },
    {
      "cell_type": "code",
      "source": [
        "#substring_index()\n",
        "df.withColumn('dummy',substring_index(df.newkey,'_',-1)).show()"
      ],
      "metadata": {
        "colab": {
          "base_uri": "https://localhost:8080/"
        },
        "id": "Vz59FsgSU8f4",
        "outputId": "63bfec60-2d16-44b4-df49-3dbed99c5c53"
      },
      "execution_count": 53,
      "outputs": [
        {
          "output_type": "stream",
          "name": "stdout",
          "text": [
            "+-------+---------+-----+------+---+---------+-----+\n",
            "|empname|     dept|state|salary|age|   newkey|dummy|\n",
            "+-------+---------+-----+------+---+---------+-----+\n",
            "|  James|    Sales|   NY|  9000| 34| James_34|   34|\n",
            "| Alicia|    Sales|   NY|  8600| 56|Alicia_56|   56|\n",
            "| Robert|    Sales|   CA|  8100| 30|Robert_30|   30|\n",
            "|   John|    Sales|   AZ|  8600| 31|  John_31|   31|\n",
            "|   Ross|    Sales|   AZ|  8100| 33|  Ross_33|   33|\n",
            "|  Kathy|    Sales|   az|  1000| 39| Kathy_39|   39|\n",
            "|   Lisa|  Finance|   CA|  9000| 24|  Lisa_24|   24|\n",
            "|   Deja|  Finance|   CA|  9900| 40|  Deja_40|   40|\n",
            "|  Sugie|  Finance|   NY|  8300| 36| Sugie_36|   36|\n",
            "|    Ram|  Finance|   NY|  7900| 53|   Ram_53|   53|\n",
            "| Sathya|  Finance|   AZ|  8200| 53|Sathya_53|   53|\n",
            "|   Kyle|Marketing|   CA|  8000| 25|  Kyle_25|   25|\n",
            "|   Reid|Marketing|   NY|  9100| 50|  Reid_50|   50|\n",
            "+-------+---------+-----+------+---+---------+-----+\n",
            "\n"
          ]
        }
      ]
    },
    {
      "cell_type": "code",
      "source": [
        "#translate()\n",
        "tr = spark.createDataFrame([(\"translate\",)],['col',])\n",
        "tr.show()"
      ],
      "metadata": {
        "colab": {
          "base_uri": "https://localhost:8080/"
        },
        "id": "MtQGiD9IV-s9",
        "outputId": "4346ad06-6cbb-47b4-a6b3-cf5939b90367"
      },
      "execution_count": 54,
      "outputs": [
        {
          "output_type": "stream",
          "name": "stdout",
          "text": [
            "+---------+\n",
            "|      col|\n",
            "+---------+\n",
            "|translate|\n",
            "+---------+\n",
            "\n"
          ]
        }
      ]
    },
    {
      "cell_type": "code",
      "source": [
        "tr.withColumn(\"ex\",translate(tr.col,\"rnlt\",\"123\")).show()"
      ],
      "metadata": {
        "colab": {
          "base_uri": "https://localhost:8080/"
        },
        "id": "78QUFa2fX9jW",
        "outputId": "22bd630b-e92d-4296-ae3a-cea2a5fae454"
      },
      "execution_count": 55,
      "outputs": [
        {
          "output_type": "stream",
          "name": "stdout",
          "text": [
            "+---------+-------+\n",
            "|      col|     ex|\n",
            "+---------+-------+\n",
            "|translate|1a2s3ae|\n",
            "+---------+-------+\n",
            "\n"
          ]
        }
      ]
    },
    {
      "cell_type": "code",
      "source": [],
      "metadata": {
        "id": "8xOphI2WYSdc"
      },
      "execution_count": null,
      "outputs": []
    }
  ]
}