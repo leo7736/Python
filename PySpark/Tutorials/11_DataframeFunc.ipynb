{
  "nbformat": 4,
  "nbformat_minor": 0,
  "metadata": {
    "colab": {
      "provenance": []
    },
    "kernelspec": {
      "name": "python3",
      "display_name": "Python 3"
    },
    "language_info": {
      "name": "python"
    }
  },
  "cells": [
    {
      "cell_type": "code",
      "execution_count": null,
      "metadata": {
        "colab": {
          "base_uri": "https://localhost:8080/"
        },
        "id": "wREGAvDdS6e_",
        "outputId": "9f400884-f5f6-4c30-eaad-dc3bc6a5ece0"
      },
      "outputs": [
        {
          "output_type": "stream",
          "name": "stdout",
          "text": [
            "Collecting Pyspark\n",
            "  Downloading pyspark-3.5.0.tar.gz (316.9 MB)\n",
            "\u001b[2K     \u001b[90m━━━━━━━━━━━━━━━━━━━━━━━━━━━━━━━━━━━━━━━━\u001b[0m \u001b[32m316.9/316.9 MB\u001b[0m \u001b[31m4.5 MB/s\u001b[0m eta \u001b[36m0:00:00\u001b[0m\n",
            "\u001b[?25h  Preparing metadata (setup.py) ... \u001b[?25l\u001b[?25hdone\n",
            "Requirement already satisfied: py4j==0.10.9.7 in /usr/local/lib/python3.10/dist-packages (from Pyspark) (0.10.9.7)\n",
            "Building wheels for collected packages: Pyspark\n",
            "  Building wheel for Pyspark (setup.py) ... \u001b[?25l\u001b[?25hdone\n",
            "  Created wheel for Pyspark: filename=pyspark-3.5.0-py2.py3-none-any.whl size=317425344 sha256=e071b7672b4ac554d2df59fce443f22257b03b592062507911a524ce08e1d523\n",
            "  Stored in directory: /root/.cache/pip/wheels/41/4e/10/c2cf2467f71c678cfc8a6b9ac9241e5e44a01940da8fbb17fc\n",
            "Successfully built Pyspark\n",
            "Installing collected packages: Pyspark\n",
            "Successfully installed Pyspark-3.5.0\n"
          ]
        }
      ],
      "source": [
        "!pip install Pyspark"
      ]
    },
    {
      "cell_type": "code",
      "source": [
        "from pyspark.sql import *\n",
        "from pyspark.sql.functions import *"
      ],
      "metadata": {
        "id": "GR2o6Lf7ugtn"
      },
      "execution_count": null,
      "outputs": []
    },
    {
      "cell_type": "code",
      "source": [
        "spark=SparkSession.builder.appName(\"test\").getOrCreate()"
      ],
      "metadata": {
        "id": "383MdVG_uxrQ"
      },
      "execution_count": null,
      "outputs": []
    },
    {
      "cell_type": "code",
      "source": [
        "\n",
        "data= [(\"James\",\"Sales\",\"NY\",9000,34),\n",
        "       (\"Alicia\",\"Sales\",\"NY\",8600,56),\n",
        "       (\"Robert\",\"Sales\",\"CA\",8100,30),\n",
        "       (\"John\",\"Sales\",\"AZ\",8600,31),\n",
        "       (\"Ross\",\"Sales\",\"AZ\",8100,33),\n",
        "       (\"Kathy\",\"Sales\",\"az\",1000,39),\n",
        "       (\"Lisa\",\"Finance\",\"CA\",9000,24),\n",
        "       (\"Deja\",\"Finance\",\"CA\",9900,40),\n",
        "       (\"Sugie\",\"Finance\",\"NY\",8300,36),\n",
        "       (\"Ram\",\"Finance\",\"NY\",7900,53),\n",
        "       (\"Sathya\",\"Finance\",\"AZ\",8200,53),\n",
        "       (\"Kyle\",\"Marketing\",\"CA\",8000,25),\n",
        "       (\"Reid\",\"Marketing\",\"NY\",9100,50)]"
      ],
      "metadata": {
        "id": "O9hj1TSWu1Yc"
      },
      "execution_count": null,
      "outputs": []
    },
    {
      "cell_type": "code",
      "source": [
        "schema= 'empname string,dept string,state string,salary int,age int'"
      ],
      "metadata": {
        "id": "IJ3bkLtKu7DF"
      },
      "execution_count": null,
      "outputs": []
    },
    {
      "cell_type": "code",
      "source": [
        "\n",
        "df=spark.createDataFrame(data=data,schema = schema)\n",
        "df.show()"
      ],
      "metadata": {
        "colab": {
          "base_uri": "https://localhost:8080/"
        },
        "id": "zCnkjfeEvJNe",
        "outputId": "2cd12b91-a931-438c-ce13-e7a6193f5e2e"
      },
      "execution_count": null,
      "outputs": [
        {
          "output_type": "stream",
          "name": "stdout",
          "text": [
            "+-------+---------+-----+------+---+\n",
            "|empname|     dept|state|salary|age|\n",
            "+-------+---------+-----+------+---+\n",
            "|  James|    Sales|   NY|  9000| 34|\n",
            "| Alicia|    Sales|   NY|  8600| 56|\n",
            "| Robert|    Sales|   CA|  8100| 30|\n",
            "|   John|    Sales|   AZ|  8600| 31|\n",
            "|   Ross|    Sales|   AZ|  8100| 33|\n",
            "|  Kathy|    Sales|   az|  1000| 39|\n",
            "|   Lisa|  Finance|   CA|  9000| 24|\n",
            "|   Deja|  Finance|   CA|  9900| 40|\n",
            "|  Sugie|  Finance|   NY|  8300| 36|\n",
            "|    Ram|  Finance|   NY|  7900| 53|\n",
            "| Sathya|  Finance|   AZ|  8200| 53|\n",
            "|   Kyle|Marketing|   CA|  8000| 25|\n",
            "|   Reid|Marketing|   NY|  9100| 50|\n",
            "+-------+---------+-----+------+---+\n",
            "\n"
          ]
        }
      ]
    },
    {
      "cell_type": "code",
      "source": [
        "#Monotonically_increasing_id()\n",
        "#useCase : Create a Primary Key/unique Column"
      ],
      "metadata": {
        "id": "kxBMR6ygvodn"
      },
      "execution_count": 1,
      "outputs": []
    },
    {
      "cell_type": "code",
      "source": [
        "df.withColumn(\"id\",monotonically_increasing_id()).show()"
      ],
      "metadata": {
        "colab": {
          "base_uri": "https://localhost:8080/"
        },
        "id": "vHI5uc4rxXUp",
        "outputId": "cad06164-2de3-437e-9a24-cd083f31450e"
      },
      "execution_count": null,
      "outputs": [
        {
          "output_type": "stream",
          "name": "stdout",
          "text": [
            "+-------+---------+-----+------+---+----------+\n",
            "|empname|     dept|state|salary|age|        id|\n",
            "+-------+---------+-----+------+---+----------+\n",
            "|  James|    Sales|   NY|  9000| 34|         0|\n",
            "| Alicia|    Sales|   NY|  8600| 56|         1|\n",
            "| Robert|    Sales|   CA|  8100| 30|         2|\n",
            "|   John|    Sales|   AZ|  8600| 31|         3|\n",
            "|   Ross|    Sales|   AZ|  8100| 33|         4|\n",
            "|  Kathy|    Sales|   az|  1000| 39|         5|\n",
            "|   Lisa|  Finance|   CA|  9000| 24|8589934592|\n",
            "|   Deja|  Finance|   CA|  9900| 40|8589934593|\n",
            "|  Sugie|  Finance|   NY|  8300| 36|8589934594|\n",
            "|    Ram|  Finance|   NY|  7900| 53|8589934595|\n",
            "| Sathya|  Finance|   AZ|  8200| 53|8589934596|\n",
            "|   Kyle|Marketing|   CA|  8000| 25|8589934597|\n",
            "|   Reid|Marketing|   NY|  9100| 50|8589934598|\n",
            "+-------+---------+-----+------+---+----------+\n",
            "\n"
          ]
        }
      ]
    },
    {
      "cell_type": "code",
      "source": [
        "#lit()\n",
        "# create a new column with a static value."
      ],
      "metadata": {
        "id": "twYA7c4Ixm7h"
      },
      "execution_count": null,
      "outputs": []
    },
    {
      "cell_type": "code",
      "source": [
        "df.withColumn('country',lit('USA')).show()"
      ],
      "metadata": {
        "colab": {
          "base_uri": "https://localhost:8080/"
        },
        "id": "aOoy_WMhyXY8",
        "outputId": "70ecb983-dd45-4dc6-99b4-47e020b71747"
      },
      "execution_count": null,
      "outputs": [
        {
          "output_type": "stream",
          "name": "stdout",
          "text": [
            "+-------+---------+-----+------+---+-------+\n",
            "|empname|     dept|state|salary|age|country|\n",
            "+-------+---------+-----+------+---+-------+\n",
            "|  James|    Sales|   NY|  9000| 34|    USA|\n",
            "| Alicia|    Sales|   NY|  8600| 56|    USA|\n",
            "| Robert|    Sales|   CA|  8100| 30|    USA|\n",
            "|   John|    Sales|   AZ|  8600| 31|    USA|\n",
            "|   Ross|    Sales|   AZ|  8100| 33|    USA|\n",
            "|  Kathy|    Sales|   az|  1000| 39|    USA|\n",
            "|   Lisa|  Finance|   CA|  9000| 24|    USA|\n",
            "|   Deja|  Finance|   CA|  9900| 40|    USA|\n",
            "|  Sugie|  Finance|   NY|  8300| 36|    USA|\n",
            "|    Ram|  Finance|   NY|  7900| 53|    USA|\n",
            "| Sathya|  Finance|   AZ|  8200| 53|    USA|\n",
            "|   Kyle|Marketing|   CA|  8000| 25|    USA|\n",
            "|   Reid|Marketing|   NY|  9100| 50|    USA|\n",
            "+-------+---------+-----+------+---+-------+\n",
            "\n"
          ]
        }
      ]
    },
    {
      "cell_type": "code",
      "source": [
        "#concat_ws\n",
        "df.withColumn(\"newkey\",concat_ws(\"_\", \"empname\", \"age\")).show()"
      ],
      "metadata": {
        "colab": {
          "base_uri": "https://localhost:8080/"
        },
        "id": "2Ev2X4-QyhgE",
        "outputId": "f3c570f3-0401-49ed-cdb2-4f1737826aa2"
      },
      "execution_count": null,
      "outputs": [
        {
          "output_type": "stream",
          "name": "stdout",
          "text": [
            "+-------+---------+-----+------+---+---------+\n",
            "|empname|     dept|state|salary|age|   newkey|\n",
            "+-------+---------+-----+------+---+---------+\n",
            "|  James|    Sales|   NY|  9000| 34| James_34|\n",
            "| Alicia|    Sales|   NY|  8600| 56|Alicia_56|\n",
            "| Robert|    Sales|   CA|  8100| 30|Robert_30|\n",
            "|   John|    Sales|   AZ|  8600| 31|  John_31|\n",
            "|   Ross|    Sales|   AZ|  8100| 33|  Ross_33|\n",
            "|  Kathy|    Sales|   az|  1000| 39| Kathy_39|\n",
            "|   Lisa|  Finance|   CA|  9000| 24|  Lisa_24|\n",
            "|   Deja|  Finance|   CA|  9900| 40|  Deja_40|\n",
            "|  Sugie|  Finance|   NY|  8300| 36| Sugie_36|\n",
            "|    Ram|  Finance|   NY|  7900| 53|   Ram_53|\n",
            "| Sathya|  Finance|   AZ|  8200| 53|Sathya_53|\n",
            "|   Kyle|Marketing|   CA|  8000| 25|  Kyle_25|\n",
            "|   Reid|Marketing|   NY|  9100| 50|  Reid_50|\n",
            "+-------+---------+-----+------+---+---------+\n",
            "\n"
          ]
        }
      ]
    },
    {
      "cell_type": "code",
      "source": [
        "#concat\n",
        "df.withColumn(\"newkey\",concat( \"_\", \"empname\", \"age\")).show()"
      ],
      "metadata": {
        "colab": {
          "base_uri": "https://localhost:8080/",
          "height": 459
        },
        "id": "SoZFVKNX2RQR",
        "outputId": "a8c15f71-a060-4bef-f238-b2a58e81ee22"
      },
      "execution_count": null,
      "outputs": [
        {
          "output_type": "error",
          "ename": "AnalysisException",
          "evalue": "ignored",
          "traceback": [
            "\u001b[0;31m---------------------------------------------------------------------------\u001b[0m",
            "\u001b[0;31mAnalysisException\u001b[0m                         Traceback (most recent call last)",
            "\u001b[0;32m<ipython-input-23-94629e9ceee7>\u001b[0m in \u001b[0;36m<cell line: 2>\u001b[0;34m()\u001b[0m\n\u001b[1;32m      1\u001b[0m \u001b[0;31m#concat\u001b[0m\u001b[0;34m\u001b[0m\u001b[0;34m\u001b[0m\u001b[0m\n\u001b[0;32m----> 2\u001b[0;31m \u001b[0mdf\u001b[0m\u001b[0;34m.\u001b[0m\u001b[0mwithColumn\u001b[0m\u001b[0;34m(\u001b[0m\u001b[0;34m\"newkey\"\u001b[0m\u001b[0;34m,\u001b[0m\u001b[0mconcat\u001b[0m\u001b[0;34m(\u001b[0m \u001b[0;34m\"_\"\u001b[0m\u001b[0;34m,\u001b[0m \u001b[0;34m\"empname\"\u001b[0m\u001b[0;34m,\u001b[0m \u001b[0;34m\"age\"\u001b[0m\u001b[0;34m)\u001b[0m\u001b[0;34m)\u001b[0m\u001b[0;34m.\u001b[0m\u001b[0mshow\u001b[0m\u001b[0;34m(\u001b[0m\u001b[0;34m)\u001b[0m\u001b[0;34m\u001b[0m\u001b[0;34m\u001b[0m\u001b[0m\n\u001b[0m",
            "\u001b[0;32m/usr/local/lib/python3.10/dist-packages/pyspark/sql/dataframe.py\u001b[0m in \u001b[0;36mwithColumn\u001b[0;34m(self, colName, col)\u001b[0m\n\u001b[1;32m   5168\u001b[0m                 \u001b[0mmessage_parameters\u001b[0m\u001b[0;34m=\u001b[0m\u001b[0;34m{\u001b[0m\u001b[0;34m\"arg_name\"\u001b[0m\u001b[0;34m:\u001b[0m \u001b[0;34m\"col\"\u001b[0m\u001b[0;34m,\u001b[0m \u001b[0;34m\"arg_type\"\u001b[0m\u001b[0;34m:\u001b[0m \u001b[0mtype\u001b[0m\u001b[0;34m(\u001b[0m\u001b[0mcol\u001b[0m\u001b[0;34m)\u001b[0m\u001b[0;34m.\u001b[0m\u001b[0m__name__\u001b[0m\u001b[0;34m}\u001b[0m\u001b[0;34m,\u001b[0m\u001b[0;34m\u001b[0m\u001b[0;34m\u001b[0m\u001b[0m\n\u001b[1;32m   5169\u001b[0m             )\n\u001b[0;32m-> 5170\u001b[0;31m         \u001b[0;32mreturn\u001b[0m \u001b[0mDataFrame\u001b[0m\u001b[0;34m(\u001b[0m\u001b[0mself\u001b[0m\u001b[0;34m.\u001b[0m\u001b[0m_jdf\u001b[0m\u001b[0;34m.\u001b[0m\u001b[0mwithColumn\u001b[0m\u001b[0;34m(\u001b[0m\u001b[0mcolName\u001b[0m\u001b[0;34m,\u001b[0m \u001b[0mcol\u001b[0m\u001b[0;34m.\u001b[0m\u001b[0m_jc\u001b[0m\u001b[0;34m)\u001b[0m\u001b[0;34m,\u001b[0m \u001b[0mself\u001b[0m\u001b[0;34m.\u001b[0m\u001b[0msparkSession\u001b[0m\u001b[0;34m)\u001b[0m\u001b[0;34m\u001b[0m\u001b[0;34m\u001b[0m\u001b[0m\n\u001b[0m\u001b[1;32m   5171\u001b[0m \u001b[0;34m\u001b[0m\u001b[0m\n\u001b[1;32m   5172\u001b[0m     \u001b[0;32mdef\u001b[0m \u001b[0mwithColumnRenamed\u001b[0m\u001b[0;34m(\u001b[0m\u001b[0mself\u001b[0m\u001b[0;34m,\u001b[0m \u001b[0mexisting\u001b[0m\u001b[0;34m:\u001b[0m \u001b[0mstr\u001b[0m\u001b[0;34m,\u001b[0m \u001b[0mnew\u001b[0m\u001b[0;34m:\u001b[0m \u001b[0mstr\u001b[0m\u001b[0;34m)\u001b[0m \u001b[0;34m->\u001b[0m \u001b[0;34m\"DataFrame\"\u001b[0m\u001b[0;34m:\u001b[0m\u001b[0;34m\u001b[0m\u001b[0;34m\u001b[0m\u001b[0m\n",
            "\u001b[0;32m/usr/local/lib/python3.10/dist-packages/py4j/java_gateway.py\u001b[0m in \u001b[0;36m__call__\u001b[0;34m(self, *args)\u001b[0m\n\u001b[1;32m   1320\u001b[0m \u001b[0;34m\u001b[0m\u001b[0m\n\u001b[1;32m   1321\u001b[0m         \u001b[0manswer\u001b[0m \u001b[0;34m=\u001b[0m \u001b[0mself\u001b[0m\u001b[0;34m.\u001b[0m\u001b[0mgateway_client\u001b[0m\u001b[0;34m.\u001b[0m\u001b[0msend_command\u001b[0m\u001b[0;34m(\u001b[0m\u001b[0mcommand\u001b[0m\u001b[0;34m)\u001b[0m\u001b[0;34m\u001b[0m\u001b[0;34m\u001b[0m\u001b[0m\n\u001b[0;32m-> 1322\u001b[0;31m         return_value = get_return_value(\n\u001b[0m\u001b[1;32m   1323\u001b[0m             answer, self.gateway_client, self.target_id, self.name)\n\u001b[1;32m   1324\u001b[0m \u001b[0;34m\u001b[0m\u001b[0m\n",
            "\u001b[0;32m/usr/local/lib/python3.10/dist-packages/pyspark/errors/exceptions/captured.py\u001b[0m in \u001b[0;36mdeco\u001b[0;34m(*a, **kw)\u001b[0m\n\u001b[1;32m    183\u001b[0m                 \u001b[0;31m# Hide where the exception came from that shows a non-Pythonic\u001b[0m\u001b[0;34m\u001b[0m\u001b[0;34m\u001b[0m\u001b[0m\n\u001b[1;32m    184\u001b[0m                 \u001b[0;31m# JVM exception message.\u001b[0m\u001b[0;34m\u001b[0m\u001b[0;34m\u001b[0m\u001b[0m\n\u001b[0;32m--> 185\u001b[0;31m                 \u001b[0;32mraise\u001b[0m \u001b[0mconverted\u001b[0m \u001b[0;32mfrom\u001b[0m \u001b[0;32mNone\u001b[0m\u001b[0;34m\u001b[0m\u001b[0;34m\u001b[0m\u001b[0m\n\u001b[0m\u001b[1;32m    186\u001b[0m             \u001b[0;32melse\u001b[0m\u001b[0;34m:\u001b[0m\u001b[0;34m\u001b[0m\u001b[0;34m\u001b[0m\u001b[0m\n\u001b[1;32m    187\u001b[0m                 \u001b[0;32mraise\u001b[0m\u001b[0;34m\u001b[0m\u001b[0;34m\u001b[0m\u001b[0m\n",
            "\u001b[0;31mAnalysisException\u001b[0m: [UNRESOLVED_COLUMN.WITH_SUGGESTION] A column or function parameter with name `_` cannot be resolved. Did you mean one of the following? [`age`, `dept`, `state`, `salary`, `empname`].;\n'Project [empname#0, dept#1, state#2, salary#3, age#4, concat('_, empname#0, age#4) AS newkey#322]\n+- LogicalRDD [empname#0, dept#1, state#2, salary#3, age#4], false\n"
          ]
        }
      ]
    },
    {
      "cell_type": "code",
      "source": [
        "#concat\n",
        "df.withColumn(\"newkey\",concat(\"empname\",lit(\"_\"), \"age\")).show()"
      ],
      "metadata": {
        "colab": {
          "base_uri": "https://localhost:8080/"
        },
        "id": "JmlyNqPD3pTb",
        "outputId": "5692cb19-6743-42d7-b0d1-f3beedc6cf30"
      },
      "execution_count": null,
      "outputs": [
        {
          "output_type": "stream",
          "name": "stdout",
          "text": [
            "+-------+---------+-----+------+---+---------+\n",
            "|empname|     dept|state|salary|age|   newkey|\n",
            "+-------+---------+-----+------+---+---------+\n",
            "|  James|    Sales|   NY|  9000| 34| James_34|\n",
            "| Alicia|    Sales|   NY|  8600| 56|Alicia_56|\n",
            "| Robert|    Sales|   CA|  8100| 30|Robert_30|\n",
            "|   John|    Sales|   AZ|  8600| 31|  John_31|\n",
            "|   Ross|    Sales|   AZ|  8100| 33|  Ross_33|\n",
            "|  Kathy|    Sales|   az|  1000| 39| Kathy_39|\n",
            "|   Lisa|  Finance|   CA|  9000| 24|  Lisa_24|\n",
            "|   Deja|  Finance|   CA|  9900| 40|  Deja_40|\n",
            "|  Sugie|  Finance|   NY|  8300| 36| Sugie_36|\n",
            "|    Ram|  Finance|   NY|  7900| 53|   Ram_53|\n",
            "| Sathya|  Finance|   AZ|  8200| 53|Sathya_53|\n",
            "|   Kyle|Marketing|   CA|  8000| 25|  Kyle_25|\n",
            "|   Reid|Marketing|   NY|  9100| 50|  Reid_50|\n",
            "+-------+---------+-----+------+---+---------+\n",
            "\n"
          ]
        }
      ]
    },
    {
      "cell_type": "code",
      "source": [
        "#concat\n",
        "df.withColumn(\"newkey\",concat( \"empname\",\"age\")).show()"
      ],
      "metadata": {
        "colab": {
          "base_uri": "https://localhost:8080/"
        },
        "id": "KGSxtbPN3FeV",
        "outputId": "55d95de3-6983-4708-8970-92f2e1704f50"
      },
      "execution_count": null,
      "outputs": [
        {
          "output_type": "stream",
          "name": "stdout",
          "text": [
            "+-------+---------+-----+------+---+--------+\n",
            "|empname|     dept|state|salary|age|  newkey|\n",
            "+-------+---------+-----+------+---+--------+\n",
            "|  James|    Sales|   NY|  9000| 34| James34|\n",
            "| Alicia|    Sales|   NY|  8600| 56|Alicia56|\n",
            "| Robert|    Sales|   CA|  8100| 30|Robert30|\n",
            "|   John|    Sales|   AZ|  8600| 31|  John31|\n",
            "|   Ross|    Sales|   AZ|  8100| 33|  Ross33|\n",
            "|  Kathy|    Sales|   az|  1000| 39| Kathy39|\n",
            "|   Lisa|  Finance|   CA|  9000| 24|  Lisa24|\n",
            "|   Deja|  Finance|   CA|  9900| 40|  Deja40|\n",
            "|  Sugie|  Finance|   NY|  8300| 36| Sugie36|\n",
            "|    Ram|  Finance|   NY|  7900| 53|   Ram53|\n",
            "| Sathya|  Finance|   AZ|  8200| 53|Sathya53|\n",
            "|   Kyle|Marketing|   CA|  8000| 25|  Kyle25|\n",
            "|   Reid|Marketing|   NY|  9100| 50|  Reid50|\n",
            "+-------+---------+-----+------+---+--------+\n",
            "\n"
          ]
        }
      ]
    },
    {
      "cell_type": "code",
      "source": [
        "#expr()\n",
        "#can use sql functions"
      ],
      "metadata": {
        "id": "8WPlzQFy3aIx"
      },
      "execution_count": null,
      "outputs": []
    },
    {
      "cell_type": "code",
      "source": [
        "df.withColumn(\"newkey\",expr(\"empname || '_' || age\")).show()"
      ],
      "metadata": {
        "colab": {
          "base_uri": "https://localhost:8080/"
        },
        "id": "tzTZVSdS6aKI",
        "outputId": "3bb9aacb-1f1f-4f6c-8601-8cfb5298529b"
      },
      "execution_count": null,
      "outputs": [
        {
          "output_type": "stream",
          "name": "stdout",
          "text": [
            "+-------+---------+-----+------+---+---------+\n",
            "|empname|     dept|state|salary|age|   newkey|\n",
            "+-------+---------+-----+------+---+---------+\n",
            "|  James|    Sales|   NY|  9000| 34| James_34|\n",
            "| Alicia|    Sales|   NY|  8600| 56|Alicia_56|\n",
            "| Robert|    Sales|   CA|  8100| 30|Robert_30|\n",
            "|   John|    Sales|   AZ|  8600| 31|  John_31|\n",
            "|   Ross|    Sales|   AZ|  8100| 33|  Ross_33|\n",
            "|  Kathy|    Sales|   az|  1000| 39| Kathy_39|\n",
            "|   Lisa|  Finance|   CA|  9000| 24|  Lisa_24|\n",
            "|   Deja|  Finance|   CA|  9900| 40|  Deja_40|\n",
            "|  Sugie|  Finance|   NY|  8300| 36| Sugie_36|\n",
            "|    Ram|  Finance|   NY|  7900| 53|   Ram_53|\n",
            "| Sathya|  Finance|   AZ|  8200| 53|Sathya_53|\n",
            "|   Kyle|Marketing|   CA|  8000| 25|  Kyle_25|\n",
            "|   Reid|Marketing|   NY|  9100| 50|  Reid_50|\n",
            "+-------+---------+-----+------+---+---------+\n",
            "\n"
          ]
        }
      ]
    },
    {
      "cell_type": "code",
      "source": [
        "df.withColumn(\"empname_len\",expr(\"length(empname)\")).show()"
      ],
      "metadata": {
        "colab": {
          "base_uri": "https://localhost:8080/"
        },
        "id": "TYklTT8440q2",
        "outputId": "70083a6d-f3c8-4cbf-96fa-17c81e56577b"
      },
      "execution_count": null,
      "outputs": [
        {
          "output_type": "stream",
          "name": "stdout",
          "text": [
            "+-------+---------+-----+------+---+-----------+\n",
            "|empname|     dept|state|salary|age|empname_len|\n",
            "+-------+---------+-----+------+---+-----------+\n",
            "|  James|    Sales|   NY|  9000| 34|          5|\n",
            "| Alicia|    Sales|   NY|  8600| 56|          6|\n",
            "| Robert|    Sales|   CA|  8100| 30|          6|\n",
            "|   John|    Sales|   AZ|  8600| 31|          4|\n",
            "|   Ross|    Sales|   AZ|  8100| 33|          4|\n",
            "|  Kathy|    Sales|   az|  1000| 39|          5|\n",
            "|   Lisa|  Finance|   CA|  9000| 24|          4|\n",
            "|   Deja|  Finance|   CA|  9900| 40|          4|\n",
            "|  Sugie|  Finance|   NY|  8300| 36|          5|\n",
            "|    Ram|  Finance|   NY|  7900| 53|          3|\n",
            "| Sathya|  Finance|   AZ|  8200| 53|          6|\n",
            "|   Kyle|Marketing|   CA|  8000| 25|          4|\n",
            "|   Reid|Marketing|   NY|  9100| 50|          4|\n",
            "+-------+---------+-----+------+---+-----------+\n",
            "\n"
          ]
        }
      ]
    },
    {
      "cell_type": "code",
      "source": [
        "df.withColumn(\"age_descp\",expr(\" case when age > 50 then 'Senior' else 'Adult' end \")).show()"
      ],
      "metadata": {
        "colab": {
          "base_uri": "https://localhost:8080/"
        },
        "id": "n9-gxdvV5H5L",
        "outputId": "f9fea1c7-cadf-4fc5-d7ff-eae582a29d40"
      },
      "execution_count": null,
      "outputs": [
        {
          "output_type": "stream",
          "name": "stdout",
          "text": [
            "+-------+---------+-----+------+---+---------+\n",
            "|empname|     dept|state|salary|age|age_descp|\n",
            "+-------+---------+-----+------+---+---------+\n",
            "|  James|    Sales|   NY|  9000| 34|    Adult|\n",
            "| Alicia|    Sales|   NY|  8600| 56|   Senior|\n",
            "| Robert|    Sales|   CA|  8100| 30|    Adult|\n",
            "|   John|    Sales|   AZ|  8600| 31|    Adult|\n",
            "|   Ross|    Sales|   AZ|  8100| 33|    Adult|\n",
            "|  Kathy|    Sales|   az|  1000| 39|    Adult|\n",
            "|   Lisa|  Finance|   CA|  9000| 24|    Adult|\n",
            "|   Deja|  Finance|   CA|  9900| 40|    Adult|\n",
            "|  Sugie|  Finance|   NY|  8300| 36|    Adult|\n",
            "|    Ram|  Finance|   NY|  7900| 53|   Senior|\n",
            "| Sathya|  Finance|   AZ|  8200| 53|   Senior|\n",
            "|   Kyle|Marketing|   CA|  8000| 25|    Adult|\n",
            "|   Reid|Marketing|   NY|  9100| 50|    Adult|\n",
            "+-------+---------+-----+------+---+---------+\n",
            "\n"
          ]
        }
      ]
    },
    {
      "cell_type": "code",
      "source": [
        "df.select(\"*\",(df.age+10).alias(\"age_10\")).show()"
      ],
      "metadata": {
        "colab": {
          "base_uri": "https://localhost:8080/"
        },
        "id": "wb8JY-B_54oj",
        "outputId": "6d9f7d0e-c1f3-4562-ac56-4e3fd558cd0e"
      },
      "execution_count": null,
      "outputs": [
        {
          "output_type": "stream",
          "name": "stdout",
          "text": [
            "+-------+---------+-----+------+---+------+\n",
            "|empname|     dept|state|salary|age|age_10|\n",
            "+-------+---------+-----+------+---+------+\n",
            "|  James|    Sales|   NY|  9000| 34|    44|\n",
            "| Alicia|    Sales|   NY|  8600| 56|    66|\n",
            "| Robert|    Sales|   CA|  8100| 30|    40|\n",
            "|   John|    Sales|   AZ|  8600| 31|    41|\n",
            "|   Ross|    Sales|   AZ|  8100| 33|    43|\n",
            "|  Kathy|    Sales|   az|  1000| 39|    49|\n",
            "|   Lisa|  Finance|   CA|  9000| 24|    34|\n",
            "|   Deja|  Finance|   CA|  9900| 40|    50|\n",
            "|  Sugie|  Finance|   NY|  8300| 36|    46|\n",
            "|    Ram|  Finance|   NY|  7900| 53|    63|\n",
            "| Sathya|  Finance|   AZ|  8200| 53|    63|\n",
            "|   Kyle|Marketing|   CA|  8000| 25|    35|\n",
            "|   Reid|Marketing|   NY|  9100| 50|    60|\n",
            "+-------+---------+-----+------+---+------+\n",
            "\n"
          ]
        }
      ]
    },
    {
      "cell_type": "code",
      "source": [],
      "metadata": {
        "id": "x99mZoStAPxj"
      },
      "execution_count": null,
      "outputs": []
    }
  ]
}