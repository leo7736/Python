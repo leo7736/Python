{
  "nbformat": 4,
  "nbformat_minor": 0,
  "metadata": {
    "colab": {
      "provenance": []
    },
    "kernelspec": {
      "name": "python3",
      "display_name": "Python 3"
    },
    "language_info": {
      "name": "python"
    }
  },
  "cells": [
    {
      "cell_type": "code",
      "execution_count": 1,
      "metadata": {
        "colab": {
          "base_uri": "https://localhost:8080/"
        },
        "id": "VUXvgmW2bZOA",
        "outputId": "a805831a-10c6-4cf5-efb4-d9e1a1dd4210"
      },
      "outputs": [
        {
          "output_type": "stream",
          "name": "stdout",
          "text": [
            "Collecting pyspark\n",
            "  Downloading pyspark-3.5.0.tar.gz (316.9 MB)\n",
            "\u001b[2K     \u001b[90m━━━━━━━━━━━━━━━━━━━━━━━━━━━━━━━━━━━━━━━━\u001b[0m \u001b[32m316.9/316.9 MB\u001b[0m \u001b[31m4.5 MB/s\u001b[0m eta \u001b[36m0:00:00\u001b[0m\n",
            "\u001b[?25h  Preparing metadata (setup.py) ... \u001b[?25l\u001b[?25hdone\n",
            "Requirement already satisfied: py4j==0.10.9.7 in /usr/local/lib/python3.10/dist-packages (from pyspark) (0.10.9.7)\n",
            "Building wheels for collected packages: pyspark\n",
            "  Building wheel for pyspark (setup.py) ... \u001b[?25l\u001b[?25hdone\n",
            "  Created wheel for pyspark: filename=pyspark-3.5.0-py2.py3-none-any.whl size=317425344 sha256=43b5347bd54214504c0183dffdd37a44b523958dc325ca4b5f49c1bca2cacd98\n",
            "  Stored in directory: /root/.cache/pip/wheels/41/4e/10/c2cf2467f71c678cfc8a6b9ac9241e5e44a01940da8fbb17fc\n",
            "Successfully built pyspark\n",
            "Installing collected packages: pyspark\n",
            "Successfully installed pyspark-3.5.0\n"
          ]
        }
      ],
      "source": [
        "\n",
        "!pip install pyspark"
      ]
    },
    {
      "cell_type": "code",
      "source": [
        "from pyspark.sql import *\n",
        "from pyspark.sql.functions import *"
      ],
      "metadata": {
        "id": "RTkfQH8xbqgt"
      },
      "execution_count": 2,
      "outputs": []
    },
    {
      "cell_type": "code",
      "source": [
        "spark  = SparkSession.builder.appName(\"test\").getOrCreate()"
      ],
      "metadata": {
        "id": "8lmWxyYMb4rQ"
      },
      "execution_count": 3,
      "outputs": []
    },
    {
      "cell_type": "code",
      "source": [
        "\n",
        "data = [\n",
        "    Row(OrderId=1, OrderDate=\"2020-01-15\", OrderCustomerId=101, OrderStatus=\"Pending\"),\n",
        "    Row(OrderId=2, OrderDate=\"2020-02-17\", OrderCustomerId=102, OrderStatus=\"Shipped\"),\n",
        "    Row(OrderId=3, OrderDate=\"2021-03-05\", OrderCustomerId=103, OrderStatus=\"Delivered\"),\n",
        "    Row(OrderId=4, OrderDate=\"2021-04-07\", OrderCustomerId=104, OrderStatus=\"Pending\"),\n",
        "    Row(OrderId=5, OrderDate=\"2022-05-24\", OrderCustomerId=105, OrderStatus=\"Shipped\"),\n",
        "    Row(OrderId=6, OrderDate=\"2022-06-01\", OrderCustomerId=106, OrderStatus=\"Delivered\"),\n",
        "    Row(OrderId=7, OrderDate=\"2022-07-16\", OrderCustomerId=107, OrderStatus=\"Shipped\"),\n",
        "    Row(OrderId=8, OrderDate=\"2023-08-30\", OrderCustomerId=108, OrderStatus=\"Pending\"),\n",
        "    Row(OrderId=9, OrderDate=\"2023-09-11\", OrderCustomerId=109, OrderStatus=\"Delivered\"),\n",
        "    Row(OrderId=10, OrderDate=\"2023-10-21\", OrderCustomerId=110, OrderStatus=\"Shipped\")\n",
        "]\n",
        "\n",
        "\n",
        "schema= ('OrderId int,OrderDate string,OrderCustomerId int,OrderStatus string')"
      ],
      "metadata": {
        "id": "77AKRjMLb7M6"
      },
      "execution_count": 120,
      "outputs": []
    },
    {
      "cell_type": "code",
      "source": [
        "# Create a DataFrame\n",
        "df = spark.createDataFrame(data, schema=schema)\n",
        "\n",
        "# Show the DataFrame\n",
        "df.show()"
      ],
      "metadata": {
        "colab": {
          "base_uri": "https://localhost:8080/"
        },
        "id": "wwpcANfDdSgD",
        "outputId": "e7731155-b7ae-4bb3-c0a3-d74ef23aabca"
      },
      "execution_count": 121,
      "outputs": [
        {
          "output_type": "stream",
          "name": "stdout",
          "text": [
            "+-------+----------+---------------+-----------+\n",
            "|OrderId| OrderDate|OrderCustomerId|OrderStatus|\n",
            "+-------+----------+---------------+-----------+\n",
            "|      1|2020-01-15|            101|    Pending|\n",
            "|      2|2020-02-17|            102|    Shipped|\n",
            "|      3|2021-03-05|            103|  Delivered|\n",
            "|      4|2021-04-07|            104|    Pending|\n",
            "|      5|2022-05-24|            105|    Shipped|\n",
            "|      6|2022-06-01|            106|  Delivered|\n",
            "|      7|2022-07-16|            107|    Shipped|\n",
            "|      8|2023-08-30|            108|    Pending|\n",
            "|      9|2023-09-11|            109|  Delivered|\n",
            "|     10|2023-10-21|            110|    Shipped|\n",
            "+-------+----------+---------------+-----------+\n",
            "\n"
          ]
        }
      ]
    },
    {
      "cell_type": "code",
      "source": [
        "df = df.withColumn(\"OrderDate\", df.OrderDate.cast(\"date\"))\n",
        "df.show()"
      ],
      "metadata": {
        "colab": {
          "base_uri": "https://localhost:8080/"
        },
        "id": "1KBIuCkwXnSo",
        "outputId": "7dada1aa-239c-4adb-b933-78a80362cd13"
      },
      "execution_count": 92,
      "outputs": [
        {
          "output_type": "stream",
          "name": "stdout",
          "text": [
            "+-------+----------+---------------+-----------+\n",
            "|OrderId| OrderDate|OrderCustomerId|OrderStatus|\n",
            "+-------+----------+---------------+-----------+\n",
            "|      1|2020-01-15|            101|    Pending|\n",
            "|      2|2020-02-17|            102|    Shipped|\n",
            "|      3|2021-03-05|            103|  Delivered|\n",
            "|      4|2021-04-07|            104|    Pending|\n",
            "|      5|2022-05-24|            105|    Shipped|\n",
            "|      6|2022-06-01|            106|  Delivered|\n",
            "|      7|2022-07-16|            107|    Shipped|\n",
            "|      8|2023-08-30|            108|    Pending|\n",
            "|      9|2023-09-11|            109|  Delivered|\n",
            "|     10|2023-10-21|            110|    Shipped|\n",
            "+-------+----------+---------------+-----------+\n",
            "\n"
          ]
        }
      ]
    },
    {
      "cell_type": "code",
      "source": [
        "#column type casting\n",
        "df = df.withColumn(\"OrderDate\", df.OrderDate.cast(\"timestamp\"))\n",
        "df.show()"
      ],
      "metadata": {
        "id": "KxVNDjTje1gC",
        "colab": {
          "base_uri": "https://localhost:8080/"
        },
        "outputId": "771d5dd6-014e-45fc-ba9e-e317e14315ad"
      },
      "execution_count": 73,
      "outputs": [
        {
          "output_type": "stream",
          "name": "stdout",
          "text": [
            "+-------+-------------------+---------------+-----------+\n",
            "|OrderId|          OrderDate|OrderCustomerId|OrderStatus|\n",
            "+-------+-------------------+---------------+-----------+\n",
            "|      1|2020-01-15 00:00:00|            101|    Pending|\n",
            "|      2|2020-02-17 00:00:00|            102|    Shipped|\n",
            "|      3|2021-03-05 00:00:00|            103|  Delivered|\n",
            "|      4|2021-04-07 00:00:00|            104|    Pending|\n",
            "|      5|2022-05-24 00:00:00|            105|    Shipped|\n",
            "|      6|2022-06-01 00:00:00|            106|  Delivered|\n",
            "|      7|2022-07-16 00:00:00|            107|    Shipped|\n",
            "|      8|2023-08-30 00:00:00|            108|    Pending|\n",
            "|      9|2023-09-11 00:00:00|            109|  Delivered|\n",
            "|     10|2023-10-21 00:00:00|            110|    Shipped|\n",
            "+-------+-------------------+---------------+-----------+\n",
            "\n"
          ]
        }
      ]
    },
    {
      "cell_type": "code",
      "source": [
        "df.select(current_date()).show()"
      ],
      "metadata": {
        "colab": {
          "base_uri": "https://localhost:8080/"
        },
        "id": "YkCaa4qJfso7",
        "outputId": "8991cc1b-19cc-47d9-f1a9-2719e502ef8a"
      },
      "execution_count": 8,
      "outputs": [
        {
          "output_type": "stream",
          "name": "stdout",
          "text": [
            "+--------------+\n",
            "|current_date()|\n",
            "+--------------+\n",
            "|    2023-11-21|\n",
            "|    2023-11-21|\n",
            "|    2023-11-21|\n",
            "|    2023-11-21|\n",
            "|    2023-11-21|\n",
            "|    2023-11-21|\n",
            "|    2023-11-21|\n",
            "|    2023-11-21|\n",
            "|    2023-11-21|\n",
            "|    2023-11-21|\n",
            "+--------------+\n",
            "\n"
          ]
        }
      ]
    },
    {
      "cell_type": "code",
      "source": [
        "df.select(current_timestamp()).show()"
      ],
      "metadata": {
        "colab": {
          "base_uri": "https://localhost:8080/"
        },
        "id": "Cm44H_C3jsNp",
        "outputId": "78958fe7-e53d-4529-db5b-a4e20fe0c42c"
      },
      "execution_count": 9,
      "outputs": [
        {
          "output_type": "stream",
          "name": "stdout",
          "text": [
            "+--------------------+\n",
            "| current_timestamp()|\n",
            "+--------------------+\n",
            "|2023-11-21 04:28:...|\n",
            "|2023-11-21 04:28:...|\n",
            "|2023-11-21 04:28:...|\n",
            "|2023-11-21 04:28:...|\n",
            "|2023-11-21 04:28:...|\n",
            "|2023-11-21 04:28:...|\n",
            "|2023-11-21 04:28:...|\n",
            "|2023-11-21 04:28:...|\n",
            "|2023-11-21 04:28:...|\n",
            "|2023-11-21 04:28:...|\n",
            "+--------------------+\n",
            "\n"
          ]
        }
      ]
    },
    {
      "cell_type": "code",
      "source": [
        "#prints next friday\n",
        "df.select(df.OrderDate,next_day(df.OrderDate,\"Fri\")).show()"
      ],
      "metadata": {
        "colab": {
          "base_uri": "https://localhost:8080/"
        },
        "id": "Rm56mKNAj0BM",
        "outputId": "7749debc-e513-4b1f-e9dd-9438adaaf613"
      },
      "execution_count": 17,
      "outputs": [
        {
          "output_type": "stream",
          "name": "stdout",
          "text": [
            "+-------------------+------------------------+\n",
            "|          OrderDate|next_day(OrderDate, Fri)|\n",
            "+-------------------+------------------------+\n",
            "|2020-01-15 00:00:00|              2020-01-17|\n",
            "|2020-02-17 00:00:00|              2020-02-21|\n",
            "|2021-03-05 00:00:00|              2021-03-12|\n",
            "|2021-04-07 00:00:00|              2021-04-09|\n",
            "|2022-05-24 00:00:00|              2022-05-27|\n",
            "|2022-06-01 00:00:00|              2022-06-03|\n",
            "|2022-07-16 00:00:00|              2022-07-22|\n",
            "|2023-08-30 00:00:00|              2023-09-01|\n",
            "|2023-09-11 00:00:00|              2023-09-15|\n",
            "|2023-10-21 00:00:00|              2023-10-27|\n",
            "+-------------------+------------------------+\n",
            "\n"
          ]
        }
      ]
    },
    {
      "cell_type": "code",
      "source": [
        "#Returns the first date which is later than the value of the date column\n",
        "df.select(df.OrderDate,next_day(df.OrderDate,\"Mon\")).show()"
      ],
      "metadata": {
        "id": "kP4jag6okSJD",
        "colab": {
          "base_uri": "https://localhost:8080/"
        },
        "outputId": "9652fbe8-ed36-4e13-a669-cddf491e355b"
      },
      "execution_count": 18,
      "outputs": [
        {
          "output_type": "stream",
          "name": "stdout",
          "text": [
            "+-------------------+------------------------+\n",
            "|          OrderDate|next_day(OrderDate, Mon)|\n",
            "+-------------------+------------------------+\n",
            "|2020-01-15 00:00:00|              2020-01-20|\n",
            "|2020-02-17 00:00:00|              2020-02-24|\n",
            "|2021-03-05 00:00:00|              2021-03-08|\n",
            "|2021-04-07 00:00:00|              2021-04-12|\n",
            "|2022-05-24 00:00:00|              2022-05-30|\n",
            "|2022-06-01 00:00:00|              2022-06-06|\n",
            "|2022-07-16 00:00:00|              2022-07-18|\n",
            "|2023-08-30 00:00:00|              2023-09-04|\n",
            "|2023-09-11 00:00:00|              2023-09-18|\n",
            "|2023-10-21 00:00:00|              2023-10-23|\n",
            "+-------------------+------------------------+\n",
            "\n"
          ]
        }
      ]
    },
    {
      "cell_type": "code",
      "source": [
        "#Returns the last day of the month which the given date belongs to\n",
        "df.select(df.OrderDate,last_day(df.OrderDate)).show()"
      ],
      "metadata": {
        "colab": {
          "base_uri": "https://localhost:8080/"
        },
        "id": "J-1Aj010Iuvo",
        "outputId": "8bbffce8-3e90-4a8d-ba60-feec18a4ab8a"
      },
      "execution_count": 19,
      "outputs": [
        {
          "output_type": "stream",
          "name": "stdout",
          "text": [
            "+-------------------+-------------------+\n",
            "|          OrderDate|last_day(OrderDate)|\n",
            "+-------------------+-------------------+\n",
            "|2020-01-15 00:00:00|         2020-01-31|\n",
            "|2020-02-17 00:00:00|         2020-02-29|\n",
            "|2021-03-05 00:00:00|         2021-03-31|\n",
            "|2021-04-07 00:00:00|         2021-04-30|\n",
            "|2022-05-24 00:00:00|         2022-05-31|\n",
            "|2022-06-01 00:00:00|         2022-06-30|\n",
            "|2022-07-16 00:00:00|         2022-07-31|\n",
            "|2023-08-30 00:00:00|         2023-08-31|\n",
            "|2023-09-11 00:00:00|         2023-09-30|\n",
            "|2023-10-21 00:00:00|         2023-10-31|\n",
            "+-------------------+-------------------+\n",
            "\n"
          ]
        }
      ]
    },
    {
      "cell_type": "code",
      "source": [
        "df.select(df.OrderDate,dayofweek(df.OrderDate)).show()"
      ],
      "metadata": {
        "colab": {
          "base_uri": "https://localhost:8080/"
        },
        "id": "eoLtbrA9KI_i",
        "outputId": "385df7a5-091c-4675-9c3b-f5ade1f47964"
      },
      "execution_count": 20,
      "outputs": [
        {
          "output_type": "stream",
          "name": "stdout",
          "text": [
            "+-------------------+--------------------+\n",
            "|          OrderDate|dayofweek(OrderDate)|\n",
            "+-------------------+--------------------+\n",
            "|2020-01-15 00:00:00|                   4|\n",
            "|2020-02-17 00:00:00|                   2|\n",
            "|2021-03-05 00:00:00|                   6|\n",
            "|2021-04-07 00:00:00|                   4|\n",
            "|2022-05-24 00:00:00|                   3|\n",
            "|2022-06-01 00:00:00|                   4|\n",
            "|2022-07-16 00:00:00|                   7|\n",
            "|2023-08-30 00:00:00|                   4|\n",
            "|2023-09-11 00:00:00|                   2|\n",
            "|2023-10-21 00:00:00|                   7|\n",
            "+-------------------+--------------------+\n",
            "\n"
          ]
        }
      ]
    },
    {
      "cell_type": "code",
      "source": [
        "#to extract date\n",
        "df.select(df.OrderDate,dayofmonth(df.OrderDate)).show()"
      ],
      "metadata": {
        "colab": {
          "base_uri": "https://localhost:8080/"
        },
        "id": "e-wsrz9wKd0X",
        "outputId": "4f683f3c-4dd0-443c-a351-a22c3fbd3f60"
      },
      "execution_count": 104,
      "outputs": [
        {
          "output_type": "stream",
          "name": "stdout",
          "text": [
            "+----------+---------------------+\n",
            "| OrderDate|dayofmonth(OrderDate)|\n",
            "+----------+---------------------+\n",
            "|2020-01-15|                   15|\n",
            "|2020-02-17|                   17|\n",
            "|2021-03-05|                    5|\n",
            "|2021-04-07|                    7|\n",
            "|2022-05-24|                   24|\n",
            "|2022-06-01|                    1|\n",
            "|2022-07-16|                   16|\n",
            "|2023-08-30|                   30|\n",
            "|2023-09-11|                   11|\n",
            "|2023-10-21|                   21|\n",
            "+----------+---------------------+\n",
            "\n"
          ]
        }
      ]
    },
    {
      "cell_type": "code",
      "source": [
        "df.select(df.OrderDate,day(df.OrderDate)).show()"
      ],
      "metadata": {
        "colab": {
          "base_uri": "https://localhost:8080/"
        },
        "id": "9-6Venk0Ki-D",
        "outputId": "38185248-7712-45c5-c496-90af07f84038"
      },
      "execution_count": 24,
      "outputs": [
        {
          "output_type": "stream",
          "name": "stdout",
          "text": [
            "+-------------------+--------------+\n",
            "|          OrderDate|day(OrderDate)|\n",
            "+-------------------+--------------+\n",
            "|2020-01-15 00:00:00|            15|\n",
            "|2020-02-17 00:00:00|            17|\n",
            "|2021-03-05 00:00:00|             5|\n",
            "|2021-04-07 00:00:00|             7|\n",
            "|2022-05-24 00:00:00|            24|\n",
            "|2022-06-01 00:00:00|             1|\n",
            "|2022-07-16 00:00:00|            16|\n",
            "|2023-08-30 00:00:00|            30|\n",
            "|2023-09-11 00:00:00|            11|\n",
            "|2023-10-21 00:00:00|            21|\n",
            "+-------------------+--------------+\n",
            "\n"
          ]
        }
      ]
    },
    {
      "cell_type": "code",
      "source": [
        "#To extract month\n",
        "df.select(df.OrderDate,month(df.OrderDate)).show()"
      ],
      "metadata": {
        "colab": {
          "base_uri": "https://localhost:8080/"
        },
        "id": "2K2xrDgcKvtl",
        "outputId": "48cb2831-f272-4a50-e7ec-ac36c17d9e0b"
      },
      "execution_count": 25,
      "outputs": [
        {
          "output_type": "stream",
          "name": "stdout",
          "text": [
            "+-------------------+----------------+\n",
            "|          OrderDate|month(OrderDate)|\n",
            "+-------------------+----------------+\n",
            "|2020-01-15 00:00:00|               1|\n",
            "|2020-02-17 00:00:00|               2|\n",
            "|2021-03-05 00:00:00|               3|\n",
            "|2021-04-07 00:00:00|               4|\n",
            "|2022-05-24 00:00:00|               5|\n",
            "|2022-06-01 00:00:00|               6|\n",
            "|2022-07-16 00:00:00|               7|\n",
            "|2023-08-30 00:00:00|               8|\n",
            "|2023-09-11 00:00:00|               9|\n",
            "|2023-10-21 00:00:00|              10|\n",
            "+-------------------+----------------+\n",
            "\n"
          ]
        }
      ]
    },
    {
      "cell_type": "code",
      "source": [
        "#To extract quarter\n",
        "df.select(df.OrderDate,quarter(df.OrderDate)).show()"
      ],
      "metadata": {
        "colab": {
          "base_uri": "https://localhost:8080/"
        },
        "id": "pykpblnHMwl7",
        "outputId": "c25e86b6-5151-4d44-f1fc-f71eef100e02"
      },
      "execution_count": 36,
      "outputs": [
        {
          "output_type": "stream",
          "name": "stdout",
          "text": [
            "+-------------------+------------------+\n",
            "|          OrderDate|quarter(OrderDate)|\n",
            "+-------------------+------------------+\n",
            "|2020-01-15 00:00:00|                 1|\n",
            "|2020-02-17 00:00:00|                 1|\n",
            "|2021-03-05 00:00:00|                 1|\n",
            "|2021-04-07 00:00:00|                 2|\n",
            "|2022-05-24 00:00:00|                 2|\n",
            "|2022-06-01 00:00:00|                 2|\n",
            "|2022-07-16 00:00:00|                 3|\n",
            "|2023-08-30 00:00:00|                 3|\n",
            "|2023-09-11 00:00:00|                 3|\n",
            "|2023-10-21 00:00:00|                 4|\n",
            "+-------------------+------------------+\n",
            "\n"
          ]
        }
      ]
    },
    {
      "cell_type": "code",
      "source": [
        "#To extract year\n",
        "df.select(df.OrderDate,year(df.OrderDate)).show()"
      ],
      "metadata": {
        "colab": {
          "base_uri": "https://localhost:8080/"
        },
        "id": "-dMHLrNcLDiK",
        "outputId": "93c58ff5-d072-4776-c67a-fd68ca074b71"
      },
      "execution_count": 27,
      "outputs": [
        {
          "output_type": "stream",
          "name": "stdout",
          "text": [
            "+-------------------+---------------+\n",
            "|          OrderDate|year(OrderDate)|\n",
            "+-------------------+---------------+\n",
            "|2020-01-15 00:00:00|           2020|\n",
            "|2020-02-17 00:00:00|           2020|\n",
            "|2021-03-05 00:00:00|           2021|\n",
            "|2021-04-07 00:00:00|           2021|\n",
            "|2022-05-24 00:00:00|           2022|\n",
            "|2022-06-01 00:00:00|           2022|\n",
            "|2022-07-16 00:00:00|           2022|\n",
            "|2023-08-30 00:00:00|           2023|\n",
            "|2023-09-11 00:00:00|           2023|\n",
            "|2023-10-21 00:00:00|           2023|\n",
            "+-------------------+---------------+\n",
            "\n"
          ]
        }
      ]
    },
    {
      "cell_type": "code",
      "source": [
        "#day of year\n",
        "df.select(df.OrderDate,dayofyear(df.OrderDate)).show()"
      ],
      "metadata": {
        "colab": {
          "base_uri": "https://localhost:8080/"
        },
        "id": "sviB2xHqLKSY",
        "outputId": "5b5dd22f-fcbe-411a-aa03-e3694994f466"
      },
      "execution_count": 28,
      "outputs": [
        {
          "output_type": "stream",
          "name": "stdout",
          "text": [
            "+-------------------+--------------------+\n",
            "|          OrderDate|dayofyear(OrderDate)|\n",
            "+-------------------+--------------------+\n",
            "|2020-01-15 00:00:00|                  15|\n",
            "|2020-02-17 00:00:00|                  48|\n",
            "|2021-03-05 00:00:00|                  64|\n",
            "|2021-04-07 00:00:00|                  97|\n",
            "|2022-05-24 00:00:00|                 144|\n",
            "|2022-06-01 00:00:00|                 152|\n",
            "|2022-07-16 00:00:00|                 197|\n",
            "|2023-08-30 00:00:00|                 242|\n",
            "|2023-09-11 00:00:00|                 254|\n",
            "|2023-10-21 00:00:00|                 294|\n",
            "+-------------------+--------------------+\n",
            "\n"
          ]
        }
      ]
    },
    {
      "cell_type": "code",
      "source": [
        "#week of year\n",
        "df.select(df.OrderDate,weekofyear(df.OrderDate)).show()"
      ],
      "metadata": {
        "colab": {
          "base_uri": "https://localhost:8080/"
        },
        "id": "ji2tABxxLY49",
        "outputId": "4bf0ad77-8593-4cf3-db53-70782d7fee28"
      },
      "execution_count": 29,
      "outputs": [
        {
          "output_type": "stream",
          "name": "stdout",
          "text": [
            "+-------------------+---------------------+\n",
            "|          OrderDate|weekofyear(OrderDate)|\n",
            "+-------------------+---------------------+\n",
            "|2020-01-15 00:00:00|                    3|\n",
            "|2020-02-17 00:00:00|                    8|\n",
            "|2021-03-05 00:00:00|                    9|\n",
            "|2021-04-07 00:00:00|                   14|\n",
            "|2022-05-24 00:00:00|                   21|\n",
            "|2022-06-01 00:00:00|                   22|\n",
            "|2022-07-16 00:00:00|                   28|\n",
            "|2023-08-30 00:00:00|                   35|\n",
            "|2023-09-11 00:00:00|                   37|\n",
            "|2023-10-21 00:00:00|                   42|\n",
            "+-------------------+---------------------+\n",
            "\n"
          ]
        }
      ]
    },
    {
      "cell_type": "code",
      "source": [
        "from os import truncate\n",
        "#Second,minute,hour\n",
        "df.select(current_timestamp(),second(current_timestamp())).show(truncate= False)"
      ],
      "metadata": {
        "colab": {
          "base_uri": "https://localhost:8080/"
        },
        "id": "dl3QBT4xLirP",
        "outputId": "fa23ff71-50be-42c1-8cbb-1fde95cc1be9"
      },
      "execution_count": 33,
      "outputs": [
        {
          "output_type": "stream",
          "name": "stdout",
          "text": [
            "+--------------------------+---------------------------+\n",
            "|current_timestamp()       |second(current_timestamp())|\n",
            "+--------------------------+---------------------------+\n",
            "|2023-11-21 04:44:35.899845|35                         |\n",
            "|2023-11-21 04:44:35.899845|35                         |\n",
            "|2023-11-21 04:44:35.899845|35                         |\n",
            "|2023-11-21 04:44:35.899845|35                         |\n",
            "|2023-11-21 04:44:35.899845|35                         |\n",
            "|2023-11-21 04:44:35.899845|35                         |\n",
            "|2023-11-21 04:44:35.899845|35                         |\n",
            "|2023-11-21 04:44:35.899845|35                         |\n",
            "|2023-11-21 04:44:35.899845|35                         |\n",
            "|2023-11-21 04:44:35.899845|35                         |\n",
            "+--------------------------+---------------------------+\n",
            "\n"
          ]
        }
      ]
    },
    {
      "cell_type": "code",
      "source": [
        "df.select(current_timestamp(),minute(current_timestamp())).show(truncate= False)"
      ],
      "metadata": {
        "colab": {
          "base_uri": "https://localhost:8080/"
        },
        "id": "SRqKWRwVMKSk",
        "outputId": "fc74b9b0-ddb4-4b86-e985-e87cabed098e"
      },
      "execution_count": 34,
      "outputs": [
        {
          "output_type": "stream",
          "name": "stdout",
          "text": [
            "+--------------------------+---------------------------+\n",
            "|current_timestamp()       |minute(current_timestamp())|\n",
            "+--------------------------+---------------------------+\n",
            "|2023-11-21 04:44:53.233217|44                         |\n",
            "|2023-11-21 04:44:53.233217|44                         |\n",
            "|2023-11-21 04:44:53.233217|44                         |\n",
            "|2023-11-21 04:44:53.233217|44                         |\n",
            "|2023-11-21 04:44:53.233217|44                         |\n",
            "|2023-11-21 04:44:53.233217|44                         |\n",
            "|2023-11-21 04:44:53.233217|44                         |\n",
            "|2023-11-21 04:44:53.233217|44                         |\n",
            "|2023-11-21 04:44:53.233217|44                         |\n",
            "|2023-11-21 04:44:53.233217|44                         |\n",
            "+--------------------------+---------------------------+\n",
            "\n"
          ]
        }
      ]
    },
    {
      "cell_type": "code",
      "source": [
        "df.select(current_timestamp(),hour(current_timestamp())).show(truncate= False)"
      ],
      "metadata": {
        "colab": {
          "base_uri": "https://localhost:8080/"
        },
        "id": "yZG2igSdMgVL",
        "outputId": "105f9376-4982-4901-c7b5-05846b3a1d7f"
      },
      "execution_count": 35,
      "outputs": [
        {
          "output_type": "stream",
          "name": "stdout",
          "text": [
            "+------------------------+-------------------------+\n",
            "|current_timestamp()     |hour(current_timestamp())|\n",
            "+------------------------+-------------------------+\n",
            "|2023-11-21 04:45:15.1675|4                        |\n",
            "|2023-11-21 04:45:15.1675|4                        |\n",
            "|2023-11-21 04:45:15.1675|4                        |\n",
            "|2023-11-21 04:45:15.1675|4                        |\n",
            "|2023-11-21 04:45:15.1675|4                        |\n",
            "|2023-11-21 04:45:15.1675|4                        |\n",
            "|2023-11-21 04:45:15.1675|4                        |\n",
            "|2023-11-21 04:45:15.1675|4                        |\n",
            "|2023-11-21 04:45:15.1675|4                        |\n",
            "|2023-11-21 04:45:15.1675|4                        |\n",
            "+------------------------+-------------------------+\n",
            "\n"
          ]
        }
      ]
    },
    {
      "cell_type": "code",
      "source": [
        " #months_between(date1,date2,roundOff = True)\n",
        " df.select(current_timestamp(),df.OrderDate,months_between(current_timestamp(),df.OrderDate)).show(truncate= False)"
      ],
      "metadata": {
        "colab": {
          "base_uri": "https://localhost:8080/"
        },
        "id": "EHZFOmU7Mlvw",
        "outputId": "b851d8bd-9da5-4e90-ac46-9ddca20cd18c"
      },
      "execution_count": 41,
      "outputs": [
        {
          "output_type": "stream",
          "name": "stdout",
          "text": [
            "+--------------------------+-------------------+----------------------------------------------------+\n",
            "|current_timestamp()       |OrderDate          |months_between(current_timestamp(), OrderDate, true)|\n",
            "+--------------------------+-------------------+----------------------------------------------------+\n",
            "|2023-11-21 04:52:48.266918|2020-01-15 00:00:00|46.20010753                                         |\n",
            "|2023-11-21 04:52:48.266918|2020-02-17 00:00:00|45.1355914                                          |\n",
            "|2023-11-21 04:52:48.266918|2021-03-05 00:00:00|32.52268817                                         |\n",
            "|2023-11-21 04:52:48.266918|2021-04-07 00:00:00|31.45817204                                         |\n",
            "|2023-11-21 04:52:48.266918|2022-05-24 00:00:00|17.90978495                                         |\n",
            "|2023-11-21 04:52:48.266918|2022-06-01 00:00:00|17.65172043                                         |\n",
            "|2023-11-21 04:52:48.266918|2022-07-16 00:00:00|16.16784946                                         |\n",
            "|2023-11-21 04:52:48.266918|2023-08-30 00:00:00|2.71623656                                          |\n",
            "|2023-11-21 04:52:48.266918|2023-09-11 00:00:00|2.32913978                                          |\n",
            "|2023-11-21 04:52:48.266918|2023-10-21 00:00:00|1.0                                                 |\n",
            "+--------------------------+-------------------+----------------------------------------------------+\n",
            "\n"
          ]
        }
      ]
    },
    {
      "cell_type": "code",
      "source": [
        " df.select(current_timestamp(),df.OrderDate,ceil(months_between(current_timestamp(),df.OrderDate))).show(truncate= False)"
      ],
      "metadata": {
        "colab": {
          "base_uri": "https://localhost:8080/"
        },
        "id": "6c9fiJ23Nz-C",
        "outputId": "e2c69853-f5dc-498e-c7aa-80ef236fc569"
      },
      "execution_count": 42,
      "outputs": [
        {
          "output_type": "stream",
          "name": "stdout",
          "text": [
            "+--------------------------+-------------------+----------------------------------------------------------+\n",
            "|current_timestamp()       |OrderDate          |CEIL(months_between(current_timestamp(), OrderDate, true))|\n",
            "+--------------------------+-------------------+----------------------------------------------------------+\n",
            "|2023-11-21 04:54:07.070992|2020-01-15 00:00:00|47                                                        |\n",
            "|2023-11-21 04:54:07.070992|2020-02-17 00:00:00|46                                                        |\n",
            "|2023-11-21 04:54:07.070992|2021-03-05 00:00:00|33                                                        |\n",
            "|2023-11-21 04:54:07.070992|2021-04-07 00:00:00|32                                                        |\n",
            "|2023-11-21 04:54:07.070992|2022-05-24 00:00:00|18                                                        |\n",
            "|2023-11-21 04:54:07.070992|2022-06-01 00:00:00|18                                                        |\n",
            "|2023-11-21 04:54:07.070992|2022-07-16 00:00:00|17                                                        |\n",
            "|2023-11-21 04:54:07.070992|2023-08-30 00:00:00|3                                                         |\n",
            "|2023-11-21 04:54:07.070992|2023-09-11 00:00:00|3                                                         |\n",
            "|2023-11-21 04:54:07.070992|2023-10-21 00:00:00|1                                                         |\n",
            "+--------------------------+-------------------+----------------------------------------------------------+\n",
            "\n"
          ]
        }
      ]
    },
    {
      "cell_type": "code",
      "source": [
        " df.select(current_timestamp(),df.OrderDate,floor(months_between(current_timestamp(),df.OrderDate))).show(truncate= False)"
      ],
      "metadata": {
        "colab": {
          "base_uri": "https://localhost:8080/"
        },
        "id": "ochu72XMOntm",
        "outputId": "35b954ff-bd63-4293-c8bb-4337bbd46653"
      },
      "execution_count": 43,
      "outputs": [
        {
          "output_type": "stream",
          "name": "stdout",
          "text": [
            "+--------------------------+-------------------+-----------------------------------------------------------+\n",
            "|current_timestamp()       |OrderDate          |FLOOR(months_between(current_timestamp(), OrderDate, true))|\n",
            "+--------------------------+-------------------+-----------------------------------------------------------+\n",
            "|2023-11-21 04:54:38.389317|2020-01-15 00:00:00|46                                                         |\n",
            "|2023-11-21 04:54:38.389317|2020-02-17 00:00:00|45                                                         |\n",
            "|2023-11-21 04:54:38.389317|2021-03-05 00:00:00|32                                                         |\n",
            "|2023-11-21 04:54:38.389317|2021-04-07 00:00:00|31                                                         |\n",
            "|2023-11-21 04:54:38.389317|2022-05-24 00:00:00|17                                                         |\n",
            "|2023-11-21 04:54:38.389317|2022-06-01 00:00:00|17                                                         |\n",
            "|2023-11-21 04:54:38.389317|2022-07-16 00:00:00|16                                                         |\n",
            "|2023-11-21 04:54:38.389317|2023-08-30 00:00:00|2                                                          |\n",
            "|2023-11-21 04:54:38.389317|2023-09-11 00:00:00|2                                                          |\n",
            "|2023-11-21 04:54:38.389317|2023-10-21 00:00:00|1                                                          |\n",
            "+--------------------------+-------------------+-----------------------------------------------------------+\n",
            "\n"
          ]
        }
      ]
    },
    {
      "cell_type": "code",
      "source": [
        "#date_add(): Add number of Days\n",
        "df.select(df.OrderDate,date_add(df.OrderDate,5)).show()"
      ],
      "metadata": {
        "colab": {
          "base_uri": "https://localhost:8080/"
        },
        "id": "c6_8S3qHOvRr",
        "outputId": "d4a9d185-0329-4d8b-c481-19232f89acb2"
      },
      "execution_count": 44,
      "outputs": [
        {
          "output_type": "stream",
          "name": "stdout",
          "text": [
            "+-------------------+----------------------+\n",
            "|          OrderDate|date_add(OrderDate, 5)|\n",
            "+-------------------+----------------------+\n",
            "|2020-01-15 00:00:00|            2020-01-20|\n",
            "|2020-02-17 00:00:00|            2020-02-22|\n",
            "|2021-03-05 00:00:00|            2021-03-10|\n",
            "|2021-04-07 00:00:00|            2021-04-12|\n",
            "|2022-05-24 00:00:00|            2022-05-29|\n",
            "|2022-06-01 00:00:00|            2022-06-06|\n",
            "|2022-07-16 00:00:00|            2022-07-21|\n",
            "|2023-08-30 00:00:00|            2023-09-04|\n",
            "|2023-09-11 00:00:00|            2023-09-16|\n",
            "|2023-10-21 00:00:00|            2023-10-26|\n",
            "+-------------------+----------------------+\n",
            "\n"
          ]
        }
      ]
    },
    {
      "cell_type": "code",
      "source": [
        "#date_sub()\n",
        "df.select(df.OrderDate,date_sub(df.OrderDate,5)).show()"
      ],
      "metadata": {
        "colab": {
          "base_uri": "https://localhost:8080/"
        },
        "id": "8tn8WY6DPK62",
        "outputId": "bd8dc7a1-fbcc-4203-b57c-f2bd586d7fb0"
      },
      "execution_count": 45,
      "outputs": [
        {
          "output_type": "stream",
          "name": "stdout",
          "text": [
            "+-------------------+----------------------+\n",
            "|          OrderDate|date_sub(OrderDate, 5)|\n",
            "+-------------------+----------------------+\n",
            "|2020-01-15 00:00:00|            2020-01-10|\n",
            "|2020-02-17 00:00:00|            2020-02-12|\n",
            "|2021-03-05 00:00:00|            2021-02-28|\n",
            "|2021-04-07 00:00:00|            2021-04-02|\n",
            "|2022-05-24 00:00:00|            2022-05-19|\n",
            "|2022-06-01 00:00:00|            2022-05-27|\n",
            "|2022-07-16 00:00:00|            2022-07-11|\n",
            "|2023-08-30 00:00:00|            2023-08-25|\n",
            "|2023-09-11 00:00:00|            2023-09-06|\n",
            "|2023-10-21 00:00:00|            2023-10-16|\n",
            "+-------------------+----------------------+\n",
            "\n"
          ]
        }
      ]
    },
    {
      "cell_type": "code",
      "source": [
        "#add_months()\n",
        "df.select(df.OrderDate,add_months(df.OrderDate,6)).show()"
      ],
      "metadata": {
        "colab": {
          "base_uri": "https://localhost:8080/"
        },
        "id": "U0j5bhBKPS7B",
        "outputId": "e0895f0b-144d-4fdb-c6f1-ee2df2f3158e"
      },
      "execution_count": 47,
      "outputs": [
        {
          "output_type": "stream",
          "name": "stdout",
          "text": [
            "+-------------------+------------------------+\n",
            "|          OrderDate|add_months(OrderDate, 6)|\n",
            "+-------------------+------------------------+\n",
            "|2020-01-15 00:00:00|              2020-07-15|\n",
            "|2020-02-17 00:00:00|              2020-08-17|\n",
            "|2021-03-05 00:00:00|              2021-09-05|\n",
            "|2021-04-07 00:00:00|              2021-10-07|\n",
            "|2022-05-24 00:00:00|              2022-11-24|\n",
            "|2022-06-01 00:00:00|              2022-12-01|\n",
            "|2022-07-16 00:00:00|              2023-01-16|\n",
            "|2023-08-30 00:00:00|              2024-02-29|\n",
            "|2023-09-11 00:00:00|              2024-03-11|\n",
            "|2023-10-21 00:00:00|              2024-04-21|\n",
            "+-------------------+------------------------+\n",
            "\n"
          ]
        }
      ]
    },
    {
      "cell_type": "code",
      "source": [
        "#datediff()\n",
        "df.select(current_timestamp(),df.OrderDate,datediff(current_timestamp(),df.OrderDate))\\\n",
        ".show()"
      ],
      "metadata": {
        "colab": {
          "base_uri": "https://localhost:8080/"
        },
        "id": "VDZev51wPmgZ",
        "outputId": "d3372975-9312-4709-fb69-2f7d90c16578"
      },
      "execution_count": 50,
      "outputs": [
        {
          "output_type": "stream",
          "name": "stdout",
          "text": [
            "+--------------------+-------------------+----------------------------------------+\n",
            "| current_timestamp()|          OrderDate|datediff(current_timestamp(), OrderDate)|\n",
            "+--------------------+-------------------+----------------------------------------+\n",
            "|2023-11-21 05:05:...|2020-01-15 00:00:00|                                    1406|\n",
            "|2023-11-21 05:05:...|2020-02-17 00:00:00|                                    1373|\n",
            "|2023-11-21 05:05:...|2021-03-05 00:00:00|                                     991|\n",
            "|2023-11-21 05:05:...|2021-04-07 00:00:00|                                     958|\n",
            "|2023-11-21 05:05:...|2022-05-24 00:00:00|                                     546|\n",
            "|2023-11-21 05:05:...|2022-06-01 00:00:00|                                     538|\n",
            "|2023-11-21 05:05:...|2022-07-16 00:00:00|                                     493|\n",
            "|2023-11-21 05:05:...|2023-08-30 00:00:00|                                      83|\n",
            "|2023-11-21 05:05:...|2023-09-11 00:00:00|                                      71|\n",
            "|2023-11-21 05:05:...|2023-10-21 00:00:00|                                      31|\n",
            "+--------------------+-------------------+----------------------------------------+\n",
            "\n"
          ]
        }
      ]
    },
    {
      "cell_type": "code",
      "source": [
        "#datediff()\n",
        "df.select(df.OrderDate,current_timestamp(),datediff(df.OrderDate,current_timestamp()))\\\n",
        ".show()"
      ],
      "metadata": {
        "colab": {
          "base_uri": "https://localhost:8080/"
        },
        "id": "_iWgTb77Qyr5",
        "outputId": "f9cbca42-166f-4672-aff6-8d630d74d562"
      },
      "execution_count": 49,
      "outputs": [
        {
          "output_type": "stream",
          "name": "stdout",
          "text": [
            "+-------------------+--------------------+----------------------------------------+\n",
            "|          OrderDate| current_timestamp()|datediff(OrderDate, current_timestamp())|\n",
            "+-------------------+--------------------+----------------------------------------+\n",
            "|2020-01-15 00:00:00|2023-11-21 05:04:...|                                   -1406|\n",
            "|2020-02-17 00:00:00|2023-11-21 05:04:...|                                   -1373|\n",
            "|2021-03-05 00:00:00|2023-11-21 05:04:...|                                    -991|\n",
            "|2021-04-07 00:00:00|2023-11-21 05:04:...|                                    -958|\n",
            "|2022-05-24 00:00:00|2023-11-21 05:04:...|                                    -546|\n",
            "|2022-06-01 00:00:00|2023-11-21 05:04:...|                                    -538|\n",
            "|2022-07-16 00:00:00|2023-11-21 05:04:...|                                    -493|\n",
            "|2023-08-30 00:00:00|2023-11-21 05:04:...|                                     -83|\n",
            "|2023-09-11 00:00:00|2023-11-21 05:04:...|                                     -71|\n",
            "|2023-10-21 00:00:00|2023-11-21 05:04:...|                                     -31|\n",
            "+-------------------+--------------------+----------------------------------------+\n",
            "\n"
          ]
        }
      ]
    },
    {
      "cell_type": "code",
      "source": [
        "#date_trunc(format,timestamp)\n",
        "#returns timestamp truncated to the unit specified by the format\n",
        "#format: 'year','yy','month','mon','mm','day','dd','hour','minute','week','quarter'\n",
        "\n",
        "df.withColumn('OrderYear',date_trunc('yyyy',df.OrderDate)).show()"
      ],
      "metadata": {
        "colab": {
          "base_uri": "https://localhost:8080/"
        },
        "id": "QE1Lg3mSQ_X3",
        "outputId": "19aac3f1-5ac1-428e-a844-b409be125dd4"
      },
      "execution_count": 105,
      "outputs": [
        {
          "output_type": "stream",
          "name": "stdout",
          "text": [
            "+-------+----------+---------------+-----------+-------------------+\n",
            "|OrderId| OrderDate|OrderCustomerId|OrderStatus|          OrderYear|\n",
            "+-------+----------+---------------+-----------+-------------------+\n",
            "|      1|2020-01-15|            101|    Pending|2020-01-01 00:00:00|\n",
            "|      2|2020-02-17|            102|    Shipped|2020-01-01 00:00:00|\n",
            "|      3|2021-03-05|            103|  Delivered|2021-01-01 00:00:00|\n",
            "|      4|2021-04-07|            104|    Pending|2021-01-01 00:00:00|\n",
            "|      5|2022-05-24|            105|    Shipped|2022-01-01 00:00:00|\n",
            "|      6|2022-06-01|            106|  Delivered|2022-01-01 00:00:00|\n",
            "|      7|2022-07-16|            107|    Shipped|2022-01-01 00:00:00|\n",
            "|      8|2023-08-30|            108|    Pending|2023-01-01 00:00:00|\n",
            "|      9|2023-09-11|            109|  Delivered|2023-01-01 00:00:00|\n",
            "|     10|2023-10-21|            110|    Shipped|2023-01-01 00:00:00|\n",
            "+-------+----------+---------------+-----------+-------------------+\n",
            "\n"
          ]
        }
      ]
    },
    {
      "cell_type": "code",
      "source": [
        "df.withColumn('OrderYear',date_trunc('month',df.OrderDate)).show()"
      ],
      "metadata": {
        "colab": {
          "base_uri": "https://localhost:8080/"
        },
        "id": "jBks76gBR-O4",
        "outputId": "d677cf74-abeb-4072-c978-3deabb223dd1"
      },
      "execution_count": 54,
      "outputs": [
        {
          "output_type": "stream",
          "name": "stdout",
          "text": [
            "+-------+-------------------+---------------+-----------+-------------------+\n",
            "|OrderId|          OrderDate|OrderCustomerId|OrderStatus|          OrderYear|\n",
            "+-------+-------------------+---------------+-----------+-------------------+\n",
            "|      1|2020-01-15 00:00:00|            101|    Pending|2020-01-01 00:00:00|\n",
            "|      2|2020-02-17 00:00:00|            102|    Shipped|2020-02-01 00:00:00|\n",
            "|      3|2021-03-05 00:00:00|            103|  Delivered|2021-03-01 00:00:00|\n",
            "|      4|2021-04-07 00:00:00|            104|    Pending|2021-04-01 00:00:00|\n",
            "|      5|2022-05-24 00:00:00|            105|    Shipped|2022-05-01 00:00:00|\n",
            "|      6|2022-06-01 00:00:00|            106|  Delivered|2022-06-01 00:00:00|\n",
            "|      7|2022-07-16 00:00:00|            107|    Shipped|2022-07-01 00:00:00|\n",
            "|      8|2023-08-30 00:00:00|            108|    Pending|2023-08-01 00:00:00|\n",
            "|      9|2023-09-11 00:00:00|            109|  Delivered|2023-09-01 00:00:00|\n",
            "|     10|2023-10-21 00:00:00|            110|    Shipped|2023-10-01 00:00:00|\n",
            "+-------+-------------------+---------------+-----------+-------------------+\n",
            "\n"
          ]
        }
      ]
    },
    {
      "cell_type": "code",
      "source": [
        "df.withColumn('OrderYear',date_trunc('quarter',df.OrderDate)).show()"
      ],
      "metadata": {
        "colab": {
          "base_uri": "https://localhost:8080/"
        },
        "id": "3d-PnT_-SwTy",
        "outputId": "9c3792a2-6555-4d11-87b2-5b354575fc7b"
      },
      "execution_count": 55,
      "outputs": [
        {
          "output_type": "stream",
          "name": "stdout",
          "text": [
            "+-------+-------------------+---------------+-----------+-------------------+\n",
            "|OrderId|          OrderDate|OrderCustomerId|OrderStatus|          OrderYear|\n",
            "+-------+-------------------+---------------+-----------+-------------------+\n",
            "|      1|2020-01-15 00:00:00|            101|    Pending|2020-01-01 00:00:00|\n",
            "|      2|2020-02-17 00:00:00|            102|    Shipped|2020-01-01 00:00:00|\n",
            "|      3|2021-03-05 00:00:00|            103|  Delivered|2021-01-01 00:00:00|\n",
            "|      4|2021-04-07 00:00:00|            104|    Pending|2021-04-01 00:00:00|\n",
            "|      5|2022-05-24 00:00:00|            105|    Shipped|2022-04-01 00:00:00|\n",
            "|      6|2022-06-01 00:00:00|            106|  Delivered|2022-04-01 00:00:00|\n",
            "|      7|2022-07-16 00:00:00|            107|    Shipped|2022-07-01 00:00:00|\n",
            "|      8|2023-08-30 00:00:00|            108|    Pending|2023-07-01 00:00:00|\n",
            "|      9|2023-09-11 00:00:00|            109|  Delivered|2023-07-01 00:00:00|\n",
            "|     10|2023-10-21 00:00:00|            110|    Shipped|2023-10-01 00:00:00|\n",
            "+-------+-------------------+---------------+-----------+-------------------+\n",
            "\n"
          ]
        }
      ]
    },
    {
      "cell_type": "code",
      "source": [
        "#date_format(date,'format')\n",
        "df.withColumn('NewOrderDate',date_format(df.OrderDate,\"yyyy/mm/dd\")).show()"
      ],
      "metadata": {
        "colab": {
          "base_uri": "https://localhost:8080/"
        },
        "id": "EiYRS7ynS4XM",
        "outputId": "20888cb2-362f-4fc3-d7ca-94630956666b"
      },
      "execution_count": 56,
      "outputs": [
        {
          "output_type": "stream",
          "name": "stdout",
          "text": [
            "+-------+-------------------+---------------+-----------+------------+\n",
            "|OrderId|          OrderDate|OrderCustomerId|OrderStatus|NewOrderDate|\n",
            "+-------+-------------------+---------------+-----------+------------+\n",
            "|      1|2020-01-15 00:00:00|            101|    Pending|  2020/00/15|\n",
            "|      2|2020-02-17 00:00:00|            102|    Shipped|  2020/00/17|\n",
            "|      3|2021-03-05 00:00:00|            103|  Delivered|  2021/00/05|\n",
            "|      4|2021-04-07 00:00:00|            104|    Pending|  2021/00/07|\n",
            "|      5|2022-05-24 00:00:00|            105|    Shipped|  2022/00/24|\n",
            "|      6|2022-06-01 00:00:00|            106|  Delivered|  2022/00/01|\n",
            "|      7|2022-07-16 00:00:00|            107|    Shipped|  2022/00/16|\n",
            "|      8|2023-08-30 00:00:00|            108|    Pending|  2023/00/30|\n",
            "|      9|2023-09-11 00:00:00|            109|  Delivered|  2023/00/11|\n",
            "|     10|2023-10-21 00:00:00|            110|    Shipped|  2023/00/21|\n",
            "+-------+-------------------+---------------+-----------+------------+\n",
            "\n"
          ]
        }
      ]
    },
    {
      "cell_type": "code",
      "source": [
        "#date_format(date,'yyyy')\n",
        "df.withColumn('NewOrderDate',date_format(df.OrderDate,\"yyyy\")).show()"
      ],
      "metadata": {
        "colab": {
          "base_uri": "https://localhost:8080/"
        },
        "id": "cct3oKTwTr31",
        "outputId": "47c03ad0-1503-4e6e-bf8d-a942e2bd9acf"
      },
      "execution_count": 57,
      "outputs": [
        {
          "output_type": "stream",
          "name": "stdout",
          "text": [
            "+-------+-------------------+---------------+-----------+------------+\n",
            "|OrderId|          OrderDate|OrderCustomerId|OrderStatus|NewOrderDate|\n",
            "+-------+-------------------+---------------+-----------+------------+\n",
            "|      1|2020-01-15 00:00:00|            101|    Pending|        2020|\n",
            "|      2|2020-02-17 00:00:00|            102|    Shipped|        2020|\n",
            "|      3|2021-03-05 00:00:00|            103|  Delivered|        2021|\n",
            "|      4|2021-04-07 00:00:00|            104|    Pending|        2021|\n",
            "|      5|2022-05-24 00:00:00|            105|    Shipped|        2022|\n",
            "|      6|2022-06-01 00:00:00|            106|  Delivered|        2022|\n",
            "|      7|2022-07-16 00:00:00|            107|    Shipped|        2022|\n",
            "|      8|2023-08-30 00:00:00|            108|    Pending|        2023|\n",
            "|      9|2023-09-11 00:00:00|            109|  Delivered|        2023|\n",
            "|     10|2023-10-21 00:00:00|            110|    Shipped|        2023|\n",
            "+-------+-------------------+---------------+-----------+------------+\n",
            "\n"
          ]
        }
      ]
    },
    {
      "cell_type": "code",
      "source": [
        "#date_format(date,'dd')\n",
        "df.withColumn('NewOrderDate',date_format(df.OrderDate,\"dd\")).show()"
      ],
      "metadata": {
        "colab": {
          "base_uri": "https://localhost:8080/"
        },
        "id": "itYWa4qBT1Mp",
        "outputId": "d8f34122-01c0-4d5e-99c0-b191661918db"
      },
      "execution_count": 64,
      "outputs": [
        {
          "output_type": "stream",
          "name": "stdout",
          "text": [
            "+-------+-------------------+---------------+-----------+------------+\n",
            "|OrderId|          OrderDate|OrderCustomerId|OrderStatus|NewOrderDate|\n",
            "+-------+-------------------+---------------+-----------+------------+\n",
            "|      1|2020-01-15 00:00:00|            101|    Pending|          15|\n",
            "|      2|2020-02-17 00:00:00|            102|    Shipped|          17|\n",
            "|      3|2021-03-05 00:00:00|            103|  Delivered|          05|\n",
            "|      4|2021-04-07 00:00:00|            104|    Pending|          07|\n",
            "|      5|2022-05-24 00:00:00|            105|    Shipped|          24|\n",
            "|      6|2022-06-01 00:00:00|            106|  Delivered|          01|\n",
            "|      7|2022-07-16 00:00:00|            107|    Shipped|          16|\n",
            "|      8|2023-08-30 00:00:00|            108|    Pending|          30|\n",
            "|      9|2023-09-11 00:00:00|            109|  Delivered|          11|\n",
            "|     10|2023-10-21 00:00:00|            110|    Shipped|          21|\n",
            "+-------+-------------------+---------------+-----------+------------+\n",
            "\n"
          ]
        }
      ]
    },
    {
      "cell_type": "code",
      "source": [
        "#date_format(date,'mm')\n",
        "df.withColumn('NewOrderDate',date_format(df.OrderDate,\"mm\")).show()"
      ],
      "metadata": {
        "colab": {
          "base_uri": "https://localhost:8080/"
        },
        "id": "zFvbGSkzT6Js",
        "outputId": "9924784d-ade5-4d88-8aab-c043bf86d381"
      },
      "execution_count": 65,
      "outputs": [
        {
          "output_type": "stream",
          "name": "stdout",
          "text": [
            "+-------+-------------------+---------------+-----------+------------+\n",
            "|OrderId|          OrderDate|OrderCustomerId|OrderStatus|NewOrderDate|\n",
            "+-------+-------------------+---------------+-----------+------------+\n",
            "|      1|2020-01-15 00:00:00|            101|    Pending|          00|\n",
            "|      2|2020-02-17 00:00:00|            102|    Shipped|          00|\n",
            "|      3|2021-03-05 00:00:00|            103|  Delivered|          00|\n",
            "|      4|2021-04-07 00:00:00|            104|    Pending|          00|\n",
            "|      5|2022-05-24 00:00:00|            105|    Shipped|          00|\n",
            "|      6|2022-06-01 00:00:00|            106|  Delivered|          00|\n",
            "|      7|2022-07-16 00:00:00|            107|    Shipped|          00|\n",
            "|      8|2023-08-30 00:00:00|            108|    Pending|          00|\n",
            "|      9|2023-09-11 00:00:00|            109|  Delivered|          00|\n",
            "|     10|2023-10-21 00:00:00|            110|    Shipped|          00|\n",
            "+-------+-------------------+---------------+-----------+------------+\n",
            "\n"
          ]
        }
      ]
    },
    {
      "cell_type": "code",
      "source": [
        "#to_date()\n",
        "df.withColumn('NewOrderDate',to_date(df.OrderDate,'yyyy-mm-dd')).show()"
      ],
      "metadata": {
        "colab": {
          "base_uri": "https://localhost:8080/"
        },
        "id": "_Svp_A9qUOcp",
        "outputId": "864acd5d-f818-466d-d3b3-0358a7d12ddd"
      },
      "execution_count": 108,
      "outputs": [
        {
          "output_type": "stream",
          "name": "stdout",
          "text": [
            "+-------+----------+---------------+-----------+------------+\n",
            "|OrderId| OrderDate|OrderCustomerId|OrderStatus|NewOrderDate|\n",
            "+-------+----------+---------------+-----------+------------+\n",
            "|      1|2020-01-15|            101|    Pending|  2020-01-15|\n",
            "|      2|2020-02-17|            102|    Shipped|  2020-01-17|\n",
            "|      3|2021-03-05|            103|  Delivered|  2021-01-05|\n",
            "|      4|2021-04-07|            104|    Pending|  2021-01-07|\n",
            "|      5|2022-05-24|            105|    Shipped|  2022-01-24|\n",
            "|      6|2022-06-01|            106|  Delivered|  2022-01-01|\n",
            "|      7|2022-07-16|            107|    Shipped|  2022-01-16|\n",
            "|      8|2023-08-30|            108|    Pending|  2023-01-30|\n",
            "|      9|2023-09-11|            109|  Delivered|  2023-01-11|\n",
            "|     10|2023-10-21|            110|    Shipped|  2023-01-21|\n",
            "+-------+----------+---------------+-----------+------------+\n",
            "\n"
          ]
        }
      ]
    },
    {
      "cell_type": "code",
      "source": [
        "#to_timestamp()\n",
        "df.withColumn('NewOrderDate',to_timestamp(df.OrderDate,'yyyy-mm-dd')).show()"
      ],
      "metadata": {
        "colab": {
          "base_uri": "https://localhost:8080/"
        },
        "id": "0vOQN74ZWHnd",
        "outputId": "4d846b7d-f3f2-4f8a-8dbe-570180170385"
      },
      "execution_count": 111,
      "outputs": [
        {
          "output_type": "stream",
          "name": "stdout",
          "text": [
            "+-------+----------+---------------+-----------+-------------------+\n",
            "|OrderId| OrderDate|OrderCustomerId|OrderStatus|       NewOrderDate|\n",
            "+-------+----------+---------------+-----------+-------------------+\n",
            "|      1|2020-01-15|            101|    Pending|2020-01-15 00:01:00|\n",
            "|      2|2020-02-17|            102|    Shipped|2020-01-17 00:02:00|\n",
            "|      3|2021-03-05|            103|  Delivered|2021-01-05 00:03:00|\n",
            "|      4|2021-04-07|            104|    Pending|2021-01-07 00:04:00|\n",
            "|      5|2022-05-24|            105|    Shipped|2022-01-24 00:05:00|\n",
            "|      6|2022-06-01|            106|  Delivered|2022-01-01 00:06:00|\n",
            "|      7|2022-07-16|            107|    Shipped|2022-01-16 00:07:00|\n",
            "|      8|2023-08-30|            108|    Pending|2023-01-30 00:08:00|\n",
            "|      9|2023-09-11|            109|  Delivered|2023-01-11 00:09:00|\n",
            "|     10|2023-10-21|            110|    Shipped|2023-01-21 00:10:00|\n",
            "+-------+----------+---------------+-----------+-------------------+\n",
            "\n"
          ]
        }
      ]
    },
    {
      "cell_type": "code",
      "source": [
        "#Max() and Min()\n",
        "min_date = df.agg(min(\"OrderDate\")).collect()[0][0]\n",
        "max_date = df.agg(max(\"OrderDate\")).collect()[0][0]\n",
        "\n",
        "print(min_date)\n",
        "print(max_date)"
      ],
      "metadata": {
        "colab": {
          "base_uri": "https://localhost:8080/"
        },
        "id": "O3_WL75tWl58",
        "outputId": "ff691876-488d-439f-e718-04331144f8fd"
      },
      "execution_count": 98,
      "outputs": [
        {
          "output_type": "stream",
          "name": "stdout",
          "text": [
            "2020-01-15\n",
            "2023-10-21\n"
          ]
        }
      ]
    },
    {
      "cell_type": "code",
      "source": [
        "print(type(min_date))"
      ],
      "metadata": {
        "colab": {
          "base_uri": "https://localhost:8080/"
        },
        "id": "jSTKSCfrdupr",
        "outputId": "c06f305d-1f08-4a62-91be-643d08436750"
      },
      "execution_count": 96,
      "outputs": [
        {
          "output_type": "stream",
          "name": "stdout",
          "text": [
            "<class 'datetime.date'>\n"
          ]
        }
      ]
    },
    {
      "cell_type": "code",
      "source": [
        "print(max_date - min_date )"
      ],
      "metadata": {
        "colab": {
          "base_uri": "https://localhost:8080/"
        },
        "id": "4tPAv3N0ev4i",
        "outputId": "07e4c734-ec4b-46dd-ff71-9df4fc863f99"
      },
      "execution_count": 99,
      "outputs": [
        {
          "output_type": "stream",
          "name": "stdout",
          "text": [
            "1375 days, 0:00:00\n"
          ]
        }
      ]
    },
    {
      "cell_type": "code",
      "source": [],
      "metadata": {
        "id": "BmVRHc4Fc2EI"
      },
      "execution_count": null,
      "outputs": []
    }
  ]
}