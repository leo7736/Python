{
  "nbformat": 4,
  "nbformat_minor": 0,
  "metadata": {
    "colab": {
      "provenance": []
    },
    "kernelspec": {
      "name": "python3",
      "display_name": "Python 3"
    },
    "language_info": {
      "name": "python"
    }
  },
  "cells": [
    {
      "cell_type": "code",
      "execution_count": 27,
      "metadata": {
        "id": "mBRYLw5F47ab",
        "colab": {
          "base_uri": "https://localhost:8080/"
        },
        "outputId": "6abe98a2-bf4a-4a4f-aa06-3796297b53c0"
      },
      "outputs": [
        {
          "output_type": "stream",
          "name": "stdout",
          "text": [
            "Requirement already satisfied: pyspark in /usr/local/lib/python3.10/dist-packages (3.5.0)\n",
            "Requirement already satisfied: py4j==0.10.9.7 in /usr/local/lib/python3.10/dist-packages (from pyspark) (0.10.9.7)\n"
          ]
        }
      ],
      "source": [
        "!pip install pyspark"
      ]
    },
    {
      "cell_type": "code",
      "source": [
        "from pyspark.sql import *\n",
        "from pyspark.sql.functions import *"
      ],
      "metadata": {
        "id": "0v_ZjZajPrzq"
      },
      "execution_count": 2,
      "outputs": []
    },
    {
      "cell_type": "code",
      "source": [
        "spark = SparkSession.builder.appName(\"test\").getOrCreate()"
      ],
      "metadata": {
        "id": "0FoVDXmdP780"
      },
      "execution_count": 3,
      "outputs": []
    },
    {
      "cell_type": "code",
      "source": [
        "df = spark.read.csv(\"/content/EmpStatus.csv\",header= True, inferSchema=True)\n",
        "display(df)"
      ],
      "metadata": {
        "colab": {
          "base_uri": "https://localhost:8080/",
          "height": 104
        },
        "id": "NklxA545QWYg",
        "outputId": "c412a34b-d155-4e92-83df-cd5a431f6aa3"
      },
      "execution_count": 30,
      "outputs": [
        {
          "output_type": "display_data",
          "data": {
            "text/plain": [
              "DataFrame[Age: int, Attrition: string, BusinessTravel: string, DailyRate: int, Department: string, DistanceFromHome: int, Education: int, EducationField: string, EmployeeCount: int, EmployeeNumber: int, EnvironmentSatisfaction: int, Gender: string, HourlyRate: int, JobInvolvement: int, JobLevel: int, JobRole: string, JobSatisfaction: int, MaritalStatus: string, MonthlyIncome: int, MonthlyRate: int, NumCompaniesWorked: int, Over18: string, OverTime: string, PercentSalaryHike: int, PerformanceRating: int, RelationshipSatisfaction: int, StandardHours: int, StockOptionLevel: int, TotalWorkingYears: int, TrainingTimesLastYear: int, WorkLifeBalance: int, YearsAtCompany: int, YearsInCurrentRole: int, YearsSinceLastPromotion: int, YearsWithCurrManager: int]"
            ]
          },
          "metadata": {}
        }
      ]
    },
    {
      "cell_type": "code",
      "source": [
        "df.createOrReplaceTempView(\"emp\")"
      ],
      "metadata": {
        "id": "Xhkfm0O6RGiv"
      },
      "execution_count": 56,
      "outputs": []
    },
    {
      "cell_type": "code",
      "source": [
        "spark.sql(\"select * from emp\").show()"
      ],
      "metadata": {
        "colab": {
          "base_uri": "https://localhost:8080/"
        },
        "id": "OtuKXqqqRpCV",
        "outputId": "298faee4-f05d-4558-997d-bf5ea9f51f3b"
      },
      "execution_count": 6,
      "outputs": [
        {
          "output_type": "stream",
          "name": "stdout",
          "text": [
            "+---+---------+-----------------+---------+--------------------+----------------+---------+--------------+-------------+--------------+-----------------------+------+----------+--------------+--------+--------------------+---------------+-------------+-------------+-----------+------------------+------+--------+-----------------+-----------------+------------------------+-------------+----------------+-----------------+---------------------+---------------+--------------+------------------+-----------------------+--------------------+\n",
            "|Age|Attrition|   BusinessTravel|DailyRate|          Department|DistanceFromHome|Education|EducationField|EmployeeCount|EmployeeNumber|EnvironmentSatisfaction|Gender|HourlyRate|JobInvolvement|JobLevel|             JobRole|JobSatisfaction|MaritalStatus|MonthlyIncome|MonthlyRate|NumCompaniesWorked|Over18|OverTime|PercentSalaryHike|PerformanceRating|RelationshipSatisfaction|StandardHours|StockOptionLevel|TotalWorkingYears|TrainingTimesLastYear|WorkLifeBalance|YearsAtCompany|YearsInCurrentRole|YearsSinceLastPromotion|YearsWithCurrManager|\n",
            "+---+---------+-----------------+---------+--------------------+----------------+---------+--------------+-------------+--------------+-----------------------+------+----------+--------------+--------+--------------------+---------------+-------------+-------------+-----------+------------------+------+--------+-----------------+-----------------+------------------------+-------------+----------------+-----------------+---------------------+---------------+--------------+------------------+-----------------------+--------------------+\n",
            "| 41|      Yes|    Travel_Rarely|     1102|               Sales|               1|        2| Life Sciences|            1|             1|                      2|Female|        94|             3|       2|     Sales Executive|              4|       Single|         5993|      19479|                 8|     Y|     Yes|               11|                3|                       1|           80|               0|                8|                    0|              1|             6|                 4|                      0|                   5|\n",
            "| 49|       No|Travel_Frequently|      279|Research & Develo...|               8|        1| Life Sciences|            1|             2|                      3|  Male|        61|             2|       2|  Research Scientist|              2|      Married|         5130|      24907|                 1|     Y|      No|               23|                4|                       4|           80|               1|               10|                    3|              3|            10|                 7|                      1|                   7|\n",
            "| 37|      Yes|    Travel_Rarely|     1373|Research & Develo...|               2|        2|         Other|            1|             4|                      4|  Male|        92|             2|       1|Laboratory Techni...|              3|       Single|         2090|       2396|                 6|     Y|     Yes|               15|                3|                       2|           80|               0|                7|                    3|              3|             0|                 0|                      0|                   0|\n",
            "| 33|       No|Travel_Frequently|     1392|Research & Develo...|               3|        4| Life Sciences|            1|             5|                      4|Female|        56|             3|       1|  Research Scientist|              3|      Married|         2909|      23159|                 1|     Y|     Yes|               11|                3|                       3|           80|               0|                8|                    3|              3|             8|                 7|                      3|                   0|\n",
            "| 27|       No|    Travel_Rarely|      591|Research & Develo...|               2|        1|       Medical|            1|             7|                      1|  Male|        40|             3|       1|Laboratory Techni...|              2|      Married|         3468|      16632|                 9|     Y|      No|               12|                3|                       4|           80|               1|                6|                    3|              3|             2|                 2|                      2|                   2|\n",
            "| 32|       No|Travel_Frequently|     1005|Research & Develo...|               2|        2| Life Sciences|            1|             8|                      4|  Male|        79|             3|       1|Laboratory Techni...|              4|       Single|         3068|      11864|                 0|     Y|      No|               13|                3|                       3|           80|               0|                8|                    2|              2|             7|                 7|                      3|                   6|\n",
            "| 59|       No|    Travel_Rarely|     1324|Research & Develo...|               3|        3|       Medical|            1|            10|                      3|Female|        81|             4|       1|Laboratory Techni...|              1|      Married|         2670|       9964|                 4|     Y|     Yes|               20|                4|                       1|           80|               3|               12|                    3|              2|             1|                 0|                      0|                   0|\n",
            "| 30|       No|    Travel_Rarely|     1358|Research & Develo...|              24|        1| Life Sciences|            1|            11|                      4|  Male|        67|             3|       1|Laboratory Techni...|              3|     Divorced|         2693|      13335|                 1|     Y|      No|               22|                4|                       2|           80|               1|                1|                    2|              3|             1|                 0|                      0|                   0|\n",
            "| 38|       No|Travel_Frequently|      216|Research & Develo...|              23|        3| Life Sciences|            1|            12|                      4|  Male|        44|             2|       3|Manufacturing Dir...|              3|       Single|         9526|       8787|                 0|     Y|      No|               21|                4|                       2|           80|               0|               10|                    2|              3|             9|                 7|                      1|                   8|\n",
            "| 36|       No|    Travel_Rarely|     1299|Research & Develo...|              27|        3|       Medical|            1|            13|                      3|  Male|        94|             3|       2|Healthcare Repres...|              3|      Married|         5237|      16577|                 6|     Y|      No|               13|                3|                       2|           80|               2|               17|                    3|              2|             7|                 7|                      7|                   7|\n",
            "| 35|       No|    Travel_Rarely|      809|Research & Develo...|              16|        3|       Medical|            1|            14|                      1|  Male|        84|             4|       1|Laboratory Techni...|              2|      Married|         2426|      16479|                 0|     Y|      No|               13|                3|                       3|           80|               1|                6|                    5|              3|             5|                 4|                      0|                   3|\n",
            "| 29|       No|    Travel_Rarely|      153|Research & Develo...|              15|        2| Life Sciences|            1|            15|                      4|Female|        49|             2|       2|Laboratory Techni...|              3|       Single|         4193|      12682|                 0|     Y|     Yes|               12|                3|                       4|           80|               0|               10|                    3|              3|             9|                 5|                      0|                   8|\n",
            "| 31|       No|    Travel_Rarely|      670|Research & Develo...|              26|        1| Life Sciences|            1|            16|                      1|  Male|        31|             3|       1|  Research Scientist|              3|     Divorced|         2911|      15170|                 1|     Y|      No|               17|                3|                       4|           80|               1|                5|                    1|              2|             5|                 2|                      4|                   3|\n",
            "| 34|       No|    Travel_Rarely|     1346|Research & Develo...|              19|        2|       Medical|            1|            18|                      2|  Male|        93|             3|       1|Laboratory Techni...|              4|     Divorced|         2661|       8758|                 0|     Y|      No|               11|                3|                       3|           80|               1|                3|                    2|              3|             2|                 2|                      1|                   2|\n",
            "| 28|      Yes|    Travel_Rarely|      103|Research & Develo...|              24|        3| Life Sciences|            1|            19|                      3|  Male|        50|             2|       1|Laboratory Techni...|              3|       Single|         2028|      12947|                 5|     Y|     Yes|               14|                3|                       2|           80|               0|                6|                    4|              3|             4|                 2|                      0|                   3|\n",
            "| 29|       No|    Travel_Rarely|     1389|Research & Develo...|              21|        4| Life Sciences|            1|            20|                      2|Female|        51|             4|       3|Manufacturing Dir...|              1|     Divorced|         9980|      10195|                 1|     Y|      No|               11|                3|                       3|           80|               1|               10|                    1|              3|            10|                 9|                      8|                   8|\n",
            "| 32|       No|    Travel_Rarely|      334|Research & Develo...|               5|        2| Life Sciences|            1|            21|                      1|  Male|        80|             4|       1|  Research Scientist|              2|     Divorced|         3298|      15053|                 0|     Y|     Yes|               12|                3|                       4|           80|               2|                7|                    5|              2|             6|                 2|                      0|                   5|\n",
            "| 22|       No|       Non-Travel|     1123|Research & Develo...|              16|        2|       Medical|            1|            22|                      4|  Male|        96|             4|       1|Laboratory Techni...|              4|     Divorced|         2935|       7324|                 1|     Y|     Yes|               13|                3|                       2|           80|               2|                1|                    2|              2|             1|                 0|                      0|                   0|\n",
            "| 53|       No|    Travel_Rarely|     1219|               Sales|               2|        4| Life Sciences|            1|            23|                      1|Female|        78|             2|       4|             Manager|              4|      Married|        15427|      22021|                 2|     Y|      No|               16|                3|                       3|           80|               0|               31|                    3|              3|            25|                 8|                      3|                   7|\n",
            "| 38|       No|    Travel_Rarely|      371|Research & Develo...|               2|        3| Life Sciences|            1|            24|                      4|  Male|        45|             3|       1|  Research Scientist|              4|       Single|         3944|       4306|                 5|     Y|     Yes|               11|                3|                       3|           80|               0|                6|                    3|              3|             3|                 2|                      1|                   2|\n",
            "+---+---------+-----------------+---------+--------------------+----------------+---------+--------------+-------------+--------------+-----------------------+------+----------+--------------+--------+--------------------+---------------+-------------+-------------+-----------+------------------+------+--------+-----------------+-----------------+------------------------+-------------+----------------+-----------------+---------------------+---------------+--------------+------------------+-----------------------+--------------------+\n",
            "only showing top 20 rows\n",
            "\n"
          ]
        }
      ]
    },
    {
      "cell_type": "code",
      "source": [
        "spark.sql(\"select Age,JobRole from emp\").show()"
      ],
      "metadata": {
        "colab": {
          "base_uri": "https://localhost:8080/"
        },
        "id": "9_ZBLxgrR1CO",
        "outputId": "8fed87bc-b756-427b-c0d1-61bd52a88af5"
      },
      "execution_count": 28,
      "outputs": [
        {
          "output_type": "stream",
          "name": "stdout",
          "text": [
            "+---+--------------------+\n",
            "|Age|             JobRole|\n",
            "+---+--------------------+\n",
            "| 41|     Sales Executive|\n",
            "| 49|  Research Scientist|\n",
            "| 37|Laboratory Techni...|\n",
            "| 33|  Research Scientist|\n",
            "| 27|Laboratory Techni...|\n",
            "| 32|Laboratory Techni...|\n",
            "| 59|Laboratory Techni...|\n",
            "| 30|Laboratory Techni...|\n",
            "| 38|Manufacturing Dir...|\n",
            "| 36|Healthcare Repres...|\n",
            "| 35|Laboratory Techni...|\n",
            "| 29|Laboratory Techni...|\n",
            "| 31|  Research Scientist|\n",
            "| 34|Laboratory Techni...|\n",
            "| 28|Laboratory Techni...|\n",
            "| 29|Manufacturing Dir...|\n",
            "| 32|  Research Scientist|\n",
            "| 22|Laboratory Techni...|\n",
            "| 53|             Manager|\n",
            "| 38|  Research Scientist|\n",
            "+---+--------------------+\n",
            "only showing top 20 rows\n",
            "\n"
          ]
        }
      ]
    },
    {
      "cell_type": "code",
      "source": [
        "df.select('Age','JobROle').show()"
      ],
      "metadata": {
        "colab": {
          "base_uri": "https://localhost:8080/"
        },
        "id": "QcYVMELgR_td",
        "outputId": "590dd6b0-bd5e-4cc4-bb56-afac56df7040"
      },
      "execution_count": null,
      "outputs": [
        {
          "output_type": "stream",
          "name": "stdout",
          "text": [
            "+---+--------------------+\n",
            "|Age|             JobROle|\n",
            "+---+--------------------+\n",
            "| 41|     Sales Executive|\n",
            "| 49|  Research Scientist|\n",
            "| 37|Laboratory Techni...|\n",
            "| 33|  Research Scientist|\n",
            "| 27|Laboratory Techni...|\n",
            "| 32|Laboratory Techni...|\n",
            "| 59|Laboratory Techni...|\n",
            "| 30|Laboratory Techni...|\n",
            "| 38|Manufacturing Dir...|\n",
            "| 36|Healthcare Repres...|\n",
            "| 35|Laboratory Techni...|\n",
            "| 29|Laboratory Techni...|\n",
            "| 31|  Research Scientist|\n",
            "| 34|Laboratory Techni...|\n",
            "| 28|Laboratory Techni...|\n",
            "| 29|Manufacturing Dir...|\n",
            "| 32|  Research Scientist|\n",
            "| 22|Laboratory Techni...|\n",
            "| 53|             Manager|\n",
            "| 38|  Research Scientist|\n",
            "+---+--------------------+\n",
            "only showing top 20 rows\n",
            "\n"
          ]
        }
      ]
    },
    {
      "cell_type": "code",
      "source": [
        "spark.sql(\"select Age as EmpAge,JobRole as EmpJobRole from emp\").show()"
      ],
      "metadata": {
        "colab": {
          "base_uri": "https://localhost:8080/"
        },
        "id": "oyvUMhKRSUCk",
        "outputId": "af1d41f5-6f2b-4289-f08f-ecdeaa971319"
      },
      "execution_count": null,
      "outputs": [
        {
          "output_type": "stream",
          "name": "stdout",
          "text": [
            "+------+--------------------+\n",
            "|EmpAge|          EmpJobRole|\n",
            "+------+--------------------+\n",
            "|    41|     Sales Executive|\n",
            "|    49|  Research Scientist|\n",
            "|    37|Laboratory Techni...|\n",
            "|    33|  Research Scientist|\n",
            "|    27|Laboratory Techni...|\n",
            "|    32|Laboratory Techni...|\n",
            "|    59|Laboratory Techni...|\n",
            "|    30|Laboratory Techni...|\n",
            "|    38|Manufacturing Dir...|\n",
            "|    36|Healthcare Repres...|\n",
            "|    35|Laboratory Techni...|\n",
            "|    29|Laboratory Techni...|\n",
            "|    31|  Research Scientist|\n",
            "|    34|Laboratory Techni...|\n",
            "|    28|Laboratory Techni...|\n",
            "|    29|Manufacturing Dir...|\n",
            "|    32|  Research Scientist|\n",
            "|    22|Laboratory Techni...|\n",
            "|    53|             Manager|\n",
            "|    38|  Research Scientist|\n",
            "+------+--------------------+\n",
            "only showing top 20 rows\n",
            "\n"
          ]
        }
      ]
    },
    {
      "cell_type": "code",
      "source": [
        "df.select(df.Age.alias(\"EmpAge\"),df.JobRole.alias(\"EmpJobRole\")).show()\n"
      ],
      "metadata": {
        "colab": {
          "base_uri": "https://localhost:8080/"
        },
        "id": "aWZhev1qSuYq",
        "outputId": "a12dfa7d-a45e-4954-89b0-e71565dfc6e0"
      },
      "execution_count": null,
      "outputs": [
        {
          "output_type": "stream",
          "name": "stdout",
          "text": [
            "+------+--------------------+\n",
            "|EmpAge|          EmpJobRole|\n",
            "+------+--------------------+\n",
            "|    41|     Sales Executive|\n",
            "|    49|  Research Scientist|\n",
            "|    37|Laboratory Techni...|\n",
            "|    33|  Research Scientist|\n",
            "|    27|Laboratory Techni...|\n",
            "|    32|Laboratory Techni...|\n",
            "|    59|Laboratory Techni...|\n",
            "|    30|Laboratory Techni...|\n",
            "|    38|Manufacturing Dir...|\n",
            "|    36|Healthcare Repres...|\n",
            "|    35|Laboratory Techni...|\n",
            "|    29|Laboratory Techni...|\n",
            "|    31|  Research Scientist|\n",
            "|    34|Laboratory Techni...|\n",
            "|    28|Laboratory Techni...|\n",
            "|    29|Manufacturing Dir...|\n",
            "|    32|  Research Scientist|\n",
            "|    22|Laboratory Techni...|\n",
            "|    53|             Manager|\n",
            "|    38|  Research Scientist|\n",
            "+------+--------------------+\n",
            "only showing top 20 rows\n",
            "\n"
          ]
        }
      ]
    },
    {
      "cell_type": "code",
      "source": [
        "spark.sql(\"select * from emp where Age > 40\").show()"
      ],
      "metadata": {
        "colab": {
          "base_uri": "https://localhost:8080/"
        },
        "id": "JjGivJ7ES8q-",
        "outputId": "7fd0b58b-01c4-47eb-e0d5-aba019bb6904"
      },
      "execution_count": 60,
      "outputs": [
        {
          "output_type": "stream",
          "name": "stdout",
          "text": [
            "+---+---------+-----------------+---------+--------------------+----------------+---------+----------------+-------------+--------------+-----------------------+------+----------+--------------+--------+--------------------+---------------+-------------+-------------+-----------+------------------+------+--------+-----------------+-----------------+------------------------+-------------+----------------+-----------------+---------------------+---------------+--------------+------------------+-----------------------+--------------------+\n",
            "|Age|Attrition|   BusinessTravel|DailyRate|          Department|DistanceFromHome|Education|  EducationField|EmployeeCount|EmployeeNumber|EnvironmentSatisfaction|Gender|HourlyRate|JobInvolvement|JobLevel|             JobRole|JobSatisfaction|MaritalStatus|MonthlyIncome|MonthlyRate|NumCompaniesWorked|Over18|OverTime|PercentSalaryHike|PerformanceRating|RelationshipSatisfaction|StandardHours|StockOptionLevel|TotalWorkingYears|TrainingTimesLastYear|WorkLifeBalance|YearsAtCompany|YearsInCurrentRole|YearsSinceLastPromotion|YearsWithCurrManager|\n",
            "+---+---------+-----------------+---------+--------------------+----------------+---------+----------------+-------------+--------------+-----------------------+------+----------+--------------+--------+--------------------+---------------+-------------+-------------+-----------+------------------+------+--------+-----------------+-----------------+------------------------+-------------+----------------+-----------------+---------------------+---------------+--------------+------------------+-----------------------+--------------------+\n",
            "| 41|      Yes|    Travel_Rarely|     1102|               Sales|               1|        2|   Life Sciences|            1|             1|                      2|Female|        94|             3|       2|     Sales Executive|              4|       Single|         5993|      19479|                 8|     Y|     Yes|               11|                3|                       1|           80|               0|                8|                    0|              1|             6|                 4|                      0|                   5|\n",
            "| 49|       No|Travel_Frequently|      279|Research & Develo...|               8|        1|   Life Sciences|            1|             2|                      3|  Male|        61|             2|       2|  Research Scientist|              2|      Married|         5130|      24907|                 1|     Y|      No|               23|                4|                       4|           80|               1|               10|                    3|              3|            10|                 7|                      1|                   7|\n",
            "| 59|       No|    Travel_Rarely|     1324|Research & Develo...|               3|        3|         Medical|            1|            10|                      3|Female|        81|             4|       1|Laboratory Techni...|              1|      Married|         2670|       9964|                 4|     Y|     Yes|               20|                4|                       1|           80|               3|               12|                    3|              2|             1|                 0|                      0|                   0|\n",
            "| 53|       No|    Travel_Rarely|     1219|               Sales|               2|        4|   Life Sciences|            1|            23|                      1|Female|        78|             2|       4|             Manager|              4|      Married|        15427|      22021|                 2|     Y|      No|               16|                3|                       3|           80|               0|               31|                    3|              3|            25|                 8|                      3|                   7|\n",
            "| 53|       No|    Travel_Rarely|     1282|Research & Develo...|               5|        3|           Other|            1|            32|                      3|Female|        58|             3|       5|             Manager|              3|     Divorced|        19094|      10735|                 4|     Y|      No|               11|                3|                       4|           80|               1|               26|                    3|              2|            14|                13|                      4|                   8|\n",
            "| 42|       No|    Travel_Rarely|      691|               Sales|               8|        4|       Marketing|            1|            35|                      3|  Male|        48|             3|       2|     Sales Executive|              2|      Married|         6825|      21173|                 0|     Y|      No|               11|                3|                       4|           80|               1|               10|                    2|              3|             9|                 7|                      4|                   2|\n",
            "| 44|       No|    Travel_Rarely|      477|Research & Develo...|               7|        4|         Medical|            1|            36|                      1|Female|        42|             2|       3|Healthcare Repres...|              4|      Married|        10248|       2094|                 3|     Y|      No|               14|                3|                       4|           80|               1|               24|                    4|              3|            22|                 6|                      5|                  17|\n",
            "| 46|       No|    Travel_Rarely|      705|               Sales|               2|        4|       Marketing|            1|            38|                      2|Female|        83|             3|       5|             Manager|              1|       Single|        18947|      22822|                 3|     Y|      No|               12|                3|                       4|           80|               0|               22|                    2|              2|             2|                 2|                      2|                   1|\n",
            "| 44|       No|    Travel_Rarely|     1459|Research & Develo...|              10|        4|           Other|            1|            40|                      4|  Male|        41|             3|       2|Healthcare Repres...|              4|      Married|         6465|      19121|                 2|     Y|     Yes|               13|                3|                       4|           80|               0|                9|                    5|              4|             4|                 2|                      1|                   3|\n",
            "| 43|       No|    Travel_Rarely|     1273|Research & Develo...|               2|        2|         Medical|            1|            46|                      4|Female|        72|             4|       1|  Research Scientist|              3|     Divorced|         2645|      21923|                 1|     Y|      No|               12|                3|                       4|           80|               2|                6|                    3|              2|             5|                 3|                      1|                   4|\n",
            "| 50|      Yes|    Travel_Rarely|      869|               Sales|               3|        2|       Marketing|            1|            47|                      1|  Male|        86|             2|       1|Sales Representative|              3|      Married|         2683|       3810|                 1|     Y|     Yes|               14|                3|                       3|           80|               0|                3|                    2|              3|             3|                 2|                      0|                   2|\n",
            "| 41|      Yes|    Travel_Rarely|     1360|Research & Develo...|              12|        3|Technical Degree|            1|            58|                      2|Female|        49|             3|       5|   Research Director|              3|      Married|        19545|      16280|                 1|     Y|      No|               12|                3|                       4|           80|               0|               23|                    0|              3|            22|                15|                     15|                   8|\n",
            "| 46|       No|Travel_Frequently|     1211|               Sales|               5|        4|       Marketing|            1|            62|                      1|  Male|        98|             3|       2|     Sales Executive|              4|       Single|         5772|      20445|                 4|     Y|     Yes|               21|                4|                       3|           80|               0|               14|                    4|              3|             9|                 6|                      0|                   8|\n",
            "| 48|      Yes|    Travel_Rarely|      626|Research & Develo...|               1|        2|   Life Sciences|            1|            64|                      1|  Male|        98|             2|       3|Laboratory Techni...|              3|       Single|         5381|      19294|                 9|     Y|     Yes|               13|                3|                       4|           80|               0|               23|                    2|              3|             1|                 0|                      0|                   0|\n",
            "| 44|       No|    Travel_Rarely|     1488|               Sales|               1|        5|       Marketing|            1|            68|                      2|Female|        75|             3|       2|     Sales Executive|              1|     Divorced|         5454|       4009|                 5|     Y|     Yes|               21|                4|                       3|           80|               1|                9|                    2|              2|             4|                 3|                      1|                   3|\n",
            "| 50|       No|    Travel_Rarely|      989|Research & Develo...|               7|        2|         Medical|            1|            80|                      2|Female|        43|             2|       5|   Research Director|              3|     Divorced|        18740|      16701|                 5|     Y|     Yes|               12|                3|                       4|           80|               1|               29|                    2|              2|            27|                 3|                     13|                   8|\n",
            "| 59|       No|    Travel_Rarely|     1435|               Sales|              25|        3|   Life Sciences|            1|            81|                      1|Female|        99|             3|       3|     Sales Executive|              1|       Single|         7637|       2354|                 7|     Y|      No|               11|                3|                       4|           80|               0|               28|                    3|              2|            21|                16|                      7|                   9|\n",
            "| 55|       No|    Travel_Rarely|      836|Research & Develo...|               8|        3|         Medical|            1|            84|                      4|Female|        33|             3|       4|             Manager|              3|     Divorced|        14756|      19730|                 2|     Y|     Yes|               14|                3|                       3|           80|               3|               21|                    2|              3|             5|                 0|                      0|                   2|\n",
            "| 45|       No|    Travel_Rarely|     1339|Research & Develo...|               7|        3|   Life Sciences|            1|            86|                      2|  Male|        59|             3|       3|  Research Scientist|              1|     Divorced|         9724|      18787|                 2|     Y|      No|               17|                3|                       3|           80|               1|               25|                    2|              3|             1|                 0|                      0|                   0|\n",
            "| 59|       No|Travel_Frequently|     1225|               Sales|               1|        1|   Life Sciences|            1|            91|                      1|Female|        57|             2|       2|     Sales Executive|              3|       Single|         5473|      24668|                 7|     Y|      No|               11|                3|                       4|           80|               0|               20|                    2|              2|             4|                 3|                      1|                   3|\n",
            "+---+---------+-----------------+---------+--------------------+----------------+---------+----------------+-------------+--------------+-----------------------+------+----------+--------------+--------+--------------------+---------------+-------------+-------------+-----------+------------------+------+--------+-----------------+-----------------+------------------------+-------------+----------------+-----------------+---------------------+---------------+--------------+------------------+-----------------------+--------------------+\n",
            "only showing top 20 rows\n",
            "\n"
          ]
        }
      ]
    },
    {
      "cell_type": "code",
      "source": [
        "df.where(df.Age > 40 ).show()"
      ],
      "metadata": {
        "colab": {
          "base_uri": "https://localhost:8080/"
        },
        "id": "PQIOvGvqahL6",
        "outputId": "1b1f1dd6-fab7-4f55-a93a-233969280162"
      },
      "execution_count": null,
      "outputs": [
        {
          "output_type": "stream",
          "name": "stdout",
          "text": [
            "+---+---------+-----------------+---------+--------------------+----------------+---------+----------------+-------------+--------------+-----------------------+------+----------+--------------+--------+--------------------+---------------+-------------+-------------+-----------+------------------+------+--------+-----------------+-----------------+------------------------+-------------+----------------+-----------------+---------------------+---------------+--------------+------------------+-----------------------+--------------------+\n",
            "|Age|Attrition|   BusinessTravel|DailyRate|          Department|DistanceFromHome|Education|  EducationField|EmployeeCount|EmployeeNumber|EnvironmentSatisfaction|Gender|HourlyRate|JobInvolvement|JobLevel|             JobRole|JobSatisfaction|MaritalStatus|MonthlyIncome|MonthlyRate|NumCompaniesWorked|Over18|OverTime|PercentSalaryHike|PerformanceRating|RelationshipSatisfaction|StandardHours|StockOptionLevel|TotalWorkingYears|TrainingTimesLastYear|WorkLifeBalance|YearsAtCompany|YearsInCurrentRole|YearsSinceLastPromotion|YearsWithCurrManager|\n",
            "+---+---------+-----------------+---------+--------------------+----------------+---------+----------------+-------------+--------------+-----------------------+------+----------+--------------+--------+--------------------+---------------+-------------+-------------+-----------+------------------+------+--------+-----------------+-----------------+------------------------+-------------+----------------+-----------------+---------------------+---------------+--------------+------------------+-----------------------+--------------------+\n",
            "| 41|      Yes|    Travel_Rarely|     1102|               Sales|               1|        2|   Life Sciences|            1|             1|                      2|Female|        94|             3|       2|     Sales Executive|              4|       Single|         5993|      19479|                 8|     Y|     Yes|               11|                3|                       1|           80|               0|                8|                    0|              1|             6|                 4|                      0|                   5|\n",
            "| 49|       No|Travel_Frequently|      279|Research & Develo...|               8|        1|   Life Sciences|            1|             2|                      3|  Male|        61|             2|       2|  Research Scientist|              2|      Married|         5130|      24907|                 1|     Y|      No|               23|                4|                       4|           80|               1|               10|                    3|              3|            10|                 7|                      1|                   7|\n",
            "| 59|       No|    Travel_Rarely|     1324|Research & Develo...|               3|        3|         Medical|            1|            10|                      3|Female|        81|             4|       1|Laboratory Techni...|              1|      Married|         2670|       9964|                 4|     Y|     Yes|               20|                4|                       1|           80|               3|               12|                    3|              2|             1|                 0|                      0|                   0|\n",
            "| 53|       No|    Travel_Rarely|     1219|               Sales|               2|        4|   Life Sciences|            1|            23|                      1|Female|        78|             2|       4|             Manager|              4|      Married|        15427|      22021|                 2|     Y|      No|               16|                3|                       3|           80|               0|               31|                    3|              3|            25|                 8|                      3|                   7|\n",
            "| 53|       No|    Travel_Rarely|     1282|Research & Develo...|               5|        3|           Other|            1|            32|                      3|Female|        58|             3|       5|             Manager|              3|     Divorced|        19094|      10735|                 4|     Y|      No|               11|                3|                       4|           80|               1|               26|                    3|              2|            14|                13|                      4|                   8|\n",
            "| 42|       No|    Travel_Rarely|      691|               Sales|               8|        4|       Marketing|            1|            35|                      3|  Male|        48|             3|       2|     Sales Executive|              2|      Married|         6825|      21173|                 0|     Y|      No|               11|                3|                       4|           80|               1|               10|                    2|              3|             9|                 7|                      4|                   2|\n",
            "| 44|       No|    Travel_Rarely|      477|Research & Develo...|               7|        4|         Medical|            1|            36|                      1|Female|        42|             2|       3|Healthcare Repres...|              4|      Married|        10248|       2094|                 3|     Y|      No|               14|                3|                       4|           80|               1|               24|                    4|              3|            22|                 6|                      5|                  17|\n",
            "| 46|       No|    Travel_Rarely|      705|               Sales|               2|        4|       Marketing|            1|            38|                      2|Female|        83|             3|       5|             Manager|              1|       Single|        18947|      22822|                 3|     Y|      No|               12|                3|                       4|           80|               0|               22|                    2|              2|             2|                 2|                      2|                   1|\n",
            "| 44|       No|    Travel_Rarely|     1459|Research & Develo...|              10|        4|           Other|            1|            40|                      4|  Male|        41|             3|       2|Healthcare Repres...|              4|      Married|         6465|      19121|                 2|     Y|     Yes|               13|                3|                       4|           80|               0|                9|                    5|              4|             4|                 2|                      1|                   3|\n",
            "| 43|       No|    Travel_Rarely|     1273|Research & Develo...|               2|        2|         Medical|            1|            46|                      4|Female|        72|             4|       1|  Research Scientist|              3|     Divorced|         2645|      21923|                 1|     Y|      No|               12|                3|                       4|           80|               2|                6|                    3|              2|             5|                 3|                      1|                   4|\n",
            "| 50|      Yes|    Travel_Rarely|      869|               Sales|               3|        2|       Marketing|            1|            47|                      1|  Male|        86|             2|       1|Sales Representative|              3|      Married|         2683|       3810|                 1|     Y|     Yes|               14|                3|                       3|           80|               0|                3|                    2|              3|             3|                 2|                      0|                   2|\n",
            "| 41|      Yes|    Travel_Rarely|     1360|Research & Develo...|              12|        3|Technical Degree|            1|            58|                      2|Female|        49|             3|       5|   Research Director|              3|      Married|        19545|      16280|                 1|     Y|      No|               12|                3|                       4|           80|               0|               23|                    0|              3|            22|                15|                     15|                   8|\n",
            "| 46|       No|Travel_Frequently|     1211|               Sales|               5|        4|       Marketing|            1|            62|                      1|  Male|        98|             3|       2|     Sales Executive|              4|       Single|         5772|      20445|                 4|     Y|     Yes|               21|                4|                       3|           80|               0|               14|                    4|              3|             9|                 6|                      0|                   8|\n",
            "| 48|      Yes|    Travel_Rarely|      626|Research & Develo...|               1|        2|   Life Sciences|            1|            64|                      1|  Male|        98|             2|       3|Laboratory Techni...|              3|       Single|         5381|      19294|                 9|     Y|     Yes|               13|                3|                       4|           80|               0|               23|                    2|              3|             1|                 0|                      0|                   0|\n",
            "| 44|       No|    Travel_Rarely|     1488|               Sales|               1|        5|       Marketing|            1|            68|                      2|Female|        75|             3|       2|     Sales Executive|              1|     Divorced|         5454|       4009|                 5|     Y|     Yes|               21|                4|                       3|           80|               1|                9|                    2|              2|             4|                 3|                      1|                   3|\n",
            "| 50|       No|    Travel_Rarely|      989|Research & Develo...|               7|        2|         Medical|            1|            80|                      2|Female|        43|             2|       5|   Research Director|              3|     Divorced|        18740|      16701|                 5|     Y|     Yes|               12|                3|                       4|           80|               1|               29|                    2|              2|            27|                 3|                     13|                   8|\n",
            "| 59|       No|    Travel_Rarely|     1435|               Sales|              25|        3|   Life Sciences|            1|            81|                      1|Female|        99|             3|       3|     Sales Executive|              1|       Single|         7637|       2354|                 7|     Y|      No|               11|                3|                       4|           80|               0|               28|                    3|              2|            21|                16|                      7|                   9|\n",
            "| 55|       No|    Travel_Rarely|      836|Research & Develo...|               8|        3|         Medical|            1|            84|                      4|Female|        33|             3|       4|             Manager|              3|     Divorced|        14756|      19730|                 2|     Y|     Yes|               14|                3|                       3|           80|               3|               21|                    2|              3|             5|                 0|                      0|                   2|\n",
            "| 45|       No|    Travel_Rarely|     1339|Research & Develo...|               7|        3|   Life Sciences|            1|            86|                      2|  Male|        59|             3|       3|  Research Scientist|              1|     Divorced|         9724|      18787|                 2|     Y|      No|               17|                3|                       3|           80|               1|               25|                    2|              3|             1|                 0|                      0|                   0|\n",
            "| 59|       No|Travel_Frequently|     1225|               Sales|               1|        1|   Life Sciences|            1|            91|                      1|Female|        57|             2|       2|     Sales Executive|              3|       Single|         5473|      24668|                 7|     Y|      No|               11|                3|                       4|           80|               0|               20|                    2|              2|             4|                 3|                      1|                   3|\n",
            "+---+---------+-----------------+---------+--------------------+----------------+---------+----------------+-------------+--------------+-----------------------+------+----------+--------------+--------+--------------------+---------------+-------------+-------------+-----------+------------------+------+--------+-----------------+-----------------+------------------------+-------------+----------------+-----------------+---------------------+---------------+--------------+------------------+-----------------------+--------------------+\n",
            "only showing top 20 rows\n",
            "\n"
          ]
        }
      ]
    },
    {
      "cell_type": "code",
      "source": [
        "spark.sql(\"select * from emp where Age between 18 and 40\").show()"
      ],
      "metadata": {
        "colab": {
          "base_uri": "https://localhost:8080/"
        },
        "id": "RSGUwN2wbNQq",
        "outputId": "47424097-07c6-49c4-dffd-a17d8cafc6a2"
      },
      "execution_count": null,
      "outputs": [
        {
          "output_type": "stream",
          "name": "stdout",
          "text": [
            "+---+---------+-----------------+---------+--------------------+----------------+---------+--------------+-------------+--------------+-----------------------+------+----------+--------------+--------+--------------------+---------------+-------------+-------------+-----------+------------------+------+--------+-----------------+-----------------+------------------------+-------------+----------------+-----------------+---------------------+---------------+--------------+------------------+-----------------------+--------------------+\n",
            "|Age|Attrition|   BusinessTravel|DailyRate|          Department|DistanceFromHome|Education|EducationField|EmployeeCount|EmployeeNumber|EnvironmentSatisfaction|Gender|HourlyRate|JobInvolvement|JobLevel|             JobRole|JobSatisfaction|MaritalStatus|MonthlyIncome|MonthlyRate|NumCompaniesWorked|Over18|OverTime|PercentSalaryHike|PerformanceRating|RelationshipSatisfaction|StandardHours|StockOptionLevel|TotalWorkingYears|TrainingTimesLastYear|WorkLifeBalance|YearsAtCompany|YearsInCurrentRole|YearsSinceLastPromotion|YearsWithCurrManager|\n",
            "+---+---------+-----------------+---------+--------------------+----------------+---------+--------------+-------------+--------------+-----------------------+------+----------+--------------+--------+--------------------+---------------+-------------+-------------+-----------+------------------+------+--------+-----------------+-----------------+------------------------+-------------+----------------+-----------------+---------------------+---------------+--------------+------------------+-----------------------+--------------------+\n",
            "| 37|      Yes|    Travel_Rarely|     1373|Research & Develo...|               2|        2|         Other|            1|             4|                      4|  Male|        92|             2|       1|Laboratory Techni...|              3|       Single|         2090|       2396|                 6|     Y|     Yes|               15|                3|                       2|           80|               0|                7|                    3|              3|             0|                 0|                      0|                   0|\n",
            "| 33|       No|Travel_Frequently|     1392|Research & Develo...|               3|        4| Life Sciences|            1|             5|                      4|Female|        56|             3|       1|  Research Scientist|              3|      Married|         2909|      23159|                 1|     Y|     Yes|               11|                3|                       3|           80|               0|                8|                    3|              3|             8|                 7|                      3|                   0|\n",
            "| 27|       No|    Travel_Rarely|      591|Research & Develo...|               2|        1|       Medical|            1|             7|                      1|  Male|        40|             3|       1|Laboratory Techni...|              2|      Married|         3468|      16632|                 9|     Y|      No|               12|                3|                       4|           80|               1|                6|                    3|              3|             2|                 2|                      2|                   2|\n",
            "| 32|       No|Travel_Frequently|     1005|Research & Develo...|               2|        2| Life Sciences|            1|             8|                      4|  Male|        79|             3|       1|Laboratory Techni...|              4|       Single|         3068|      11864|                 0|     Y|      No|               13|                3|                       3|           80|               0|                8|                    2|              2|             7|                 7|                      3|                   6|\n",
            "| 30|       No|    Travel_Rarely|     1358|Research & Develo...|              24|        1| Life Sciences|            1|            11|                      4|  Male|        67|             3|       1|Laboratory Techni...|              3|     Divorced|         2693|      13335|                 1|     Y|      No|               22|                4|                       2|           80|               1|                1|                    2|              3|             1|                 0|                      0|                   0|\n",
            "| 38|       No|Travel_Frequently|      216|Research & Develo...|              23|        3| Life Sciences|            1|            12|                      4|  Male|        44|             2|       3|Manufacturing Dir...|              3|       Single|         9526|       8787|                 0|     Y|      No|               21|                4|                       2|           80|               0|               10|                    2|              3|             9|                 7|                      1|                   8|\n",
            "| 36|       No|    Travel_Rarely|     1299|Research & Develo...|              27|        3|       Medical|            1|            13|                      3|  Male|        94|             3|       2|Healthcare Repres...|              3|      Married|         5237|      16577|                 6|     Y|      No|               13|                3|                       2|           80|               2|               17|                    3|              2|             7|                 7|                      7|                   7|\n",
            "| 35|       No|    Travel_Rarely|      809|Research & Develo...|              16|        3|       Medical|            1|            14|                      1|  Male|        84|             4|       1|Laboratory Techni...|              2|      Married|         2426|      16479|                 0|     Y|      No|               13|                3|                       3|           80|               1|                6|                    5|              3|             5|                 4|                      0|                   3|\n",
            "| 29|       No|    Travel_Rarely|      153|Research & Develo...|              15|        2| Life Sciences|            1|            15|                      4|Female|        49|             2|       2|Laboratory Techni...|              3|       Single|         4193|      12682|                 0|     Y|     Yes|               12|                3|                       4|           80|               0|               10|                    3|              3|             9|                 5|                      0|                   8|\n",
            "| 31|       No|    Travel_Rarely|      670|Research & Develo...|              26|        1| Life Sciences|            1|            16|                      1|  Male|        31|             3|       1|  Research Scientist|              3|     Divorced|         2911|      15170|                 1|     Y|      No|               17|                3|                       4|           80|               1|                5|                    1|              2|             5|                 2|                      4|                   3|\n",
            "| 34|       No|    Travel_Rarely|     1346|Research & Develo...|              19|        2|       Medical|            1|            18|                      2|  Male|        93|             3|       1|Laboratory Techni...|              4|     Divorced|         2661|       8758|                 0|     Y|      No|               11|                3|                       3|           80|               1|                3|                    2|              3|             2|                 2|                      1|                   2|\n",
            "| 28|      Yes|    Travel_Rarely|      103|Research & Develo...|              24|        3| Life Sciences|            1|            19|                      3|  Male|        50|             2|       1|Laboratory Techni...|              3|       Single|         2028|      12947|                 5|     Y|     Yes|               14|                3|                       2|           80|               0|                6|                    4|              3|             4|                 2|                      0|                   3|\n",
            "| 29|       No|    Travel_Rarely|     1389|Research & Develo...|              21|        4| Life Sciences|            1|            20|                      2|Female|        51|             4|       3|Manufacturing Dir...|              1|     Divorced|         9980|      10195|                 1|     Y|      No|               11|                3|                       3|           80|               1|               10|                    1|              3|            10|                 9|                      8|                   8|\n",
            "| 32|       No|    Travel_Rarely|      334|Research & Develo...|               5|        2| Life Sciences|            1|            21|                      1|  Male|        80|             4|       1|  Research Scientist|              2|     Divorced|         3298|      15053|                 0|     Y|     Yes|               12|                3|                       4|           80|               2|                7|                    5|              2|             6|                 2|                      0|                   5|\n",
            "| 22|       No|       Non-Travel|     1123|Research & Develo...|              16|        2|       Medical|            1|            22|                      4|  Male|        96|             4|       1|Laboratory Techni...|              4|     Divorced|         2935|       7324|                 1|     Y|     Yes|               13|                3|                       2|           80|               2|                1|                    2|              2|             1|                 0|                      0|                   0|\n",
            "| 38|       No|    Travel_Rarely|      371|Research & Develo...|               2|        3| Life Sciences|            1|            24|                      4|  Male|        45|             3|       1|  Research Scientist|              4|       Single|         3944|       4306|                 5|     Y|     Yes|               11|                3|                       3|           80|               0|                6|                    3|              3|             3|                 2|                      1|                   2|\n",
            "| 24|       No|       Non-Travel|      673|Research & Develo...|              11|        2|         Other|            1|            26|                      1|Female|        96|             4|       2|Manufacturing Dir...|              3|     Divorced|         4011|       8232|                 0|     Y|      No|               18|                3|                       4|           80|               1|                5|                    5|              2|             4|                 2|                      1|                   3|\n",
            "| 36|      Yes|    Travel_Rarely|     1218|               Sales|               9|        4| Life Sciences|            1|            27|                      3|  Male|        82|             2|       1|Sales Representative|              1|       Single|         3407|       6986|                 7|     Y|      No|               23|                4|                       2|           80|               0|               10|                    4|              3|             5|                 3|                      0|                   3|\n",
            "| 34|       No|    Travel_Rarely|      419|Research & Develo...|               7|        4| Life Sciences|            1|            28|                      1|Female|        53|             3|       3|   Research Director|              2|       Single|        11994|      21293|                 0|     Y|      No|               11|                3|                       3|           80|               0|               13|                    4|              3|            12|                 6|                      2|                  11|\n",
            "| 21|       No|    Travel_Rarely|      391|Research & Develo...|              15|        2| Life Sciences|            1|            30|                      3|  Male|        96|             3|       1|  Research Scientist|              4|       Single|         1232|      19281|                 1|     Y|      No|               14|                3|                       4|           80|               0|                0|                    6|              3|             0|                 0|                      0|                   0|\n",
            "+---+---------+-----------------+---------+--------------------+----------------+---------+--------------+-------------+--------------+-----------------------+------+----------+--------------+--------+--------------------+---------------+-------------+-------------+-----------+------------------+------+--------+-----------------+-----------------+------------------------+-------------+----------------+-----------------+---------------------+---------------+--------------+------------------+-----------------------+--------------------+\n",
            "only showing top 20 rows\n",
            "\n"
          ]
        }
      ]
    },
    {
      "cell_type": "code",
      "source": [
        "df.where(df.Age.between(18,40)).show()"
      ],
      "metadata": {
        "colab": {
          "base_uri": "https://localhost:8080/"
        },
        "id": "at1VYWgnbZj7",
        "outputId": "965a6071-8a91-49c2-b665-401e47f8d54b"
      },
      "execution_count": null,
      "outputs": [
        {
          "output_type": "stream",
          "name": "stdout",
          "text": [
            "+---+---------+-----------------+---------+--------------------+----------------+---------+--------------+-------------+--------------+-----------------------+------+----------+--------------+--------+--------------------+---------------+-------------+-------------+-----------+------------------+------+--------+-----------------+-----------------+------------------------+-------------+----------------+-----------------+---------------------+---------------+--------------+------------------+-----------------------+--------------------+\n",
            "|Age|Attrition|   BusinessTravel|DailyRate|          Department|DistanceFromHome|Education|EducationField|EmployeeCount|EmployeeNumber|EnvironmentSatisfaction|Gender|HourlyRate|JobInvolvement|JobLevel|             JobRole|JobSatisfaction|MaritalStatus|MonthlyIncome|MonthlyRate|NumCompaniesWorked|Over18|OverTime|PercentSalaryHike|PerformanceRating|RelationshipSatisfaction|StandardHours|StockOptionLevel|TotalWorkingYears|TrainingTimesLastYear|WorkLifeBalance|YearsAtCompany|YearsInCurrentRole|YearsSinceLastPromotion|YearsWithCurrManager|\n",
            "+---+---------+-----------------+---------+--------------------+----------------+---------+--------------+-------------+--------------+-----------------------+------+----------+--------------+--------+--------------------+---------------+-------------+-------------+-----------+------------------+------+--------+-----------------+-----------------+------------------------+-------------+----------------+-----------------+---------------------+---------------+--------------+------------------+-----------------------+--------------------+\n",
            "| 37|      Yes|    Travel_Rarely|     1373|Research & Develo...|               2|        2|         Other|            1|             4|                      4|  Male|        92|             2|       1|Laboratory Techni...|              3|       Single|         2090|       2396|                 6|     Y|     Yes|               15|                3|                       2|           80|               0|                7|                    3|              3|             0|                 0|                      0|                   0|\n",
            "| 33|       No|Travel_Frequently|     1392|Research & Develo...|               3|        4| Life Sciences|            1|             5|                      4|Female|        56|             3|       1|  Research Scientist|              3|      Married|         2909|      23159|                 1|     Y|     Yes|               11|                3|                       3|           80|               0|                8|                    3|              3|             8|                 7|                      3|                   0|\n",
            "| 27|       No|    Travel_Rarely|      591|Research & Develo...|               2|        1|       Medical|            1|             7|                      1|  Male|        40|             3|       1|Laboratory Techni...|              2|      Married|         3468|      16632|                 9|     Y|      No|               12|                3|                       4|           80|               1|                6|                    3|              3|             2|                 2|                      2|                   2|\n",
            "| 32|       No|Travel_Frequently|     1005|Research & Develo...|               2|        2| Life Sciences|            1|             8|                      4|  Male|        79|             3|       1|Laboratory Techni...|              4|       Single|         3068|      11864|                 0|     Y|      No|               13|                3|                       3|           80|               0|                8|                    2|              2|             7|                 7|                      3|                   6|\n",
            "| 30|       No|    Travel_Rarely|     1358|Research & Develo...|              24|        1| Life Sciences|            1|            11|                      4|  Male|        67|             3|       1|Laboratory Techni...|              3|     Divorced|         2693|      13335|                 1|     Y|      No|               22|                4|                       2|           80|               1|                1|                    2|              3|             1|                 0|                      0|                   0|\n",
            "| 38|       No|Travel_Frequently|      216|Research & Develo...|              23|        3| Life Sciences|            1|            12|                      4|  Male|        44|             2|       3|Manufacturing Dir...|              3|       Single|         9526|       8787|                 0|     Y|      No|               21|                4|                       2|           80|               0|               10|                    2|              3|             9|                 7|                      1|                   8|\n",
            "| 36|       No|    Travel_Rarely|     1299|Research & Develo...|              27|        3|       Medical|            1|            13|                      3|  Male|        94|             3|       2|Healthcare Repres...|              3|      Married|         5237|      16577|                 6|     Y|      No|               13|                3|                       2|           80|               2|               17|                    3|              2|             7|                 7|                      7|                   7|\n",
            "| 35|       No|    Travel_Rarely|      809|Research & Develo...|              16|        3|       Medical|            1|            14|                      1|  Male|        84|             4|       1|Laboratory Techni...|              2|      Married|         2426|      16479|                 0|     Y|      No|               13|                3|                       3|           80|               1|                6|                    5|              3|             5|                 4|                      0|                   3|\n",
            "| 29|       No|    Travel_Rarely|      153|Research & Develo...|              15|        2| Life Sciences|            1|            15|                      4|Female|        49|             2|       2|Laboratory Techni...|              3|       Single|         4193|      12682|                 0|     Y|     Yes|               12|                3|                       4|           80|               0|               10|                    3|              3|             9|                 5|                      0|                   8|\n",
            "| 31|       No|    Travel_Rarely|      670|Research & Develo...|              26|        1| Life Sciences|            1|            16|                      1|  Male|        31|             3|       1|  Research Scientist|              3|     Divorced|         2911|      15170|                 1|     Y|      No|               17|                3|                       4|           80|               1|                5|                    1|              2|             5|                 2|                      4|                   3|\n",
            "| 34|       No|    Travel_Rarely|     1346|Research & Develo...|              19|        2|       Medical|            1|            18|                      2|  Male|        93|             3|       1|Laboratory Techni...|              4|     Divorced|         2661|       8758|                 0|     Y|      No|               11|                3|                       3|           80|               1|                3|                    2|              3|             2|                 2|                      1|                   2|\n",
            "| 28|      Yes|    Travel_Rarely|      103|Research & Develo...|              24|        3| Life Sciences|            1|            19|                      3|  Male|        50|             2|       1|Laboratory Techni...|              3|       Single|         2028|      12947|                 5|     Y|     Yes|               14|                3|                       2|           80|               0|                6|                    4|              3|             4|                 2|                      0|                   3|\n",
            "| 29|       No|    Travel_Rarely|     1389|Research & Develo...|              21|        4| Life Sciences|            1|            20|                      2|Female|        51|             4|       3|Manufacturing Dir...|              1|     Divorced|         9980|      10195|                 1|     Y|      No|               11|                3|                       3|           80|               1|               10|                    1|              3|            10|                 9|                      8|                   8|\n",
            "| 32|       No|    Travel_Rarely|      334|Research & Develo...|               5|        2| Life Sciences|            1|            21|                      1|  Male|        80|             4|       1|  Research Scientist|              2|     Divorced|         3298|      15053|                 0|     Y|     Yes|               12|                3|                       4|           80|               2|                7|                    5|              2|             6|                 2|                      0|                   5|\n",
            "| 22|       No|       Non-Travel|     1123|Research & Develo...|              16|        2|       Medical|            1|            22|                      4|  Male|        96|             4|       1|Laboratory Techni...|              4|     Divorced|         2935|       7324|                 1|     Y|     Yes|               13|                3|                       2|           80|               2|                1|                    2|              2|             1|                 0|                      0|                   0|\n",
            "| 38|       No|    Travel_Rarely|      371|Research & Develo...|               2|        3| Life Sciences|            1|            24|                      4|  Male|        45|             3|       1|  Research Scientist|              4|       Single|         3944|       4306|                 5|     Y|     Yes|               11|                3|                       3|           80|               0|                6|                    3|              3|             3|                 2|                      1|                   2|\n",
            "| 24|       No|       Non-Travel|      673|Research & Develo...|              11|        2|         Other|            1|            26|                      1|Female|        96|             4|       2|Manufacturing Dir...|              3|     Divorced|         4011|       8232|                 0|     Y|      No|               18|                3|                       4|           80|               1|                5|                    5|              2|             4|                 2|                      1|                   3|\n",
            "| 36|      Yes|    Travel_Rarely|     1218|               Sales|               9|        4| Life Sciences|            1|            27|                      3|  Male|        82|             2|       1|Sales Representative|              1|       Single|         3407|       6986|                 7|     Y|      No|               23|                4|                       2|           80|               0|               10|                    4|              3|             5|                 3|                      0|                   3|\n",
            "| 34|       No|    Travel_Rarely|      419|Research & Develo...|               7|        4| Life Sciences|            1|            28|                      1|Female|        53|             3|       3|   Research Director|              2|       Single|        11994|      21293|                 0|     Y|      No|               11|                3|                       3|           80|               0|               13|                    4|              3|            12|                 6|                      2|                  11|\n",
            "| 21|       No|    Travel_Rarely|      391|Research & Develo...|              15|        2| Life Sciences|            1|            30|                      3|  Male|        96|             3|       1|  Research Scientist|              4|       Single|         1232|      19281|                 1|     Y|      No|               14|                3|                       4|           80|               0|                0|                    6|              3|             0|                 0|                      0|                   0|\n",
            "+---+---------+-----------------+---------+--------------------+----------------+---------+--------------+-------------+--------------+-----------------------+------+----------+--------------+--------+--------------------+---------------+-------------+-------------+-----------+------------------+------+--------+-----------------+-----------------+------------------------+-------------+----------------+-----------------+---------------------+---------------+--------------+------------------+-----------------------+--------------------+\n",
            "only showing top 20 rows\n",
            "\n"
          ]
        }
      ]
    },
    {
      "cell_type": "code",
      "source": [
        "spark.sql(\"select * from emp where JobRole = 'Research Director'\").show()"
      ],
      "metadata": {
        "colab": {
          "base_uri": "https://localhost:8080/"
        },
        "id": "5jDmW7oZcj13",
        "outputId": "80ff89ec-9491-4b55-e683-b703fef01664"
      },
      "execution_count": null,
      "outputs": [
        {
          "output_type": "stream",
          "name": "stdout",
          "text": [
            "+---+---------+-----------------+---------+--------------------+----------------+---------+----------------+-------------+--------------+-----------------------+------+----------+--------------+--------+-----------------+---------------+-------------+-------------+-----------+------------------+------+--------+-----------------+-----------------+------------------------+-------------+----------------+-----------------+---------------------+---------------+--------------+------------------+-----------------------+--------------------+\n",
            "|Age|Attrition|   BusinessTravel|DailyRate|          Department|DistanceFromHome|Education|  EducationField|EmployeeCount|EmployeeNumber|EnvironmentSatisfaction|Gender|HourlyRate|JobInvolvement|JobLevel|          JobRole|JobSatisfaction|MaritalStatus|MonthlyIncome|MonthlyRate|NumCompaniesWorked|Over18|OverTime|PercentSalaryHike|PerformanceRating|RelationshipSatisfaction|StandardHours|StockOptionLevel|TotalWorkingYears|TrainingTimesLastYear|WorkLifeBalance|YearsAtCompany|YearsInCurrentRole|YearsSinceLastPromotion|YearsWithCurrManager|\n",
            "+---+---------+-----------------+---------+--------------------+----------------+---------+----------------+-------------+--------------+-----------------------+------+----------+--------------+--------+-----------------+---------------+-------------+-------------+-----------+------------------+------+--------+-----------------+-----------------+------------------------+-------------+----------------+-----------------+---------------------+---------------+--------------+------------------+-----------------------+--------------------+\n",
            "| 34|       No|    Travel_Rarely|      419|Research & Develo...|               7|        4|   Life Sciences|            1|            28|                      1|Female|        53|             3|       3|Research Director|              2|       Single|        11994|      21293|                 0|     Y|      No|               11|                3|                       3|           80|               0|               13|                    4|              3|            12|                 6|                      2|                  11|\n",
            "| 41|      Yes|    Travel_Rarely|     1360|Research & Develo...|              12|        3|Technical Degree|            1|            58|                      2|Female|        49|             3|       5|Research Director|              3|      Married|        19545|      16280|                 1|     Y|      No|               12|                3|                       4|           80|               0|               23|                    0|              3|            22|                15|                     15|                   8|\n",
            "| 33|       No|Travel_Frequently|      515|Research & Develo...|               1|        2|   Life Sciences|            1|            73|                      1|Female|        98|             3|       3|Research Director|              4|       Single|        13458|      15146|                 1|     Y|     Yes|               12|                3|                       3|           80|               0|               15|                    1|              3|            15|                14|                      8|                  12|\n",
            "| 50|       No|    Travel_Rarely|      989|Research & Develo...|               7|        2|         Medical|            1|            80|                      2|Female|        43|             2|       5|Research Director|              3|     Divorced|        18740|      16701|                 5|     Y|     Yes|               12|                3|                       4|           80|               1|               29|                    2|              2|            27|                 3|                     13|                   8|\n",
            "| 45|       No|    Travel_Rarely|      193|Research & Develo...|               6|        4|           Other|            1|           101|                      4|  Male|        52|             3|       3|Research Director|              1|      Married|        13245|      15067|                 4|     Y|     Yes|               14|                3|                       2|           80|               0|               17|                    3|              4|             0|                 0|                      0|                   0|\n",
            "| 37|       No|    Travel_Rarely|      397|Research & Develo...|               7|        4|         Medical|            1|           102|                      1|  Male|        30|             3|       3|Research Director|              3|       Single|        13664|      25258|                 4|     Y|      No|               13|                3|                       1|           80|               0|               16|                    3|              4|             5|                 2|                      0|                   2|\n",
            "| 54|       No|    Travel_Rarely|     1217|Research & Develo...|               2|        4|Technical Degree|            1|           126|                      1|Female|        60|             3|       3|Research Director|              3|      Married|        13549|      24001|                 9|     Y|      No|               12|                3|                       1|           80|               1|               16|                    5|              1|             4|                 3|                      0|                   3|\n",
            "| 50|       No|Travel_Frequently|     1115|Research & Develo...|               1|        3|   Life Sciences|            1|           141|                      1|Female|        73|             3|       5|Research Director|              2|      Married|        18172|       9755|                 3|     Y|     Yes|               19|                3|                       1|           80|               0|               28|                    1|              2|             8|                 3|                      0|                   7|\n",
            "| 51|       No|    Travel_Rarely|      684|Research & Develo...|               6|        3|   Life Sciences|            1|           162|                      1|  Male|        51|             3|       5|Research Director|              3|       Single|        19537|       6462|                 7|     Y|      No|               13|                3|                       3|           80|               0|               23|                    5|              3|            20|                18|                     15|                  15|\n",
            "| 55|       No|    Travel_Rarely|      692|Research & Develo...|              14|        4|         Medical|            1|           254|                      3|  Male|        61|             4|       5|Research Director|              2|       Single|        18722|      13339|                 8|     Y|      No|               11|                3|                       4|           80|               0|               36|                    3|              3|            24|                15|                      2|                  15|\n",
            "| 51|       No|    Travel_Rarely|     1469|Research & Develo...|               8|        4|   Life Sciences|            1|           296|                      2|  Male|        81|             2|       3|Research Director|              2|      Married|        12490|      15736|                 5|     Y|      No|               16|                3|                       4|           80|               2|               16|                    5|              1|            10|                 9|                      4|                   7|\n",
            "| 37|       No|Travel_Frequently|      663|Research & Develo...|              11|        3|           Other|            1|           306|                      2|  Male|        47|             3|       3|Research Director|              4|     Divorced|        12185|      10056|                 1|     Y|     Yes|               14|                3|                       3|           80|               3|               10|                    1|              3|            10|                 8|                      0|                   7|\n",
            "| 31|       No|Travel_Frequently|     1327|Research & Develo...|               3|        4|         Medical|            1|           337|                      2|  Male|        73|             3|       3|Research Director|              3|     Divorced|        13675|      13523|                 9|     Y|      No|               12|                3|                       1|           80|               1|                9|                    3|              3|             2|                 2|                      2|                   2|\n",
            "| 40|       No|    Travel_Rarely|     1416|Research & Develo...|               2|        2|         Medical|            1|           352|                      1|  Male|        49|             3|       5|Research Director|              3|     Divorced|        19436|       5949|                 0|     Y|      No|               19|                3|                       4|           80|               1|               22|                    5|              3|            21|                 7|                      3|                   9|\n",
            "| 37|       No|       Non-Travel|      728|Research & Develo...|               1|        4|         Medical|            1|           380|                      1|Female|        80|             3|       3|Research Director|              4|     Divorced|        13603|      11677|                 2|     Y|     Yes|               18|                3|                       1|           80|               2|               15|                    2|              3|             5|                 2|                      0|                   2|\n",
            "| 50|       No|    Travel_Rarely|      797|Research & Develo...|               4|        1|   Life Sciences|            1|           385|                      1|  Male|        96|             3|       5|Research Director|              2|     Divorced|        19144|      15815|                 3|     Y|      No|               14|                3|                       1|           80|               2|               28|                    4|              2|            10|                 4|                      1|                   6|\n",
            "| 53|       No|    Travel_Rarely|     1070|Research & Develo...|               3|        4|         Medical|            1|           386|                      3|  Male|        45|             3|       4|Research Director|              3|      Married|        17584|      21016|                 3|     Y|     Yes|               16|                3|                       4|           80|               3|               21|                    5|              2|             5|                 3|                      1|                   3|\n",
            "| 49|       No|Travel_Frequently|      636|Research & Develo...|              10|        4|   Life Sciences|            1|           396|                      3|Female|        35|             3|       5|Research Director|              1|       Single|        18665|      25594|                 9|     Y|     Yes|               11|                3|                       4|           80|               0|               22|                    4|              3|             3|                 2|                      1|                   2|\n",
            "| 38|       No|    Travel_Rarely|      849|Research & Develo...|              25|        2|   Life Sciences|            1|           421|                      1|Female|        81|             2|       3|Research Director|              2|      Married|        12061|      26707|                 3|     Y|      No|               17|                3|                       3|           80|               1|               19|                    2|              3|            10|                 8|                      0|                   1|\n",
            "| 47|       No|    Travel_Rarely|     1482|Research & Develo...|               5|        5|   Life Sciences|            1|           447|                      4|  Male|        42|             3|       5|Research Director|              3|      Married|        18300|      16375|                 4|     Y|      No|               11|                3|                       2|           80|               1|               21|                    2|              3|             3|                 2|                      1|                   1|\n",
            "+---+---------+-----------------+---------+--------------------+----------------+---------+----------------+-------------+--------------+-----------------------+------+----------+--------------+--------+-----------------+---------------+-------------+-------------+-----------+------------------+------+--------+-----------------+-----------------+------------------------+-------------+----------------+-----------------+---------------------+---------------+--------------+------------------+-----------------------+--------------------+\n",
            "only showing top 20 rows\n",
            "\n"
          ]
        }
      ]
    },
    {
      "cell_type": "code",
      "source": [
        "df.where(df.JobRole.contains(\"Research Director\")).show()"
      ],
      "metadata": {
        "colab": {
          "base_uri": "https://localhost:8080/"
        },
        "id": "Mvb3xpmddaPQ",
        "outputId": "afa411f9-d4bc-4f2d-b349-36d4a87a4498"
      },
      "execution_count": null,
      "outputs": [
        {
          "output_type": "stream",
          "name": "stdout",
          "text": [
            "+---+---------+-----------------+---------+--------------------+----------------+---------+----------------+-------------+--------------+-----------------------+------+----------+--------------+--------+-----------------+---------------+-------------+-------------+-----------+------------------+------+--------+-----------------+-----------------+------------------------+-------------+----------------+-----------------+---------------------+---------------+--------------+------------------+-----------------------+--------------------+\n",
            "|Age|Attrition|   BusinessTravel|DailyRate|          Department|DistanceFromHome|Education|  EducationField|EmployeeCount|EmployeeNumber|EnvironmentSatisfaction|Gender|HourlyRate|JobInvolvement|JobLevel|          JobRole|JobSatisfaction|MaritalStatus|MonthlyIncome|MonthlyRate|NumCompaniesWorked|Over18|OverTime|PercentSalaryHike|PerformanceRating|RelationshipSatisfaction|StandardHours|StockOptionLevel|TotalWorkingYears|TrainingTimesLastYear|WorkLifeBalance|YearsAtCompany|YearsInCurrentRole|YearsSinceLastPromotion|YearsWithCurrManager|\n",
            "+---+---------+-----------------+---------+--------------------+----------------+---------+----------------+-------------+--------------+-----------------------+------+----------+--------------+--------+-----------------+---------------+-------------+-------------+-----------+------------------+------+--------+-----------------+-----------------+------------------------+-------------+----------------+-----------------+---------------------+---------------+--------------+------------------+-----------------------+--------------------+\n",
            "| 34|       No|    Travel_Rarely|      419|Research & Develo...|               7|        4|   Life Sciences|            1|            28|                      1|Female|        53|             3|       3|Research Director|              2|       Single|        11994|      21293|                 0|     Y|      No|               11|                3|                       3|           80|               0|               13|                    4|              3|            12|                 6|                      2|                  11|\n",
            "| 41|      Yes|    Travel_Rarely|     1360|Research & Develo...|              12|        3|Technical Degree|            1|            58|                      2|Female|        49|             3|       5|Research Director|              3|      Married|        19545|      16280|                 1|     Y|      No|               12|                3|                       4|           80|               0|               23|                    0|              3|            22|                15|                     15|                   8|\n",
            "| 33|       No|Travel_Frequently|      515|Research & Develo...|               1|        2|   Life Sciences|            1|            73|                      1|Female|        98|             3|       3|Research Director|              4|       Single|        13458|      15146|                 1|     Y|     Yes|               12|                3|                       3|           80|               0|               15|                    1|              3|            15|                14|                      8|                  12|\n",
            "| 50|       No|    Travel_Rarely|      989|Research & Develo...|               7|        2|         Medical|            1|            80|                      2|Female|        43|             2|       5|Research Director|              3|     Divorced|        18740|      16701|                 5|     Y|     Yes|               12|                3|                       4|           80|               1|               29|                    2|              2|            27|                 3|                     13|                   8|\n",
            "| 45|       No|    Travel_Rarely|      193|Research & Develo...|               6|        4|           Other|            1|           101|                      4|  Male|        52|             3|       3|Research Director|              1|      Married|        13245|      15067|                 4|     Y|     Yes|               14|                3|                       2|           80|               0|               17|                    3|              4|             0|                 0|                      0|                   0|\n",
            "| 37|       No|    Travel_Rarely|      397|Research & Develo...|               7|        4|         Medical|            1|           102|                      1|  Male|        30|             3|       3|Research Director|              3|       Single|        13664|      25258|                 4|     Y|      No|               13|                3|                       1|           80|               0|               16|                    3|              4|             5|                 2|                      0|                   2|\n",
            "| 54|       No|    Travel_Rarely|     1217|Research & Develo...|               2|        4|Technical Degree|            1|           126|                      1|Female|        60|             3|       3|Research Director|              3|      Married|        13549|      24001|                 9|     Y|      No|               12|                3|                       1|           80|               1|               16|                    5|              1|             4|                 3|                      0|                   3|\n",
            "| 50|       No|Travel_Frequently|     1115|Research & Develo...|               1|        3|   Life Sciences|            1|           141|                      1|Female|        73|             3|       5|Research Director|              2|      Married|        18172|       9755|                 3|     Y|     Yes|               19|                3|                       1|           80|               0|               28|                    1|              2|             8|                 3|                      0|                   7|\n",
            "| 51|       No|    Travel_Rarely|      684|Research & Develo...|               6|        3|   Life Sciences|            1|           162|                      1|  Male|        51|             3|       5|Research Director|              3|       Single|        19537|       6462|                 7|     Y|      No|               13|                3|                       3|           80|               0|               23|                    5|              3|            20|                18|                     15|                  15|\n",
            "| 55|       No|    Travel_Rarely|      692|Research & Develo...|              14|        4|         Medical|            1|           254|                      3|  Male|        61|             4|       5|Research Director|              2|       Single|        18722|      13339|                 8|     Y|      No|               11|                3|                       4|           80|               0|               36|                    3|              3|            24|                15|                      2|                  15|\n",
            "| 51|       No|    Travel_Rarely|     1469|Research & Develo...|               8|        4|   Life Sciences|            1|           296|                      2|  Male|        81|             2|       3|Research Director|              2|      Married|        12490|      15736|                 5|     Y|      No|               16|                3|                       4|           80|               2|               16|                    5|              1|            10|                 9|                      4|                   7|\n",
            "| 37|       No|Travel_Frequently|      663|Research & Develo...|              11|        3|           Other|            1|           306|                      2|  Male|        47|             3|       3|Research Director|              4|     Divorced|        12185|      10056|                 1|     Y|     Yes|               14|                3|                       3|           80|               3|               10|                    1|              3|            10|                 8|                      0|                   7|\n",
            "| 31|       No|Travel_Frequently|     1327|Research & Develo...|               3|        4|         Medical|            1|           337|                      2|  Male|        73|             3|       3|Research Director|              3|     Divorced|        13675|      13523|                 9|     Y|      No|               12|                3|                       1|           80|               1|                9|                    3|              3|             2|                 2|                      2|                   2|\n",
            "| 40|       No|    Travel_Rarely|     1416|Research & Develo...|               2|        2|         Medical|            1|           352|                      1|  Male|        49|             3|       5|Research Director|              3|     Divorced|        19436|       5949|                 0|     Y|      No|               19|                3|                       4|           80|               1|               22|                    5|              3|            21|                 7|                      3|                   9|\n",
            "| 37|       No|       Non-Travel|      728|Research & Develo...|               1|        4|         Medical|            1|           380|                      1|Female|        80|             3|       3|Research Director|              4|     Divorced|        13603|      11677|                 2|     Y|     Yes|               18|                3|                       1|           80|               2|               15|                    2|              3|             5|                 2|                      0|                   2|\n",
            "| 50|       No|    Travel_Rarely|      797|Research & Develo...|               4|        1|   Life Sciences|            1|           385|                      1|  Male|        96|             3|       5|Research Director|              2|     Divorced|        19144|      15815|                 3|     Y|      No|               14|                3|                       1|           80|               2|               28|                    4|              2|            10|                 4|                      1|                   6|\n",
            "| 53|       No|    Travel_Rarely|     1070|Research & Develo...|               3|        4|         Medical|            1|           386|                      3|  Male|        45|             3|       4|Research Director|              3|      Married|        17584|      21016|                 3|     Y|     Yes|               16|                3|                       4|           80|               3|               21|                    5|              2|             5|                 3|                      1|                   3|\n",
            "| 49|       No|Travel_Frequently|      636|Research & Develo...|              10|        4|   Life Sciences|            1|           396|                      3|Female|        35|             3|       5|Research Director|              1|       Single|        18665|      25594|                 9|     Y|     Yes|               11|                3|                       4|           80|               0|               22|                    4|              3|             3|                 2|                      1|                   2|\n",
            "| 38|       No|    Travel_Rarely|      849|Research & Develo...|              25|        2|   Life Sciences|            1|           421|                      1|Female|        81|             2|       3|Research Director|              2|      Married|        12061|      26707|                 3|     Y|      No|               17|                3|                       3|           80|               1|               19|                    2|              3|            10|                 8|                      0|                   1|\n",
            "| 47|       No|    Travel_Rarely|     1482|Research & Develo...|               5|        5|   Life Sciences|            1|           447|                      4|  Male|        42|             3|       5|Research Director|              3|      Married|        18300|      16375|                 4|     Y|      No|               11|                3|                       2|           80|               1|               21|                    2|              3|             3|                 2|                      1|                   1|\n",
            "+---+---------+-----------------+---------+--------------------+----------------+---------+----------------+-------------+--------------+-----------------------+------+----------+--------------+--------+-----------------+---------------+-------------+-------------+-----------+------------------+------+--------+-----------------+-----------------+------------------------+-------------+----------------+-----------------+---------------------+---------------+--------------+------------------+-----------------------+--------------------+\n",
            "only showing top 20 rows\n",
            "\n"
          ]
        }
      ]
    },
    {
      "cell_type": "code",
      "source": [
        "df.where(df.JobRole.contains(\"Research Director\"),df.Age > 40).show()"
      ],
      "metadata": {
        "colab": {
          "base_uri": "https://localhost:8080/",
          "height": 331
        },
        "id": "Eifnjx26d3cC",
        "outputId": "37e005a4-0f12-46ca-9467-aa57fa263b61"
      },
      "execution_count": null,
      "outputs": [
        {
          "output_type": "error",
          "ename": "AttributeError",
          "evalue": "ignored",
          "traceback": [
            "\u001b[0;31m---------------------------------------------------------------------------\u001b[0m",
            "\u001b[0;31mAttributeError\u001b[0m                            Traceback (most recent call last)",
            "\u001b[0;32m<ipython-input-46-3be8f314e7be>\u001b[0m in \u001b[0;36m<cell line: 1>\u001b[0;34m()\u001b[0m\n\u001b[0;32m----> 1\u001b[0;31m \u001b[0mdf\u001b[0m\u001b[0;34m.\u001b[0m\u001b[0mFilter\u001b[0m\u001b[0;34m(\u001b[0m\u001b[0mdf\u001b[0m\u001b[0;34m.\u001b[0m\u001b[0mJobRole\u001b[0m\u001b[0;34m.\u001b[0m\u001b[0mcontains\u001b[0m\u001b[0;34m(\u001b[0m\u001b[0;34m\"Research Director\"\u001b[0m\u001b[0;34m)\u001b[0m\u001b[0;34m&\u001b[0m\u001b[0mdf\u001b[0m\u001b[0;34m.\u001b[0m\u001b[0mAge\u001b[0m \u001b[0;34m>\u001b[0m \u001b[0;36m40\u001b[0m\u001b[0;34m)\u001b[0m\u001b[0;34m.\u001b[0m\u001b[0mshow\u001b[0m\u001b[0;34m(\u001b[0m\u001b[0;34m)\u001b[0m\u001b[0;34m\u001b[0m\u001b[0;34m\u001b[0m\u001b[0m\n\u001b[0m",
            "\u001b[0;32m/usr/local/lib/python3.10/dist-packages/pyspark/sql/dataframe.py\u001b[0m in \u001b[0;36m__getattr__\u001b[0;34m(self, name)\u001b[0m\n\u001b[1;32m   3121\u001b[0m         \"\"\"\n\u001b[1;32m   3122\u001b[0m         \u001b[0;32mif\u001b[0m \u001b[0mname\u001b[0m \u001b[0;32mnot\u001b[0m \u001b[0;32min\u001b[0m \u001b[0mself\u001b[0m\u001b[0;34m.\u001b[0m\u001b[0mcolumns\u001b[0m\u001b[0;34m:\u001b[0m\u001b[0;34m\u001b[0m\u001b[0;34m\u001b[0m\u001b[0m\n\u001b[0;32m-> 3123\u001b[0;31m             raise AttributeError(\n\u001b[0m\u001b[1;32m   3124\u001b[0m                 \u001b[0;34m\"'%s' object has no attribute '%s'\"\u001b[0m \u001b[0;34m%\u001b[0m \u001b[0;34m(\u001b[0m\u001b[0mself\u001b[0m\u001b[0;34m.\u001b[0m\u001b[0m__class__\u001b[0m\u001b[0;34m.\u001b[0m\u001b[0m__name__\u001b[0m\u001b[0;34m,\u001b[0m \u001b[0mname\u001b[0m\u001b[0;34m)\u001b[0m\u001b[0;34m\u001b[0m\u001b[0;34m\u001b[0m\u001b[0m\n\u001b[1;32m   3125\u001b[0m             )\n",
            "\u001b[0;31mAttributeError\u001b[0m: 'DataFrame' object has no attribute 'Filter'"
          ]
        }
      ]
    },
    {
      "cell_type": "markdown",
      "source": [
        "The where method in PySpark expects a single condition, not two separate conditions. To apply multiple conditions, you need to combine them using the & operator (AND) within a single expression."
      ],
      "metadata": {
        "id": "SvW20xaIi9qW"
      }
    },
    {
      "cell_type": "code",
      "source": [
        "df.where((col(\"JobRole\").contains(\"Research Director\")) & (col(\"Age\") > 40)).show()"
      ],
      "metadata": {
        "colab": {
          "base_uri": "https://localhost:8080/"
        },
        "id": "TDFZla5gehz8",
        "outputId": "ead03cdb-f189-4acd-e3f8-55f26d1fffb5"
      },
      "execution_count": null,
      "outputs": [
        {
          "output_type": "stream",
          "name": "stdout",
          "text": [
            "+---+---------+-----------------+---------+--------------------+----------------+---------+----------------+-------------+--------------+-----------------------+------+----------+--------------+--------+-----------------+---------------+-------------+-------------+-----------+------------------+------+--------+-----------------+-----------------+------------------------+-------------+----------------+-----------------+---------------------+---------------+--------------+------------------+-----------------------+--------------------+\n",
            "|Age|Attrition|   BusinessTravel|DailyRate|          Department|DistanceFromHome|Education|  EducationField|EmployeeCount|EmployeeNumber|EnvironmentSatisfaction|Gender|HourlyRate|JobInvolvement|JobLevel|          JobRole|JobSatisfaction|MaritalStatus|MonthlyIncome|MonthlyRate|NumCompaniesWorked|Over18|OverTime|PercentSalaryHike|PerformanceRating|RelationshipSatisfaction|StandardHours|StockOptionLevel|TotalWorkingYears|TrainingTimesLastYear|WorkLifeBalance|YearsAtCompany|YearsInCurrentRole|YearsSinceLastPromotion|YearsWithCurrManager|\n",
            "+---+---------+-----------------+---------+--------------------+----------------+---------+----------------+-------------+--------------+-----------------------+------+----------+--------------+--------+-----------------+---------------+-------------+-------------+-----------+------------------+------+--------+-----------------+-----------------+------------------------+-------------+----------------+-----------------+---------------------+---------------+--------------+------------------+-----------------------+--------------------+\n",
            "| 41|      Yes|    Travel_Rarely|     1360|Research & Develo...|              12|        3|Technical Degree|            1|            58|                      2|Female|        49|             3|       5|Research Director|              3|      Married|        19545|      16280|                 1|     Y|      No|               12|                3|                       4|           80|               0|               23|                    0|              3|            22|                15|                     15|                   8|\n",
            "| 50|       No|    Travel_Rarely|      989|Research & Develo...|               7|        2|         Medical|            1|            80|                      2|Female|        43|             2|       5|Research Director|              3|     Divorced|        18740|      16701|                 5|     Y|     Yes|               12|                3|                       4|           80|               1|               29|                    2|              2|            27|                 3|                     13|                   8|\n",
            "| 45|       No|    Travel_Rarely|      193|Research & Develo...|               6|        4|           Other|            1|           101|                      4|  Male|        52|             3|       3|Research Director|              1|      Married|        13245|      15067|                 4|     Y|     Yes|               14|                3|                       2|           80|               0|               17|                    3|              4|             0|                 0|                      0|                   0|\n",
            "| 54|       No|    Travel_Rarely|     1217|Research & Develo...|               2|        4|Technical Degree|            1|           126|                      1|Female|        60|             3|       3|Research Director|              3|      Married|        13549|      24001|                 9|     Y|      No|               12|                3|                       1|           80|               1|               16|                    5|              1|             4|                 3|                      0|                   3|\n",
            "| 50|       No|Travel_Frequently|     1115|Research & Develo...|               1|        3|   Life Sciences|            1|           141|                      1|Female|        73|             3|       5|Research Director|              2|      Married|        18172|       9755|                 3|     Y|     Yes|               19|                3|                       1|           80|               0|               28|                    1|              2|             8|                 3|                      0|                   7|\n",
            "| 51|       No|    Travel_Rarely|      684|Research & Develo...|               6|        3|   Life Sciences|            1|           162|                      1|  Male|        51|             3|       5|Research Director|              3|       Single|        19537|       6462|                 7|     Y|      No|               13|                3|                       3|           80|               0|               23|                    5|              3|            20|                18|                     15|                  15|\n",
            "| 55|       No|    Travel_Rarely|      692|Research & Develo...|              14|        4|         Medical|            1|           254|                      3|  Male|        61|             4|       5|Research Director|              2|       Single|        18722|      13339|                 8|     Y|      No|               11|                3|                       4|           80|               0|               36|                    3|              3|            24|                15|                      2|                  15|\n",
            "| 51|       No|    Travel_Rarely|     1469|Research & Develo...|               8|        4|   Life Sciences|            1|           296|                      2|  Male|        81|             2|       3|Research Director|              2|      Married|        12490|      15736|                 5|     Y|      No|               16|                3|                       4|           80|               2|               16|                    5|              1|            10|                 9|                      4|                   7|\n",
            "| 50|       No|    Travel_Rarely|      797|Research & Develo...|               4|        1|   Life Sciences|            1|           385|                      1|  Male|        96|             3|       5|Research Director|              2|     Divorced|        19144|      15815|                 3|     Y|      No|               14|                3|                       1|           80|               2|               28|                    4|              2|            10|                 4|                      1|                   6|\n",
            "| 53|       No|    Travel_Rarely|     1070|Research & Develo...|               3|        4|         Medical|            1|           386|                      3|  Male|        45|             3|       4|Research Director|              3|      Married|        17584|      21016|                 3|     Y|     Yes|               16|                3|                       4|           80|               3|               21|                    5|              2|             5|                 3|                      1|                   3|\n",
            "| 49|       No|Travel_Frequently|      636|Research & Develo...|              10|        4|   Life Sciences|            1|           396|                      3|Female|        35|             3|       5|Research Director|              1|       Single|        18665|      25594|                 9|     Y|     Yes|               11|                3|                       4|           80|               0|               22|                    4|              3|             3|                 2|                      1|                   2|\n",
            "| 47|       No|    Travel_Rarely|     1482|Research & Develo...|               5|        5|   Life Sciences|            1|           447|                      4|  Male|        42|             3|       5|Research Director|              3|      Married|        18300|      16375|                 4|     Y|      No|               11|                3|                       2|           80|               1|               21|                    2|              3|             3|                 2|                      1|                   1|\n",
            "| 42|       No|    Travel_Rarely|      810|Research & Develo...|              23|        5|   Life Sciences|            1|           468|                      1|Female|        44|             3|       4|Research Director|              4|       Single|        15992|      15901|                 2|     Y|      No|               14|                3|                       2|           80|               0|               16|                    2|              3|             1|                 0|                      0|                   0|\n",
            "| 43|       No|    Travel_Rarely|      982|Research & Develo...|              12|        3|   Life Sciences|            1|           520|                      1|  Male|        59|             2|       4|Research Director|              2|     Divorced|        14336|       4345|                 1|     Y|      No|               11|                3|                       3|           80|               1|               25|                    3|              3|            25|                10|                      3|                   9|\n",
            "| 54|       No|    Travel_Rarely|      821|Research & Develo...|               5|        2|         Medical|            1|           522|                      1|  Male|        86|             3|       5|Research Director|              1|      Married|        19406|       8509|                 4|     Y|      No|               11|                3|                       3|           80|               1|               24|                    4|              2|             4|                 2|                      1|                   2|\n",
            "| 46|       No|    Travel_Rarely|     1009|Research & Develo...|               2|        3|   Life Sciences|            1|           575|                      1|  Male|        51|             3|       4|Research Director|              3|      Married|        17861|       2288|                 6|     Y|      No|               13|                3|                       3|           80|               0|               26|                    2|              1|             3|                 2|                      0|                   1|\n",
            "| 49|       No|    Travel_Rarely|     1245|Research & Develo...|              18|        4|   Life Sciences|            1|           638|                      4|  Male|        58|             2|       5|Research Director|              3|     Divorced|        19502|       2125|                 1|     Y|     Yes|               17|                3|                       3|           80|               1|               31|                    5|              3|            31|                 9|                      0|                   9|\n",
            "| 43|       No|    Travel_Rarely|      782|Research & Develo...|               6|        4|           Other|            1|           661|                      2|  Male|        50|             2|       4|Research Director|              4|     Divorced|        16627|       2671|                 4|     Y|     Yes|               14|                3|                       3|           80|               1|               21|                    3|              2|             1|                 0|                      0|                   0|\n",
            "| 53|       No|    Travel_Rarely|      970|Research & Develo...|               7|        3|   Life Sciences|            1|           730|                      3|  Male|        59|             4|       4|Research Director|              3|      Married|        14814|      13514|                 3|     Y|      No|               19|                3|                       3|           80|               0|               32|                    3|              3|             5|                 1|                      1|                   3|\n",
            "| 50|       No|    Travel_Rarely|      691|Research & Develo...|               2|        3|         Medical|            1|           815|                      3|  Male|        64|             3|       4|Research Director|              3|      Married|        17639|       6881|                 5|     Y|      No|               16|                3|                       4|           80|               0|               30|                    3|              3|             4|                 3|                      0|                   3|\n",
            "+---+---------+-----------------+---------+--------------------+----------------+---------+----------------+-------------+--------------+-----------------------+------+----------+--------------+--------+-----------------+---------------+-------------+-------------+-----------+------------------+------+--------+-----------------+-----------------+------------------------+-------------+----------------+-----------------+---------------------+---------------+--------------+------------------+-----------------------+--------------------+\n",
            "only showing top 20 rows\n",
            "\n"
          ]
        }
      ]
    },
    {
      "cell_type": "code",
      "source": [
        "df.select(df.JobRole.substr(1,16)).show()"
      ],
      "metadata": {
        "id": "KXtmTczyigVb",
        "colab": {
          "base_uri": "https://localhost:8080/"
        },
        "outputId": "d02aa517-8098-45fa-c22c-3792a8bd5bbe"
      },
      "execution_count": 20,
      "outputs": [
        {
          "output_type": "stream",
          "name": "stdout",
          "text": [
            "+-------------------------+\n",
            "|substring(JobRole, 1, 16)|\n",
            "+-------------------------+\n",
            "|          Sales Executive|\n",
            "|         Research Scienti|\n",
            "|         Laboratory Techn|\n",
            "|         Research Scienti|\n",
            "|         Laboratory Techn|\n",
            "|         Laboratory Techn|\n",
            "|         Laboratory Techn|\n",
            "|         Laboratory Techn|\n",
            "|         Manufacturing Di|\n",
            "|         Healthcare Repre|\n",
            "|         Laboratory Techn|\n",
            "|         Laboratory Techn|\n",
            "|         Research Scienti|\n",
            "|         Laboratory Techn|\n",
            "|         Laboratory Techn|\n",
            "|         Manufacturing Di|\n",
            "|         Research Scienti|\n",
            "|         Laboratory Techn|\n",
            "|                  Manager|\n",
            "|         Research Scienti|\n",
            "+-------------------------+\n",
            "only showing top 20 rows\n",
            "\n"
          ]
        }
      ]
    },
    {
      "cell_type": "code",
      "source": [
        "columns= [\"Age\",\"JobRole\"]\n",
        "\n",
        "\n",
        "for c in columns:\n",
        "  df= df.withColumn(\"Emp_\"+ c,col(c))\n",
        "  df= df.drop(c)\n",
        "\n",
        "df.show()"
      ],
      "metadata": {
        "colab": {
          "base_uri": "https://localhost:8080/"
        },
        "id": "Vl1W7OZKxMDQ",
        "outputId": "63440ea1-56f9-4315-d6fd-9a714d295db2"
      },
      "execution_count": 26,
      "outputs": [
        {
          "output_type": "stream",
          "name": "stdout",
          "text": [
            "+---------+-----------------+---------+--------------------+----------------+---------+--------------+-------------+--------------+-----------------------+------+----------+--------------+--------+---------------+-------------+-------------+-----------+------------------+------+--------+-----------------+-----------------+------------------------+-------------+----------------+-----------------+---------------------+---------------+--------------+------------------+-----------------------+--------------------+-------+--------------------+\n",
            "|Attrition|   BusinessTravel|DailyRate|          Department|DistanceFromHome|Education|EducationField|EmployeeCount|EmployeeNumber|EnvironmentSatisfaction|Gender|HourlyRate|JobInvolvement|JobLevel|JobSatisfaction|MaritalStatus|MonthlyIncome|MonthlyRate|NumCompaniesWorked|Over18|OverTime|PercentSalaryHike|PerformanceRating|RelationshipSatisfaction|StandardHours|StockOptionLevel|TotalWorkingYears|TrainingTimesLastYear|WorkLifeBalance|YearsAtCompany|YearsInCurrentRole|YearsSinceLastPromotion|YearsWithCurrManager|Emp_Age|         Emp_JobRole|\n",
            "+---------+-----------------+---------+--------------------+----------------+---------+--------------+-------------+--------------+-----------------------+------+----------+--------------+--------+---------------+-------------+-------------+-----------+------------------+------+--------+-----------------+-----------------+------------------------+-------------+----------------+-----------------+---------------------+---------------+--------------+------------------+-----------------------+--------------------+-------+--------------------+\n",
            "|      Yes|    Travel_Rarely|     1102|               Sales|               1|        2| Life Sciences|            1|             1|                      2|Female|        94|             3|       2|              4|       Single|         5993|      19479|                 8|     Y|     Yes|               11|                3|                       1|           80|               0|                8|                    0|              1|             6|                 4|                      0|                   5|     41|     Sales Executive|\n",
            "|       No|Travel_Frequently|      279|Research & Develo...|               8|        1| Life Sciences|            1|             2|                      3|  Male|        61|             2|       2|              2|      Married|         5130|      24907|                 1|     Y|      No|               23|                4|                       4|           80|               1|               10|                    3|              3|            10|                 7|                      1|                   7|     49|  Research Scientist|\n",
            "|      Yes|    Travel_Rarely|     1373|Research & Develo...|               2|        2|         Other|            1|             4|                      4|  Male|        92|             2|       1|              3|       Single|         2090|       2396|                 6|     Y|     Yes|               15|                3|                       2|           80|               0|                7|                    3|              3|             0|                 0|                      0|                   0|     37|Laboratory Techni...|\n",
            "|       No|Travel_Frequently|     1392|Research & Develo...|               3|        4| Life Sciences|            1|             5|                      4|Female|        56|             3|       1|              3|      Married|         2909|      23159|                 1|     Y|     Yes|               11|                3|                       3|           80|               0|                8|                    3|              3|             8|                 7|                      3|                   0|     33|  Research Scientist|\n",
            "|       No|    Travel_Rarely|      591|Research & Develo...|               2|        1|       Medical|            1|             7|                      1|  Male|        40|             3|       1|              2|      Married|         3468|      16632|                 9|     Y|      No|               12|                3|                       4|           80|               1|                6|                    3|              3|             2|                 2|                      2|                   2|     27|Laboratory Techni...|\n",
            "|       No|Travel_Frequently|     1005|Research & Develo...|               2|        2| Life Sciences|            1|             8|                      4|  Male|        79|             3|       1|              4|       Single|         3068|      11864|                 0|     Y|      No|               13|                3|                       3|           80|               0|                8|                    2|              2|             7|                 7|                      3|                   6|     32|Laboratory Techni...|\n",
            "|       No|    Travel_Rarely|     1324|Research & Develo...|               3|        3|       Medical|            1|            10|                      3|Female|        81|             4|       1|              1|      Married|         2670|       9964|                 4|     Y|     Yes|               20|                4|                       1|           80|               3|               12|                    3|              2|             1|                 0|                      0|                   0|     59|Laboratory Techni...|\n",
            "|       No|    Travel_Rarely|     1358|Research & Develo...|              24|        1| Life Sciences|            1|            11|                      4|  Male|        67|             3|       1|              3|     Divorced|         2693|      13335|                 1|     Y|      No|               22|                4|                       2|           80|               1|                1|                    2|              3|             1|                 0|                      0|                   0|     30|Laboratory Techni...|\n",
            "|       No|Travel_Frequently|      216|Research & Develo...|              23|        3| Life Sciences|            1|            12|                      4|  Male|        44|             2|       3|              3|       Single|         9526|       8787|                 0|     Y|      No|               21|                4|                       2|           80|               0|               10|                    2|              3|             9|                 7|                      1|                   8|     38|Manufacturing Dir...|\n",
            "|       No|    Travel_Rarely|     1299|Research & Develo...|              27|        3|       Medical|            1|            13|                      3|  Male|        94|             3|       2|              3|      Married|         5237|      16577|                 6|     Y|      No|               13|                3|                       2|           80|               2|               17|                    3|              2|             7|                 7|                      7|                   7|     36|Healthcare Repres...|\n",
            "|       No|    Travel_Rarely|      809|Research & Develo...|              16|        3|       Medical|            1|            14|                      1|  Male|        84|             4|       1|              2|      Married|         2426|      16479|                 0|     Y|      No|               13|                3|                       3|           80|               1|                6|                    5|              3|             5|                 4|                      0|                   3|     35|Laboratory Techni...|\n",
            "|       No|    Travel_Rarely|      153|Research & Develo...|              15|        2| Life Sciences|            1|            15|                      4|Female|        49|             2|       2|              3|       Single|         4193|      12682|                 0|     Y|     Yes|               12|                3|                       4|           80|               0|               10|                    3|              3|             9|                 5|                      0|                   8|     29|Laboratory Techni...|\n",
            "|       No|    Travel_Rarely|      670|Research & Develo...|              26|        1| Life Sciences|            1|            16|                      1|  Male|        31|             3|       1|              3|     Divorced|         2911|      15170|                 1|     Y|      No|               17|                3|                       4|           80|               1|                5|                    1|              2|             5|                 2|                      4|                   3|     31|  Research Scientist|\n",
            "|       No|    Travel_Rarely|     1346|Research & Develo...|              19|        2|       Medical|            1|            18|                      2|  Male|        93|             3|       1|              4|     Divorced|         2661|       8758|                 0|     Y|      No|               11|                3|                       3|           80|               1|                3|                    2|              3|             2|                 2|                      1|                   2|     34|Laboratory Techni...|\n",
            "|      Yes|    Travel_Rarely|      103|Research & Develo...|              24|        3| Life Sciences|            1|            19|                      3|  Male|        50|             2|       1|              3|       Single|         2028|      12947|                 5|     Y|     Yes|               14|                3|                       2|           80|               0|                6|                    4|              3|             4|                 2|                      0|                   3|     28|Laboratory Techni...|\n",
            "|       No|    Travel_Rarely|     1389|Research & Develo...|              21|        4| Life Sciences|            1|            20|                      2|Female|        51|             4|       3|              1|     Divorced|         9980|      10195|                 1|     Y|      No|               11|                3|                       3|           80|               1|               10|                    1|              3|            10|                 9|                      8|                   8|     29|Manufacturing Dir...|\n",
            "|       No|    Travel_Rarely|      334|Research & Develo...|               5|        2| Life Sciences|            1|            21|                      1|  Male|        80|             4|       1|              2|     Divorced|         3298|      15053|                 0|     Y|     Yes|               12|                3|                       4|           80|               2|                7|                    5|              2|             6|                 2|                      0|                   5|     32|  Research Scientist|\n",
            "|       No|       Non-Travel|     1123|Research & Develo...|              16|        2|       Medical|            1|            22|                      4|  Male|        96|             4|       1|              4|     Divorced|         2935|       7324|                 1|     Y|     Yes|               13|                3|                       2|           80|               2|                1|                    2|              2|             1|                 0|                      0|                   0|     22|Laboratory Techni...|\n",
            "|       No|    Travel_Rarely|     1219|               Sales|               2|        4| Life Sciences|            1|            23|                      1|Female|        78|             2|       4|              4|      Married|        15427|      22021|                 2|     Y|      No|               16|                3|                       3|           80|               0|               31|                    3|              3|            25|                 8|                      3|                   7|     53|             Manager|\n",
            "|       No|    Travel_Rarely|      371|Research & Develo...|               2|        3| Life Sciences|            1|            24|                      4|  Male|        45|             3|       1|              4|       Single|         3944|       4306|                 5|     Y|     Yes|               11|                3|                       3|           80|               0|                6|                    3|              3|             3|                 2|                      1|                   2|     38|  Research Scientist|\n",
            "+---------+-----------------+---------+--------------------+----------------+---------+--------------+-------------+--------------+-----------------------+------+----------+--------------+--------+---------------+-------------+-------------+-----------+------------------+------+--------+-----------------+-----------------+------------------------+-------------+----------------+-----------------+---------------------+---------------+--------------+------------------+-----------------------+--------------------+-------+--------------------+\n",
            "only showing top 20 rows\n",
            "\n"
          ]
        }
      ]
    },
    {
      "cell_type": "code",
      "source": [
        "df.show()"
      ],
      "metadata": {
        "colab": {
          "base_uri": "https://localhost:8080/"
        },
        "id": "hZK6Tg3cxRan",
        "outputId": "822e3a4e-bb23-4d75-814c-6cebc86fc0c6"
      },
      "execution_count": 31,
      "outputs": [
        {
          "output_type": "stream",
          "name": "stdout",
          "text": [
            "+---+---------+-----------------+---------+--------------------+----------------+---------+--------------+-------------+--------------+-----------------------+------+----------+--------------+--------+--------------------+---------------+-------------+-------------+-----------+------------------+------+--------+-----------------+-----------------+------------------------+-------------+----------------+-----------------+---------------------+---------------+--------------+------------------+-----------------------+--------------------+\n",
            "|Age|Attrition|   BusinessTravel|DailyRate|          Department|DistanceFromHome|Education|EducationField|EmployeeCount|EmployeeNumber|EnvironmentSatisfaction|Gender|HourlyRate|JobInvolvement|JobLevel|             JobRole|JobSatisfaction|MaritalStatus|MonthlyIncome|MonthlyRate|NumCompaniesWorked|Over18|OverTime|PercentSalaryHike|PerformanceRating|RelationshipSatisfaction|StandardHours|StockOptionLevel|TotalWorkingYears|TrainingTimesLastYear|WorkLifeBalance|YearsAtCompany|YearsInCurrentRole|YearsSinceLastPromotion|YearsWithCurrManager|\n",
            "+---+---------+-----------------+---------+--------------------+----------------+---------+--------------+-------------+--------------+-----------------------+------+----------+--------------+--------+--------------------+---------------+-------------+-------------+-----------+------------------+------+--------+-----------------+-----------------+------------------------+-------------+----------------+-----------------+---------------------+---------------+--------------+------------------+-----------------------+--------------------+\n",
            "| 41|      Yes|    Travel_Rarely|     1102|               Sales|               1|        2| Life Sciences|            1|             1|                      2|Female|        94|             3|       2|     Sales Executive|              4|       Single|         5993|      19479|                 8|     Y|     Yes|               11|                3|                       1|           80|               0|                8|                    0|              1|             6|                 4|                      0|                   5|\n",
            "| 49|       No|Travel_Frequently|      279|Research & Develo...|               8|        1| Life Sciences|            1|             2|                      3|  Male|        61|             2|       2|  Research Scientist|              2|      Married|         5130|      24907|                 1|     Y|      No|               23|                4|                       4|           80|               1|               10|                    3|              3|            10|                 7|                      1|                   7|\n",
            "| 37|      Yes|    Travel_Rarely|     1373|Research & Develo...|               2|        2|         Other|            1|             4|                      4|  Male|        92|             2|       1|Laboratory Techni...|              3|       Single|         2090|       2396|                 6|     Y|     Yes|               15|                3|                       2|           80|               0|                7|                    3|              3|             0|                 0|                      0|                   0|\n",
            "| 33|       No|Travel_Frequently|     1392|Research & Develo...|               3|        4| Life Sciences|            1|             5|                      4|Female|        56|             3|       1|  Research Scientist|              3|      Married|         2909|      23159|                 1|     Y|     Yes|               11|                3|                       3|           80|               0|                8|                    3|              3|             8|                 7|                      3|                   0|\n",
            "| 27|       No|    Travel_Rarely|      591|Research & Develo...|               2|        1|       Medical|            1|             7|                      1|  Male|        40|             3|       1|Laboratory Techni...|              2|      Married|         3468|      16632|                 9|     Y|      No|               12|                3|                       4|           80|               1|                6|                    3|              3|             2|                 2|                      2|                   2|\n",
            "| 32|       No|Travel_Frequently|     1005|Research & Develo...|               2|        2| Life Sciences|            1|             8|                      4|  Male|        79|             3|       1|Laboratory Techni...|              4|       Single|         3068|      11864|                 0|     Y|      No|               13|                3|                       3|           80|               0|                8|                    2|              2|             7|                 7|                      3|                   6|\n",
            "| 59|       No|    Travel_Rarely|     1324|Research & Develo...|               3|        3|       Medical|            1|            10|                      3|Female|        81|             4|       1|Laboratory Techni...|              1|      Married|         2670|       9964|                 4|     Y|     Yes|               20|                4|                       1|           80|               3|               12|                    3|              2|             1|                 0|                      0|                   0|\n",
            "| 30|       No|    Travel_Rarely|     1358|Research & Develo...|              24|        1| Life Sciences|            1|            11|                      4|  Male|        67|             3|       1|Laboratory Techni...|              3|     Divorced|         2693|      13335|                 1|     Y|      No|               22|                4|                       2|           80|               1|                1|                    2|              3|             1|                 0|                      0|                   0|\n",
            "| 38|       No|Travel_Frequently|      216|Research & Develo...|              23|        3| Life Sciences|            1|            12|                      4|  Male|        44|             2|       3|Manufacturing Dir...|              3|       Single|         9526|       8787|                 0|     Y|      No|               21|                4|                       2|           80|               0|               10|                    2|              3|             9|                 7|                      1|                   8|\n",
            "| 36|       No|    Travel_Rarely|     1299|Research & Develo...|              27|        3|       Medical|            1|            13|                      3|  Male|        94|             3|       2|Healthcare Repres...|              3|      Married|         5237|      16577|                 6|     Y|      No|               13|                3|                       2|           80|               2|               17|                    3|              2|             7|                 7|                      7|                   7|\n",
            "| 35|       No|    Travel_Rarely|      809|Research & Develo...|              16|        3|       Medical|            1|            14|                      1|  Male|        84|             4|       1|Laboratory Techni...|              2|      Married|         2426|      16479|                 0|     Y|      No|               13|                3|                       3|           80|               1|                6|                    5|              3|             5|                 4|                      0|                   3|\n",
            "| 29|       No|    Travel_Rarely|      153|Research & Develo...|              15|        2| Life Sciences|            1|            15|                      4|Female|        49|             2|       2|Laboratory Techni...|              3|       Single|         4193|      12682|                 0|     Y|     Yes|               12|                3|                       4|           80|               0|               10|                    3|              3|             9|                 5|                      0|                   8|\n",
            "| 31|       No|    Travel_Rarely|      670|Research & Develo...|              26|        1| Life Sciences|            1|            16|                      1|  Male|        31|             3|       1|  Research Scientist|              3|     Divorced|         2911|      15170|                 1|     Y|      No|               17|                3|                       4|           80|               1|                5|                    1|              2|             5|                 2|                      4|                   3|\n",
            "| 34|       No|    Travel_Rarely|     1346|Research & Develo...|              19|        2|       Medical|            1|            18|                      2|  Male|        93|             3|       1|Laboratory Techni...|              4|     Divorced|         2661|       8758|                 0|     Y|      No|               11|                3|                       3|           80|               1|                3|                    2|              3|             2|                 2|                      1|                   2|\n",
            "| 28|      Yes|    Travel_Rarely|      103|Research & Develo...|              24|        3| Life Sciences|            1|            19|                      3|  Male|        50|             2|       1|Laboratory Techni...|              3|       Single|         2028|      12947|                 5|     Y|     Yes|               14|                3|                       2|           80|               0|                6|                    4|              3|             4|                 2|                      0|                   3|\n",
            "| 29|       No|    Travel_Rarely|     1389|Research & Develo...|              21|        4| Life Sciences|            1|            20|                      2|Female|        51|             4|       3|Manufacturing Dir...|              1|     Divorced|         9980|      10195|                 1|     Y|      No|               11|                3|                       3|           80|               1|               10|                    1|              3|            10|                 9|                      8|                   8|\n",
            "| 32|       No|    Travel_Rarely|      334|Research & Develo...|               5|        2| Life Sciences|            1|            21|                      1|  Male|        80|             4|       1|  Research Scientist|              2|     Divorced|         3298|      15053|                 0|     Y|     Yes|               12|                3|                       4|           80|               2|                7|                    5|              2|             6|                 2|                      0|                   5|\n",
            "| 22|       No|       Non-Travel|     1123|Research & Develo...|              16|        2|       Medical|            1|            22|                      4|  Male|        96|             4|       1|Laboratory Techni...|              4|     Divorced|         2935|       7324|                 1|     Y|     Yes|               13|                3|                       2|           80|               2|                1|                    2|              2|             1|                 0|                      0|                   0|\n",
            "| 53|       No|    Travel_Rarely|     1219|               Sales|               2|        4| Life Sciences|            1|            23|                      1|Female|        78|             2|       4|             Manager|              4|      Married|        15427|      22021|                 2|     Y|      No|               16|                3|                       3|           80|               0|               31|                    3|              3|            25|                 8|                      3|                   7|\n",
            "| 38|       No|    Travel_Rarely|      371|Research & Develo...|               2|        3| Life Sciences|            1|            24|                      4|  Male|        45|             3|       1|  Research Scientist|              4|       Single|         3944|       4306|                 5|     Y|     Yes|               11|                3|                       3|           80|               0|                6|                    3|              3|             3|                 2|                      1|                   2|\n",
            "+---+---------+-----------------+---------+--------------------+----------------+---------+--------------+-------------+--------------+-----------------------+------+----------+--------------+--------+--------------------+---------------+-------------+-------------+-----------+------------------+------+--------+-----------------+-----------------+------------------------+-------------+----------------+-----------------+---------------------+---------------+--------------+------------------+-----------------------+--------------------+\n",
            "only showing top 20 rows\n",
            "\n"
          ]
        }
      ]
    },
    {
      "cell_type": "code",
      "source": [
        "df1=df.where((col(\"JobRole\").contains(\"Research Director\")) & (col(\"Age\") > 40)).select(avg(col(\"DailyRate\")).alias(\"AvgDailyRate\")).collect()[0][0]"
      ],
      "metadata": {
        "id": "S8wvLK_ACLvk"
      },
      "execution_count": 77,
      "outputs": []
    },
    {
      "cell_type": "code",
      "source": [
        "df1"
      ],
      "metadata": {
        "colab": {
          "base_uri": "https://localhost:8080/"
        },
        "id": "uGVG5OYdNpha",
        "outputId": "3980e8a3-a58e-4e7d-c1c8-83b93908fa25"
      },
      "execution_count": 82,
      "outputs": [
        {
          "output_type": "execute_result",
          "data": {
            "text/plain": [
              "869.4716981132076"
            ]
          },
          "metadata": {},
          "execution_count": 82
        }
      ]
    },
    {
      "cell_type": "code",
      "source": [
        "df.groupBy(\"JobRole\").agg(count(\"*\").alias(\"count_role\")).select(\"count_role\").show()"
      ],
      "metadata": {
        "colab": {
          "base_uri": "https://localhost:8080/"
        },
        "id": "SHvjPS-7Gk3v",
        "outputId": "1ec4e337-10cf-4f8c-b55c-36d0c2963e53"
      },
      "execution_count": 69,
      "outputs": [
        {
          "output_type": "stream",
          "name": "stdout",
          "text": [
            "+----------+\n",
            "|count_role|\n",
            "+----------+\n",
            "|       326|\n",
            "|       145|\n",
            "|       259|\n",
            "|        83|\n",
            "|       131|\n",
            "|       292|\n",
            "|       102|\n",
            "|        80|\n",
            "|        52|\n",
            "+----------+\n",
            "\n"
          ]
        }
      ]
    },
    {
      "cell_type": "code",
      "source": [
        "spark.sql(\"select count(*)as count_role from emp group by JobRole\").show()"
      ],
      "metadata": {
        "colab": {
          "base_uri": "https://localhost:8080/"
        },
        "id": "FgVM-ElDIhWQ",
        "outputId": "7adfe698-77c7-4f80-bf9f-387e4b4dcbfd"
      },
      "execution_count": 83,
      "outputs": [
        {
          "output_type": "stream",
          "name": "stdout",
          "text": [
            "+----------+\n",
            "|count_role|\n",
            "+----------+\n",
            "|       326|\n",
            "|       145|\n",
            "|       259|\n",
            "|        83|\n",
            "|       131|\n",
            "|       292|\n",
            "|       102|\n",
            "|        80|\n",
            "|        52|\n",
            "+----------+\n",
            "\n"
          ]
        }
      ]
    },
    {
      "cell_type": "code",
      "source": [
        " spark.sql(\"select jobrole,case when JobRole = 'Sales Executive' then 'SE' when JobRole = 'Research Scientist' then 'RS' else JobRole end as JobRole_New from emp\").show()"
      ],
      "metadata": {
        "colab": {
          "base_uri": "https://localhost:8080/"
        },
        "id": "_KqkByIiJjbn",
        "outputId": "b1d4870e-1bf0-4a49-fe1c-88da7441556c"
      },
      "execution_count": 87,
      "outputs": [
        {
          "output_type": "stream",
          "name": "stdout",
          "text": [
            "+--------------------+--------------------+\n",
            "|             jobrole|         JobRole_New|\n",
            "+--------------------+--------------------+\n",
            "|     Sales Executive|                  SE|\n",
            "|  Research Scientist|                  RS|\n",
            "|Laboratory Techni...|Laboratory Techni...|\n",
            "|  Research Scientist|                  RS|\n",
            "|Laboratory Techni...|Laboratory Techni...|\n",
            "|Laboratory Techni...|Laboratory Techni...|\n",
            "|Laboratory Techni...|Laboratory Techni...|\n",
            "|Laboratory Techni...|Laboratory Techni...|\n",
            "|Manufacturing Dir...|Manufacturing Dir...|\n",
            "|Healthcare Repres...|Healthcare Repres...|\n",
            "|Laboratory Techni...|Laboratory Techni...|\n",
            "|Laboratory Techni...|Laboratory Techni...|\n",
            "|  Research Scientist|                  RS|\n",
            "|Laboratory Techni...|Laboratory Techni...|\n",
            "|Laboratory Techni...|Laboratory Techni...|\n",
            "|Manufacturing Dir...|Manufacturing Dir...|\n",
            "|  Research Scientist|                  RS|\n",
            "|Laboratory Techni...|Laboratory Techni...|\n",
            "|             Manager|             Manager|\n",
            "|  Research Scientist|                  RS|\n",
            "+--------------------+--------------------+\n",
            "only showing top 20 rows\n",
            "\n"
          ]
        }
      ]
    },
    {
      "cell_type": "code",
      "source": [
        "df.select(col(\"JobRole\"),when(col(\"JobRole\")==\"Sales Executive\",\"SE\").when(col(\"JobRole\")==\"Research Scientist\",\"RS\").otherwise(col(\"JobRole\")).alias(\"JobROle_New\")).show()"
      ],
      "metadata": {
        "colab": {
          "base_uri": "https://localhost:8080/"
        },
        "id": "qXxQnyVfjUEh",
        "outputId": "78dd0bad-22de-4a72-e3d9-7ca3adb3af53"
      },
      "execution_count": 88,
      "outputs": [
        {
          "output_type": "stream",
          "name": "stdout",
          "text": [
            "+--------------------+--------------------+\n",
            "|             JobRole|         JobROle_New|\n",
            "+--------------------+--------------------+\n",
            "|     Sales Executive|                  SE|\n",
            "|  Research Scientist|                  RS|\n",
            "|Laboratory Techni...|Laboratory Techni...|\n",
            "|  Research Scientist|                  RS|\n",
            "|Laboratory Techni...|Laboratory Techni...|\n",
            "|Laboratory Techni...|Laboratory Techni...|\n",
            "|Laboratory Techni...|Laboratory Techni...|\n",
            "|Laboratory Techni...|Laboratory Techni...|\n",
            "|Manufacturing Dir...|Manufacturing Dir...|\n",
            "|Healthcare Repres...|Healthcare Repres...|\n",
            "|Laboratory Techni...|Laboratory Techni...|\n",
            "|Laboratory Techni...|Laboratory Techni...|\n",
            "|  Research Scientist|                  RS|\n",
            "|Laboratory Techni...|Laboratory Techni...|\n",
            "|Laboratory Techni...|Laboratory Techni...|\n",
            "|Manufacturing Dir...|Manufacturing Dir...|\n",
            "|  Research Scientist|                  RS|\n",
            "|Laboratory Techni...|Laboratory Techni...|\n",
            "|             Manager|             Manager|\n",
            "|  Research Scientist|                  RS|\n",
            "+--------------------+--------------------+\n",
            "only showing top 20 rows\n",
            "\n"
          ]
        }
      ]
    },
    {
      "cell_type": "code",
      "source": [
        "df.select(col(\"JobRole\"),when(col(\"JobRole\")==\"Sales Executive\",\"SE\")\\\n",
        "          .when(col(\"JobRole\")==\"Research Scientist\",\"RS\")\\\n",
        "          .otherwise(col(\"JobRole\")).alias(\"JobROle_New\")).show()"
      ],
      "metadata": {
        "colab": {
          "base_uri": "https://localhost:8080/"
        },
        "id": "ObRsK6c1kjTM",
        "outputId": "bde271d8-f0a9-4e02-8fd1-b12c8acd067e"
      },
      "execution_count": 89,
      "outputs": [
        {
          "output_type": "stream",
          "name": "stdout",
          "text": [
            "+--------------------+--------------------+\n",
            "|             JobRole|         JobROle_New|\n",
            "+--------------------+--------------------+\n",
            "|     Sales Executive|                  SE|\n",
            "|  Research Scientist|                  RS|\n",
            "|Laboratory Techni...|Laboratory Techni...|\n",
            "|  Research Scientist|                  RS|\n",
            "|Laboratory Techni...|Laboratory Techni...|\n",
            "|Laboratory Techni...|Laboratory Techni...|\n",
            "|Laboratory Techni...|Laboratory Techni...|\n",
            "|Laboratory Techni...|Laboratory Techni...|\n",
            "|Manufacturing Dir...|Manufacturing Dir...|\n",
            "|Healthcare Repres...|Healthcare Repres...|\n",
            "|Laboratory Techni...|Laboratory Techni...|\n",
            "|Laboratory Techni...|Laboratory Techni...|\n",
            "|  Research Scientist|                  RS|\n",
            "|Laboratory Techni...|Laboratory Techni...|\n",
            "|Laboratory Techni...|Laboratory Techni...|\n",
            "|Manufacturing Dir...|Manufacturing Dir...|\n",
            "|  Research Scientist|                  RS|\n",
            "|Laboratory Techni...|Laboratory Techni...|\n",
            "|             Manager|             Manager|\n",
            "|  Research Scientist|                  RS|\n",
            "+--------------------+--------------------+\n",
            "only showing top 20 rows\n",
            "\n"
          ]
        }
      ]
    },
    {
      "cell_type": "code",
      "source": [],
      "metadata": {
        "id": "WH0DCCKdk8CI"
      },
      "execution_count": null,
      "outputs": []
    }
  ]
}