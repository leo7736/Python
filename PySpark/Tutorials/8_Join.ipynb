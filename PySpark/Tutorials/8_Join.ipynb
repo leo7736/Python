{
  "nbformat": 4,
  "nbformat_minor": 0,
  "metadata": {
    "colab": {
      "provenance": []
    },
    "kernelspec": {
      "name": "python3",
      "display_name": "Python 3"
    },
    "language_info": {
      "name": "python"
    }
  },
  "cells": [
    {
      "cell_type": "code",
      "execution_count": 1,
      "metadata": {
        "colab": {
          "base_uri": "https://localhost:8080/"
        },
        "id": "GmJ07CG_c8nW",
        "outputId": "7a6c7265-e60f-4c85-b34b-19b4a023e036"
      },
      "outputs": [
        {
          "output_type": "stream",
          "name": "stdout",
          "text": [
            "Collecting pyspark\n",
            "  Downloading pyspark-3.5.0.tar.gz (316.9 MB)\n",
            "\u001b[2K     \u001b[90m━━━━━━━━━━━━━━━━━━━━━━━━━━━━━━━━━━━━━━━━\u001b[0m \u001b[32m316.9/316.9 MB\u001b[0m \u001b[31m4.8 MB/s\u001b[0m eta \u001b[36m0:00:00\u001b[0m\n",
            "\u001b[?25h  Preparing metadata (setup.py) ... \u001b[?25l\u001b[?25hdone\n",
            "Requirement already satisfied: py4j==0.10.9.7 in /usr/local/lib/python3.10/dist-packages (from pyspark) (0.10.9.7)\n",
            "Building wheels for collected packages: pyspark\n",
            "  Building wheel for pyspark (setup.py) ... \u001b[?25l\u001b[?25hdone\n",
            "  Created wheel for pyspark: filename=pyspark-3.5.0-py2.py3-none-any.whl size=317425344 sha256=1c1fb5d016824c6f93a3d12bd0696068bfea1a42772816021afef097ae77e5a0\n",
            "  Stored in directory: /root/.cache/pip/wheels/41/4e/10/c2cf2467f71c678cfc8a6b9ac9241e5e44a01940da8fbb17fc\n",
            "Successfully built pyspark\n",
            "Installing collected packages: pyspark\n",
            "Successfully installed pyspark-3.5.0\n"
          ]
        }
      ],
      "source": [
        "!pip install pyspark"
      ]
    },
    {
      "cell_type": "code",
      "source": [
        "from pyspark.sql import *\n",
        "from pyspark.sql.functions import *"
      ],
      "metadata": {
        "id": "aQCIQU2odNhY"
      },
      "execution_count": 2,
      "outputs": []
    },
    {
      "cell_type": "code",
      "source": [
        "spark=SparkSession.builder.appName(\"Test\").getOrCreate()"
      ],
      "metadata": {
        "id": "hd6jUDXXdi6E"
      },
      "execution_count": 3,
      "outputs": []
    },
    {
      "cell_type": "code",
      "source": [
        "df1= spark.createDataFrame(data=[(1,\"Robert\"),(2,\"Ria\"),(3,\"james\")],schema='emp_id int,emp_name string')\n",
        "df2= spark.createDataFrame(data=[(2,\"USA\"),(4,\"iNDIA\")],schema='emp_id int,country string')\n",
        "df1.show()"
      ],
      "metadata": {
        "colab": {
          "base_uri": "https://localhost:8080/"
        },
        "id": "u6bVa9nEds4v",
        "outputId": "67e656e5-bf91-4836-8fa3-da96ae1d7c6f"
      },
      "execution_count": 4,
      "outputs": [
        {
          "output_type": "stream",
          "name": "stdout",
          "text": [
            "+------+--------+\n",
            "|emp_id|emp_name|\n",
            "+------+--------+\n",
            "|     1|  Robert|\n",
            "|     2|     Ria|\n",
            "|     3|   james|\n",
            "+------+--------+\n",
            "\n"
          ]
        }
      ]
    },
    {
      "cell_type": "code",
      "source": [
        "df2.show()"
      ],
      "metadata": {
        "colab": {
          "base_uri": "https://localhost:8080/"
        },
        "id": "lg71x_KOe24U",
        "outputId": "f61e13de-396d-4b35-f563-fd491d10664c"
      },
      "execution_count": 5,
      "outputs": [
        {
          "output_type": "stream",
          "name": "stdout",
          "text": [
            "+------+-------+\n",
            "|emp_id|country|\n",
            "+------+-------+\n",
            "|     2|    USA|\n",
            "|     4|  iNDIA|\n",
            "+------+-------+\n",
            "\n"
          ]
        }
      ]
    },
    {
      "cell_type": "code",
      "source": [
        "df1.join(df2,df1.emp_id == df2.emp_id).show()"
      ],
      "metadata": {
        "colab": {
          "base_uri": "https://localhost:8080/"
        },
        "id": "g1fEQ0c2e5oZ",
        "outputId": "028014db-eb03-4d3f-da03-30926b2d27fb"
      },
      "execution_count": 6,
      "outputs": [
        {
          "output_type": "stream",
          "name": "stdout",
          "text": [
            "+------+--------+------+-------+\n",
            "|emp_id|emp_name|emp_id|country|\n",
            "+------+--------+------+-------+\n",
            "|     2|     Ria|     2|    USA|\n",
            "+------+--------+------+-------+\n",
            "\n"
          ]
        }
      ]
    },
    {
      "cell_type": "code",
      "source": [
        "df1.join(df2,df1.emp_id == df2.emp_id, \"left\").show()"
      ],
      "metadata": {
        "colab": {
          "base_uri": "https://localhost:8080/"
        },
        "id": "U4C0Sql9fQHJ",
        "outputId": "22c87e29-8d6b-4ea4-f532-10a79e8c4b25"
      },
      "execution_count": 7,
      "outputs": [
        {
          "output_type": "stream",
          "name": "stdout",
          "text": [
            "+------+--------+------+-------+\n",
            "|emp_id|emp_name|emp_id|country|\n",
            "+------+--------+------+-------+\n",
            "|     1|  Robert|  NULL|   NULL|\n",
            "|     3|   james|  NULL|   NULL|\n",
            "|     2|     Ria|     2|    USA|\n",
            "+------+--------+------+-------+\n",
            "\n"
          ]
        }
      ]
    },
    {
      "cell_type": "code",
      "source": [
        "df1.join(df2,df1.emp_id == df2.emp_id, \"left\").select(df1.emp_id,df2.country).show()"
      ],
      "metadata": {
        "colab": {
          "base_uri": "https://localhost:8080/"
        },
        "id": "0yFAnp86gj5_",
        "outputId": "411a8fad-7764-4593-91be-9e630b36a795"
      },
      "execution_count": 8,
      "outputs": [
        {
          "output_type": "stream",
          "name": "stdout",
          "text": [
            "+------+-------+\n",
            "|emp_id|country|\n",
            "+------+-------+\n",
            "|     1|   NULL|\n",
            "|     3|   NULL|\n",
            "|     2|    USA|\n",
            "+------+-------+\n",
            "\n"
          ]
        }
      ]
    },
    {
      "cell_type": "code",
      "source": [
        "df1.join(df2,df1.emp_id == df2.emp_id, \"right\").select(df1.emp_id,df2.country).show()"
      ],
      "metadata": {
        "colab": {
          "base_uri": "https://localhost:8080/"
        },
        "id": "MWhLCcrMg0G2",
        "outputId": "d51ea004-b2d8-48aa-c1c6-cd7227c13b8d"
      },
      "execution_count": 9,
      "outputs": [
        {
          "output_type": "stream",
          "name": "stdout",
          "text": [
            "+------+-------+\n",
            "|emp_id|country|\n",
            "+------+-------+\n",
            "|     2|    USA|\n",
            "|  NULL|  iNDIA|\n",
            "+------+-------+\n",
            "\n"
          ]
        }
      ]
    },
    {
      "cell_type": "code",
      "source": [
        "df1.join(df2,df1.emp_id == df2.emp_id, \"outer\").show()"
      ],
      "metadata": {
        "colab": {
          "base_uri": "https://localhost:8080/"
        },
        "id": "Uy0vJcc5hCBF",
        "outputId": "90390838-278c-4aea-fc1b-3c58f23555cb"
      },
      "execution_count": 10,
      "outputs": [
        {
          "output_type": "stream",
          "name": "stdout",
          "text": [
            "+------+--------+------+-------+\n",
            "|emp_id|emp_name|emp_id|country|\n",
            "+------+--------+------+-------+\n",
            "|     1|  Robert|  NULL|   NULL|\n",
            "|     2|     Ria|     2|    USA|\n",
            "|     3|   james|  NULL|   NULL|\n",
            "|  NULL|    NULL|     4|  iNDIA|\n",
            "+------+--------+------+-------+\n",
            "\n"
          ]
        }
      ]
    },
    {
      "cell_type": "code",
      "source": [
        "#if we want to get the anti common Data from left table we use {Left_anti, leftanti} join,\n",
        "#Note: we can't select the columns in right table when using Left_anti"
      ],
      "metadata": {
        "id": "7loY8E_ojBbd"
      },
      "execution_count": 14,
      "outputs": []
    },
    {
      "cell_type": "code",
      "source": [
        "df1.join(df2,df1.emp_id == df2.emp_id, \"left_anti\").show()"
      ],
      "metadata": {
        "colab": {
          "base_uri": "https://localhost:8080/"
        },
        "id": "9J40lCGYjq1k",
        "outputId": "e2924d21-efdc-4bff-e68c-22aaec3a3dcc"
      },
      "execution_count": 13,
      "outputs": [
        {
          "output_type": "stream",
          "name": "stdout",
          "text": [
            "+------+--------+\n",
            "|emp_id|emp_name|\n",
            "+------+--------+\n",
            "|     1|  Robert|\n",
            "|     3|   james|\n",
            "+------+--------+\n",
            "\n"
          ]
        }
      ]
    },
    {
      "cell_type": "code",
      "source": [
        "#if we select the column from the right table it throws error"
      ],
      "metadata": {
        "id": "tJZnMeDqkWUG"
      },
      "execution_count": 16,
      "outputs": []
    },
    {
      "cell_type": "code",
      "source": [
        "df1.join(df2,df1.emp_id == df2.emp_id, \"left_anti\").select(df1.emp_id,df2.country).show()"
      ],
      "metadata": {
        "colab": {
          "base_uri": "https://localhost:8080/",
          "height": 477
        },
        "id": "q7OpMC5Bj6RW",
        "outputId": "8736e599-67f3-423a-964d-eeaeb7213b4f"
      },
      "execution_count": 15,
      "outputs": [
        {
          "output_type": "error",
          "ename": "AnalysisException",
          "evalue": "ignored",
          "traceback": [
            "\u001b[0;31m---------------------------------------------------------------------------\u001b[0m",
            "\u001b[0;31mAnalysisException\u001b[0m                         Traceback (most recent call last)",
            "\u001b[0;32m<ipython-input-15-fd70c33ff756>\u001b[0m in \u001b[0;36m<cell line: 1>\u001b[0;34m()\u001b[0m\n\u001b[0;32m----> 1\u001b[0;31m \u001b[0mdf1\u001b[0m\u001b[0;34m.\u001b[0m\u001b[0mjoin\u001b[0m\u001b[0;34m(\u001b[0m\u001b[0mdf2\u001b[0m\u001b[0;34m,\u001b[0m\u001b[0mdf1\u001b[0m\u001b[0;34m.\u001b[0m\u001b[0memp_id\u001b[0m \u001b[0;34m==\u001b[0m \u001b[0mdf2\u001b[0m\u001b[0;34m.\u001b[0m\u001b[0memp_id\u001b[0m\u001b[0;34m,\u001b[0m \u001b[0;34m\"left_anti\"\u001b[0m\u001b[0;34m)\u001b[0m\u001b[0;34m.\u001b[0m\u001b[0mselect\u001b[0m\u001b[0;34m(\u001b[0m\u001b[0mdf1\u001b[0m\u001b[0;34m.\u001b[0m\u001b[0memp_id\u001b[0m\u001b[0;34m,\u001b[0m\u001b[0mdf2\u001b[0m\u001b[0;34m.\u001b[0m\u001b[0mcountry\u001b[0m\u001b[0;34m)\u001b[0m\u001b[0;34m.\u001b[0m\u001b[0mshow\u001b[0m\u001b[0;34m(\u001b[0m\u001b[0;34m)\u001b[0m\u001b[0;34m\u001b[0m\u001b[0;34m\u001b[0m\u001b[0m\n\u001b[0m",
            "\u001b[0;32m/usr/local/lib/python3.10/dist-packages/pyspark/sql/dataframe.py\u001b[0m in \u001b[0;36mselect\u001b[0;34m(self, *cols)\u001b[0m\n\u001b[1;32m   3221\u001b[0m         \u001b[0;34m+\u001b[0m\u001b[0;34m-\u001b[0m\u001b[0;34m-\u001b[0m\u001b[0;34m-\u001b[0m\u001b[0;34m-\u001b[0m\u001b[0;34m-\u001b[0m\u001b[0;34m+\u001b[0m\u001b[0;34m-\u001b[0m\u001b[0;34m-\u001b[0m\u001b[0;34m-\u001b[0m\u001b[0;34m+\u001b[0m\u001b[0;34m\u001b[0m\u001b[0;34m\u001b[0m\u001b[0m\n\u001b[1;32m   3222\u001b[0m         \"\"\"\n\u001b[0;32m-> 3223\u001b[0;31m         \u001b[0mjdf\u001b[0m \u001b[0;34m=\u001b[0m \u001b[0mself\u001b[0m\u001b[0;34m.\u001b[0m\u001b[0m_jdf\u001b[0m\u001b[0;34m.\u001b[0m\u001b[0mselect\u001b[0m\u001b[0;34m(\u001b[0m\u001b[0mself\u001b[0m\u001b[0;34m.\u001b[0m\u001b[0m_jcols\u001b[0m\u001b[0;34m(\u001b[0m\u001b[0;34m*\u001b[0m\u001b[0mcols\u001b[0m\u001b[0;34m)\u001b[0m\u001b[0;34m)\u001b[0m\u001b[0;34m\u001b[0m\u001b[0;34m\u001b[0m\u001b[0m\n\u001b[0m\u001b[1;32m   3224\u001b[0m         \u001b[0;32mreturn\u001b[0m \u001b[0mDataFrame\u001b[0m\u001b[0;34m(\u001b[0m\u001b[0mjdf\u001b[0m\u001b[0;34m,\u001b[0m \u001b[0mself\u001b[0m\u001b[0;34m.\u001b[0m\u001b[0msparkSession\u001b[0m\u001b[0;34m)\u001b[0m\u001b[0;34m\u001b[0m\u001b[0;34m\u001b[0m\u001b[0m\n\u001b[1;32m   3225\u001b[0m \u001b[0;34m\u001b[0m\u001b[0m\n",
            "\u001b[0;32m/usr/local/lib/python3.10/dist-packages/py4j/java_gateway.py\u001b[0m in \u001b[0;36m__call__\u001b[0;34m(self, *args)\u001b[0m\n\u001b[1;32m   1320\u001b[0m \u001b[0;34m\u001b[0m\u001b[0m\n\u001b[1;32m   1321\u001b[0m         \u001b[0manswer\u001b[0m \u001b[0;34m=\u001b[0m \u001b[0mself\u001b[0m\u001b[0;34m.\u001b[0m\u001b[0mgateway_client\u001b[0m\u001b[0;34m.\u001b[0m\u001b[0msend_command\u001b[0m\u001b[0;34m(\u001b[0m\u001b[0mcommand\u001b[0m\u001b[0;34m)\u001b[0m\u001b[0;34m\u001b[0m\u001b[0;34m\u001b[0m\u001b[0m\n\u001b[0;32m-> 1322\u001b[0;31m         return_value = get_return_value(\n\u001b[0m\u001b[1;32m   1323\u001b[0m             answer, self.gateway_client, self.target_id, self.name)\n\u001b[1;32m   1324\u001b[0m \u001b[0;34m\u001b[0m\u001b[0m\n",
            "\u001b[0;32m/usr/local/lib/python3.10/dist-packages/pyspark/errors/exceptions/captured.py\u001b[0m in \u001b[0;36mdeco\u001b[0;34m(*a, **kw)\u001b[0m\n\u001b[1;32m    183\u001b[0m                 \u001b[0;31m# Hide where the exception came from that shows a non-Pythonic\u001b[0m\u001b[0;34m\u001b[0m\u001b[0;34m\u001b[0m\u001b[0m\n\u001b[1;32m    184\u001b[0m                 \u001b[0;31m# JVM exception message.\u001b[0m\u001b[0;34m\u001b[0m\u001b[0;34m\u001b[0m\u001b[0m\n\u001b[0;32m--> 185\u001b[0;31m                 \u001b[0;32mraise\u001b[0m \u001b[0mconverted\u001b[0m \u001b[0;32mfrom\u001b[0m \u001b[0;32mNone\u001b[0m\u001b[0;34m\u001b[0m\u001b[0;34m\u001b[0m\u001b[0m\n\u001b[0m\u001b[1;32m    186\u001b[0m             \u001b[0;32melse\u001b[0m\u001b[0;34m:\u001b[0m\u001b[0;34m\u001b[0m\u001b[0;34m\u001b[0m\u001b[0m\n\u001b[1;32m    187\u001b[0m                 \u001b[0;32mraise\u001b[0m\u001b[0;34m\u001b[0m\u001b[0;34m\u001b[0m\u001b[0m\n",
            "\u001b[0;31mAnalysisException\u001b[0m: [MISSING_ATTRIBUTES.RESOLVED_ATTRIBUTE_MISSING_FROM_INPUT] Resolved attribute(s) \"country\" missing from \"emp_id\", \"emp_name\" in operator !Project [emp_id#0, country#5]. ;\n!Project [emp_id#0, country#5]\n+- Join LeftAnti, (emp_id#0 = emp_id#4)\n   :- LogicalRDD [emp_id#0, emp_name#1], false\n   +- LogicalRDD [emp_id#4, country#5], false\n"
          ]
        }
      ]
    },
    {
      "cell_type": "code",
      "source": [
        "#self JOin"
      ],
      "metadata": {
        "id": "O_wdqrCZkPWk"
      },
      "execution_count": 17,
      "outputs": []
    },
    {
      "cell_type": "code",
      "source": [
        "df1= spark.createDataFrame(data=[(1,\"Robert\",2),(2,\"Ria\",3),(3,\"james\",5)],schema='emp_id int,emp_name string,managerid int')\n",
        "\n",
        "df1.show()"
      ],
      "metadata": {
        "colab": {
          "base_uri": "https://localhost:8080/"
        },
        "id": "IxZAQBysliHN",
        "outputId": "6bb0d09c-000e-4cef-8884-186469ef5caa"
      },
      "execution_count": 29,
      "outputs": [
        {
          "output_type": "stream",
          "name": "stdout",
          "text": [
            "+------+--------+---------+\n",
            "|emp_id|emp_name|managerid|\n",
            "+------+--------+---------+\n",
            "|     1|  Robert|        2|\n",
            "|     2|     Ria|        3|\n",
            "|     3|   james|        5|\n",
            "+------+--------+---------+\n",
            "\n"
          ]
        }
      ]
    },
    {
      "cell_type": "code",
      "source": [
        "df1.alias('emp1').join(df1.alias('emp2'),col(\"emp1.managerid\") ==  col(\"emp2.emp_id\"),\"inner\").show()"
      ],
      "metadata": {
        "colab": {
          "base_uri": "https://localhost:8080/"
        },
        "id": "v2CgRWx8lxSu",
        "outputId": "50bf4449-b58d-4079-e41b-a5d2f1eaa63a"
      },
      "execution_count": 21,
      "outputs": [
        {
          "output_type": "stream",
          "name": "stdout",
          "text": [
            "+------+--------+---------+------+--------+---------+\n",
            "|emp_id|emp_name|managerid|emp_id|emp_name|managerid|\n",
            "+------+--------+---------+------+--------+---------+\n",
            "|     1|  Robert|        2|     2|     Ria|        3|\n",
            "|     2|     Ria|        3|     3|   james|        5|\n",
            "+------+--------+---------+------+--------+---------+\n",
            "\n"
          ]
        }
      ]
    },
    {
      "cell_type": "code",
      "source": [
        "df1.alias('emp1').join(df1.alias('emp2'),col(\"emp1.managerid\") ==  col(\"emp2.emp_id\"),\"inner\").select(col(\"emp1.emp_id\"),\\\n",
        "                                                                                                      col(\"emp1.emp_name\"),\\\n",
        "                                                                                                      col(\"emp2.emp_id\").alias(\"managerid\"),\\\n",
        "                                                                                                      col(\"emp2.emp_name\")).show()"
      ],
      "metadata": {
        "colab": {
          "base_uri": "https://localhost:8080/"
        },
        "id": "KVrhcVMzlydv",
        "outputId": "28ce4023-b34f-4ff4-e1ee-c020eccb3b25"
      },
      "execution_count": 30,
      "outputs": [
        {
          "output_type": "stream",
          "name": "stdout",
          "text": [
            "+------+--------+---------+--------+\n",
            "|emp_id|emp_name|managerid|emp_name|\n",
            "+------+--------+---------+--------+\n",
            "|     1|  Robert|        2|     Ria|\n",
            "|     2|     Ria|        3|   james|\n",
            "+------+--------+---------+--------+\n",
            "\n"
          ]
        }
      ]
    },
    {
      "cell_type": "code",
      "source": [
        "#Multi Column and Dataframe Join"
      ],
      "metadata": {
        "id": "GIigJWKOo9XW"
      },
      "execution_count": 37,
      "outputs": []
    },
    {
      "cell_type": "code",
      "source": [
        "df1= spark.createDataFrame(data=[(1,101,\"Robert\"),(2,102,\"Ria\"),(3,103,\"james\")],schema='empid int,deptid int,empname string')\n",
        "df2= spark.createDataFrame(data=[(2,102,\"USA\"),(4,104,\"INDIA\")],schema='empid int,deptid int,country string')\n",
        "df1.show()"
      ],
      "metadata": {
        "colab": {
          "base_uri": "https://localhost:8080/"
        },
        "id": "0L-yPWEqpZwQ",
        "outputId": "754d0edf-9855-4aad-a485-90fee9a48f63"
      },
      "execution_count": 33,
      "outputs": [
        {
          "output_type": "stream",
          "name": "stdout",
          "text": [
            "+-----+------+-------+\n",
            "|empid|deptid|empname|\n",
            "+-----+------+-------+\n",
            "|    1|   101| Robert|\n",
            "|    2|   102|    Ria|\n",
            "|    3|   103|  james|\n",
            "+-----+------+-------+\n",
            "\n"
          ]
        }
      ]
    },
    {
      "cell_type": "code",
      "source": [
        "df2.show()"
      ],
      "metadata": {
        "colab": {
          "base_uri": "https://localhost:8080/"
        },
        "id": "t8gxtogiqcd-",
        "outputId": "a72542be-b1a6-4781-8cc5-f57212fcfd2e"
      },
      "execution_count": 34,
      "outputs": [
        {
          "output_type": "stream",
          "name": "stdout",
          "text": [
            "+-----+------+-------+\n",
            "|empid|deptid|country|\n",
            "+-----+------+-------+\n",
            "|    2|   102|    USA|\n",
            "|    4|   104|  INDIA|\n",
            "+-----+------+-------+\n",
            "\n"
          ]
        }
      ]
    },
    {
      "cell_type": "code",
      "source": [
        "df1.join(df2,(df1.empid == df2.empid) & (df1.deptid == df2.deptid), 'inner').show()"
      ],
      "metadata": {
        "colab": {
          "base_uri": "https://localhost:8080/"
        },
        "id": "ZhK8p_byqeSg",
        "outputId": "876e0de0-ad74-48cd-b95c-9d591a8f601d"
      },
      "execution_count": 36,
      "outputs": [
        {
          "output_type": "stream",
          "name": "stdout",
          "text": [
            "+-----+------+-------+-----+------+-------+\n",
            "|empid|deptid|empname|empid|deptid|country|\n",
            "+-----+------+-------+-----+------+-------+\n",
            "|    2|   102|    Ria|    2|   102|    USA|\n",
            "+-----+------+-------+-----+------+-------+\n",
            "\n"
          ]
        }
      ]
    },
    {
      "cell_type": "code",
      "source": [
        "df1= spark.createDataFrame(data=[(1,\"Robert\"),(2,\"Ria\"),(3,\"james\")],schema='empid int,empname string')\n",
        "df2= spark.createDataFrame(data=[(2,\"USA\"),(4,\"INDIA\")],schema='empid int,country string')\n",
        "df3= spark.createDataFrame(data=[(1,\"01-Jan-2023\"),(2,\"05-Feb-2023\"),(3,\"07-Mar-2023\")],schema='empid int,joindate string')\n",
        "df1.show()"
      ],
      "metadata": {
        "colab": {
          "base_uri": "https://localhost:8080/"
        },
        "id": "NA1cN3gOtV7m",
        "outputId": "0c1cc2f1-7ab5-452a-a78d-4df544d21e48"
      },
      "execution_count": 43,
      "outputs": [
        {
          "output_type": "stream",
          "name": "stdout",
          "text": [
            "+-----+-------+\n",
            "|empid|empname|\n",
            "+-----+-------+\n",
            "|    1| Robert|\n",
            "|    2|    Ria|\n",
            "|    3|  james|\n",
            "+-----+-------+\n",
            "\n"
          ]
        }
      ]
    },
    {
      "cell_type": "code",
      "source": [
        "df2.show()"
      ],
      "metadata": {
        "colab": {
          "base_uri": "https://localhost:8080/"
        },
        "id": "HaLmYTqQuYae",
        "outputId": "9aa3150e-ebba-421e-89d0-3f79c26f5e33"
      },
      "execution_count": 39,
      "outputs": [
        {
          "output_type": "stream",
          "name": "stdout",
          "text": [
            "+-----+-------+\n",
            "|empid|country|\n",
            "+-----+-------+\n",
            "|    2|    USA|\n",
            "|    4|  INDIA|\n",
            "+-----+-------+\n",
            "\n"
          ]
        }
      ]
    },
    {
      "cell_type": "code",
      "source": [
        "df3.show()"
      ],
      "metadata": {
        "colab": {
          "base_uri": "https://localhost:8080/"
        },
        "id": "wzC-rSFduajd",
        "outputId": "4ff8f28f-5de1-4976-f6ca-a1b45673182c"
      },
      "execution_count": 40,
      "outputs": [
        {
          "output_type": "stream",
          "name": "stdout",
          "text": [
            "+-----+-----------+\n",
            "|empid|   joindate|\n",
            "+-----+-----------+\n",
            "|    1|01-Jan-2023|\n",
            "|    2|05-Feb-2023|\n",
            "|    3|07-Mar-2023|\n",
            "+-----+-----------+\n",
            "\n"
          ]
        }
      ]
    },
    {
      "cell_type": "code",
      "source": [
        "df1.join(df2,df1.empid == df2.empid,'inner')\\\n",
        "                                            .join(df3,df1.empid == df3.empid,'inner').show()"
      ],
      "metadata": {
        "colab": {
          "base_uri": "https://localhost:8080/"
        },
        "id": "6aIC9-COubrd",
        "outputId": "a6b9743f-0954-4ff9-8dbe-c7bd5ecac1ab"
      },
      "execution_count": 44,
      "outputs": [
        {
          "output_type": "stream",
          "name": "stdout",
          "text": [
            "+-----+-------+-----+-------+-----+-----------+\n",
            "|empid|empname|empid|country|empid|   joindate|\n",
            "+-----+-------+-----+-------+-----+-----------+\n",
            "|    2|    Ria|    2|    USA|    2|05-Feb-2023|\n",
            "+-----+-------+-----+-------+-----+-----------+\n",
            "\n"
          ]
        }
      ]
    },
    {
      "cell_type": "code",
      "source": [],
      "metadata": {
        "id": "wwT8OUMaw-An"
      },
      "execution_count": null,
      "outputs": []
    }
  ]
}