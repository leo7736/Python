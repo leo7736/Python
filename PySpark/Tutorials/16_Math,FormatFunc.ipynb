{
  "nbformat": 4,
  "nbformat_minor": 0,
  "metadata": {
    "colab": {
      "provenance": []
    },
    "kernelspec": {
      "name": "python3",
      "display_name": "Python 3"
    },
    "language_info": {
      "name": "python"
    }
  },
  "cells": [
    {
      "cell_type": "code",
      "execution_count": 1,
      "metadata": {
        "colab": {
          "base_uri": "https://localhost:8080/"
        },
        "id": "im1_47HPE33U",
        "outputId": "82a2d3b7-2782-4a0f-e3a8-29c586b55797"
      },
      "outputs": [
        {
          "output_type": "stream",
          "name": "stdout",
          "text": [
            "Collecting pyspark\n",
            "  Downloading pyspark-3.5.0.tar.gz (316.9 MB)\n",
            "\u001b[2K     \u001b[90m━━━━━━━━━━━━━━━━━━━━━━━━━━━━━━━━━━━━━━━━\u001b[0m \u001b[32m316.9/316.9 MB\u001b[0m \u001b[31m4.5 MB/s\u001b[0m eta \u001b[36m0:00:00\u001b[0m\n",
            "\u001b[?25h  Preparing metadata (setup.py) ... \u001b[?25l\u001b[?25hdone\n",
            "Requirement already satisfied: py4j==0.10.9.7 in /usr/local/lib/python3.10/dist-packages (from pyspark) (0.10.9.7)\n",
            "Building wheels for collected packages: pyspark\n",
            "  Building wheel for pyspark (setup.py) ... \u001b[?25l\u001b[?25hdone\n",
            "  Created wheel for pyspark: filename=pyspark-3.5.0-py2.py3-none-any.whl size=317425344 sha256=7ac88242247ba3d337b9a273b2e2412b8ea7e713492792e8b836eeb26fcd1caf\n",
            "  Stored in directory: /root/.cache/pip/wheels/41/4e/10/c2cf2467f71c678cfc8a6b9ac9241e5e44a01940da8fbb17fc\n",
            "Successfully built pyspark\n",
            "Installing collected packages: pyspark\n",
            "Successfully installed pyspark-3.5.0\n"
          ]
        }
      ],
      "source": [
        "!pip install pyspark"
      ]
    },
    {
      "cell_type": "code",
      "source": [
        "from pyspark.sql import *\n",
        "from pyspark.sql.functions import *"
      ],
      "metadata": {
        "id": "E3Jdsp3nF8tY"
      },
      "execution_count": 2,
      "outputs": []
    },
    {
      "cell_type": "code",
      "source": [
        "spark  = SparkSession.builder.appName(\"test\").getOrCreate()"
      ],
      "metadata": {
        "id": "YJo36vVjGMRb"
      },
      "execution_count": 3,
      "outputs": []
    },
    {
      "cell_type": "code",
      "source": [
        "students1 =[{'rollno':'001','name':'sravan','age':23,'height':5.79,'weight':67,'address':'guntur'},\n",
        "               {'rollno':'002','name':'ojaswi','age':16,'height':3.79,'weight':34,'address':'hyd'},\n",
        "               {'rollno':'003','name':'gnanesh chowdary','age':7,'height':2.79,'weight':17,'address':'patna'},\n",
        "               {'rollno':'004','name':'rohith','age':9,'height':2.79,'weight':28,'address':'hyd'},\n",
        "               {'rollno':'005','name':'sridevi','age':9,'height':5.59,'weight':54,'address':'hyd'}]\n",
        "\n",
        "# create the dataframe\n",
        "df = spark.createDataFrame( students1)\n",
        "\n",
        "# display dataframe\n",
        "df.show()"
      ],
      "metadata": {
        "colab": {
          "base_uri": "https://localhost:8080/"
        },
        "id": "1Tmr8omoGOmr",
        "outputId": "bdfa69dd-6f33-44b7-e3e1-a44ef4c3039f"
      },
      "execution_count": 5,
      "outputs": [
        {
          "output_type": "stream",
          "name": "stdout",
          "text": [
            "+-------+---+------+----------------+------+------+\n",
            "|address|age|height|            name|rollno|weight|\n",
            "+-------+---+------+----------------+------+------+\n",
            "| guntur| 23|  5.79|          sravan|   001|    67|\n",
            "|    hyd| 16|  3.79|          ojaswi|   002|    34|\n",
            "|  patna|  7|  2.79|gnanesh chowdary|   003|    17|\n",
            "|    hyd|  9|  2.79|          rohith|   004|    28|\n",
            "|    hyd|  9|  5.59|         sridevi|   005|    54|\n",
            "+-------+---+------+----------------+------+------+\n",
            "\n"
          ]
        }
      ]
    },
    {
      "cell_type": "code",
      "source": [
        "#abs()\n",
        "df.select(abs(df.height)).show()"
      ],
      "metadata": {
        "colab": {
          "base_uri": "https://localhost:8080/"
        },
        "id": "GwQJoPofGwUs",
        "outputId": "429637b0-7a38-4141-ec77-f147fc72cb26"
      },
      "execution_count": 6,
      "outputs": [
        {
          "output_type": "stream",
          "name": "stdout",
          "text": [
            "+-----------+\n",
            "|abs(height)|\n",
            "+-----------+\n",
            "|       5.79|\n",
            "|       3.79|\n",
            "|       2.79|\n",
            "|       2.79|\n",
            "|       5.59|\n",
            "+-----------+\n",
            "\n"
          ]
        }
      ]
    },
    {
      "cell_type": "code",
      "source": [
        "#exp()\n",
        "df.select(df.height,exp(df.height)).show()"
      ],
      "metadata": {
        "colab": {
          "base_uri": "https://localhost:8080/"
        },
        "id": "S4B2uvsOHeAF",
        "outputId": "a1fed8ba-5d2d-4490-f002-7dfab4fab7b0"
      },
      "execution_count": 7,
      "outputs": [
        {
          "output_type": "stream",
          "name": "stdout",
          "text": [
            "+------+------------------+\n",
            "|height|       EXP(height)|\n",
            "+------+------------------+\n",
            "|  5.79|327.01302437597104|\n",
            "|  3.79| 44.25640027598337|\n",
            "|  2.79| 16.28101980178843|\n",
            "|  2.79| 16.28101980178843|\n",
            "|  5.59|267.73561971364717|\n",
            "+------+------------------+\n",
            "\n"
          ]
        }
      ]
    },
    {
      "cell_type": "code",
      "source": [
        "#Factorial()\n",
        "df.select(df.height,factorial(df.height)).show()"
      ],
      "metadata": {
        "colab": {
          "base_uri": "https://localhost:8080/"
        },
        "id": "dKtaojikHoTK",
        "outputId": "22228a81-79b0-4037-9e9c-ae2e45626b1a"
      },
      "execution_count": 8,
      "outputs": [
        {
          "output_type": "stream",
          "name": "stdout",
          "text": [
            "+------+-----------------+\n",
            "|height|factorial(height)|\n",
            "+------+-----------------+\n",
            "|  5.79|              120|\n",
            "|  3.79|                6|\n",
            "|  2.79|                2|\n",
            "|  2.79|                2|\n",
            "|  5.59|              120|\n",
            "+------+-----------------+\n",
            "\n"
          ]
        }
      ]
    },
    {
      "cell_type": "code",
      "source": [
        "#sqrt()\n",
        "#cbrt()\n",
        "#pow(col,rank)\n"
      ],
      "metadata": {
        "id": "YT-PXXSxH0DE"
      },
      "execution_count": 9,
      "outputs": []
    },
    {
      "cell_type": "code",
      "source": [
        "#pow(col,rank)\n",
        "df.select(df.age,pow(df.age,2)).show()"
      ],
      "metadata": {
        "colab": {
          "base_uri": "https://localhost:8080/"
        },
        "id": "Puw1_h7NIJjv",
        "outputId": "df9e1f47-b855-4998-805a-35282ec3366b"
      },
      "execution_count": 10,
      "outputs": [
        {
          "output_type": "stream",
          "name": "stdout",
          "text": [
            "+---+-------------+\n",
            "|age|POWER(age, 2)|\n",
            "+---+-------------+\n",
            "| 23|        529.0|\n",
            "| 16|        256.0|\n",
            "|  7|         49.0|\n",
            "|  9|         81.0|\n",
            "|  9|         81.0|\n",
            "+---+-------------+\n",
            "\n"
          ]
        }
      ]
    },
    {
      "cell_type": "code",
      "source": [
        "#floor(),ceil()\n",
        "df.select(df.height,floor(df.height),ceil(df.height)).show()"
      ],
      "metadata": {
        "colab": {
          "base_uri": "https://localhost:8080/"
        },
        "id": "Lr7T5Ls3IRG9",
        "outputId": "592361ce-60af-41e5-99ba-8f1f56ce1cfa"
      },
      "execution_count": 12,
      "outputs": [
        {
          "output_type": "stream",
          "name": "stdout",
          "text": [
            "+------+-------------+------------+\n",
            "|height|FLOOR(height)|CEIL(height)|\n",
            "+------+-------------+------------+\n",
            "|  5.79|            5|           6|\n",
            "|  3.79|            3|           4|\n",
            "|  2.79|            2|           3|\n",
            "|  2.79|            2|           3|\n",
            "|  5.59|            5|           6|\n",
            "+------+-------------+------------+\n",
            "\n"
          ]
        }
      ]
    },
    {
      "cell_type": "code",
      "source": [
        "#round()\n",
        "df.select(df.height,round(df.height)).show()"
      ],
      "metadata": {
        "colab": {
          "base_uri": "https://localhost:8080/"
        },
        "id": "kc5Z3TBHIr45",
        "outputId": "3477a053-3027-441f-f4ec-82d46dc53424"
      },
      "execution_count": 13,
      "outputs": [
        {
          "output_type": "stream",
          "name": "stdout",
          "text": [
            "+------+----------------+\n",
            "|height|round(height, 0)|\n",
            "+------+----------------+\n",
            "|  5.79|             6.0|\n",
            "|  3.79|             4.0|\n",
            "|  2.79|             3.0|\n",
            "|  2.79|             3.0|\n",
            "|  5.59|             6.0|\n",
            "+------+----------------+\n",
            "\n"
          ]
        }
      ]
    },
    {
      "cell_type": "code",
      "source": [
        "#trunc()"
      ],
      "metadata": {
        "id": "JjA1d8wSI62Z"
      },
      "execution_count": 29,
      "outputs": []
    }
  ]
}