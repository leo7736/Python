{
  "nbformat": 4,
  "nbformat_minor": 0,
  "metadata": {
    "colab": {
      "provenance": []
    },
    "kernelspec": {
      "name": "python3",
      "display_name": "Python 3"
    },
    "language_info": {
      "name": "python"
    }
  },
  "cells": [
    {
      "cell_type": "code",
      "execution_count": 1,
      "metadata": {
        "colab": {
          "base_uri": "https://localhost:8080/"
        },
        "id": "ZQnEMS54oR1Z",
        "outputId": "46bce551-f643-4c02-d227-af5202e831fa"
      },
      "outputs": [
        {
          "output_type": "stream",
          "name": "stdout",
          "text": [
            "Collecting pyspark\n",
            "  Downloading pyspark-3.5.0.tar.gz (316.9 MB)\n",
            "\u001b[2K     \u001b[90m━━━━━━━━━━━━━━━━━━━━━━━━━━━━━━━━━━━━━━━━\u001b[0m \u001b[32m316.9/316.9 MB\u001b[0m \u001b[31m2.0 MB/s\u001b[0m eta \u001b[36m0:00:00\u001b[0m\n",
            "\u001b[?25h  Preparing metadata (setup.py) ... \u001b[?25l\u001b[?25hdone\n",
            "Requirement already satisfied: py4j==0.10.9.7 in /usr/local/lib/python3.10/dist-packages (from pyspark) (0.10.9.7)\n",
            "Building wheels for collected packages: pyspark\n",
            "  Building wheel for pyspark (setup.py) ... \u001b[?25l\u001b[?25hdone\n",
            "  Created wheel for pyspark: filename=pyspark-3.5.0-py2.py3-none-any.whl size=317425344 sha256=8d5214ddd2e68095daf4eedba4e2663778a6b90bdbdab5d9f51a755e35b40238\n",
            "  Stored in directory: /root/.cache/pip/wheels/41/4e/10/c2cf2467f71c678cfc8a6b9ac9241e5e44a01940da8fbb17fc\n",
            "Successfully built pyspark\n",
            "Installing collected packages: pyspark\n",
            "Successfully installed pyspark-3.5.0\n"
          ]
        }
      ],
      "source": [
        "!pip install pyspark"
      ]
    },
    {
      "cell_type": "code",
      "source": [
        "from pyspark.sql import *\n",
        "from pyspark.sql.functions import *"
      ],
      "metadata": {
        "id": "J3fYRsbCobCl"
      },
      "execution_count": 2,
      "outputs": []
    },
    {
      "cell_type": "code",
      "source": [
        "spark  = SparkSession.builder.appName(\"test\").getOrCreate()"
      ],
      "metadata": {
        "id": "dCkusYSKofDH"
      },
      "execution_count": 3,
      "outputs": []
    },
    {
      "cell_type": "code",
      "source": [
        "# Create DataFrame\n",
        "df=spark.createDataFrame([Row(Area='Urban',Land=None,Soil='Black',\n",
        "Field_count=100,Crop_Name='Paddy',Quantity=34000),\n",
        "                                                  Row(Area='Urban',Land='Rich',Soil='Red',Field_count=20,Crop_Name='Wheat',\n",
        "Quantity=200000),\n",
        "                                                  Row(Area='Rural',Land='Poor',Soil=None,Field_count=None,Crop_Name='Paddy',\n",
        "Quantity=24000),\n",
        "                                                  Row(Area=None,Land='Poor',Soil='Black',Field_count=400,Crop_Name='Paddy',\n",
        "Quantity=None),\n",
        "                                                  Row(Area=None,Land='Poor',Soil='Red',Field_count=None,Crop_Name=float(\"NaN\"),\n",
        "Quantity=None)\n",
        "                                                  ])\n",
        "\n",
        "df.show()"
      ],
      "metadata": {
        "colab": {
          "base_uri": "https://localhost:8080/"
        },
        "id": "eSRUc1XwoiN4",
        "outputId": "00222179-b206-4db0-99b0-f47291706723"
      },
      "execution_count": 24,
      "outputs": [
        {
          "output_type": "stream",
          "name": "stdout",
          "text": [
            "+-----+----+-----+-----------+---------+--------+\n",
            "| Area|Land| Soil|Field_count|Crop_Name|Quantity|\n",
            "+-----+----+-----+-----------+---------+--------+\n",
            "|Urban|NULL|Black|        100|    Paddy|   34000|\n",
            "|Urban|Rich|  Red|         20|    Wheat|  200000|\n",
            "|Rural|Poor| NULL|       NULL|    Paddy|   24000|\n",
            "| NULL|Poor|Black|        400|    Paddy|    NULL|\n",
            "| NULL|Poor|  Red|       NULL|      NaN|    NULL|\n",
            "+-----+----+-----+-----------+---------+--------+\n",
            "\n"
          ]
        }
      ]
    },
    {
      "cell_type": "code",
      "source": [
        "df.select(df.Area,isnull(df.Area)).show()"
      ],
      "metadata": {
        "colab": {
          "base_uri": "https://localhost:8080/"
        },
        "id": "uw7SmSDppNtG",
        "outputId": "109529cf-f98f-499e-995c-d69aa902221c"
      },
      "execution_count": 16,
      "outputs": [
        {
          "output_type": "stream",
          "name": "stdout",
          "text": [
            "+-----+--------------+\n",
            "| Area|(Area IS NULL)|\n",
            "+-----+--------------+\n",
            "|Urban|         false|\n",
            "|Urban|         false|\n",
            "|Rural|         false|\n",
            "| NULL|          true|\n",
            "| NULL|          true|\n",
            "+-----+--------------+\n",
            "\n"
          ]
        }
      ]
    },
    {
      "cell_type": "code",
      "source": [
        "df.select(df.Crop_Name,isnan(df.Crop_Name)).show()"
      ],
      "metadata": {
        "colab": {
          "base_uri": "https://localhost:8080/"
        },
        "id": "-McJ0GBVqw1d",
        "outputId": "55704cc2-5210-4476-e537-6d007879098f"
      },
      "execution_count": 17,
      "outputs": [
        {
          "output_type": "stream",
          "name": "stdout",
          "text": [
            "+---------+----------------+\n",
            "|Crop_Name|isnan(Crop_Name)|\n",
            "+---------+----------------+\n",
            "|    Paddy|           false|\n",
            "|    Wheat|           false|\n",
            "|    Paddy|           false|\n",
            "|    Paddy|           false|\n",
            "|      NaN|            true|\n",
            "+---------+----------------+\n",
            "\n"
          ]
        }
      ]
    },
    {
      "cell_type": "code",
      "source": [
        "#nanvl(col1,col2): Returns the first column that is not null\n",
        "df.select(df.Field_count,df.Crop_Name,nanvl(df.Field_count,df.Crop_Name)).show()"
      ],
      "metadata": {
        "colab": {
          "base_uri": "https://localhost:8080/"
        },
        "id": "R5CCTIslrKSr",
        "outputId": "7bbf17ce-1f99-4937-af6f-6812bd7a70c7"
      },
      "execution_count": 25,
      "outputs": [
        {
          "output_type": "stream",
          "name": "stdout",
          "text": [
            "+-----------+---------+-----------------------------+\n",
            "|Field_count|Crop_Name|nanvl(Field_count, Crop_Name)|\n",
            "+-----------+---------+-----------------------------+\n",
            "|        100|    Paddy|                        100.0|\n",
            "|         20|    Wheat|                         20.0|\n",
            "|       NULL|    Paddy|                         NULL|\n",
            "|        400|    Paddy|                        400.0|\n",
            "|       NULL|      NaN|                         NULL|\n",
            "+-----------+---------+-----------------------------+\n",
            "\n"
          ]
        }
      ]
    },
    {
      "cell_type": "code",
      "source": [
        "df.select(df.Field_count,df.Crop_Name,coalesce(df.Field_count,df.Crop_Name)).show()"
      ],
      "metadata": {
        "colab": {
          "base_uri": "https://localhost:8080/"
        },
        "id": "XWx7wQmAsB0K",
        "outputId": "6274556f-393b-43ca-9287-fb88ff8a2a7a"
      },
      "execution_count": 27,
      "outputs": [
        {
          "output_type": "stream",
          "name": "stdout",
          "text": [
            "+-----------+---------+--------------------------------+\n",
            "|Field_count|Crop_Name|coalesce(Field_count, Crop_Name)|\n",
            "+-----------+---------+--------------------------------+\n",
            "|        100|    Paddy|                             100|\n",
            "|         20|    Wheat|                              20|\n",
            "|       NULL|    Paddy|                           Paddy|\n",
            "|        400|    Paddy|                             400|\n",
            "|       NULL|      NaN|                             NaN|\n",
            "+-----------+---------+--------------------------------+\n",
            "\n"
          ]
        }
      ]
    },
    {
      "cell_type": "code",
      "source": [
        "df.select(df.Crop_Name,df.Land,coalesce(df.Crop_Name,df.Land)).show()"
      ],
      "metadata": {
        "colab": {
          "base_uri": "https://localhost:8080/"
        },
        "id": "zBStKYnktgg6",
        "outputId": "ab677d4b-b316-4abe-c51f-0a30bd3cc448"
      },
      "execution_count": 28,
      "outputs": [
        {
          "output_type": "stream",
          "name": "stdout",
          "text": [
            "+---------+----+-------------------------+\n",
            "|Crop_Name|Land|coalesce(Crop_Name, Land)|\n",
            "+---------+----+-------------------------+\n",
            "|    Paddy|NULL|                    Paddy|\n",
            "|    Wheat|Rich|                    Wheat|\n",
            "|    Paddy|Poor|                    Paddy|\n",
            "|    Paddy|Poor|                    Paddy|\n",
            "|      NaN|Poor|                      NaN|\n",
            "+---------+----+-------------------------+\n",
            "\n"
          ]
        }
      ]
    },
    {
      "cell_type": "code",
      "source": [
        "df.na.drop().show()"
      ],
      "metadata": {
        "colab": {
          "base_uri": "https://localhost:8080/"
        },
        "id": "7hd9AeP2uPVJ",
        "outputId": "b1caeb8d-a61e-4d39-a922-417b2e83db20"
      },
      "execution_count": 29,
      "outputs": [
        {
          "output_type": "stream",
          "name": "stdout",
          "text": [
            "+-----+----+----+-----------+---------+--------+\n",
            "| Area|Land|Soil|Field_count|Crop_Name|Quantity|\n",
            "+-----+----+----+-----------+---------+--------+\n",
            "|Urban|Rich| Red|         20|    Wheat|  200000|\n",
            "+-----+----+----+-----------+---------+--------+\n",
            "\n"
          ]
        }
      ]
    },
    {
      "cell_type": "code",
      "source": [
        "#drops rows only when all row elements are nulls\n",
        "df.na.drop(how='all').show()"
      ],
      "metadata": {
        "colab": {
          "base_uri": "https://localhost:8080/"
        },
        "id": "le1e2uNLvDex",
        "outputId": "143d7b3e-8474-486a-8db7-ff5720484394"
      },
      "execution_count": 31,
      "outputs": [
        {
          "output_type": "stream",
          "name": "stdout",
          "text": [
            "+-----+----+-----+-----------+---------+--------+\n",
            "| Area|Land| Soil|Field_count|Crop_Name|Quantity|\n",
            "+-----+----+-----+-----------+---------+--------+\n",
            "|Urban|NULL|Black|        100|    Paddy|   34000|\n",
            "|Urban|Rich|  Red|         20|    Wheat|  200000|\n",
            "|Rural|Poor| NULL|       NULL|    Paddy|   24000|\n",
            "| NULL|Poor|Black|        400|    Paddy|    NULL|\n",
            "| NULL|Poor|  Red|       NULL|      NaN|    NULL|\n",
            "+-----+----+-----+-----------+---------+--------+\n",
            "\n"
          ]
        }
      ]
    },
    {
      "cell_type": "code",
      "source": [
        "#There should be a not null values of minimum 1\n",
        "df.na.drop(thresh=1).show()"
      ],
      "metadata": {
        "colab": {
          "base_uri": "https://localhost:8080/"
        },
        "id": "Gm2l_KQrvQpU",
        "outputId": "8a1bb99c-9af8-4060-a098-60b63d889a7b"
      },
      "execution_count": 37,
      "outputs": [
        {
          "output_type": "stream",
          "name": "stdout",
          "text": [
            "+-----+----+-----+-----------+---------+--------+\n",
            "| Area|Land| Soil|Field_count|Crop_Name|Quantity|\n",
            "+-----+----+-----+-----------+---------+--------+\n",
            "|Urban|NULL|Black|        100|    Paddy|   34000|\n",
            "|Urban|Rich|  Red|         20|    Wheat|  200000|\n",
            "|Rural|Poor| NULL|       NULL|    Paddy|   24000|\n",
            "| NULL|Poor|Black|        400|    Paddy|    NULL|\n",
            "| NULL|Poor|  Red|       NULL|      NaN|    NULL|\n",
            "+-----+----+-----+-----------+---------+--------+\n",
            "\n"
          ]
        }
      ]
    },
    {
      "cell_type": "code",
      "source": [
        "df.na.drop(thresh=2).show()"
      ],
      "metadata": {
        "colab": {
          "base_uri": "https://localhost:8080/"
        },
        "id": "9fJuCy9Gvk6M",
        "outputId": "4d44acda-0bea-49a3-c335-9bcb5da7ca3c"
      },
      "execution_count": 33,
      "outputs": [
        {
          "output_type": "stream",
          "name": "stdout",
          "text": [
            "+-----+----+-----+-----------+---------+--------+\n",
            "| Area|Land| Soil|Field_count|Crop_Name|Quantity|\n",
            "+-----+----+-----+-----------+---------+--------+\n",
            "|Urban|NULL|Black|        100|    Paddy|   34000|\n",
            "|Urban|Rich|  Red|         20|    Wheat|  200000|\n",
            "|Rural|Poor| NULL|       NULL|    Paddy|   24000|\n",
            "| NULL|Poor|Black|        400|    Paddy|    NULL|\n",
            "| NULL|Poor|  Red|       NULL|      NaN|    NULL|\n",
            "+-----+----+-----+-----------+---------+--------+\n",
            "\n"
          ]
        }
      ]
    },
    {
      "cell_type": "code",
      "source": [
        "df.na.drop(thresh=3).show()"
      ],
      "metadata": {
        "colab": {
          "base_uri": "https://localhost:8080/"
        },
        "id": "9Kk8iW64vxDr",
        "outputId": "3f761b86-5729-44e2-9b1e-1c173a97dc27"
      },
      "execution_count": 34,
      "outputs": [
        {
          "output_type": "stream",
          "name": "stdout",
          "text": [
            "+-----+----+-----+-----------+---------+--------+\n",
            "| Area|Land| Soil|Field_count|Crop_Name|Quantity|\n",
            "+-----+----+-----+-----------+---------+--------+\n",
            "|Urban|NULL|Black|        100|    Paddy|   34000|\n",
            "|Urban|Rich|  Red|         20|    Wheat|  200000|\n",
            "|Rural|Poor| NULL|       NULL|    Paddy|   24000|\n",
            "| NULL|Poor|Black|        400|    Paddy|    NULL|\n",
            "| NULL|Poor|  Red|       NULL|      NaN|    NULL|\n",
            "+-----+----+-----+-----------+---------+--------+\n",
            "\n"
          ]
        }
      ]
    },
    {
      "cell_type": "code",
      "source": [
        "#There should be a not null values of minimum 4\n",
        "df.na.drop(thresh=4).show()"
      ],
      "metadata": {
        "colab": {
          "base_uri": "https://localhost:8080/"
        },
        "id": "fem3sdOXv1un",
        "outputId": "a49039b8-9a45-4772-f7c2-6e7971791e46"
      },
      "execution_count": 38,
      "outputs": [
        {
          "output_type": "stream",
          "name": "stdout",
          "text": [
            "+-----+----+-----+-----------+---------+--------+\n",
            "| Area|Land| Soil|Field_count|Crop_Name|Quantity|\n",
            "+-----+----+-----+-----------+---------+--------+\n",
            "|Urban|NULL|Black|        100|    Paddy|   34000|\n",
            "|Urban|Rich|  Red|         20|    Wheat|  200000|\n",
            "|Rural|Poor| NULL|       NULL|    Paddy|   24000|\n",
            "| NULL|Poor|Black|        400|    Paddy|    NULL|\n",
            "+-----+----+-----+-----------+---------+--------+\n",
            "\n"
          ]
        }
      ]
    },
    {
      "cell_type": "code",
      "source": [
        "#There should be a not null values of minimum 5\n",
        "df.na.drop(thresh=5).show()"
      ],
      "metadata": {
        "colab": {
          "base_uri": "https://localhost:8080/"
        },
        "id": "ma32WBKpv-XE",
        "outputId": "536bb4ee-65c4-41c6-f540-334e1a7d54b4"
      },
      "execution_count": 41,
      "outputs": [
        {
          "output_type": "stream",
          "name": "stdout",
          "text": [
            "+-----+----+-----+-----------+---------+--------+\n",
            "| Area|Land| Soil|Field_count|Crop_Name|Quantity|\n",
            "+-----+----+-----+-----------+---------+--------+\n",
            "|Urban|NULL|Black|        100|    Paddy|   34000|\n",
            "|Urban|Rich|  Red|         20|    Wheat|  200000|\n",
            "+-----+----+-----+-----------+---------+--------+\n",
            "\n"
          ]
        }
      ]
    },
    {
      "cell_type": "code",
      "source": [
        "#There should be a not null values of minimum 6\n",
        "df.na.drop(thresh=6).show()"
      ],
      "metadata": {
        "colab": {
          "base_uri": "https://localhost:8080/"
        },
        "id": "BP34lvXHwmh4",
        "outputId": "08391c29-9894-49fa-fd62-933d3e5bef0b"
      },
      "execution_count": 40,
      "outputs": [
        {
          "output_type": "stream",
          "name": "stdout",
          "text": [
            "+-----+----+----+-----------+---------+--------+\n",
            "| Area|Land|Soil|Field_count|Crop_Name|Quantity|\n",
            "+-----+----+----+-----------+---------+--------+\n",
            "|Urban|Rich| Red|         20|    Wheat|  200000|\n",
            "+-----+----+----+-----------+---------+--------+\n",
            "\n"
          ]
        }
      ]
    },
    {
      "cell_type": "code",
      "source": [
        "#There should be a not null values of minimum 7\n",
        "df.na.drop(thresh=7).show()"
      ],
      "metadata": {
        "colab": {
          "base_uri": "https://localhost:8080/"
        },
        "id": "mbA6-CcTwuZ0",
        "outputId": "74cc53d0-e302-421a-aed4-10b1597d8f67"
      },
      "execution_count": 42,
      "outputs": [
        {
          "output_type": "stream",
          "name": "stdout",
          "text": [
            "+----+----+----+-----------+---------+--------+\n",
            "|Area|Land|Soil|Field_count|Crop_Name|Quantity|\n",
            "+----+----+----+-----------+---------+--------+\n",
            "+----+----+----+-----------+---------+--------+\n",
            "\n"
          ]
        }
      ]
    },
    {
      "cell_type": "code",
      "source": [
        "#drop null applied to specific column\n",
        "df.na.drop(subset = \"Crop_Name\").show()"
      ],
      "metadata": {
        "colab": {
          "base_uri": "https://localhost:8080/"
        },
        "id": "-A6ec3-Ww3sK",
        "outputId": "7ceabe17-e898-498b-a6a1-322e9a042b0a"
      },
      "execution_count": 43,
      "outputs": [
        {
          "output_type": "stream",
          "name": "stdout",
          "text": [
            "+-----+----+-----+-----------+---------+--------+\n",
            "| Area|Land| Soil|Field_count|Crop_Name|Quantity|\n",
            "+-----+----+-----+-----------+---------+--------+\n",
            "|Urban|NULL|Black|        100|    Paddy|   34000|\n",
            "|Urban|Rich|  Red|         20|    Wheat|  200000|\n",
            "|Rural|Poor| NULL|       NULL|    Paddy|   24000|\n",
            "| NULL|Poor|Black|        400|    Paddy|    NULL|\n",
            "| NULL|Poor|  Red|       NULL|      NaN|    NULL|\n",
            "+-----+----+-----+-----------+---------+--------+\n",
            "\n"
          ]
        }
      ]
    },
    {
      "cell_type": "code",
      "source": [
        "#drop null applied to specific column\n",
        "df.na.drop(subset =\"Area\").show()"
      ],
      "metadata": {
        "colab": {
          "base_uri": "https://localhost:8080/"
        },
        "id": "VzMid5SSxQ4S",
        "outputId": "dbb023cc-dc9f-4e10-db92-d9373c5fb744"
      },
      "execution_count": 46,
      "outputs": [
        {
          "output_type": "stream",
          "name": "stdout",
          "text": [
            "+-----+----+-----+-----------+---------+--------+\n",
            "| Area|Land| Soil|Field_count|Crop_Name|Quantity|\n",
            "+-----+----+-----+-----------+---------+--------+\n",
            "|Urban|NULL|Black|        100|    Paddy|   34000|\n",
            "|Urban|Rich|  Red|         20|    Wheat|  200000|\n",
            "|Rural|Poor| NULL|       NULL|    Paddy|   24000|\n",
            "+-----+----+-----+-----------+---------+--------+\n",
            "\n"
          ]
        }
      ]
    },
    {
      "cell_type": "code",
      "source": [
        "df.show()"
      ],
      "metadata": {
        "colab": {
          "base_uri": "https://localhost:8080/"
        },
        "id": "xBheN8aX_FF2",
        "outputId": "4d8b6cb3-fcd9-420c-c4e6-9ff8d489cbbb"
      },
      "execution_count": 48,
      "outputs": [
        {
          "output_type": "stream",
          "name": "stdout",
          "text": [
            "+-----+----+-----+-----------+---------+--------+\n",
            "| Area|Land| Soil|Field_count|Crop_Name|Quantity|\n",
            "+-----+----+-----+-----------+---------+--------+\n",
            "|Urban|NULL|Black|        100|    Paddy|   34000|\n",
            "|Urban|Rich|  Red|         20|    Wheat|  200000|\n",
            "|Rural|Poor| NULL|       NULL|    Paddy|   24000|\n",
            "| NULL|Poor|Black|        400|    Paddy|    NULL|\n",
            "| NULL|Poor|  Red|       NULL|      NaN|    NULL|\n",
            "+-----+----+-----+-----------+---------+--------+\n",
            "\n"
          ]
        }
      ]
    },
    {
      "cell_type": "code",
      "source": [
        "df.na.fill(50).show()"
      ],
      "metadata": {
        "colab": {
          "base_uri": "https://localhost:8080/"
        },
        "id": "vBj_NQJA__V-",
        "outputId": "c2beca66-3ed8-4670-ae7b-4fff3d78967e"
      },
      "execution_count": 49,
      "outputs": [
        {
          "output_type": "stream",
          "name": "stdout",
          "text": [
            "+-----+----+-----+-----------+---------+--------+\n",
            "| Area|Land| Soil|Field_count|Crop_Name|Quantity|\n",
            "+-----+----+-----+-----------+---------+--------+\n",
            "|Urban|NULL|Black|        100|    Paddy|   34000|\n",
            "|Urban|Rich|  Red|         20|    Wheat|  200000|\n",
            "|Rural|Poor| NULL|         50|    Paddy|   24000|\n",
            "| NULL|Poor|Black|        400|    Paddy|      50|\n",
            "| NULL|Poor|  Red|         50|      NaN|      50|\n",
            "+-----+----+-----+-----------+---------+--------+\n",
            "\n"
          ]
        }
      ]
    },
    {
      "cell_type": "code",
      "source": [
        "#fill na in Specific column\n",
        "df.na.fill(50,\"Field_count\").show()"
      ],
      "metadata": {
        "colab": {
          "base_uri": "https://localhost:8080/"
        },
        "id": "vkaMm1CsAFqJ",
        "outputId": "4e41b5fb-53b2-4c68-b19c-d9ce415664fe"
      },
      "execution_count": 52,
      "outputs": [
        {
          "output_type": "stream",
          "name": "stdout",
          "text": [
            "+-----+----+-----+-----------+---------+--------+\n",
            "| Area|Land| Soil|Field_count|Crop_Name|Quantity|\n",
            "+-----+----+-----+-----------+---------+--------+\n",
            "|Urban|NULL|Black|        100|    Paddy|   34000|\n",
            "|Urban|Rich|  Red|         20|    Wheat|  200000|\n",
            "|Rural|Poor| NULL|         50|    Paddy|   24000|\n",
            "| NULL|Poor|Black|        400|    Paddy|    NULL|\n",
            "| NULL|Poor|  Red|         50|      NaN|    NULL|\n",
            "+-----+----+-----+-----------+---------+--------+\n",
            "\n"
          ]
        }
      ]
    },
    {
      "cell_type": "code",
      "source": [
        "#replace\n",
        "df.na.fill('yellow',\"Soil\").show()"
      ],
      "metadata": {
        "colab": {
          "base_uri": "https://localhost:8080/"
        },
        "id": "IjlagX-oGAJw",
        "outputId": "45c4923f-2e9f-4086-cec4-c2a890f8fd09"
      },
      "execution_count": 56,
      "outputs": [
        {
          "output_type": "stream",
          "name": "stdout",
          "text": [
            "+-----+----+------+-----------+---------+--------+\n",
            "| Area|Land|  Soil|Field_count|Crop_Name|Quantity|\n",
            "+-----+----+------+-----------+---------+--------+\n",
            "|Urban|NULL| Black|        100|    Paddy|   34000|\n",
            "|Urban|Rich|   Red|         20|    Wheat|  200000|\n",
            "|Rural|Poor|yellow|       NULL|    Paddy|   24000|\n",
            "| NULL|Poor| Black|        400|    Paddy|    NULL|\n",
            "| NULL|Poor|   Red|       NULL|      NaN|    NULL|\n",
            "+-----+----+------+-----------+---------+--------+\n",
            "\n"
          ]
        }
      ]
    },
    {
      "cell_type": "code",
      "source": [
        "#replace\n",
        "soil = {'Black':'Brown','Red':'Yellow'}\n",
        "\n",
        "df.na.replace(soil,\"Soil\").show()"
      ],
      "metadata": {
        "colab": {
          "base_uri": "https://localhost:8080/"
        },
        "id": "eJ1ds8fWEI1C",
        "outputId": "62da7eaa-ba36-4aff-a810-c166f11637ba"
      },
      "execution_count": 53,
      "outputs": [
        {
          "output_type": "stream",
          "name": "stderr",
          "text": [
            "/usr/local/lib/python3.10/dist-packages/pyspark/sql/dataframe.py:4667: UserWarning: to_replace is a dict and value is not None. value will be ignored.\n",
            "  warnings.warn(\"to_replace is a dict and value is not None. value will be ignored.\")\n"
          ]
        },
        {
          "output_type": "stream",
          "name": "stdout",
          "text": [
            "+-----+----+------+-----------+---------+--------+\n",
            "| Area|Land|  Soil|Field_count|Crop_Name|Quantity|\n",
            "+-----+----+------+-----------+---------+--------+\n",
            "|Urban|NULL| Brown|        100|    Paddy|   34000|\n",
            "|Urban|Rich|Yellow|         20|    Wheat|  200000|\n",
            "|Rural|Poor|  NULL|       NULL|    Paddy|   24000|\n",
            "| NULL|Poor| Brown|        400|    Paddy|    NULL|\n",
            "| NULL|Poor|Yellow|       NULL|      NaN|    NULL|\n",
            "+-----+----+------+-----------+---------+--------+\n",
            "\n"
          ]
        }
      ]
    },
    {
      "cell_type": "code",
      "source": [],
      "metadata": {
        "id": "ONO-T3yHFvdt"
      },
      "execution_count": null,
      "outputs": []
    }
  ]
}